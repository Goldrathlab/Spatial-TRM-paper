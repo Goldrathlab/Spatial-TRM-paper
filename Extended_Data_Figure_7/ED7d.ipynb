{
 "cells": [
  {
   "cell_type": "code",
   "execution_count": null,
   "metadata": {},
   "outputs": [],
   "source": [
    "import scanpy as sc\n",
    "import pandas as pd\n",
    "import matplotlib.pyplot as plt\n",
    "import numpy as np\n",
    "import warnings\n",
    "import seaborn as sns\n",
    "\n",
    "warnings.filterwarnings(\"ignore\")"
   ]
  },
  {
   "cell_type": "code",
   "execution_count": null,
   "metadata": {},
   "outputs": [],
   "source": [
    "adata = sc.read_h5ad(\"../data/adata/tgfb.h5ad\")"
   ]
  },
  {
   "cell_type": "code",
   "execution_count": null,
   "metadata": {},
   "outputs": [],
   "source": [
    "sc.experimental.pp.highly_variable_genes(\n",
    "    adata, flavor=\"pearson_residuals\", n_top_genes=500\n",
    ")\n",
    "\n",
    "adata.layers[\"raw\"] = adata.X.copy()\n",
    "adata.layers[\"sqrt_norm\"] = np.sqrt(sc.pp.normalize_total(adata, inplace=False)[\"X\"])"
   ]
  },
  {
   "cell_type": "code",
   "execution_count": null,
   "metadata": {},
   "outputs": [],
   "source": [
    "sc.experimental.pp.normalize_pearson_residuals(adata)"
   ]
  },
  {
   "cell_type": "code",
   "execution_count": null,
   "metadata": {},
   "outputs": [],
   "source": [
    "subtype = \"Cd8_T-Cell_P14\"\n",
    "\n",
    "adata_subset = adata[(adata.obs[\"Subtype\"] == subtype)].copy()"
   ]
  },
  {
   "cell_type": "code",
   "execution_count": null,
   "metadata": {},
   "outputs": [],
   "source": [
    "sc.tl.rank_genes_groups(\n",
    "    adata_subset, groupby=\"batch\", key_added=\"rank_genes_roll\", method=\"wilcoxon\"\n",
    ")\n",
    "sc.pl.rank_genes_groups(adata_subset, key=\"rank_genes_roll\", groups=[\"WT\", \"KO\"])"
   ]
  },
  {
   "cell_type": "code",
   "execution_count": null,
   "metadata": {},
   "outputs": [],
   "source": [
    "def get_top_genes(adata, group, n, key=\"rank_genes_roll\"):\n",
    "    res = sc.get.rank_genes_groups_df(adata_subset, key=key, group=group)\n",
    "    return res[\"names\"].to_list()[0:n]\n",
    "\n",
    "\n",
    "gene_list = [\n",
    "    *get_top_genes(adata_subset, \"WT\", 4),\n",
    "    *get_top_genes(adata_subset, \"KO\", 4),\n",
    "]\n",
    "\n",
    "gene_list"
   ]
  },
  {
   "cell_type": "code",
   "execution_count": null,
   "metadata": {},
   "outputs": [],
   "source": [
    "sc.pl.dotplot(\n",
    "    adata_subset,\n",
    "    var_names=gene_list,\n",
    "    groupby=\"batch\",\n",
    "    use_raw=False,\n",
    "    dendrogram=False,  # Set to True if you want to include dendrogram\n",
    "    color_map=\"viridis\",  # Set the colormap as needed\n",
    "    dot_max=0.7,  # Adjust dot size\n",
    ")"
   ]
  }
 ],
 "metadata": {
  "kernelspec": {
   "display_name": "Python 3",
   "language": "python",
   "name": "python3"
  },
  "language_info": {
   "codemirror_mode": {
    "name": "ipython",
    "version": 3
   },
   "file_extension": ".py",
   "mimetype": "text/x-python",
   "name": "python",
   "nbconvert_exporter": "python",
   "pygments_lexer": "ipython3",
   "version": "3.10.14"
  }
 },
 "nbformat": 4,
 "nbformat_minor": 2
}
