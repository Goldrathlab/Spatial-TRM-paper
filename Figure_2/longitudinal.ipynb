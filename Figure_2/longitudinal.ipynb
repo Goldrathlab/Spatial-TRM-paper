{
 "cells": [
  {
   "cell_type": "code",
   "execution_count": null,
   "metadata": {},
   "outputs": [],
   "source": [
    "import scanpy as sc\n",
    "import matplotlib.pyplot as plt\n",
    "import seaborn as sns\n",
    "import warnings\n",
    "import matplotlib.colors as clr\n",
    "import pandas as pd\n",
    "import numpy as np\n",
    "\n",
    "warnings.filterwarnings(\"ignore\")"
   ]
  },
  {
   "cell_type": "code",
   "execution_count": null,
   "metadata": {},
   "outputs": [],
   "source": [
    "adata = sc.read_h5ad(\"../data/adata/timecourse.h5ad\")"
   ]
  },
  {
   "cell_type": "code",
   "execution_count": null,
   "metadata": {},
   "outputs": [],
   "source": [
    "# Define the Zissou palette\n",
    "zissou = [\n",
    "    \"#3A9AB2\",\n",
    "    \"#6FB2C1\",\n",
    "    \"#91BAB6\",\n",
    "    \"#A5C2A3\",\n",
    "    \"#BDC881\",\n",
    "    \"#DCCB4E\",\n",
    "    \"#E3B710\",\n",
    "    \"#E79805\",\n",
    "    \"#EC7A05\",\n",
    "    \"#EF5703\",\n",
    "    \"#F11B00\",\n",
    "]\n",
    "colormap = clr.LinearSegmentedColormap.from_list(\"Zissou\", zissou)\n",
    "# Set the Zissou palette\n",
    "sns.set_palette(zissou)"
   ]
  },
  {
   "cell_type": "code",
   "execution_count": null,
   "metadata": {},
   "outputs": [],
   "source": [
    "# Update the list of samples to be plotted\n",
    "samples_to_plot = [\n",
    "    \"day6_SI\",\n",
    "    \"day6_SI_r2\",\n",
    "    \"day8_SI_Ctrl\",\n",
    "    \"day8_SI_r2\",\n",
    "    \"day30_SI\",\n",
    "    \"day30_SI_r2\",\n",
    "    \"day90_SI\",\n",
    "    \"day90_SI_r2\",\n",
    "]\n",
    "\n",
    "\n",
    "# Create a DataFrame to store the counts for each segment and time point\n",
    "counts_df = pd.DataFrame(index=range(1, 9), columns=samples_to_plot)\n",
    "\n",
    "# Iterate over time points\n",
    "for time_point in samples_to_plot:\n",
    "    # Filter the data for the current time point and subtype 'Cd8_T-Cell_P14'\n",
    "    subset_data = adata[\n",
    "        (adata.obs[\"batch\"] == time_point) & (adata.obs[\"Subtype\"] == \"Cd8_T-Cell_P14\")\n",
    "    ]\n",
    "\n",
    "    # Example data range\n",
    "    data_min = subset_data.obs[\"predicted_longitudinal\"].min()\n",
    "    data_max = subset_data.obs[\"predicted_longitudinal\"].max()\n",
    "\n",
    "    # Specify the number of bins\n",
    "    num_bins = (\n",
    "        8  # For example, if you want to divide your data into 8 equal-length segments\n",
    "    )\n",
    "\n",
    "    # Calculate bin edges\n",
    "    bin_edges = np.linspace(data_min, data_max, num_bins + 1)\n",
    "\n",
    "    # Calculate counts for each segment\n",
    "    counts, _ = np.histogram(subset_data.obs[\"predicted_longitudinal\"], bins=bin_edges)\n",
    "\n",
    "    # Update the counts DataFrame\n",
    "    counts_df[time_point] = counts / sum(\n",
    "        ~subset_data.obs[\"predicted_longitudinal\"].isna()\n",
    "    )\n",
    "\n",
    "# Print the counts for each segment and time point\n",
    "print(\"Frequencies for Each Segment and Time Point:\")\n",
    "print(counts_df)"
   ]
  },
  {
   "cell_type": "code",
   "execution_count": null,
   "metadata": {},
   "outputs": [],
   "source": [
    "# QC that it add up to 1\n",
    "counts_df.sum(axis=0)"
   ]
  },
  {
   "cell_type": "code",
   "execution_count": null,
   "metadata": {},
   "outputs": [],
   "source": [
    "df_long = counts_df.melt(var_name=\"sample\", value_name=\"frequency\", ignore_index=False)\n",
    "df_long[\"day\"] = df_long[\"sample\"].str.extract(\"(\\d+)\")\n",
    "df_long[\"segment\"] = df_long.index\n",
    "df_long"
   ]
  },
  {
   "cell_type": "code",
   "execution_count": null,
   "metadata": {},
   "outputs": [],
   "source": [
    "fig, ax = plt.subplots(1, 1, figsize=(10, 6))\n",
    "\n",
    "ax.axhline(0.125, dashes=(4, 2), color=\"#8A8A8A\")\n",
    "sns.barplot(data=df_long, x=\"day\", y=\"frequency\", hue=\"segment\", ax=ax, palette=zissou)\n",
    "sns.stripplot(\n",
    "    data=df_long,\n",
    "    x=\"day\",\n",
    "    y=\"frequency\",\n",
    "    hue=\"segment\",\n",
    "    dodge=True,\n",
    "    ax=ax,\n",
    "    jitter=False,\n",
    "    palette=zissou,\n",
    "    linewidth=1,\n",
    ")\n",
    "ax.set_title(\"Precentage of P14 cells for each Segment and Time Point\")\n",
    "ax.set_xlabel(\"day\")\n",
    "ax.set_ylabel(\"Percentaage of P14 cells in segment\")\n",
    "ax.set_ylim(0, 0.25)\n",
    "ax.legend(loc=\"upper center\", ncol=8)\n",
    "\n",
    "fig.savefig(\"out/longitudinal.pdf\")"
   ]
  },
  {
   "cell_type": "code",
   "execution_count": null,
   "metadata": {},
   "outputs": [],
   "source": []
  }
 ],
 "metadata": {
  "kernelspec": {
   "display_name": "default",
   "language": "python",
   "name": "python3"
  },
  "language_info": {
   "codemirror_mode": {
    "name": "ipython",
    "version": 3
   },
   "file_extension": ".py",
   "mimetype": "text/x-python",
   "name": "python",
   "nbconvert_exporter": "python",
   "pygments_lexer": "ipython3",
   "version": "3.10.14"
  }
 },
 "nbformat": 4,
 "nbformat_minor": 2
}
