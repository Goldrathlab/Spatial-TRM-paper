{
 "cells": [
  {
   "cell_type": "markdown",
   "id": "0",
   "metadata": {},
   "source": [
    "## Integrate MERFISH experiments after QC filtering"
   ]
  },
  {
   "cell_type": "code",
   "execution_count": null,
   "id": "1",
   "metadata": {},
   "outputs": [],
   "source": [
    "import scanpy as sc\n",
    "import scvi\n",
    "from tqdm.notebook import tqdm\n",
    "import os\n",
    "import numpy as np\n",
    "import pandas as pd\n",
    "from scvi.model.utils import mde\n",
    "import matplotlib.pyplot as plt\n",
    "import pickle\n",
    "import glob"
   ]
  },
  {
   "cell_type": "code",
   "execution_count": null,
   "id": "2",
   "metadata": {},
   "outputs": [],
   "source": [
    "sc.set_figure_params(figsize=(4, 4))"
   ]
  },
  {
   "cell_type": "markdown",
   "id": "3",
   "metadata": {},
   "source": [
    "Add the paths to all folders for experiments to be integrated"
   ]
  },
  {
   "cell_type": "code",
   "execution_count": null,
   "id": "4",
   "metadata": {},
   "outputs": [],
   "source": [
    "input_folders = glob.glob(\"D:/amonell/timecourse_final/day*\")"
   ]
  },
  {
   "cell_type": "code",
   "execution_count": null,
   "id": "5",
   "metadata": {},
   "outputs": [],
   "source": [
    "output_folder = r\"D:/amonell/timecourse_final/analysis/cleaned\""
   ]
  },
  {
   "cell_type": "markdown",
   "id": "6",
   "metadata": {},
   "source": [
    "Run scvi integration"
   ]
  },
  {
   "cell_type": "code",
   "execution_count": null,
   "id": "7",
   "metadata": {},
   "outputs": [],
   "source": [
    "adata_list = []\n",
    "for input_file in tqdm(input_folders):\n",
    "    experiment = sc.read(os.path.join(input_file, \"adatas\", \"04_tissue_cleared.h5ad\"))\n",
    "    experiment.obs[\"batch\"] = os.path.basename(input_file)\n",
    "    adata_list.append(experiment.copy())\n",
    "\n",
    "concatenated = sc.concat(adata_list)\n",
    "\n",
    "concatenated.obs_names_make_unique()\n",
    "concatenated.layers[\"counts\"] = concatenated.X\n",
    "scvi.model.SCVI.setup_anndata(concatenated, layer=\"counts\", batch_key=\"batch\")\n",
    "vae = scvi.model.SCVI(concatenated, n_layers=2, n_latent=30, gene_likelihood=\"nb\")\n",
    "vae.train()"
   ]
  },
  {
   "cell_type": "markdown",
   "id": "8",
   "metadata": {},
   "source": [
    "Use integration to calculate new clustering and neighbors"
   ]
  },
  {
   "cell_type": "code",
   "execution_count": null,
   "id": "9",
   "metadata": {},
   "outputs": [],
   "source": [
    "concatenated.obsm[\"X_scVI\"] = vae.get_latent_representation()\n",
    "sc.pp.neighbors(concatenated, use_rep=\"X_scVI\")"
   ]
  },
  {
   "cell_type": "markdown",
   "id": "11",
   "metadata": {},
   "source": [
    "Use MDE as new visualization. Can sometimes give extreme outlier values so I put some filters on at 8 units in all directions"
   ]
  },
  {
   "cell_type": "code",
   "execution_count": null,
   "id": "12",
   "metadata": {},
   "outputs": [],
   "source": [
    "concatenated.obsm[\"X_mde\"] = mde(concatenated.obsm[\"X_scVI\"])\n",
    "concatenated.obs[\"new_batch\"] = concatenated.obs.batch.values"
   ]
  },
  {
   "cell_type": "code",
   "execution_count": null,
   "id": "14",
   "metadata": {},
   "outputs": [],
   "source": [
    "xcoords = concatenated.obsm[\"X_mde\"][:, 0]\n",
    "ycoords = concatenated.obsm[\"X_mde\"][:, 1]\n",
    "category_names = concatenated.obs.new_batch.values"
   ]
  },
  {
   "cell_type": "code",
   "execution_count": null,
   "id": "15",
   "metadata": {},
   "outputs": [],
   "source": [
    "# Create a list of unique categories\n",
    "unique_categories = [\n",
    "    \"day6_SI\",\n",
    "    \"day7_SI_DMSO\",\n",
    "    \"day7_SI_RARi\",\n",
    "    \"day8_SI_Ctrl\",\n",
    "    \"day8_SI_Xcr1DTR\",\n",
    "    \"day30_SI\",\n",
    "    \"day90_SI\",\n",
    "]\n",
    "\n",
    "# Create a color map for the categories\n",
    "colors = plt.cm.tab10.colors[: len(unique_categories)]\n",
    "\n",
    "# Shuffle the data to randomize the scatter plot\n",
    "np.random.seed(42)  # for reproducibility, you can remove this line\n",
    "shuffle_indices = np.random.permutation(len(xcoords))\n",
    "xcoords = xcoords[shuffle_indices]\n",
    "ycoords = ycoords[shuffle_indices]\n",
    "category_names = category_names[shuffle_indices]\n",
    "new_colors = [unique_categories.index(i) for i in category_names]\n",
    "new_colors = np.array(colors)[new_colors]\n",
    "\n",
    "# Create the scatter plot\n",
    "plt.figure(figsize=(8, 6), dpi=300)\n",
    "legend_handles = []\n",
    "for i, category in enumerate(unique_categories):\n",
    "    mask = category_names == category\n",
    "\n",
    "    # Create legend handles with larger marker size\n",
    "    legend_handles.append(\n",
    "        plt.Line2D(\n",
    "            [0],\n",
    "            [0],\n",
    "            marker=\"o\",\n",
    "            color=\"w\",\n",
    "            label=category,\n",
    "            markerfacecolor=colors[i],\n",
    "            markersize=10,\n",
    "        )\n",
    "    )\n",
    "# Scatter points on the main plot with a smaller marker size\n",
    "plt.scatter(\n",
    "    xcoords, ycoords, label=category_names, c=new_colors, s=0.05, linewidths=0.1\n",
    ")  # Small marker size on the main plot\n",
    "\n",
    "# Add legend\n",
    "plt.legend(handles=legend_handles, loc=\"best\")\n",
    "\n",
    "\n",
    "plt.title(\"Combined Timecourse\")\n",
    "plt.grid(False)\n",
    "plt.axis(\"off\")\n",
    "# Show the plot or save it to a file\n",
    "try:\n",
    "    os.mkdir(os.path.join(os.path.dirname(input_folders[0]), \"figures\"))\n",
    "except:\n",
    "    None\n",
    "\n",
    "plt.savefig(os.path.join(os.path.dirname(input_folders[0]), \"figures\", \"combined.png\"))\n",
    "plt.show()"
   ]
  },
  {
   "cell_type": "code",
   "execution_count": null,
   "id": "16",
   "metadata": {},
   "outputs": [],
   "source": [
    "# indices_new = np.where((concatenated.obsm[\"X_mde\"][:, 0] > -8) & (concatenated.obsm[\"X_mde\"][:, 0] < 8) & (concatenated.obsm[\"X_mde\"][:, 1] > -8) & (concatenated.obsm[\"X_mde\"][:, 1] < 8))[0]\n",
    "# concatenated = concatenated[indices_new, :]"
   ]
  },
  {
   "cell_type": "code",
   "execution_count": null,
   "id": "17",
   "metadata": {},
   "outputs": [],
   "source": [
    "sc.tl.leiden(concatenated)"
   ]
  },
  {
   "cell_type": "code",
   "execution_count": null,
   "id": "18",
   "metadata": {},
   "outputs": [],
   "source": [
    "os.mkdir(output_folder)"
   ]
  },
  {
   "cell_type": "code",
   "execution_count": null,
   "id": "19",
   "metadata": {},
   "outputs": [],
   "source": [
    "concatenated.write(os.path.join(output_folder, \"concatenated_integrated.h5ad\"))"
   ]
  },
  {
   "cell_type": "markdown",
   "id": "20",
   "metadata": {},
   "source": [
    "## Save our SCVI VAE"
   ]
  },
  {
   "cell_type": "code",
   "execution_count": null,
   "id": "21",
   "metadata": {},
   "outputs": [],
   "source": [
    "import pickle\n",
    "\n",
    "# File path where you want to save the object\n",
    "file_path = os.path.join(output_folder, \"vae_object.pkl\")\n",
    "\n",
    "# Dump the object to the file\n",
    "with open(file_path, \"wb\") as file:\n",
    "    pickle.dump(vae, file)"
   ]
  }
 ],
 "metadata": {
  "kernelspec": {
   "display_name": "Python 3 (ipykernel)",
   "language": "python",
   "name": "python3"
  },
  "language_info": {
   "codemirror_mode": {
    "name": "ipython",
    "version": 3
   },
   "file_extension": ".py",
   "mimetype": "text/x-python",
   "name": "python",
   "nbconvert_exporter": "python",
   "pygments_lexer": "ipython3",
   "version": "3.8.0"
  }
 },
 "nbformat": 4,
 "nbformat_minor": 5
}
