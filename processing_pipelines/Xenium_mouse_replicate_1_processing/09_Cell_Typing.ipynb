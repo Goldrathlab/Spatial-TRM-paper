{
 "cells": [
  {
   "cell_type": "code",
   "execution_count": null,
   "id": "0",
   "metadata": {},
   "outputs": [],
   "source": [
    "import scanpy as sc\n",
    "import numpy as np\n",
    "from tqdm.notebook import tqdm\n",
    "import os\n",
    "import pandas as pd\n",
    "import seaborn as sns\n",
    "import matplotlib.pyplot as plt"
   ]
  },
  {
   "cell_type": "code",
   "execution_count": null,
   "id": "1",
   "metadata": {},
   "outputs": [],
   "source": [
    "output_folder = r\"D:/amonell/timecourse_final/analysis/cleaned\""
   ]
  },
  {
   "cell_type": "code",
   "execution_count": null,
   "id": "2",
   "metadata": {},
   "outputs": [],
   "source": [
    "ad_sp = sc.read(os.path.join(output_folder, \"concatenated_integrated.h5ad\"))"
   ]
  },
  {
   "cell_type": "code",
   "execution_count": null,
   "id": "3",
   "metadata": {},
   "outputs": [],
   "source": [
    "def get_celltype(celltype, ad_sp):\n",
    "    ctype = ad_sp[ad_sp.obs.leiden.isin([celltype])]\n",
    "    sc.pp.neighbors(ctype, use_rep=\"X_scVI\")\n",
    "    sc.tl.leiden(ctype, resolution=1.2)\n",
    "    sc.tl.umap(ctype)\n",
    "    return ctype\n",
    "\n",
    "\n",
    "def reunite_with_ad(ad_sp, subset_ad, celltype):\n",
    "    new_labels = []\n",
    "    subclusters = ad_sp.obs.Sub_leiden.values\n",
    "    clusters = ad_sp.obs.leiden.values\n",
    "    idex = ad_sp.obs.index.values\n",
    "    for i in tqdm(range(len(subclusters))):\n",
    "        if clusters[i] == celltype:\n",
    "            new_labels.append(subset_ad.obs.loc[idex[i], :].leiden)\n",
    "        else:\n",
    "            new_labels.append(subclusters[i])\n",
    "    ad_sp.obs.Sub_leiden = new_labels\n",
    "    return ad_sp"
   ]
  },
  {
   "cell_type": "code",
   "execution_count": null,
   "id": "4",
   "metadata": {},
   "outputs": [],
   "source": [
    "sc.pl.embedding(ad_sp, basis=\"mde\", color=[\"leiden\"], cmap=\"Blues\")"
   ]
  },
  {
   "cell_type": "code",
   "execution_count": null,
   "id": "5",
   "metadata": {},
   "outputs": [],
   "source": [
    "ad_sp.obs[\"Sub_leiden\"] = ad_sp.obs[\"leiden\"]"
   ]
  },
  {
   "cell_type": "markdown",
   "id": "6",
   "metadata": {},
   "source": [
    "##### The following code required a lot of manual investigation and external tools such as CellTypist to annotate cell types. Please skip the following code if you are not interested in the details of the cell type annotation, and use our celltype annotations in the 'integrated_celltyped.h5ad' object.\n",
    "\n",
    "We include the MiguelCellTyping.xlsx file in this directory. This file was ultimately used to assign cell types to all of our sub-leiden clusters.\n",
    "\n",
    "The following code was used to subcluster leiden clusters which we wanted to define with higher granularity"
   ]
  },
  {
   "cell_type": "code",
   "execution_count": null,
   "id": "7",
   "metadata": {},
   "outputs": [],
   "source": [
    "leiden_to_subset = \"12\""
   ]
  },
  {
   "cell_type": "code",
   "execution_count": null,
   "id": "8",
   "metadata": {},
   "outputs": [],
   "source": [
    "mac = get_celltype(leiden_to_subset, ad_sp)"
   ]
  },
  {
   "cell_type": "code",
   "execution_count": null,
   "id": "9",
   "metadata": {},
   "outputs": [],
   "source": [
    "sc.pl.embedding(mac, basis=\"mde\", color=[\"leiden\"], vmax=1, size=0.1)"
   ]
  },
  {
   "cell_type": "code",
   "execution_count": null,
   "id": "10",
   "metadata": {},
   "outputs": [],
   "source": [
    "mac.obs[\"leiden\"] = [leiden_to_subset + \"_\" + i for i in mac.obs.leiden]"
   ]
  },
  {
   "cell_type": "code",
   "execution_count": null,
   "id": "11",
   "metadata": {},
   "outputs": [],
   "source": [
    "ad_sp = reunite_with_ad(ad_sp, mac, leiden_to_subset)"
   ]
  },
  {
   "cell_type": "code",
   "execution_count": null,
   "id": "12",
   "metadata": {},
   "outputs": [],
   "source": [
    "sc.pl.embedding(ad_sp, basis=\"mde\", color=[\"Sub_leiden\"])"
   ]
  },
  {
   "cell_type": "code",
   "execution_count": null,
   "id": "13",
   "metadata": {},
   "outputs": [],
   "source": [
    "ad_sp.write(os.path.join(output_folder, \"integrated_clustered.h5ad\"))"
   ]
  },
  {
   "cell_type": "markdown",
   "id": "14",
   "metadata": {},
   "source": [
    "### Make matrixplots for main clusters and subclusters"
   ]
  },
  {
   "cell_type": "code",
   "execution_count": null,
   "id": "15",
   "metadata": {},
   "outputs": [],
   "source": [
    "ad_sp = sc.read(os.path.join(output_folder, \"integrated_clustered.h5ad\"))"
   ]
  },
  {
   "cell_type": "code",
   "execution_count": null,
   "id": "16",
   "metadata": {},
   "outputs": [],
   "source": [
    "save_location = \"D:/amonell/timecourse_final/analysis/cleaned/celltype_matrixplots\""
   ]
  },
  {
   "cell_type": "code",
   "execution_count": null,
   "id": "17",
   "metadata": {},
   "outputs": [],
   "source": [
    "sc.set_figure_params(dpi=300)"
   ]
  },
  {
   "cell_type": "code",
   "execution_count": null,
   "id": "18",
   "metadata": {},
   "outputs": [],
   "source": [
    "s = sc.pl.matrixplot(\n",
    "    ad_sp,\n",
    "    groupby=\"Sub_leiden\",\n",
    "    var_names=ad_sp.var.index.values,\n",
    "    swap_axes=True,\n",
    "    standard_scale=\"var\",\n",
    "    return_fig=True,\n",
    "    show=False,\n",
    ")\n",
    "g = sns.clustermap(\n",
    "    s.values_df,\n",
    "    col_cluster=True,\n",
    "    row_cluster=True,\n",
    "    cmap=\"viridis\",\n",
    "    xticklabels=True,\n",
    "    yticklabels=True,\n",
    "    figsize=(80, 30),\n",
    ")\n",
    "g.ax_row_dendrogram.set_visible(False)\n",
    "g.ax_col_dendrogram.set_visible(False)\n",
    "g.ax_heatmap.grid(False)\n",
    "plt.savefig(os.path.join(save_location, \"all_subclusters.png\"))"
   ]
  },
  {
   "cell_type": "code",
   "execution_count": null,
   "id": "19",
   "metadata": {},
   "outputs": [],
   "source": [
    "s = sc.pl.matrixplot(\n",
    "    ad_sp,\n",
    "    groupby=\"leiden\",\n",
    "    var_names=ad_sp.var.index.values,\n",
    "    swap_axes=True,\n",
    "    standard_scale=\"var\",\n",
    "    return_fig=True,\n",
    "    show=False,\n",
    ")\n",
    "g = sns.clustermap(\n",
    "    s.values_df,\n",
    "    col_cluster=True,\n",
    "    row_cluster=True,\n",
    "    cmap=\"viridis\",\n",
    "    xticklabels=True,\n",
    "    yticklabels=True,\n",
    "    figsize=(80, 30),\n",
    ")\n",
    "g.ax_row_dendrogram.set_visible(False)\n",
    "g.ax_col_dendrogram.set_visible(False)\n",
    "g.ax_heatmap.grid(False)\n",
    "plt.savefig(os.path.join(save_location, \"all_original_leiden.png\"))"
   ]
  },
  {
   "cell_type": "code",
   "execution_count": null,
   "id": "20",
   "metadata": {},
   "outputs": [],
   "source": [
    "subclustered_clusters = [\"1\", \"3\", \"5\", \"6\", \"7\", \"8\", \"9\", \"10\", \"11\", \"12\"]"
   ]
  },
  {
   "cell_type": "code",
   "execution_count": null,
   "id": "21",
   "metadata": {},
   "outputs": [],
   "source": [
    "for sub in subclustered_clusters:\n",
    "    s = sc.pl.matrixplot(\n",
    "        ad_sp[ad_sp.obs.leiden.isin([sub])],\n",
    "        groupby=\"Sub_leiden\",\n",
    "        var_names=ad_sp.var.index.values,\n",
    "        swap_axes=True,\n",
    "        standard_scale=\"var\",\n",
    "        return_fig=True,\n",
    "        show=False,\n",
    "    )\n",
    "    g = sns.clustermap(\n",
    "        s.values_df,\n",
    "        col_cluster=True,\n",
    "        row_cluster=True,\n",
    "        cmap=\"viridis\",\n",
    "        xticklabels=True,\n",
    "        yticklabels=True,\n",
    "        figsize=(80, 30),\n",
    "    )\n",
    "    g.ax_row_dendrogram.set_visible(False)\n",
    "    g.ax_col_dendrogram.set_visible(False)\n",
    "    g.ax_heatmap.grid(False)\n",
    "    plt.savefig(os.path.join(save_location, f\"leiden{sub}_subclusters.png\"))\n",
    "    plt.close()"
   ]
  },
  {
   "cell_type": "code",
   "execution_count": null,
   "id": "22",
   "metadata": {},
   "outputs": [],
   "source": [
    "def plot_topic_scatter(adata, topic_column):\n",
    "    adata = adata[:10000, :]\n",
    "    # Extract data for plotting\n",
    "    topics = adata.obs[topic_column]\n",
    "    spatial_coords = adata.obsm[\"X_spatial\"]\n",
    "\n",
    "    # Get unique topics\n",
    "    unique_topics = topics.unique()\n",
    "\n",
    "    # Create separate plots for each topic\n",
    "    for topic in unique_topics:\n",
    "        mask = topics == topic\n",
    "\n",
    "        # Set up the plot for the current topic\n",
    "        plt.figure(figsize=(10, 5), dpi=150)\n",
    "        plt.scatter(\n",
    "            spatial_coords[:, 0],\n",
    "            spatial_coords[:, 1],\n",
    "            color=\"lightgray\",\n",
    "            label=\"Other Cells\",\n",
    "            s=4,\n",
    "            linewidths=0.1,\n",
    "        )\n",
    "        plt.scatter(\n",
    "            spatial_coords[mask, 0],\n",
    "            spatial_coords[mask, 1],\n",
    "            color=\"red\",\n",
    "            label=f\"Subcluster: {topic}\",\n",
    "            alpha=0.8,\n",
    "            s=4,\n",
    "            linewidths=0.1,\n",
    "        )\n",
    "\n",
    "        # Add labels and legend for the current plot\n",
    "        plt.xlabel(\"X Spatial\")\n",
    "        plt.ylabel(\"Y Spatial\")\n",
    "        plt.title(f\"Spatial Distribution of Subcluster: {topic}\")\n",
    "        plt.legend()\n",
    "        plt.grid(False)\n",
    "\n",
    "        # Save the plot with a unique filename for each topic\n",
    "        plt.savefig(\n",
    "            os.path.join(\n",
    "                save_location, \"location_images\", f\"leiden{topic}_subclusters.png\"\n",
    "            )\n",
    "        )\n",
    "        plt.show()\n",
    "        plt.close()\n",
    "\n",
    "\n",
    "try:\n",
    "    os.mkdir(os.path.join(save_location, \"location_images\"))\n",
    "except:\n",
    "    None\n",
    "plot_topic_scatter(ad_sp[ad_sp.obs[\"batch\"] == \"day7_SI_DMSO\"], \"Sub_leiden\")"
   ]
  },
  {
   "cell_type": "markdown",
   "id": "23",
   "metadata": {},
   "source": [
    "### Read in celltypes annotated by MiguelCell"
   ]
  },
  {
   "cell_type": "code",
   "execution_count": null,
   "id": "24",
   "metadata": {},
   "outputs": [],
   "source": [
    "ad_sp = sc.read(os.path.join(output_folder, \"integrated_clustered.h5ad\"))"
   ]
  },
  {
   "cell_type": "code",
   "execution_count": null,
   "id": "25",
   "metadata": {},
   "outputs": [],
   "source": [
    "annotations = pd.read_excel(\n",
    "    \"D:/amonell/timecourse_final/MiguelCellTyping.xlsx\", index_col=1, header=1\n",
    ")"
   ]
  },
  {
   "cell_type": "code",
   "execution_count": null,
   "id": "26",
   "metadata": {},
   "outputs": [],
   "source": [
    "annotations = annotations[[\"Class\", \"Type\", \"Subtype\", \"Immunocentric_Type\"]]"
   ]
  },
  {
   "cell_type": "code",
   "execution_count": null,
   "id": "27",
   "metadata": {},
   "outputs": [],
   "source": [
    "annotations.index = annotations.index.values.astype(str)"
   ]
  },
  {
   "cell_type": "code",
   "execution_count": null,
   "id": "28",
   "metadata": {},
   "outputs": [],
   "source": [
    "ad_sp.obs = ad_sp.obs.merge(\n",
    "    annotations, left_on=\"Sub_leiden\", right_index=True, how=\"left\"\n",
    ")"
   ]
  },
  {
   "cell_type": "code",
   "execution_count": null,
   "id": "29",
   "metadata": {},
   "outputs": [],
   "source": [
    "sc.pl.embedding(ad_sp, basis=\"mde\", color=\"Subtype\", size=0.05)"
   ]
  },
  {
   "cell_type": "code",
   "execution_count": null,
   "id": "30",
   "metadata": {},
   "outputs": [],
   "source": [
    "ad_sp.obs[\"annotated\"] = ad_sp.obs.Subtype.isin([\"Undetermined\", \"Undertermined\", None])"
   ]
  },
  {
   "cell_type": "code",
   "execution_count": null,
   "id": "31",
   "metadata": {},
   "outputs": [],
   "source": [
    "ad_sp.obs[\"annotated\"] = [1 if i == True else 0 for i in ad_sp.obs[\"annotated\"]]"
   ]
  },
  {
   "cell_type": "code",
   "execution_count": null,
   "id": "32",
   "metadata": {},
   "outputs": [],
   "source": [
    "sc.set_figure_params(ad_sp, figsize=(10, 10))\n",
    "sc.pl.embedding(\n",
    "    ad_sp, basis=\"mde\", color=[\"annotated\", \"Sub_leiden\"], legend_loc=\"on data\"\n",
    ")"
   ]
  },
  {
   "cell_type": "code",
   "execution_count": null,
   "id": "33",
   "metadata": {},
   "outputs": [],
   "source": [
    "after_filtering = ad_sp[\n",
    "    ~ad_sp.obs.Subtype.isin([\"Undetermined\", \"Undertermined\", None])\n",
    "]"
   ]
  },
  {
   "cell_type": "code",
   "execution_count": null,
   "id": "34",
   "metadata": {},
   "outputs": [],
   "source": [
    "after_filtering = after_filtering[~pd.isna(after_filtering.obs.Class)]"
   ]
  },
  {
   "cell_type": "code",
   "execution_count": null,
   "id": "35",
   "metadata": {},
   "outputs": [],
   "source": [
    "sc.pl.embedding(\n",
    "    after_filtering,\n",
    "    basis=\"mde\",\n",
    "    color=[\"Class\", \"Type\", \"Subtype\", \"Immunocentric_Type\"],\n",
    "    size=0.4,\n",
    "    ncols=1,\n",
    "    save=\"cell_annotations.png\",\n",
    ")"
   ]
  },
  {
   "cell_type": "code",
   "execution_count": null,
   "id": "36",
   "metadata": {},
   "outputs": [],
   "source": [
    "after_filtering.write(os.path.join(output_folder, \"integrated_celltyped.h5ad\"))"
   ]
  }
 ],
 "metadata": {
  "kernelspec": {
   "display_name": "Python 3 (ipykernel)",
   "language": "python",
   "name": "python3"
  },
  "language_info": {
   "codemirror_mode": {
    "name": "ipython",
    "version": 3
   },
   "file_extension": ".py",
   "mimetype": "text/x-python",
   "name": "python",
   "nbconvert_exporter": "python",
   "pygments_lexer": "ipython3",
   "version": "3.8.0"
  }
 },
 "nbformat": 4,
 "nbformat_minor": 5
}
