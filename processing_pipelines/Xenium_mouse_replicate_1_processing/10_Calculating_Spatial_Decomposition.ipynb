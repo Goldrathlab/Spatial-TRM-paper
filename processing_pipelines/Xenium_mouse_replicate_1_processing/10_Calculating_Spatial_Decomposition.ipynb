{
 "cells": [
  {
   "cell_type": "code",
   "execution_count": 2,
   "id": "0faa94cb-d8d5-4fde-82f4-3af53f81c2ff",
   "metadata": {},
   "outputs": [],
   "source": [
    "import tensorflow as tf\n",
    "import scanpy as sc\n",
    "import os\n",
    "from scipy.spatial import KDTree\n",
    "from tensorflow import keras\n",
    "import numpy as np\n",
    "import pandas as pd\n",
    "import matplotlib.pyplot as plt\n",
    "from sklearn.decomposition import NMF\n",
    "from tqdm.notebook import tqdm\n",
    "from core_functions.neighborhood_decomposition import *\n",
    "import glob"
   ]
  },
  {
   "cell_type": "markdown",
   "metadata": {},
   "source": [
    "### Spatial decomposition is calculatedto use as a feature set in defining axes. We perform spatial decomposition in the following script"
   ]
  },
  {
   "cell_type": "code",
   "execution_count": 3,
   "id": "cbc1a60b-a9cb-433c-aa68-57328c1cd90c",
   "metadata": {},
   "outputs": [],
   "source": [
    "output_folder = r'D:/amonell/timecourse_final/analysis/cleaned'"
   ]
  },
  {
   "cell_type": "code",
   "execution_count": 4,
   "id": "2e51341a-6efe-49ea-96a1-fa81764338f8",
   "metadata": {},
   "outputs": [],
   "source": [
    "input_folders = glob.glob('D:/amonell/timecourse_final/day*')"
   ]
  },
  {
   "cell_type": "code",
   "execution_count": 5,
   "id": "c3b1679c-4c1a-4d34-8e79-6db423fc010c",
   "metadata": {},
   "outputs": [],
   "source": [
    "combined_adata = sc.read(os.path.join(output_folder, 'integrated_celltyped.h5ad'))"
   ]
  },
  {
   "cell_type": "markdown",
   "metadata": {},
   "source": [
    "### Celltype classes that should remain relatively consistent at different timepoints pi. Since we calculate the dimensionality reduction on all datasets simulataneously, we expect to capture spatially conerved features across timepoints rather than variation caused by a changing infection."
   ]
  },
  {
   "cell_type": "code",
   "execution_count": 6,
   "id": "608e0c45-7706-4930-b1f2-8155e9d9433a",
   "metadata": {},
   "outputs": [],
   "source": [
    "\n",
    "unchanging_type_keys = ['Epithelial', 'Stromal']"
   ]
  },
  {
   "cell_type": "code",
   "execution_count": 7,
   "id": "b5bb8fcc-32a2-4716-9b32-041f9aa203b7",
   "metadata": {},
   "outputs": [
    {
     "name": "stderr",
     "output_type": "stream",
     "text": [
      "C:\\Users\\amonell\\anaconda3_2\\envs\\tensorflow\\lib\\site-packages\\anndata\\_core\\anndata.py:1113: FutureWarning: is_categorical_dtype is deprecated and will be removed in a future version. Use isinstance(dtype, CategoricalDtype) instead\n",
      "  if not is_categorical_dtype(df_full[k]):\n"
     ]
    }
   ],
   "source": [
    "combined_adata_no_immune = combined_adata[combined_adata.obs['Class'].isin(unchanging_type_keys)]"
   ]
  },
  {
   "cell_type": "code",
   "execution_count": 8,
   "id": "6f54a1c2-e37e-4dde-a748-ac59060d9363",
   "metadata": {},
   "outputs": [],
   "source": [
    "unique_batches = np.unique(combined_adata_no_immune.obs.new_batch.values)"
   ]
  },
  {
   "cell_type": "code",
   "execution_count": 9,
   "id": "2a059cb2-0867-4b7e-8dc5-89adfc5e8b52",
   "metadata": {
    "scrolled": true
   },
   "outputs": [
    {
     "data": {
      "application/vnd.jupyter.widget-view+json": {
       "model_id": "bf90d33872274f20aa2a12b1f6e61df3",
       "version_major": 2,
       "version_minor": 0
      },
      "text/plain": [
       "  0%|          | 0/201261 [00:00<?, ?it/s]"
      ]
     },
     "metadata": {},
     "output_type": "display_data"
    },
    {
     "data": {
      "application/vnd.jupyter.widget-view+json": {
       "model_id": "269f0091033644358c649de57d5d8344",
       "version_major": 2,
       "version_minor": 0
      },
      "text/plain": [
       "  0%|          | 0/248659 [00:00<?, ?it/s]"
      ]
     },
     "metadata": {},
     "output_type": "display_data"
    },
    {
     "data": {
      "application/vnd.jupyter.widget-view+json": {
       "model_id": "27a6d1d06e8c43ecbd69241e2a1bc458",
       "version_major": 2,
       "version_minor": 0
      },
      "text/plain": [
       "  0%|          | 0/175239 [00:00<?, ?it/s]"
      ]
     },
     "metadata": {},
     "output_type": "display_data"
    },
    {
     "data": {
      "application/vnd.jupyter.widget-view+json": {
       "model_id": "f78c0d42fb504b22a00b1b27be8c4fb7",
       "version_major": 2,
       "version_minor": 0
      },
      "text/plain": [
       "  0%|          | 0/163953 [00:00<?, ?it/s]"
      ]
     },
     "metadata": {},
     "output_type": "display_data"
    },
    {
     "data": {
      "application/vnd.jupyter.widget-view+json": {
       "model_id": "c413dd9500754099b54e20fc91188dfd",
       "version_major": 2,
       "version_minor": 0
      },
      "text/plain": [
       "  0%|          | 0/188189 [00:00<?, ?it/s]"
      ]
     },
     "metadata": {},
     "output_type": "display_data"
    },
    {
     "data": {
      "application/vnd.jupyter.widget-view+json": {
       "model_id": "247ec06c14274c6e8262bbee79fd6cf7",
       "version_major": 2,
       "version_minor": 0
      },
      "text/plain": [
       "  0%|          | 0/155762 [00:00<?, ?it/s]"
      ]
     },
     "metadata": {},
     "output_type": "display_data"
    },
    {
     "data": {
      "application/vnd.jupyter.widget-view+json": {
       "model_id": "ec4ba5c11b774f459c1c1f92906e6265",
       "version_major": 2,
       "version_minor": 0
      },
      "text/plain": [
       "  0%|          | 0/212996 [00:00<?, ?it/s]"
      ]
     },
     "metadata": {},
     "output_type": "display_data"
    }
   ],
   "source": [
    "nneighbors = 10\n",
    "dfs = []\n",
    "for input_file in input_folders:\n",
    "    adata = combined_adata_no_immune[combined_adata_no_immune.obs['batch'] == os.path.basename(input_file)]\n",
    "    adata_arr = np.array(adata.X)\n",
    "    celltype_cluster = adata.obs.index.values\n",
    "    list_of_arrays = []\n",
    "    spatial_points = np.array([adata.obsm['X_spatial'][:,0], adata.obsm['X_spatial'][:,1]]).T\n",
    "    tree = KDTree(spatial_points)\n",
    "    for i_bac in tqdm(range(len(celltype_cluster))):\n",
    "        current_cell = celltype_cluster[i_bac]\n",
    "        distances, neighbors = tree.query(spatial_points[i_bac], k=nneighbors)\n",
    "        neighbors = np.array(list(neighbors))\n",
    "        gene_array = np.array(np.sum(adata_arr[neighbors, :], axis=0)).squeeze()\n",
    "        list_of_arrays.append(gene_array)\n",
    "    \n",
    "    X = pd.DataFrame(np.array(list_of_arrays))\n",
    "    dfs.append(X)"
   ]
  },
  {
   "cell_type": "code",
   "execution_count": 10,
   "id": "bd8c06e9-ac13-4902-8aa4-0b4912591d9c",
   "metadata": {},
   "outputs": [],
   "source": [
    "X_arr = pd.concat(dfs)"
   ]
  },
  {
   "cell_type": "code",
   "execution_count": 12,
   "id": "9ca4bbab-f43d-4c64-8974-29e765845739",
   "metadata": {},
   "outputs": [
    {
     "name": "stderr",
     "output_type": "stream",
     "text": [
      "C:\\Users\\amonell\\anaconda3_2\\envs\\tensorflow\\lib\\site-packages\\sklearn\\decomposition\\_nmf.py:1710: ConvergenceWarning: Maximum number of iterations 200 reached. Increase it to improve convergence.\n",
      "  warnings.warn(\n"
     ]
    }
   ],
   "source": [
    "num_neighborhoods = 15\n",
    "X = X_arr\n",
    "f = len(X.columns)\n",
    "n = len(X.index.tolist())\n",
    "\n",
    "model = NMF(n_components=num_neighborhoods, random_state=0)\n",
    "W = model.fit_transform(X)\n",
    "H = model.components_"
   ]
  },
  {
   "cell_type": "code",
   "execution_count": 57,
   "id": "702775e7-117e-412e-bf57-f94994b34fa6",
   "metadata": {
    "scrolled": true
   },
   "outputs": [
    {
     "name": "stderr",
     "output_type": "stream",
     "text": [
      "C:\\Users\\amonell\\anaconda3_2\\envs\\tensorflow\\lib\\site-packages\\anndata\\_core\\anndata.py:1113: FutureWarning: is_categorical_dtype is deprecated and will be removed in a future version. Use isinstance(dtype, CategoricalDtype) instead\n",
      "  if not is_categorical_dtype(df_full[k]):\n",
      "C:\\Users\\amonell\\anaconda3_2\\envs\\tensorflow\\lib\\site-packages\\anndata\\_core\\anndata.py:1113: FutureWarning: is_categorical_dtype is deprecated and will be removed in a future version. Use isinstance(dtype, CategoricalDtype) instead\n",
      "  if not is_categorical_dtype(df_full[k]):\n"
     ]
    },
    {
     "data": {
      "application/vnd.jupyter.widget-view+json": {
       "model_id": "08e9d6317e7e4f3f82e581570cb7453e",
       "version_major": 2,
       "version_minor": 0
      },
      "text/plain": [
       "  0%|          | 0/253155 [00:00<?, ?it/s]"
      ]
     },
     "metadata": {},
     "output_type": "display_data"
    },
    {
     "name": "stderr",
     "output_type": "stream",
     "text": [
      "C:\\Users\\amonell\\anaconda3_2\\envs\\tensorflow\\lib\\site-packages\\scanpy\\plotting\\_tools\\scatterplots.py:1207: FutureWarning: is_categorical_dtype is deprecated and will be removed in a future version. Use isinstance(dtype, CategoricalDtype) instead\n",
      "  if not is_categorical_dtype(values):\n",
      "C:\\Users\\amonell\\anaconda3_2\\envs\\tensorflow\\lib\\site-packages\\scanpy\\plotting\\_tools\\scatterplots.py:1216: FutureWarning: The default value of 'ignore' for the `na_action` parameter in pandas.Categorical.map is deprecated and will be changed to 'None' in a future version. Please set na_action to the desired value to avoid seeing this warning\n",
      "  color_vector = pd.Categorical(values.map(color_map))\n",
      "C:\\Users\\amonell\\anaconda3_2\\envs\\tensorflow\\lib\\site-packages\\scanpy\\plotting\\_tools\\scatterplots.py:391: UserWarning: No data for colormapping provided via 'c'. Parameters 'cmap' will be ignored\n",
      "  cax = scatter(\n"
     ]
    },
    {
     "name": "stdout",
     "output_type": "stream",
     "text": [
      "Figures/neighborhoods already made.\n"
     ]
    },
    {
     "name": "stderr",
     "output_type": "stream",
     "text": [
      "C:\\Users\\amonell\\anaconda3_2\\envs\\tensorflow\\lib\\site-packages\\anndata\\_core\\anndata.py:1113: FutureWarning: is_categorical_dtype is deprecated and will be removed in a future version. Use isinstance(dtype, CategoricalDtype) instead\n",
      "  if not is_categorical_dtype(df_full[k]):\n",
      "C:\\Users\\amonell\\anaconda3_2\\envs\\tensorflow\\lib\\site-packages\\anndata\\_core\\anndata.py:1113: FutureWarning: is_categorical_dtype is deprecated and will be removed in a future version. Use isinstance(dtype, CategoricalDtype) instead\n",
      "  if not is_categorical_dtype(df_full[k]):\n"
     ]
    },
    {
     "data": {
      "application/vnd.jupyter.widget-view+json": {
       "model_id": "1fbfd8808d204bf89948d6bea129017c",
       "version_major": 2,
       "version_minor": 0
      },
      "text/plain": [
       "  0%|          | 0/325884 [00:00<?, ?it/s]"
      ]
     },
     "metadata": {},
     "output_type": "display_data"
    },
    {
     "name": "stderr",
     "output_type": "stream",
     "text": [
      "C:\\Users\\amonell\\anaconda3_2\\envs\\tensorflow\\lib\\site-packages\\scanpy\\plotting\\_tools\\scatterplots.py:1207: FutureWarning: is_categorical_dtype is deprecated and will be removed in a future version. Use isinstance(dtype, CategoricalDtype) instead\n",
      "  if not is_categorical_dtype(values):\n",
      "C:\\Users\\amonell\\anaconda3_2\\envs\\tensorflow\\lib\\site-packages\\scanpy\\plotting\\_tools\\scatterplots.py:1216: FutureWarning: The default value of 'ignore' for the `na_action` parameter in pandas.Categorical.map is deprecated and will be changed to 'None' in a future version. Please set na_action to the desired value to avoid seeing this warning\n",
      "  color_vector = pd.Categorical(values.map(color_map))\n",
      "C:\\Users\\amonell\\anaconda3_2\\envs\\tensorflow\\lib\\site-packages\\scanpy\\plotting\\_tools\\scatterplots.py:391: UserWarning: No data for colormapping provided via 'c'. Parameters 'cmap' will be ignored\n",
      "  cax = scatter(\n"
     ]
    },
    {
     "name": "stdout",
     "output_type": "stream",
     "text": [
      "Figures/neighborhoods already made.\n"
     ]
    },
    {
     "name": "stderr",
     "output_type": "stream",
     "text": [
      "C:\\Users\\amonell\\anaconda3_2\\envs\\tensorflow\\lib\\site-packages\\anndata\\_core\\anndata.py:1113: FutureWarning: is_categorical_dtype is deprecated and will be removed in a future version. Use isinstance(dtype, CategoricalDtype) instead\n",
      "  if not is_categorical_dtype(df_full[k]):\n",
      "C:\\Users\\amonell\\anaconda3_2\\envs\\tensorflow\\lib\\site-packages\\anndata\\_core\\anndata.py:1113: FutureWarning: is_categorical_dtype is deprecated and will be removed in a future version. Use isinstance(dtype, CategoricalDtype) instead\n",
      "  if not is_categorical_dtype(df_full[k]):\n"
     ]
    },
    {
     "data": {
      "application/vnd.jupyter.widget-view+json": {
       "model_id": "bbe03a70eb514f52ad634aa440e2e937",
       "version_major": 2,
       "version_minor": 0
      },
      "text/plain": [
       "  0%|          | 0/225671 [00:00<?, ?it/s]"
      ]
     },
     "metadata": {},
     "output_type": "display_data"
    },
    {
     "name": "stderr",
     "output_type": "stream",
     "text": [
      "C:\\Users\\amonell\\anaconda3_2\\envs\\tensorflow\\lib\\site-packages\\scanpy\\plotting\\_tools\\scatterplots.py:1207: FutureWarning: is_categorical_dtype is deprecated and will be removed in a future version. Use isinstance(dtype, CategoricalDtype) instead\n",
      "  if not is_categorical_dtype(values):\n",
      "C:\\Users\\amonell\\anaconda3_2\\envs\\tensorflow\\lib\\site-packages\\scanpy\\plotting\\_tools\\scatterplots.py:1216: FutureWarning: The default value of 'ignore' for the `na_action` parameter in pandas.Categorical.map is deprecated and will be changed to 'None' in a future version. Please set na_action to the desired value to avoid seeing this warning\n",
      "  color_vector = pd.Categorical(values.map(color_map))\n",
      "C:\\Users\\amonell\\anaconda3_2\\envs\\tensorflow\\lib\\site-packages\\scanpy\\plotting\\_tools\\scatterplots.py:391: UserWarning: No data for colormapping provided via 'c'. Parameters 'cmap' will be ignored\n",
      "  cax = scatter(\n"
     ]
    },
    {
     "name": "stdout",
     "output_type": "stream",
     "text": [
      "Figures/neighborhoods already made.\n"
     ]
    },
    {
     "name": "stderr",
     "output_type": "stream",
     "text": [
      "C:\\Users\\amonell\\anaconda3_2\\envs\\tensorflow\\lib\\site-packages\\anndata\\_core\\anndata.py:1113: FutureWarning: is_categorical_dtype is deprecated and will be removed in a future version. Use isinstance(dtype, CategoricalDtype) instead\n",
      "  if not is_categorical_dtype(df_full[k]):\n",
      "C:\\Users\\amonell\\anaconda3_2\\envs\\tensorflow\\lib\\site-packages\\anndata\\_core\\anndata.py:1113: FutureWarning: is_categorical_dtype is deprecated and will be removed in a future version. Use isinstance(dtype, CategoricalDtype) instead\n",
      "  if not is_categorical_dtype(df_full[k]):\n"
     ]
    },
    {
     "data": {
      "application/vnd.jupyter.widget-view+json": {
       "model_id": "9e70ffc69ba8449ca0fb2948530ef99f",
       "version_major": 2,
       "version_minor": 0
      },
      "text/plain": [
       "  0%|          | 0/220663 [00:00<?, ?it/s]"
      ]
     },
     "metadata": {},
     "output_type": "display_data"
    },
    {
     "name": "stderr",
     "output_type": "stream",
     "text": [
      "C:\\Users\\amonell\\anaconda3_2\\envs\\tensorflow\\lib\\site-packages\\scanpy\\plotting\\_tools\\scatterplots.py:1207: FutureWarning: is_categorical_dtype is deprecated and will be removed in a future version. Use isinstance(dtype, CategoricalDtype) instead\n",
      "  if not is_categorical_dtype(values):\n",
      "C:\\Users\\amonell\\anaconda3_2\\envs\\tensorflow\\lib\\site-packages\\scanpy\\plotting\\_tools\\scatterplots.py:1216: FutureWarning: The default value of 'ignore' for the `na_action` parameter in pandas.Categorical.map is deprecated and will be changed to 'None' in a future version. Please set na_action to the desired value to avoid seeing this warning\n",
      "  color_vector = pd.Categorical(values.map(color_map))\n",
      "C:\\Users\\amonell\\anaconda3_2\\envs\\tensorflow\\lib\\site-packages\\scanpy\\plotting\\_tools\\scatterplots.py:391: UserWarning: No data for colormapping provided via 'c'. Parameters 'cmap' will be ignored\n",
      "  cax = scatter(\n"
     ]
    },
    {
     "name": "stdout",
     "output_type": "stream",
     "text": [
      "Figures/neighborhoods already made.\n"
     ]
    },
    {
     "name": "stderr",
     "output_type": "stream",
     "text": [
      "C:\\Users\\amonell\\anaconda3_2\\envs\\tensorflow\\lib\\site-packages\\anndata\\_core\\anndata.py:1113: FutureWarning: is_categorical_dtype is deprecated and will be removed in a future version. Use isinstance(dtype, CategoricalDtype) instead\n",
      "  if not is_categorical_dtype(df_full[k]):\n",
      "C:\\Users\\amonell\\anaconda3_2\\envs\\tensorflow\\lib\\site-packages\\anndata\\_core\\anndata.py:1113: FutureWarning: is_categorical_dtype is deprecated and will be removed in a future version. Use isinstance(dtype, CategoricalDtype) instead\n",
      "  if not is_categorical_dtype(df_full[k]):\n"
     ]
    },
    {
     "data": {
      "application/vnd.jupyter.widget-view+json": {
       "model_id": "6bdab2d5314e40cb95fd076b4d8f2f00",
       "version_major": 2,
       "version_minor": 0
      },
      "text/plain": [
       "  0%|          | 0/276641 [00:00<?, ?it/s]"
      ]
     },
     "metadata": {},
     "output_type": "display_data"
    },
    {
     "name": "stderr",
     "output_type": "stream",
     "text": [
      "C:\\Users\\amonell\\anaconda3_2\\envs\\tensorflow\\lib\\site-packages\\scanpy\\plotting\\_tools\\scatterplots.py:1207: FutureWarning: is_categorical_dtype is deprecated and will be removed in a future version. Use isinstance(dtype, CategoricalDtype) instead\n",
      "  if not is_categorical_dtype(values):\n",
      "C:\\Users\\amonell\\anaconda3_2\\envs\\tensorflow\\lib\\site-packages\\scanpy\\plotting\\_tools\\scatterplots.py:1216: FutureWarning: The default value of 'ignore' for the `na_action` parameter in pandas.Categorical.map is deprecated and will be changed to 'None' in a future version. Please set na_action to the desired value to avoid seeing this warning\n",
      "  color_vector = pd.Categorical(values.map(color_map))\n",
      "C:\\Users\\amonell\\anaconda3_2\\envs\\tensorflow\\lib\\site-packages\\scanpy\\plotting\\_tools\\scatterplots.py:391: UserWarning: No data for colormapping provided via 'c'. Parameters 'cmap' will be ignored\n",
      "  cax = scatter(\n"
     ]
    },
    {
     "name": "stdout",
     "output_type": "stream",
     "text": [
      "Figures/neighborhoods already made.\n"
     ]
    },
    {
     "name": "stderr",
     "output_type": "stream",
     "text": [
      "C:\\Users\\amonell\\anaconda3_2\\envs\\tensorflow\\lib\\site-packages\\anndata\\_core\\anndata.py:1113: FutureWarning: is_categorical_dtype is deprecated and will be removed in a future version. Use isinstance(dtype, CategoricalDtype) instead\n",
      "  if not is_categorical_dtype(df_full[k]):\n",
      "C:\\Users\\amonell\\anaconda3_2\\envs\\tensorflow\\lib\\site-packages\\anndata\\_core\\anndata.py:1113: FutureWarning: is_categorical_dtype is deprecated and will be removed in a future version. Use isinstance(dtype, CategoricalDtype) instead\n",
      "  if not is_categorical_dtype(df_full[k]):\n"
     ]
    },
    {
     "data": {
      "application/vnd.jupyter.widget-view+json": {
       "model_id": "e7ae78be95f64c6d888b3194a35209c6",
       "version_major": 2,
       "version_minor": 0
      },
      "text/plain": [
       "  0%|          | 0/222584 [00:00<?, ?it/s]"
      ]
     },
     "metadata": {},
     "output_type": "display_data"
    },
    {
     "name": "stderr",
     "output_type": "stream",
     "text": [
      "C:\\Users\\amonell\\anaconda3_2\\envs\\tensorflow\\lib\\site-packages\\scanpy\\plotting\\_tools\\scatterplots.py:1207: FutureWarning: is_categorical_dtype is deprecated and will be removed in a future version. Use isinstance(dtype, CategoricalDtype) instead\n",
      "  if not is_categorical_dtype(values):\n",
      "C:\\Users\\amonell\\anaconda3_2\\envs\\tensorflow\\lib\\site-packages\\scanpy\\plotting\\_tools\\scatterplots.py:1216: FutureWarning: The default value of 'ignore' for the `na_action` parameter in pandas.Categorical.map is deprecated and will be changed to 'None' in a future version. Please set na_action to the desired value to avoid seeing this warning\n",
      "  color_vector = pd.Categorical(values.map(color_map))\n",
      "C:\\Users\\amonell\\anaconda3_2\\envs\\tensorflow\\lib\\site-packages\\scanpy\\plotting\\_tools\\scatterplots.py:391: UserWarning: No data for colormapping provided via 'c'. Parameters 'cmap' will be ignored\n",
      "  cax = scatter(\n"
     ]
    },
    {
     "name": "stdout",
     "output_type": "stream",
     "text": [
      "Figures/neighborhoods already made.\n"
     ]
    },
    {
     "name": "stderr",
     "output_type": "stream",
     "text": [
      "C:\\Users\\amonell\\anaconda3_2\\envs\\tensorflow\\lib\\site-packages\\anndata\\_core\\anndata.py:1113: FutureWarning: is_categorical_dtype is deprecated and will be removed in a future version. Use isinstance(dtype, CategoricalDtype) instead\n",
      "  if not is_categorical_dtype(df_full[k]):\n",
      "C:\\Users\\amonell\\anaconda3_2\\envs\\tensorflow\\lib\\site-packages\\anndata\\_core\\anndata.py:1113: FutureWarning: is_categorical_dtype is deprecated and will be removed in a future version. Use isinstance(dtype, CategoricalDtype) instead\n",
      "  if not is_categorical_dtype(df_full[k]):\n"
     ]
    },
    {
     "data": {
      "application/vnd.jupyter.widget-view+json": {
       "model_id": "a5672e14bada49c297ada13ed41dfa4a",
       "version_major": 2,
       "version_minor": 0
      },
      "text/plain": [
       "  0%|          | 0/258006 [00:00<?, ?it/s]"
      ]
     },
     "metadata": {},
     "output_type": "display_data"
    },
    {
     "name": "stderr",
     "output_type": "stream",
     "text": [
      "C:\\Users\\amonell\\anaconda3_2\\envs\\tensorflow\\lib\\site-packages\\scanpy\\plotting\\_tools\\scatterplots.py:1207: FutureWarning: is_categorical_dtype is deprecated and will be removed in a future version. Use isinstance(dtype, CategoricalDtype) instead\n",
      "  if not is_categorical_dtype(values):\n",
      "C:\\Users\\amonell\\anaconda3_2\\envs\\tensorflow\\lib\\site-packages\\scanpy\\plotting\\_tools\\scatterplots.py:1216: FutureWarning: The default value of 'ignore' for the `na_action` parameter in pandas.Categorical.map is deprecated and will be changed to 'None' in a future version. Please set na_action to the desired value to avoid seeing this warning\n",
      "  color_vector = pd.Categorical(values.map(color_map))\n",
      "C:\\Users\\amonell\\anaconda3_2\\envs\\tensorflow\\lib\\site-packages\\scanpy\\plotting\\_tools\\scatterplots.py:391: UserWarning: No data for colormapping provided via 'c'. Parameters 'cmap' will be ignored\n",
      "  cax = scatter(\n"
     ]
    },
    {
     "name": "stdout",
     "output_type": "stream",
     "text": [
      "Figures/neighborhoods already made.\n"
     ]
    }
   ],
   "source": [
    "for input_file in input_folders:\n",
    "    if os.path.exists(os.path.join(input_file, 'adatas', '05_reference_unrolled.h5ad')):\n",
    "        adata = sc.read(os.path.join(input_file, 'adatas', '05_reference_unrolled.h5ad'))\n",
    "    else:\n",
    "        adata = sc.read(os.path.join(input_file, 'adatas', '05_unrolled.h5ad'))\n",
    "    \n",
    "    superclusters = combined_adata[combined_adata.obs['batch'] == os.path.basename(input_file)].obs['Class'].values\n",
    "    cluster_observations = combined_adata[combined_adata.obs['batch'] == os.path.basename(input_file)].obs[['leiden', 'Sub_leiden', 'Class', 'Type', 'Subtype', 'Immunocentric_Type']]\n",
    "    cluster_observations.index = [i.split('-')[0] for i in cluster_observations.index.values]\n",
    "    adata.obs = adata.obs.merge(cluster_observations, left_on='cell', right_index=True, how='left')\n",
    "    celltype_cluster = adata.obs.index.values\n",
    "    base_dictionary = {}\n",
    "    for i in np.unique(celltype_cluster):\n",
    "        base_dictionary[i] = 0\n",
    "    nneighbors = 10\n",
    "    list_of_arrays = []\n",
    "    adata_epi = adata[adata.obs['Class'].isin(unchanging_type_keys)]\n",
    "    spatial_points_epi = np.array([adata_epi.obsm['X_spatial'][:,0], adata_epi.obsm['X_spatial'][:,1]]).T\n",
    "    spatial_points = np.array([adata.obsm['X_spatial'][:,0], adata.obsm['X_spatial'][:,1]]).T\n",
    "    adata_epi_arr = np.array(adata_epi.X)\n",
    "    \n",
    "    tree = KDTree(spatial_points_epi)\n",
    "    for i_bac in tqdm(range(len(celltype_cluster))):\n",
    "        current_cell = celltype_cluster[i_bac]\n",
    "        distances, neighbors = tree.query(spatial_points[i_bac], k=nneighbors)\n",
    "        neighbors = np.array(list(neighbors))\n",
    "        gene_array = np.array(np.sum(adata_epi_arr[neighbors, :], axis=0)).squeeze()\n",
    "        list_of_arrays.append(gene_array)\n",
    "    \n",
    "    X = pd.DataFrame(np.array(list_of_arrays)).astype(H.dtype)\n",
    "    W = model.transform(X)\n",
    "    \n",
    "    topics_frame = pd.DataFrame(W)\n",
    "    \n",
    "    topics_frame.columns = ['Topic '+str(i+1) for i in range(len(topics_frame.columns))]\n",
    "    topics_frame.index = adata.obs.index.tolist()\n",
    "    def zscore(column):\n",
    "        return (column - column.mean()) / column.std()\n",
    "    \n",
    "    # Apply the z-score function to each column in the dataframe\n",
    "    topics_frame = topics_frame.apply(zscore)\n",
    "    adata.obs=adata.obs.merge(topics_frame, left_index=True, right_index=True)\n",
    "    adata.obs['topic'] = pd.Categorical((np.argmax(topics_frame.values, axis = 1)+1).astype(str))\n",
    "\n",
    "    sc.set_figure_params(dpi=300)\n",
    "    figure = sc.pl.embedding(adata, basis='spatial', color='topic', vmax=1, cmap='Blues', title='Neighborhood', size=2, show=False, return_fig=True)\n",
    "    try:\n",
    "        os.mkdir(os.path.join(input_file,'figures', 'neighborhoods'))\n",
    "    except:\n",
    "        print('Figures/neighborhoods already made.')\n",
    "    figure.tight_layout()\n",
    "    plt.axis('equal')\n",
    "    figure.savefig(os.path.join(input_file,'figures', 'neighborhoods', 'neighborhoods.png'))\n",
    "    plt.close()\n",
    "    adata.write(os.path.join(input_file, 'adatas', '06_before_decomposition_model.h5ad'))"
   ]
  }
 ],
 "metadata": {
  "kernelspec": {
   "display_name": "Python 3 (ipykernel)",
   "language": "python",
   "name": "python3"
  },
  "language_info": {
   "codemirror_mode": {
    "name": "ipython",
    "version": 3
   },
   "file_extension": ".py",
   "mimetype": "text/x-python",
   "name": "python",
   "nbconvert_exporter": "python",
   "pygments_lexer": "ipython3",
   "version": "3.8.18"
  }
 },
 "nbformat": 4,
 "nbformat_minor": 5
}
