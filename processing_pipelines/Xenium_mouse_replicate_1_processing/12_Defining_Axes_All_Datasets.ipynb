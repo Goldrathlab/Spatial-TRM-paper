{
 "cells": [
  {
   "cell_type": "code",
   "execution_count": 1,
   "id": "a30402d2-4d29-42b5-a2c0-9733354119f8",
   "metadata": {},
   "outputs": [],
   "source": [
    "import scanpy as sc\n",
    "import os\n",
    "import numpy as np\n",
    "from tqdm.notebook import tqdm\n",
    "import glob\n",
    "from scipy.spatial import KDTree\n",
    "import matplotlib.pyplot as plt\n",
    "from tensorflow import keras"
   ]
  },
  {
   "cell_type": "markdown",
   "id": "4648c435-f4ed-4e1c-a0eb-36b448960378",
   "metadata": {},
   "source": [
    "### Put in the path to the reference dataset where the crypt-villi axis was calculated"
   ]
  },
  {
   "cell_type": "code",
   "execution_count": 2,
   "id": "e48060e0-aac4-40dc-bcc9-c2fd01d7eeb5",
   "metadata": {},
   "outputs": [],
   "source": [
    "xenium_path = 'D:/amonell/timecourse_final/day7_SI_DMSO'"
   ]
  },
  {
   "cell_type": "code",
   "execution_count": 3,
   "id": "f80cf2a9-d44d-4045-a177-f571f9fd2653",
   "metadata": {},
   "outputs": [],
   "source": [
    "reference = sc.read(os.path.join(xenium_path, 'adatas', '07_axes_defined_reference.h5ad'))"
   ]
  },
  {
   "cell_type": "code",
   "execution_count": 4,
   "id": "5474ac18-e43a-4119-9d05-08cfd8d034cf",
   "metadata": {},
   "outputs": [],
   "source": [
    "input_folders = glob.glob('D:/amonell/timecourse_final/day*')"
   ]
  },
  {
   "cell_type": "markdown",
   "id": "4688c544-9dfa-499c-89da-3cfc2dcf71b1",
   "metadata": {},
   "source": [
    "### Calculate the epithelial axis for all datasets"
   ]
  },
  {
   "cell_type": "code",
   "execution_count": 5,
   "id": "3faba9f2-8afa-440a-9aaf-094fab7d49c3",
   "metadata": {
    "scrolled": true
   },
   "outputs": [
    {
     "name": "stderr",
     "output_type": "stream",
     "text": [
      "C:\\Users\\amonell\\anaconda3_2\\envs\\tensorflow\\lib\\site-packages\\anndata\\_core\\anndata.py:1113: FutureWarning: is_categorical_dtype is deprecated and will be removed in a future version. Use isinstance(dtype, CategoricalDtype) instead\n",
      "  if not is_categorical_dtype(df_full[k]):\n",
      "C:\\Users\\amonell\\anaconda3_2\\envs\\tensorflow\\lib\\site-packages\\scanpy\\plotting\\_tools\\scatterplots.py:1207: FutureWarning: is_categorical_dtype is deprecated and will be removed in a future version. Use isinstance(dtype, CategoricalDtype) instead\n",
      "  if not is_categorical_dtype(values):\n",
      "C:\\Users\\amonell\\anaconda3_2\\envs\\tensorflow\\lib\\site-packages\\anndata\\_core\\anndata.py:1113: FutureWarning: is_categorical_dtype is deprecated and will be removed in a future version. Use isinstance(dtype, CategoricalDtype) instead\n",
      "  if not is_categorical_dtype(df_full[k]):\n",
      "C:\\Users\\amonell\\anaconda3_2\\envs\\tensorflow\\lib\\site-packages\\scanpy\\plotting\\_tools\\scatterplots.py:1207: FutureWarning: is_categorical_dtype is deprecated and will be removed in a future version. Use isinstance(dtype, CategoricalDtype) instead\n",
      "  if not is_categorical_dtype(values):\n",
      "C:\\Users\\amonell\\anaconda3_2\\envs\\tensorflow\\lib\\site-packages\\anndata\\_core\\anndata.py:1113: FutureWarning: is_categorical_dtype is deprecated and will be removed in a future version. Use isinstance(dtype, CategoricalDtype) instead\n",
      "  if not is_categorical_dtype(df_full[k]):\n",
      "C:\\Users\\amonell\\anaconda3_2\\envs\\tensorflow\\lib\\site-packages\\scanpy\\plotting\\_tools\\scatterplots.py:1207: FutureWarning: is_categorical_dtype is deprecated and will be removed in a future version. Use isinstance(dtype, CategoricalDtype) instead\n",
      "  if not is_categorical_dtype(values):\n",
      "C:\\Users\\amonell\\anaconda3_2\\envs\\tensorflow\\lib\\site-packages\\anndata\\_core\\anndata.py:1113: FutureWarning: is_categorical_dtype is deprecated and will be removed in a future version. Use isinstance(dtype, CategoricalDtype) instead\n",
      "  if not is_categorical_dtype(df_full[k]):\n",
      "C:\\Users\\amonell\\anaconda3_2\\envs\\tensorflow\\lib\\site-packages\\scanpy\\plotting\\_tools\\scatterplots.py:1207: FutureWarning: is_categorical_dtype is deprecated and will be removed in a future version. Use isinstance(dtype, CategoricalDtype) instead\n",
      "  if not is_categorical_dtype(values):\n",
      "C:\\Users\\amonell\\anaconda3_2\\envs\\tensorflow\\lib\\site-packages\\anndata\\_core\\anndata.py:1113: FutureWarning: is_categorical_dtype is deprecated and will be removed in a future version. Use isinstance(dtype, CategoricalDtype) instead\n",
      "  if not is_categorical_dtype(df_full[k]):\n",
      "C:\\Users\\amonell\\anaconda3_2\\envs\\tensorflow\\lib\\site-packages\\scanpy\\plotting\\_tools\\scatterplots.py:1207: FutureWarning: is_categorical_dtype is deprecated and will be removed in a future version. Use isinstance(dtype, CategoricalDtype) instead\n",
      "  if not is_categorical_dtype(values):\n",
      "C:\\Users\\amonell\\anaconda3_2\\envs\\tensorflow\\lib\\site-packages\\anndata\\_core\\anndata.py:1113: FutureWarning: is_categorical_dtype is deprecated and will be removed in a future version. Use isinstance(dtype, CategoricalDtype) instead\n",
      "  if not is_categorical_dtype(df_full[k]):\n",
      "C:\\Users\\amonell\\anaconda3_2\\envs\\tensorflow\\lib\\site-packages\\scanpy\\plotting\\_tools\\scatterplots.py:1207: FutureWarning: is_categorical_dtype is deprecated and will be removed in a future version. Use isinstance(dtype, CategoricalDtype) instead\n",
      "  if not is_categorical_dtype(values):\n",
      "C:\\Users\\amonell\\anaconda3_2\\envs\\tensorflow\\lib\\site-packages\\anndata\\_core\\anndata.py:1113: FutureWarning: is_categorical_dtype is deprecated and will be removed in a future version. Use isinstance(dtype, CategoricalDtype) instead\n",
      "  if not is_categorical_dtype(df_full[k]):\n",
      "C:\\Users\\amonell\\anaconda3_2\\envs\\tensorflow\\lib\\site-packages\\scanpy\\plotting\\_tools\\scatterplots.py:1207: FutureWarning: is_categorical_dtype is deprecated and will be removed in a future version. Use isinstance(dtype, CategoricalDtype) instead\n",
      "  if not is_categorical_dtype(values):\n"
     ]
    }
   ],
   "source": [
    "\n",
    "sc.set_figure_params(dpi=1000, dpi_save=1000)\n",
    "for input_file in input_folders:\n",
    "    ad = sc.read(os.path.join(input_file, 'adatas', '06_before_decomposition_model.h5ad')) \n",
    "    points_epi = ad[ad.obs.Class.isin(['Epithelial'])].obsm['X_spatial']\n",
    "\n",
    "    all_tree = KDTree(ad.obsm['X_spatial'])\n",
    "    epi_tree = KDTree(points_epi)\n",
    "    distances_all, neighbors_all = all_tree.query(ad.obsm['X_spatial'], k=5)\n",
    "    distances, neighbors = epi_tree.query(ad.obsm['X_spatial'], k=5)\n",
    "    distance_medians = (np.mean(distances, axis=1)/np.mean(distances_all, axis=1))\n",
    "    ad.obs['epithelial_distance'] = distance_medians\n",
    "    ad.obs['epithelial_distance'] = ad.obs['epithelial_distance']/np.percentile(ad.obs['epithelial_distance'], 99)\n",
    "    fig = sc.pl.embedding(ad, basis = 'spatial', color='epithelial_distance', return_fig=True, show=False, vmax=1, cmap='viridis', size=4)\n",
    "    fig.tight_layout()\n",
    "    plt.axis('equal')\n",
    "    fig.savefig(os.path.join(input_file, 'figures', 'axes', f'spatial_epithelial.png'))\n",
    "    plt.close()\n",
    "    ad.write(os.path.join(input_file, 'adatas', '06_before_decomposition_model.h5ad'))"
   ]
  },
  {
   "cell_type": "markdown",
   "id": "91157d1c-48e8-4cc9-bcbd-6f8a266d1754",
   "metadata": {},
   "source": [
    "### Calculate the crypt-villi axis and normalize the longitudinal axis for all datasets"
   ]
  },
  {
   "cell_type": "code",
   "execution_count": 6,
   "id": "d588a1f5-dcfa-474b-bc06-64993e396917",
   "metadata": {},
   "outputs": [
    {
     "name": "stderr",
     "output_type": "stream",
     "text": [
      "C:\\Users\\amonell\\anaconda3_2\\envs\\tensorflow\\lib\\site-packages\\anndata\\_core\\anndata.py:1113: FutureWarning: is_categorical_dtype is deprecated and will be removed in a future version. Use isinstance(dtype, CategoricalDtype) instead\n",
      "  if not is_categorical_dtype(df_full[k]):\n"
     ]
    }
   ],
   "source": [
    "reference = reference[reference.obs['in_villi']]\n"
   ]
  },
  {
   "cell_type": "code",
   "execution_count": 7,
   "id": "f6c4693d-a8b7-41c9-bd5a-f11b3ec73dad",
   "metadata": {},
   "outputs": [],
   "source": [
    "training_data = reference.obs[reference.obs.columns[reference.obs.columns.str.contains('Topic')]].values"
   ]
  },
  {
   "cell_type": "code",
   "execution_count": 8,
   "id": "1733e21e-8d98-4ff7-9f3b-41499e803003",
   "metadata": {},
   "outputs": [],
   "source": [
    "training_labels = reference.obs['normalized_crypt_villi_scaled'].values"
   ]
  },
  {
   "cell_type": "code",
   "execution_count": 9,
   "id": "0022c5d8-300e-45ae-9e21-24ea2eeb8757",
   "metadata": {
    "scrolled": true
   },
   "outputs": [
    {
     "name": "stdout",
     "output_type": "stream",
     "text": [
      "Epoch 1/10\n",
      "6527/6527 - 8s - loss: 0.0224 - 8s/epoch - 1ms/step\n",
      "Epoch 2/10\n",
      "6527/6527 - 7s - loss: 0.0216 - 7s/epoch - 1ms/step\n",
      "Epoch 3/10\n",
      "6527/6527 - 7s - loss: 0.0214 - 7s/epoch - 1ms/step\n",
      "Epoch 4/10\n",
      "6527/6527 - 7s - loss: 0.0212 - 7s/epoch - 1ms/step\n",
      "Epoch 5/10\n",
      "6527/6527 - 7s - loss: 0.0211 - 7s/epoch - 1ms/step\n",
      "Epoch 6/10\n",
      "6527/6527 - 7s - loss: 0.0209 - 7s/epoch - 1ms/step\n",
      "Epoch 7/10\n",
      "6527/6527 - 7s - loss: 0.0208 - 7s/epoch - 1ms/step\n",
      "Epoch 8/10\n",
      "6527/6527 - 6s - loss: 0.0207 - 6s/epoch - 906us/step\n",
      "Epoch 9/10\n",
      "6527/6527 - 7s - loss: 0.0206 - 7s/epoch - 1ms/step\n",
      "Epoch 10/10\n",
      "6527/6527 - 6s - loss: 0.0205 - 6s/epoch - 963us/step\n"
     ]
    },
    {
     "data": {
      "text/plain": [
       "<keras.src.callbacks.History at 0x22cdb8c1b50>"
      ]
     },
     "execution_count": 9,
     "metadata": {},
     "output_type": "execute_result"
    }
   ],
   "source": [
    "# Define model\n",
    "model = keras.Sequential([\n",
    "    keras.layers.Dense(64, activation='relu', input_shape=(training_data.shape[1],)),\n",
    "    keras.layers.Dense(32, activation='relu'),\n",
    "    keras.layers.Dense(1, activation='sigmoid')\n",
    "])\n",
    "\n",
    "# Compile the model\n",
    "model.compile(optimizer='adam', loss='mean_squared_error')\n",
    "\n",
    "# Train the model\n",
    "model.fit(training_data, training_labels, epochs=10, batch_size=32, verbose= 2)"
   ]
  },
  {
   "cell_type": "code",
   "execution_count": 21,
   "id": "000980ec-7a66-4541-8e28-6ebce24915e8",
   "metadata": {
    "scrolled": true
   },
   "outputs": [
    {
     "name": "stdout",
     "output_type": "stream",
     "text": [
      "7912/7912 [==============================] - 10s 1ms/step\n"
     ]
    },
    {
     "name": "stderr",
     "output_type": "stream",
     "text": [
      "C:\\Users\\amonell\\anaconda3_2\\envs\\tensorflow\\lib\\site-packages\\scanpy\\plotting\\_tools\\scatterplots.py:1207: FutureWarning: is_categorical_dtype is deprecated and will be removed in a future version. Use isinstance(dtype, CategoricalDtype) instead\n",
      "  if not is_categorical_dtype(values):\n"
     ]
    },
    {
     "name": "stdout",
     "output_type": "stream",
     "text": [
      "10184/10184 [==============================] - 10s 954us/step\n"
     ]
    },
    {
     "name": "stderr",
     "output_type": "stream",
     "text": [
      "C:\\Users\\amonell\\anaconda3_2\\envs\\tensorflow\\lib\\site-packages\\scanpy\\plotting\\_tools\\scatterplots.py:1207: FutureWarning: is_categorical_dtype is deprecated and will be removed in a future version. Use isinstance(dtype, CategoricalDtype) instead\n",
      "  if not is_categorical_dtype(values):\n"
     ]
    },
    {
     "name": "stdout",
     "output_type": "stream",
     "text": [
      "7053/7053 [==============================] - 7s 940us/step\n"
     ]
    },
    {
     "name": "stderr",
     "output_type": "stream",
     "text": [
      "C:\\Users\\amonell\\anaconda3_2\\envs\\tensorflow\\lib\\site-packages\\scanpy\\plotting\\_tools\\scatterplots.py:1207: FutureWarning: is_categorical_dtype is deprecated and will be removed in a future version. Use isinstance(dtype, CategoricalDtype) instead\n",
      "  if not is_categorical_dtype(values):\n"
     ]
    },
    {
     "name": "stdout",
     "output_type": "stream",
     "text": [
      "6896/6896 [==============================] - 7s 952us/step\n"
     ]
    },
    {
     "name": "stderr",
     "output_type": "stream",
     "text": [
      "C:\\Users\\amonell\\anaconda3_2\\envs\\tensorflow\\lib\\site-packages\\scanpy\\plotting\\_tools\\scatterplots.py:1207: FutureWarning: is_categorical_dtype is deprecated and will be removed in a future version. Use isinstance(dtype, CategoricalDtype) instead\n",
      "  if not is_categorical_dtype(values):\n"
     ]
    },
    {
     "name": "stdout",
     "output_type": "stream",
     "text": [
      "8646/8646 [==============================] - 9s 1ms/step\n"
     ]
    },
    {
     "name": "stderr",
     "output_type": "stream",
     "text": [
      "C:\\Users\\amonell\\anaconda3_2\\envs\\tensorflow\\lib\\site-packages\\scanpy\\plotting\\_tools\\scatterplots.py:1207: FutureWarning: is_categorical_dtype is deprecated and will be removed in a future version. Use isinstance(dtype, CategoricalDtype) instead\n",
      "  if not is_categorical_dtype(values):\n"
     ]
    },
    {
     "name": "stdout",
     "output_type": "stream",
     "text": [
      "6956/6956 [==============================] - 7s 1ms/step\n"
     ]
    },
    {
     "name": "stderr",
     "output_type": "stream",
     "text": [
      "C:\\Users\\amonell\\anaconda3_2\\envs\\tensorflow\\lib\\site-packages\\scanpy\\plotting\\_tools\\scatterplots.py:1207: FutureWarning: is_categorical_dtype is deprecated and will be removed in a future version. Use isinstance(dtype, CategoricalDtype) instead\n",
      "  if not is_categorical_dtype(values):\n"
     ]
    },
    {
     "name": "stdout",
     "output_type": "stream",
     "text": [
      "8063/8063 [==============================] - 7s 869us/step\n"
     ]
    },
    {
     "name": "stderr",
     "output_type": "stream",
     "text": [
      "C:\\Users\\amonell\\anaconda3_2\\envs\\tensorflow\\lib\\site-packages\\scanpy\\plotting\\_tools\\scatterplots.py:1207: FutureWarning: is_categorical_dtype is deprecated and will be removed in a future version. Use isinstance(dtype, CategoricalDtype) instead\n",
      "  if not is_categorical_dtype(values):\n"
     ]
    }
   ],
   "source": [
    "for input_file in input_folders:\n",
    "    adata = sc.read(os.path.join(input_file, 'adatas', '06_before_decomposition_model.h5ad'))\n",
    "    testing_data = adata.obs[adata.obs.columns[adata.obs.columns.str.contains('Topic')]].values\n",
    "    predictions = model.predict(testing_data)\n",
    "    adata.obs['crypt_villi_axis'] = predictions\n",
    "    try:\n",
    "        adata.obs['predicted_longitudinal'] = adata.obs['predicted_longitudinal'].replace(-1.0, np.nan)\n",
    "        adata.obs['predicted_longitudinal'] = adata.obs['predicted_longitudinal']/100000\n",
    "    except:\n",
    "        adata.obs['predicted_longitudinal'] = adata.obs['longitudinal'].replace(-1.0, np.nan)\n",
    "        adata.obs['predicted_longitudinal'] = adata.obs['predicted_longitudinal']/100000        \n",
    "    \n",
    "    adata.write(os.path.join(input_file, 'adatas', '07_axes_defined.h5ad'))\n",
    "    fig = sc.pl.embedding(adata, basis = 'spatial', color='crypt_villi_axis', return_fig=True, show=False, vmax=1, cmap='viridis', size=4)\n",
    "    fig.tight_layout()\n",
    "    plt.axis('equal')\n",
    "    fig.savefig(os.path.join(input_file, 'figures', 'axes', f'spatial_crypt_villi.png'))\n",
    "    plt.close()"
   ]
  }
 ],
 "metadata": {
  "kernelspec": {
   "display_name": "Python 3 (ipykernel)",
   "language": "python",
   "name": "python3"
  },
  "language_info": {
   "codemirror_mode": {
    "name": "ipython",
    "version": 3
   },
   "file_extension": ".py",
   "mimetype": "text/x-python",
   "name": "python",
   "nbconvert_exporter": "python",
   "pygments_lexer": "ipython3",
   "version": "3.9.0"
  }
 },
 "nbformat": 4,
 "nbformat_minor": 5
}
