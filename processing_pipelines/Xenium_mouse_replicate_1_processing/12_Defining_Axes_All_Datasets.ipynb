{
 "cells": [
  {
   "cell_type": "code",
   "execution_count": null,
   "id": "0",
   "metadata": {},
   "outputs": [],
   "source": [
    "import scanpy as sc\n",
    "import os\n",
    "import numpy as np\n",
    "from tqdm.notebook import tqdm\n",
    "import glob\n",
    "from scipy.spatial import KDTree\n",
    "import matplotlib.pyplot as plt\n",
    "from tensorflow import keras"
   ]
  },
  {
   "cell_type": "markdown",
   "id": "1",
   "metadata": {},
   "source": [
    "### Put in the path to the reference dataset where the crypt-villi axis was calculated"
   ]
  },
  {
   "cell_type": "code",
   "execution_count": null,
   "id": "2",
   "metadata": {},
   "outputs": [],
   "source": [
    "xenium_path = \"D:/amonell/timecourse_final/day7_SI_DMSO\""
   ]
  },
  {
   "cell_type": "code",
   "execution_count": null,
   "id": "3",
   "metadata": {},
   "outputs": [],
   "source": [
    "reference = sc.read(\n",
    "    os.path.join(xenium_path, \"adatas\", \"07_axes_defined_reference.h5ad\")\n",
    ")"
   ]
  },
  {
   "cell_type": "code",
   "execution_count": null,
   "id": "4",
   "metadata": {},
   "outputs": [],
   "source": [
    "input_folders = glob.glob(\"D:/amonell/timecourse_final/day*\")"
   ]
  },
  {
   "cell_type": "markdown",
   "id": "5",
   "metadata": {},
   "source": [
    "### Calculate the epithelial axis for all datasets"
   ]
  },
  {
   "cell_type": "code",
   "execution_count": null,
   "id": "6",
   "metadata": {},
   "outputs": [],
   "source": [
    "sc.set_figure_params(dpi=1000, dpi_save=1000)\n",
    "for input_file in input_folders:\n",
    "    ad = sc.read(\n",
    "        os.path.join(input_file, \"adatas\", \"06_before_decomposition_model.h5ad\")\n",
    "    )\n",
    "    points_epi = ad[ad.obs.Class.isin([\"Epithelial\"])].obsm[\"X_spatial\"]\n",
    "\n",
    "    all_tree = KDTree(ad.obsm[\"X_spatial\"])\n",
    "    epi_tree = KDTree(points_epi)\n",
    "    distances_all, neighbors_all = all_tree.query(ad.obsm[\"X_spatial\"], k=5)\n",
    "    distances, neighbors = epi_tree.query(ad.obsm[\"X_spatial\"], k=5)\n",
    "    distance_medians = np.mean(distances, axis=1) / np.mean(distances_all, axis=1)\n",
    "    ad.obs[\"epithelial_distance\"] = distance_medians\n",
    "    ad.obs[\"epithelial_distance\"] = ad.obs[\"epithelial_distance\"] / np.percentile(\n",
    "        ad.obs[\"epithelial_distance\"], 99\n",
    "    )\n",
    "    fig = sc.pl.embedding(\n",
    "        ad,\n",
    "        basis=\"spatial\",\n",
    "        color=\"epithelial_distance\",\n",
    "        return_fig=True,\n",
    "        show=False,\n",
    "        vmax=1,\n",
    "        cmap=\"viridis\",\n",
    "        size=4,\n",
    "    )\n",
    "    fig.tight_layout()\n",
    "    plt.axis(\"equal\")\n",
    "    fig.savefig(os.path.join(input_file, \"figures\", \"axes\", f\"spatial_epithelial.png\"))\n",
    "    plt.close()\n",
    "    ad.write(os.path.join(input_file, \"adatas\", \"06_before_decomposition_model.h5ad\"))"
   ]
  },
  {
   "cell_type": "markdown",
   "id": "7",
   "metadata": {},
   "source": [
    "### Calculate the crypt-villi axis and normalize the longitudinal axis for all datasets"
   ]
  },
  {
   "cell_type": "code",
   "execution_count": null,
   "id": "8",
   "metadata": {},
   "outputs": [],
   "source": [
    "reference = reference[reference.obs[\"in_villi\"]]"
   ]
  },
  {
   "cell_type": "code",
   "execution_count": null,
   "id": "9",
   "metadata": {},
   "outputs": [],
   "source": [
    "training_data = reference.obs[\n",
    "    reference.obs.columns[reference.obs.columns.str.contains(\"Topic\")]\n",
    "].values"
   ]
  },
  {
   "cell_type": "code",
   "execution_count": null,
   "id": "10",
   "metadata": {},
   "outputs": [],
   "source": [
    "training_labels = reference.obs[\"normalized_crypt_villi_scaled\"].values"
   ]
  },
  {
   "cell_type": "code",
   "execution_count": null,
   "id": "11",
   "metadata": {},
   "outputs": [],
   "source": [
    "# Define model\n",
    "model = keras.Sequential(\n",
    "    [\n",
    "        keras.layers.Dense(\n",
    "            64, activation=\"relu\", input_shape=(training_data.shape[1],)\n",
    "        ),\n",
    "        keras.layers.Dense(32, activation=\"relu\"),\n",
    "        keras.layers.Dense(1, activation=\"sigmoid\"),\n",
    "    ]\n",
    ")\n",
    "\n",
    "# Compile the model\n",
    "model.compile(optimizer=\"adam\", loss=\"mean_squared_error\")\n",
    "\n",
    "# Train the model\n",
    "model.fit(training_data, training_labels, epochs=10, batch_size=32, verbose=2)"
   ]
  },
  {
   "cell_type": "code",
   "execution_count": null,
   "id": "12",
   "metadata": {},
   "outputs": [],
   "source": [
    "for input_file in input_folders:\n",
    "    adata = sc.read(\n",
    "        os.path.join(input_file, \"adatas\", \"06_before_decomposition_model.h5ad\")\n",
    "    )\n",
    "    testing_data = adata.obs[\n",
    "        adata.obs.columns[adata.obs.columns.str.contains(\"Topic\")]\n",
    "    ].values\n",
    "    predictions = model.predict(testing_data)\n",
    "    adata.obs[\"crypt_villi_axis\"] = predictions\n",
    "    try:\n",
    "        adata.obs[\"predicted_longitudinal\"] = adata.obs[\n",
    "            \"predicted_longitudinal\"\n",
    "        ].replace(-1.0, np.nan)\n",
    "        adata.obs[\"predicted_longitudinal\"] = (\n",
    "            adata.obs[\"predicted_longitudinal\"] / 100000\n",
    "        )\n",
    "    except:\n",
    "        adata.obs[\"predicted_longitudinal\"] = adata.obs[\"longitudinal\"].replace(\n",
    "            -1.0, np.nan\n",
    "        )\n",
    "        adata.obs[\"predicted_longitudinal\"] = (\n",
    "            adata.obs[\"predicted_longitudinal\"] / 100000\n",
    "        )\n",
    "\n",
    "    adata.write(os.path.join(input_file, \"adatas\", \"07_axes_defined.h5ad\"))\n",
    "    fig = sc.pl.embedding(\n",
    "        adata,\n",
    "        basis=\"spatial\",\n",
    "        color=\"crypt_villi_axis\",\n",
    "        return_fig=True,\n",
    "        show=False,\n",
    "        vmax=1,\n",
    "        cmap=\"viridis\",\n",
    "        size=4,\n",
    "    )\n",
    "    fig.tight_layout()\n",
    "    plt.axis(\"equal\")\n",
    "    fig.savefig(os.path.join(input_file, \"figures\", \"axes\", f\"spatial_crypt_villi.png\"))\n",
    "    plt.close()"
   ]
  }
 ],
 "metadata": {
  "kernelspec": {
   "display_name": "Python 3 (ipykernel)",
   "language": "python",
   "name": "python3"
  },
  "language_info": {
   "codemirror_mode": {
    "name": "ipython",
    "version": 3
   },
   "file_extension": ".py",
   "mimetype": "text/x-python",
   "name": "python",
   "nbconvert_exporter": "python",
   "pygments_lexer": "ipython3",
   "version": "3.9.0"
  }
 },
 "nbformat": 4,
 "nbformat_minor": 5
}
