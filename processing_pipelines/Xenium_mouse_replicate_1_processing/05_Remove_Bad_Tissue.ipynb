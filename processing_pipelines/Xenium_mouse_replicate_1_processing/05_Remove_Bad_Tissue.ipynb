{
 "cells": [
  {
   "cell_type": "code",
   "execution_count": 9,
   "id": "663f5d2e-9710-44c7-9cc9-976efc1d9fe7",
   "metadata": {},
   "outputs": [],
   "source": [
    "import numpy as np\n",
    "import scanpy as sc\n",
    "import glob\n",
    "import os\n",
    "import json\n",
    "from PIL import Image, ImageDraw\n",
    "import shapely"
   ]
  },
  {
   "cell_type": "code",
   "execution_count": 2,
   "id": "b4ccfc26-6a53-46ec-ae58-e14c7040ef7e",
   "metadata": {},
   "outputs": [],
   "source": [
    "data_dir = 'D:/amonell/timecourse_final'\n",
    "input_folders = glob.glob(os.path.join(data_dir, 'day*'))"
   ]
  },
  {
   "cell_type": "markdown",
   "id": "b5ad7943-3dac-4b8e-8efd-9f370c391cb1",
   "metadata": {},
   "source": [
    "##### We are filtering bad parts of the tissue out using a label editor. The following code first exports an image that we can annotate in labelme"
   ]
  },
  {
   "cell_type": "code",
   "execution_count": 3,
   "id": "66826ea5-6614-4012-ba87-b25374df9ee0",
   "metadata": {},
   "outputs": [
    {
     "name": "stdout",
     "output_type": "stream",
     "text": [
      "D:/amonell/timecourse_final\\day30_SI\n",
      "Points already removed\n",
      "filtering directory already exists\n",
      "D:/amonell/timecourse_final\\day6_SI\n",
      "Points already removed\n",
      "filtering directory already exists\n",
      "D:/amonell/timecourse_final\\day7_SI_DMSO\n",
      "Points already removed\n",
      "filtering directory already exists\n",
      "D:/amonell/timecourse_final\\day7_SI_RARi\n",
      "Points already removed\n",
      "filtering directory already exists\n",
      "D:/amonell/timecourse_final\\day8_SI_Ctrl\n",
      "Points already removed\n",
      "filtering directory already exists\n",
      "D:/amonell/timecourse_final\\day8_SI_Xcr1DTR\n",
      "Points already removed\n",
      "filtering directory already exists\n",
      "D:/amonell/timecourse_final\\day90_SI\n",
      "Points already removed\n",
      "filtering directory already exists\n"
     ]
    }
   ],
   "source": [
    "for input_file in input_folders:\n",
    "    print(input_file)\n",
    "    adata = sc.read(os.path.join(input_file, 'adatas', '03_intial_neighborhoods.h5ad'))\n",
    "    all_spatial = adata.obsm['X_spatial']\n",
    "    try:\n",
    "        del adata.uns['points']\n",
    "    except:\n",
    "        print('Points already removed')\n",
    "    try:\n",
    "        adata.obs = adata.obs.drop([column for column in adata.obs.columns if 'Topic' in column], axis=1)\n",
    "    except:\n",
    "        print('Topics already removed')\n",
    "\n",
    "    topic_categories = adata.obs['topic'].cat.categories\n",
    "    topic_colors = adata.uns['topic_colors']\n",
    "    \n",
    "    topic_dict = {category: topic_colors[i] for i, category in enumerate(topic_categories)}\n",
    "    image_colors = [topic_dict.get(v) for v in adata.obs.topic]\n",
    "\n",
    "    #D6, D7, D30 #downsize = 20\n",
    "    downsize = 5\n",
    "    # Example 2D point array (replace this with your own data)\n",
    "    points = all_spatial/downsize\n",
    "    \n",
    "    # Define the size of the image (adjust as needed)\n",
    "    image_width = 2000\n",
    "    image_height = 2000\n",
    "    \n",
    "    # Create a white canvas as the base image\n",
    "    base_image = Image.new('RGB', (image_width, image_height), (255, 255, 255))\n",
    "    \n",
    "    # Draw the points on the image\n",
    "    draw = ImageDraw.Draw(base_image)\n",
    "    point_size = 1  # Size of the points\n",
    "    ct = 0\n",
    "    for point in points:\n",
    "        draw.ellipse((point[0] - point_size, point[1] - point_size, point[0] + point_size, point[1] + point_size),\n",
    "                     fill=image_colors[ct])\n",
    "        ct += 1\n",
    "\n",
    "    try:\n",
    "        os.mkdir(os.path.join(input_file,'filtering'))\n",
    "    except:\n",
    "        print('filtering directory already exists')\n",
    "    file_path = os.path.join(input_file, 'filtering', 'topic_image.png')\n",
    "    base_image.save(file_path)\n",
    "    adata.uns['filtering_downsize'] = downsize\n",
    "    adata.write(os.path.join(input_file, 'adatas', '03_intial_neighborhoods.h5ad'))"
   ]
  },
  {
   "cell_type": "markdown",
   "id": "bcceb159-6c0e-4efe-b149-6c231e9911d4",
   "metadata": {},
   "source": [
    "#### Go to labelme (pip install labelme > labelme) > open > open topic_image.png > create polygons > Click around the parts of the tissue that need to be removed. \n",
    "\n",
    "##### When finished clicking, click enter, name remove, group 0, save to topic_image.json in same directory."
   ]
  },
  {
   "cell_type": "code",
   "execution_count": 19,
   "id": "f1f3e93c-605e-4b71-8b14-6616317b5cb2",
   "metadata": {},
   "outputs": [
    {
     "name": "stdout",
     "output_type": "stream",
     "text": [
      "D:/amonell/timecourse_final\\day30_SI\n",
      "D:/amonell/timecourse_final\\day6_SI\n",
      "D:/amonell/timecourse_final\\day7_SI_DMSO\n",
      "D:/amonell/timecourse_final\\day7_SI_RARi\n",
      "D:/amonell/timecourse_final\\day8_SI_Ctrl\n",
      "D:/amonell/timecourse_final\\day8_SI_Xcr1DTR\n",
      "D:/amonell/timecourse_final\\day90_SI\n"
     ]
    }
   ],
   "source": [
    "for input_file in input_folders:\n",
    "    print(input_file)\n",
    "    adata = sc.read(os.path.join(input_file, 'adatas', '03_intial_neighborhoods.h5ad'))\n",
    "    json_file_path = os.path.join(input_file, 'filtering', 'topic_image.json')\n",
    "    all_spatial = adata.obsm['X_spatial']\n",
    "    \n",
    "    # Load the JSON data from the file\n",
    "    with open(json_file_path, 'r') as json_file:\n",
    "        data = json.load(json_file)\n",
    "    \n",
    "    # Extract relevant information from the JSON data\n",
    "    image_height = data['imageHeight']\n",
    "    image_width = data['imageWidth']\n",
    "    image_path = data['imagePath']\n",
    "    shapes = data['shapes']\n",
    "    \n",
    "    # Process the shapes (annotations)\n",
    "    removals = []\n",
    "    points = [] \n",
    "    top_points = [] \n",
    "    for shape in shapes:\n",
    "        label = shape['label']\n",
    "        removals.append(shape['points'])\n",
    "    \n",
    "    total_indices = []\n",
    "    for ir in removals:\n",
    "        ir_ = np.array(ir)*downsize\n",
    "        poly = shapely.Polygon(ir_)\n",
    "        indices = []\n",
    "        for i in range(len(all_spatial)):\n",
    "            pt = shapely.Point(all_spatial[i])\n",
    "            if pt.within(poly):\n",
    "                indices.append(i)\n",
    "        total_indices.append(indices)\n",
    "    \n",
    "    total_indices=list(set([element for sublist in total_indices for element in sublist]))\n",
    "    index_set = set(total_indices)\n",
    "    dont_remove = [i for i in range(len(all_spatial)) if i not in index_set]\n",
    "    \n",
    "    adata = adata[dont_remove, :]\n",
    "    \n",
    "    adata.write(os.path.join(input_file, 'adatas', '04_tissue_cleared.h5ad'))"
   ]
  }
 ],
 "metadata": {
  "kernelspec": {
   "display_name": "Python 3 (ipykernel)",
   "language": "python",
   "name": "python3"
  },
  "language_info": {
   "codemirror_mode": {
    "name": "ipython",
    "version": 3
   },
   "file_extension": ".py",
   "mimetype": "text/x-python",
   "name": "python",
   "nbconvert_exporter": "python",
   "pygments_lexer": "ipython3",
   "version": "3.8.0"
  }
 },
 "nbformat": 4,
 "nbformat_minor": 5
}
