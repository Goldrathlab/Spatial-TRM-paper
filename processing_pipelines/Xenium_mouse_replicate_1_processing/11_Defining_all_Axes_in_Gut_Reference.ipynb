{
 "cells": [
  {
   "cell_type": "code",
   "execution_count": null,
   "id": "0",
   "metadata": {},
   "outputs": [],
   "source": [
    "import numpy as np\n",
    "import os\n",
    "import matplotlib.pyplot as plt\n",
    "import scanpy as sc\n",
    "from cv2 import resize\n",
    "from tqdm.notebook import tqdm\n",
    "import json"
   ]
  },
  {
   "cell_type": "markdown",
   "id": "1",
   "metadata": {},
   "source": [
    "## A script to prepare the reference dataset further before axes transfer"
   ]
  },
  {
   "cell_type": "code",
   "execution_count": null,
   "id": "2",
   "metadata": {},
   "outputs": [],
   "source": [
    "xenium_path = \"D:/amonell/timecourse_final/day7_SI_DMSO\""
   ]
  },
  {
   "cell_type": "markdown",
   "id": "3",
   "metadata": {},
   "source": [
    "#### You will need the villus segmentation from the aligned IF from day 7 WT to run this. You can find this in the folder ./villus_segmentation"
   ]
  },
  {
   "cell_type": "code",
   "execution_count": null,
   "id": "4",
   "metadata": {},
   "outputs": [],
   "source": [
    "vill_seg = np.load(os.path.join(xenium_path, \"villi_segmentation_mask.npy\"))"
   ]
  },
  {
   "cell_type": "code",
   "execution_count": null,
   "id": "5",
   "metadata": {},
   "outputs": [],
   "source": [
    "adata = sc.read(\n",
    "    os.path.join(xenium_path, \"adatas\", \"06_before_decomposition_model.h5ad\")\n",
    ")"
   ]
  },
  {
   "cell_type": "code",
   "execution_count": null,
   "id": "6",
   "metadata": {},
   "outputs": [],
   "source": [
    "file = open(os.path.join(xenium_path, \"xenium_output\", \"experiment.xenium\"))\n",
    "pixel_size = json.load(file)[\"pixel_size\"]"
   ]
  },
  {
   "cell_type": "code",
   "execution_count": null,
   "id": "7",
   "metadata": {},
   "outputs": [],
   "source": [
    "xvals = adata.obs.x.values\n",
    "yvals = adata.obs.y.values\n",
    "\n",
    "downsize_factor = np.load(\n",
    "    os.path.join(xenium_path, \"villi_segmentation_downsize_factor.npy\")\n",
    ")\n",
    "\n",
    "xvals = (xvals / downsize_factor) * (1 / pixel_size)\n",
    "yvals = (yvals / downsize_factor) * (1 / pixel_size)\n",
    "\n",
    "plt.imshow(vill_seg)\n",
    "plt.scatter(xvals, yvals, s=1)\n",
    "plt.show()\n",
    "\n",
    "villi_numbers = vill_seg[yvals.astype(int), xvals.astype(int)]\n",
    "adata.obs[\"villi_number\"] = villi_numbers"
   ]
  },
  {
   "cell_type": "markdown",
   "id": "8",
   "metadata": {},
   "source": [
    "### Defining the crypt-villi axis"
   ]
  },
  {
   "cell_type": "code",
   "execution_count": null,
   "id": "9",
   "metadata": {},
   "outputs": [],
   "source": [
    "in_villi = []\n",
    "for i in adata.obs[\"villi_number\"].values:\n",
    "    if i == 0:\n",
    "        in_villi.append(False)\n",
    "    else:\n",
    "        in_villi.append(True)"
   ]
  },
  {
   "cell_type": "code",
   "execution_count": null,
   "id": "10",
   "metadata": {},
   "outputs": [],
   "source": [
    "adata.obs[\"in_villi\"] = in_villi\n",
    "unique_villi = np.unique(adata.obs.villi_number)"
   ]
  },
  {
   "cell_type": "code",
   "execution_count": null,
   "id": "11",
   "metadata": {},
   "outputs": [],
   "source": [
    "norm_scaled = np.zeros(len(adata.obs.index.values))\n",
    "for i in tqdm(unique_villi):\n",
    "    if i == 0:\n",
    "        indices = np.array(adata.obs[\"villi_number\"] == i)\n",
    "        norm_vals = adata[indices, :].obs[\"normalized_crypt_villi\"].values\n",
    "        norm_scaled[indices] = norm_vals\n",
    "    else:\n",
    "        indices = np.array(adata.obs[\"villi_number\"] == i)\n",
    "        norm_vals = adata[indices, :].obs[\"normalized_crypt_villi\"].values\n",
    "        norm_scaled[indices] = norm_vals / np.max(norm_vals)"
   ]
  },
  {
   "cell_type": "code",
   "execution_count": null,
   "id": "12",
   "metadata": {},
   "outputs": [],
   "source": [
    "adata.obs[\"normalized_crypt_villi_scaled\"] = norm_scaled"
   ]
  },
  {
   "cell_type": "code",
   "execution_count": null,
   "id": "13",
   "metadata": {},
   "outputs": [],
   "source": [
    "sc.pl.embedding(\n",
    "    adata, basis=\"spatial\", color=\"normalized_crypt_villi_scaled\", frameon=False\n",
    ")"
   ]
  },
  {
   "cell_type": "code",
   "execution_count": null,
   "id": "14",
   "metadata": {},
   "outputs": [],
   "source": [
    "adata.write(os.path.join(xenium_path, \"adatas\", \"07_axes_defined_reference.h5ad\"))"
   ]
  }
 ],
 "metadata": {
  "kernelspec": {
   "display_name": "Python 3 (ipykernel)",
   "language": "python",
   "name": "python3"
  },
  "language_info": {
   "codemirror_mode": {
    "name": "ipython",
    "version": 3
   },
   "file_extension": ".py",
   "mimetype": "text/x-python",
   "name": "python",
   "nbconvert_exporter": "python",
   "pygments_lexer": "ipython3",
   "version": "3.9.0"
  }
 },
 "nbformat": 4,
 "nbformat_minor": 5
}
