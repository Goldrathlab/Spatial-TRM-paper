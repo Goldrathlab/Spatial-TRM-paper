{
 "cells": [
  {
   "cell_type": "markdown",
   "metadata": {},
   "source": [
    "##### Notebook for annotationing the celltypes in the MERSCOPE data. This is a first pass annoation that we use for crypt-villus axis calculations. We do a more precise celltyping later on"
   ]
  },
  {
   "cell_type": "code",
   "execution_count": 4,
   "id": "038c3b02-dd1b-49e1-bcae-f0486aba5c32",
   "metadata": {},
   "outputs": [],
   "source": [
    "import scanpy as sc\n",
    "import numpy as np\n",
    "from tqdm.notebook import tqdm\n",
    "import os\n",
    "import pandas as pd\n",
    "import seaborn as sns\n",
    "import matplotlib.pyplot as plt\n",
    "import scvi\n",
    "import glob\n",
    "import ucell\n"
   ]
  },
  {
   "cell_type": "markdown",
   "metadata": {},
   "source": [
    "#### Read in the human combined adata"
   ]
  },
  {
   "cell_type": "code",
   "execution_count": 2,
   "metadata": {},
   "outputs": [
    {
     "name": "stderr",
     "output_type": "stream",
     "text": [
      "/home/amonell/mambaforge/envs/scvi-env_gpu/lib/python3.9/site-packages/anndata/__init__.py:51: FutureWarning: `anndata.read` is deprecated, use `anndata.read_h5ad` instead. `ad.read` will be removed in mid 2024.\n",
      "  warnings.warn(\n"
     ]
    }
   ],
   "source": [
    "output_folder = r'/mnt/sata1/Analysis_Alex/human_r1/analysis/cleaned'\n",
    "adata = sc.read(os.path.join(output_folder, 'concatenated_integrated.h5ad'))"
   ]
  },
  {
   "cell_type": "markdown",
   "metadata": {},
   "source": [
    "##### Subcluster the data"
   ]
  },
  {
   "cell_type": "code",
   "execution_count": null,
   "metadata": {},
   "outputs": [],
   "source": [
    "\n",
    "def get_celltype(celltype, ad_sp):\n",
    "    ctype = ad_sp[ad_sp.obs.leiden.isin([celltype])]\n",
    "    sc.pp.neighbors(ctype, use_rep='X_scVI')\n",
    "    sc.tl.leiden(ctype, resolution= 1.2)\n",
    "    sc.tl.umap(ctype)\n",
    "    return ctype\n",
    "def reunite_with_ad(ad_sp, subset_ad, celltype):\n",
    "    new_labels  = []\n",
    "    subclusters = ad_sp.obs.Sub_leiden.values\n",
    "    clusters = ad_sp.obs.leiden.values\n",
    "    idex = ad_sp.obs.index.values\n",
    "    for i in tqdm(range(len(subclusters))):\n",
    "        if clusters[i] == celltype:\n",
    "            new_labels.append(subset_ad.obs.loc[idex[i], :].leiden)\n",
    "        else:\n",
    "            new_labels.append(subclusters[i])\n",
    "    ad_sp.obs.Sub_leiden = new_labels\n",
    "    return ad_sp\n",
    "\n",
    "adata.obs['Sub_leiden'] = adata.obs['leiden']\n",
    "for leiden_to_subset in tqdm(np.unique(adata.obs['leiden'].values)):\n",
    "    mac = get_celltype(leiden_to_subset, adata)\n",
    "    mac.obs['leiden'] = [leiden_to_subset + '_' + i for i in mac.obs.leiden]\n",
    "    adata = reunite_with_ad(adata, mac, leiden_to_subset)"
   ]
  },
  {
   "cell_type": "code",
   "execution_count": 5,
   "metadata": {},
   "outputs": [],
   "source": [
    "adata.obs= adata.obs[[i for i in adata.obs.columns if 'UCell' not in i]]"
   ]
  },
  {
   "cell_type": "markdown",
   "metadata": {},
   "source": [
    "##### Excel sheet giving a first pass at annotating clusters."
   ]
  },
  {
   "cell_type": "code",
   "execution_count": 142,
   "metadata": {},
   "outputs": [],
   "source": [
    "celltypes = pd.read_csv('/mnt/sata1/Analysis_Alex/human_r1/annotated_human_xenium_gut - Sheet1.csv', index_col=0)"
   ]
  },
  {
   "cell_type": "code",
   "execution_count": 144,
   "metadata": {},
   "outputs": [
    {
     "name": "stderr",
     "output_type": "stream",
     "text": [
      "/tmp/ipykernel_1260908/3366161405.py:3: FutureWarning: Series.__getitem__ treating keys as positions is deprecated. In a future version, integer keys will always be treated as labels (consistent with DataFrame behavior). To access a value by position, use `ser.iloc[pos]`\n",
      "  subtypes.append(celltypes.loc[i][0])\n"
     ]
    }
   ],
   "source": [
    "subtypes = []\n",
    "for i in adata.obs['Sub_leiden']:\n",
    "    subtypes.append(celltypes.loc[i][0])"
   ]
  },
  {
   "cell_type": "code",
   "execution_count": 146,
   "metadata": {},
   "outputs": [],
   "source": [
    "adata.obs['Subtype'] = pd.Categorical(subtypes)"
   ]
  },
  {
   "cell_type": "markdown",
   "metadata": {},
   "source": [
    "##### Adding the path to the final rep1 mouse Xenium object to get a general celltype heirarchy"
   ]
  },
  {
   "cell_type": "code",
   "execution_count": 147,
   "metadata": {},
   "outputs": [
    {
     "name": "stderr",
     "output_type": "stream",
     "text": [
      "/home/amonell/mambaforge/envs/scvi-env_gpu/lib/python3.9/site-packages/anndata/__init__.py:51: FutureWarning: `anndata.read` is deprecated, use `anndata.read_h5ad` instead. `ad.read` will be removed in mid 2024.\n",
      "  warnings.warn(\n",
      "/home/amonell/mambaforge/envs/scvi-env_gpu/lib/python3.9/site-packages/anndata/_core/anndata.py:1897: UserWarning: Observation names are not unique. To make them unique, call `.obs_names_make_unique`.\n",
      "  utils.warn_names_duplicates(\"obs\")\n"
     ]
    }
   ],
   "source": [
    "types = sc.read('/mnt/sata1/Analysis_Alex/timecourse_final/analysis/cleaned/final_celltyped_and_axes.h5ad')\n",
    "types_ = pd.crosstab(types.obs['Type'], types.obs['Subtype'])\n",
    "class_ = pd.crosstab(types.obs['Class'], types.obs['Type'])\n",
    "immuno_ = pd.crosstab(types.obs['Immunocentric_Type'], types.obs['Subtype'])"
   ]
  },
  {
   "cell_type": "markdown",
   "metadata": {},
   "source": [
    "#### Adjust nomenclature and heirarchy and assign first pass at celltypes"
   ]
  },
  {
   "cell_type": "code",
   "execution_count": 153,
   "metadata": {},
   "outputs": [],
   "source": [
    "\n",
    "type_dictionary = {}\n",
    "for i in adata.obs['Subtype'].cat.categories:\n",
    "    if i == 'CD4 T-Cell':\n",
    "        type_dictionary[i] = 'CD4 T-Cell'\n",
    "    elif i == 'CD8 AA+ T-Cell':\n",
    "        type_dictionary[i] = 'CD8 T-Cell'\n",
    "    elif i == 'CD8 AB+ T-Cell':\n",
    "        type_dictionary[i] = 'CD8 T-Cell'\n",
    "    elif i == 'Enterocyte':\n",
    "        type_dictionary[i] = 'Epithelial_Absorptive'\n",
    "    elif i == 'MAST':\n",
    "        type_dictionary[i] = 'MAST'\n",
    "    elif i == 'Gamma Delta T-Cell':\n",
    "        type_dictionary[i] = 'T-Cell'\n",
    "    elif i == 'Other DC':\n",
    "        type_dictionary[i] = 'DC'\n",
    "    elif i == 'Plasma Cell':\n",
    "        type_dictionary[i] = 'Plasma Cell'\n",
    "    elif i == 'Unknown':\n",
    "        type_dictionary[i] = 'Unknown'\n",
    "    else:\n",
    "        type_dictionary[i] = types_.index.values[np.where(types_[i].values > 0)[0]][0]\n",
    "all_types = []\n",
    "for k in adata.obs['Subtype'].values:\n",
    "    all_types.append(type_dictionary.get(k))\n",
    "adata.obs['Type'] = all_types"
   ]
  },
  {
   "cell_type": "code",
   "execution_count": 154,
   "metadata": {},
   "outputs": [],
   "source": [
    "itype_dictionary = {}\n",
    "for i in adata.obs['Subtype'].cat.categories:\n",
    "    if i == 'CD4 T-Cell':\n",
    "        itype_dictionary[i] = 'CD4 T-Cell'\n",
    "    elif i == 'CD8 AA+ T-Cell':\n",
    "        itype_dictionary[i] = 'CD8 T-Cell'\n",
    "    elif i == 'CD8 AB+ T-Cell':\n",
    "        itype_dictionary[i] = 'CD8 T-Cell'\n",
    "    elif i == 'Enterocyte':\n",
    "        itype_dictionary[i] = 'Enterocyte'\n",
    "    elif i == 'MAST':\n",
    "        itype_dictionary[i] = 'MAST'\n",
    "    elif i == 'Gamma Delta T-Cell':\n",
    "        itype_dictionary[i] = 'Gamma Delta T-Cell'\n",
    "    elif i == 'Other DC':\n",
    "        itype_dictionary[i] = 'DC'\n",
    "    elif i == 'Plasma Cell':\n",
    "        itype_dictionary[i] = 'Plasma Cell'\n",
    "    elif i == 'Unknown':\n",
    "        itype_dictionary[i] = 'Unknown'\n",
    "    else:\n",
    "        itype_dictionary[i] = immuno_.index.values[np.where(immuno_[i].values > 0)[0]][0]\n",
    "all_itypes = []\n",
    "for k in adata.obs['Subtype'].values:\n",
    "    all_itypes.append(itype_dictionary.get(k))\n",
    "adata.obs['Immunocentric_Type'] = all_itypes"
   ]
  },
  {
   "cell_type": "code",
   "execution_count": 155,
   "metadata": {},
   "outputs": [],
   "source": [
    "class_dictionary = {}\n",
    "for i in np.unique(adata.obs['Type'].values):\n",
    "    if i == 'CD4 T-Cell':\n",
    "        class_dictionary[i] = 'Immune'\n",
    "    elif i == 'CD8 T-Cell':\n",
    "        class_dictionary[i] = 'Immune'\n",
    "    elif i == 'MAST':\n",
    "        class_dictionary[i] = 'Immune'\n",
    "    elif i == 'Enterocyte':\n",
    "        class_dictionary[i] = 'Epithelial'\n",
    "    elif i == 'T-Cell':\n",
    "        class_dictionary[i] = 'Immune'\n",
    "    elif i == 'DC':\n",
    "        class_dictionary[i] = 'Immune'\n",
    "    elif i == 'Plasma Cell':\n",
    "        class_dictionary[i] = 'Immune'\n",
    "    elif i == 'Unknown':\n",
    "        class_dictionary[i] = 'Unknown'\n",
    "    else:\n",
    "        class_dictionary[i] = class_.index.values[np.where(class_[i].values > 0)[0]][0]\n",
    "all_classes = []\n",
    "for k in adata.obs['Type'].values:\n",
    "    all_classes.append(class_dictionary.get(k))\n",
    "adata.obs['Class'] = all_classes"
   ]
  },
  {
   "cell_type": "code",
   "execution_count": 157,
   "metadata": {},
   "outputs": [],
   "source": [
    "adata.write(os.path.join(output_folder, 'celltyped_do_not_touch.h5ad'))"
   ]
  }
 ],
 "metadata": {
  "kernelspec": {
   "display_name": "Python 3 (ipykernel)",
   "language": "python",
   "name": "python3"
  },
  "language_info": {
   "codemirror_mode": {
    "name": "ipython",
    "version": 3
   },
   "file_extension": ".py",
   "mimetype": "text/x-python",
   "name": "python",
   "nbconvert_exporter": "python",
   "pygments_lexer": "ipython3",
   "version": "3.9.18"
  }
 },
 "nbformat": 4,
 "nbformat_minor": 5
}
