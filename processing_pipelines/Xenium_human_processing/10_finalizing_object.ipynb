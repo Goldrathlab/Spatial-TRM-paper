{
 "cells": [
  {
   "cell_type": "code",
   "execution_count": null,
   "metadata": {},
   "outputs": [],
   "source": [
    "import scanpy as sc\n",
    "import numpy as np\n",
    "from tqdm.notebook import tqdm\n",
    "import scipy.stats as stats\n",
    "import pandas as pd\n",
    "import os\n",
    "import seaborn as sns\n",
    "import matplotlib.pyplot as plt\n",
    "import shapely\n",
    "import glob\n",
    "from sklearn.neighbors import NearestNeighbors\n",
    "from PIL import Image, ImageDraw\n",
    "import numpy as np\n",
    "from scipy.spatial import cKDTree\n",
    "import json\n",
    "import tensorflow as tf\n",
    "from tensorflow import keras\n",
    "from tensorflow.keras.layers import Input, Embedding, Flatten, Dense, Concatenate\n",
    "from tensorflow.keras.models import Model\n",
    "from sklearn.preprocessing import OneHotEncoder\n",
    "from core_functions.unrolling import *\n",
    "from core_functions.initial_neighborhoods import *"
   ]
  },
  {
   "cell_type": "markdown",
   "metadata": {},
   "source": [
    "#### This script specifies all axes in the human data, assigns final celltypes, and identifies CD8AB+ T cells"
   ]
  },
  {
   "cell_type": "markdown",
   "metadata": {},
   "source": [
    "Put in the path to the human adata"
   ]
  },
  {
   "cell_type": "code",
   "execution_count": null,
   "metadata": {},
   "outputs": [],
   "source": [
    "output_folder = r\"/mnt/sata1/Analysis_Alex/human_r1/analysis/cleaned\"\n",
    "adata = sc.read(os.path.join(output_folder, \"final_human_adata.h5ad\"))"
   ]
  },
  {
   "cell_type": "markdown",
   "metadata": {},
   "source": [
    "Add the path to the final cluster annotations excel sheet, we have included this in the repository"
   ]
  },
  {
   "cell_type": "code",
   "execution_count": null,
   "metadata": {},
   "outputs": [],
   "source": [
    "miguel_cell = pd.read_excel(\n",
    "    \"MiguelTypist_human.xlsx\",\n",
    "    index_col=0,\n",
    "    header=1,\n",
    ")"
   ]
  },
  {
   "cell_type": "markdown",
   "metadata": {},
   "source": [
    "#### Adding the annotations to the cells in the object"
   ]
  },
  {
   "cell_type": "code",
   "execution_count": null,
   "metadata": {},
   "outputs": [],
   "source": [
    "adata.obs = adata.obs[[i for i in adata.obs.columns if \"UCell\" not in i]]\n",
    "adata.obs = adata.obs[[i for i in adata.obs.columns if \"Topic\" not in i]]"
   ]
  },
  {
   "cell_type": "code",
   "execution_count": null,
   "metadata": {},
   "outputs": [],
   "source": [
    "miguel_dict = {}\n",
    "for i, row in miguel_cell.iterrows():\n",
    "    miguel_dict[row[\"sub_leiden\"]] = row[\n",
    "        [\"Class\", \"Type\", \"Subtype\", \"Immunocentric_Type\"]\n",
    "    ]"
   ]
  },
  {
   "cell_type": "code",
   "execution_count": null,
   "metadata": {},
   "outputs": [],
   "source": [
    "total_annotations = []\n",
    "for i in adata.obs[\"Sub_leiden\"]:\n",
    "    total_annotations.append(miguel_dict.get(i))"
   ]
  },
  {
   "cell_type": "code",
   "execution_count": null,
   "metadata": {},
   "outputs": [],
   "source": [
    "annotations = pd.DataFrame(\n",
    "    np.array(total_annotations),\n",
    "    columns=[\"Class\", \"Type\", \"Subtype\", \"Immunocentric_Type\"],\n",
    ")"
   ]
  },
  {
   "cell_type": "code",
   "execution_count": null,
   "metadata": {},
   "outputs": [],
   "source": [
    "adata.obs[\"Class\"] = pd.Categorical(annotations[\"Class\"].values)\n",
    "adata.obs[\"Type\"] = pd.Categorical(annotations[\"Type\"].values)\n",
    "adata.obs[\"Subtype\"] = pd.Categorical(annotations[\"Subtype\"].values)\n",
    "adata.obs[\"Immunocentric_Type\"] = pd.Categorical(\n",
    "    annotations[\"Immunocentric_Type\"].values\n",
    ")"
   ]
  },
  {
   "cell_type": "markdown",
   "metadata": {},
   "source": [
    "#### Identifying CD8AB+ T cells"
   ]
  },
  {
   "cell_type": "code",
   "execution_count": null,
   "metadata": {},
   "outputs": [],
   "source": [
    "ab_cells = np.where(\n",
    "    np.count_nonzero(adata.X[:, adata.var.index.isin([\"CD8A\", \"CD8B\"])], axis=1) == 2\n",
    ")[0]"
   ]
  },
  {
   "cell_type": "code",
   "execution_count": null,
   "metadata": {},
   "outputs": [],
   "source": [
    "dg_cells = np.where(\n",
    "    np.count_nonzero(adata.X[:, adata.var.index.isin([\"CD3D\", \"CD3G\"])], axis=1) >= 1\n",
    ")[0]"
   ]
  },
  {
   "cell_type": "code",
   "execution_count": null,
   "metadata": {},
   "outputs": [],
   "source": [
    "no_cd4 = np.where(\n",
    "    np.count_nonzero(adata.X[:, adata.var.index.isin([\"CD4\"])], axis=1) < 1\n",
    ")[0]"
   ]
  },
  {
   "cell_type": "code",
   "execution_count": null,
   "metadata": {},
   "outputs": [],
   "source": [
    "cluster_2_or_3 = np.where(adata.obs[\"leiden\"].isin([\"2\", \"3\"]))[0]"
   ]
  },
  {
   "cell_type": "code",
   "execution_count": null,
   "metadata": {},
   "outputs": [],
   "source": [
    "intersection_result = list(\n",
    "    set(ab_cells) & set(dg_cells) & set(cluster_2_or_3) & set(no_cd4)\n",
    ")"
   ]
  },
  {
   "cell_type": "code",
   "execution_count": null,
   "metadata": {},
   "outputs": [],
   "source": [
    "cd8_col = np.zeros(len(adata.obs.index))\n",
    "cd8_col[intersection_result] = 1"
   ]
  },
  {
   "cell_type": "code",
   "execution_count": null,
   "metadata": {},
   "outputs": [],
   "source": [
    "adata.obs[\"CD8_column\"] = cd8_col"
   ]
  },
  {
   "cell_type": "markdown",
   "metadata": {},
   "source": [
    "##### Finalizing the crypt-villus axis"
   ]
  },
  {
   "cell_type": "code",
   "execution_count": null,
   "metadata": {},
   "outputs": [],
   "source": [
    "def custom_percentile_scale(data, min_val, max_val):\n",
    "\n",
    "    # Scale the data using the custom percentiles\n",
    "    scaled_data = (data - min_val) / (max_val - min_val)\n",
    "\n",
    "    return scaled_data\n",
    "\n",
    "\n",
    "min_maxs = {}\n",
    "for cat in adata.obs.batch.cat.categories:\n",
    "    sub_a_human = adata[adata.obs[\"batch\"] == cat]\n",
    "    min_val = np.percentile(sub_a_human.obs[\"crypt_villi_axis\"], 0.1)\n",
    "    max_val = np.percentile(sub_a_human.obs[\"crypt_villi_axis\"], 99.9)\n",
    "    min_maxs[cat] = [min_val, max_val]\n",
    "\n",
    "normalized_cv = np.zeros(len(adata.obs))\n",
    "for cat in adata.obs.batch.cat.categories:\n",
    "    ids = np.where(adata.obs[\"batch\"] == cat)[0]\n",
    "    normalized_cv[ids] = custom_percentile_scale(\n",
    "        adata[ids, :].obs[\"crypt_villi_axis\"],\n",
    "        min_maxs.get(cat)[0],\n",
    "        min_maxs.get(cat)[1],\n",
    "    )\n",
    "adata.obs[\"crypt_villi_axis\"] = normalized_cv"
   ]
  },
  {
   "cell_type": "markdown",
   "metadata": {},
   "source": [
    "##### Smoothing the crypt villus axis"
   ]
  },
  {
   "cell_type": "code",
   "execution_count": null,
   "metadata": {},
   "outputs": [],
   "source": [
    "neighbor_kernel = 100\n",
    "crypt_vill = np.zeros(len(adata))\n",
    "for unique in np.unique(adata.obs[\"batch\"]):\n",
    "    batch_id = np.where(adata.obs[\"batch\"] == unique)[0]\n",
    "    batchdata = adata[batch_id]\n",
    "\n",
    "    celltype_cluster = batchdata.obs.index.values\n",
    "\n",
    "    list_of_arrays = []\n",
    "\n",
    "    spatial_points = np.array(\n",
    "        [batchdata.obsm[\"X_spatial\"][:, 0], batchdata.obsm[\"X_spatial\"][:, 1]]\n",
    "    ).T\n",
    "    spatial_points_ref = np.array(\n",
    "        [batchdata.obsm[\"X_spatial\"][:, 0], batchdata.obsm[\"X_spatial\"][:, 1]]\n",
    "    ).T\n",
    "\n",
    "    tree = KDTree(spatial_points_ref)\n",
    "    for i_bac in tqdm(range(len(celltype_cluster))):\n",
    "        current_cell = celltype_cluster[i_bac]\n",
    "        distances, neighbors = tree.query(spatial_points[i_bac], k=neighbor_kernel)\n",
    "        neighbors = np.array(list(neighbors))\n",
    "        gene_array = np.mean(batchdata.obs[\"crypt_villi_axis\"].values[neighbors])\n",
    "        list_of_arrays.append(gene_array)\n",
    "\n",
    "    crypt_vill[batch_id] = np.array(list_of_arrays)\n",
    "adata.obs[\"crypt_villi_axis\"] = crypt_vill"
   ]
  },
  {
   "cell_type": "markdown",
   "metadata": {},
   "source": [
    "##### Clipping the epithelial axis to account for the high LP values of peyers patches"
   ]
  },
  {
   "cell_type": "code",
   "execution_count": null,
   "metadata": {},
   "outputs": [],
   "source": [
    "adata.obs[\"epithelial_distance_clipped\"] = np.clip(\n",
    "    adata.obs[\"epithelial_distance\"], 0, 0.1\n",
    ")\n",
    "\n",
    "normalized_cv = np.zeros(len(adata.obs))\n",
    "\n",
    "\n",
    "def custom_percentile_scale(data, min_val, max_val):\n",
    "\n",
    "    # Scale the data using the custom percentiles\n",
    "    scaled_data = (data - min_val) / (max_val - min_val)\n",
    "\n",
    "    return scaled_data\n",
    "\n",
    "\n",
    "min_maxs = {}\n",
    "for cat in adata.obs.batch.cat.categories:\n",
    "    sub_a_human = adata[adata.obs[\"batch\"] == cat]\n",
    "    min_val = np.percentile(sub_a_human.obs[\"epithelial_distance_clipped\"], 0.1)\n",
    "    max_val = np.percentile(sub_a_human.obs[\"epithelial_distance_clipped\"], 99.9)\n",
    "    min_maxs[cat] = [min_val, max_val]\n",
    "\n",
    "\n",
    "for cat in adata.obs.batch.cat.categories:\n",
    "    ids = np.where(adata.obs[\"batch\"] == cat)[0]\n",
    "    normalized_cv[ids] = custom_percentile_scale(\n",
    "        adata[ids, :].obs[\"epithelial_distance_clipped\"],\n",
    "        min_maxs.get(cat)[0],\n",
    "        min_maxs.get(cat)[1],\n",
    "    )\n",
    "adata.obs[\"epithelial_distance_clipped\"] = normalized_cv"
   ]
  },
  {
   "cell_type": "markdown",
   "metadata": {},
   "source": [
    "##### Writing out the final object"
   ]
  },
  {
   "cell_type": "code",
   "execution_count": null,
   "metadata": {},
   "outputs": [],
   "source": [
    "adata.write(os.path.join(output_folder, \"final_human_adata_newest.h5ad\"))"
   ]
  }
 ],
 "metadata": {
  "kernelspec": {
   "display_name": "squidpy",
   "language": "python",
   "name": "python3"
  },
  "language_info": {
   "codemirror_mode": {
    "name": "ipython",
    "version": 3
   },
   "file_extension": ".py",
   "mimetype": "text/x-python",
   "name": "python",
   "nbconvert_exporter": "python",
   "pygments_lexer": "ipython3",
   "version": "3.10.13"
  }
 },
 "nbformat": 4,
 "nbformat_minor": 2
}
