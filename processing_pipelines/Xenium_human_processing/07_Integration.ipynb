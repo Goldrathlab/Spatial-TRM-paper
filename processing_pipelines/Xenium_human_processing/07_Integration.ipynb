{
 "cells": [
  {
   "cell_type": "markdown",
   "id": "0",
   "metadata": {},
   "source": [
    "## Integrate MERFISH experiments after QC filtering"
   ]
  },
  {
   "cell_type": "code",
   "execution_count": null,
   "id": "1",
   "metadata": {},
   "outputs": [],
   "source": [
    "import scanpy as sc\n",
    "import scvi\n",
    "from tqdm.notebook import tqdm\n",
    "import os\n",
    "import numpy as np\n",
    "import pandas as pd\n",
    "from scvi.model.utils import mde\n",
    "import matplotlib.pyplot as plt\n",
    "import pickle\n",
    "import glob"
   ]
  },
  {
   "cell_type": "code",
   "execution_count": null,
   "id": "2",
   "metadata": {},
   "outputs": [],
   "source": [
    "sc.set_figure_params(figsize=(4, 4))"
   ]
  },
  {
   "cell_type": "markdown",
   "id": "3",
   "metadata": {},
   "source": [
    "Add the paths to all folders for experiments to be integrated"
   ]
  },
  {
   "cell_type": "code",
   "execution_count": null,
   "id": "4",
   "metadata": {},
   "outputs": [],
   "source": [
    "input_folders = glob.glob(\"/mnt/sata1/Analysis_Alex/human_r1/human_0*\")"
   ]
  },
  {
   "cell_type": "code",
   "execution_count": null,
   "id": "5",
   "metadata": {},
   "outputs": [],
   "source": [
    "output_folder = r\"/mnt/sata1/Analysis_Alex/human_r1/analysis/cleaned\""
   ]
  },
  {
   "cell_type": "markdown",
   "id": "6",
   "metadata": {},
   "source": [
    "Run scvi integration"
   ]
  },
  {
   "cell_type": "code",
   "execution_count": null,
   "id": "7",
   "metadata": {},
   "outputs": [],
   "source": [
    "adata_list = []\n",
    "for input_file in tqdm(input_folders):\n",
    "    experiment = sc.read(\n",
    "        os.path.join(input_file, \"adatas\", \"04_axes_in_preparation.h5ad\")\n",
    "    )\n",
    "    experiment.obs[\"batch\"] = os.path.basename(input_file)\n",
    "    adata_list.append(experiment.copy())\n",
    "\n",
    "concatenated = sc.concat(adata_list)\n",
    "\n",
    "concatenated.obs_names_make_unique()\n",
    "concatenated.layers[\"counts\"] = concatenated.X\n",
    "scvi.model.SCVI.setup_anndata(concatenated, layer=\"counts\", batch_key=\"batch\")\n",
    "vae = scvi.model.SCVI(concatenated, n_layers=2, n_latent=30, gene_likelihood=\"nb\")\n",
    "vae.train()"
   ]
  },
  {
   "cell_type": "markdown",
   "id": "8",
   "metadata": {},
   "source": [
    "Use integration to calculate new clustering and neighbors"
   ]
  },
  {
   "cell_type": "code",
   "execution_count": null,
   "id": "9",
   "metadata": {},
   "outputs": [],
   "source": [
    "concatenated.obsm[\"X_scVI\"] = vae.get_latent_representation()"
   ]
  },
  {
   "cell_type": "code",
   "execution_count": null,
   "id": "10",
   "metadata": {},
   "outputs": [],
   "source": [
    "sc.pp.neighbors(concatenated, use_rep=\"X_scVI\")"
   ]
  },
  {
   "cell_type": "markdown",
   "id": "11",
   "metadata": {},
   "source": [
    "Use MDE as new visualization"
   ]
  },
  {
   "cell_type": "code",
   "execution_count": null,
   "id": "12",
   "metadata": {},
   "outputs": [],
   "source": [
    "concatenated.obsm[\"X_mde\"] = mde(concatenated.obsm[\"X_scVI\"])"
   ]
  },
  {
   "cell_type": "code",
   "execution_count": null,
   "id": "13",
   "metadata": {},
   "outputs": [],
   "source": [
    "concatenated.obs[\"new_batch\"] = concatenated.obs.batch.values"
   ]
  },
  {
   "cell_type": "code",
   "execution_count": null,
   "id": "14",
   "metadata": {},
   "outputs": [],
   "source": [
    "xcoords = concatenated.obsm[\"X_mde\"][:, 0]\n",
    "ycoords = concatenated.obsm[\"X_mde\"][:, 1]\n",
    "category_names = concatenated.obs.new_batch.values"
   ]
  },
  {
   "cell_type": "code",
   "execution_count": null,
   "id": "15",
   "metadata": {},
   "outputs": [],
   "source": [
    "sc.tl.leiden(concatenated)"
   ]
  },
  {
   "cell_type": "code",
   "execution_count": null,
   "id": "16",
   "metadata": {},
   "outputs": [],
   "source": [
    "concatenated.write(os.path.join(output_folder, \"concatenated_integrated.h5ad\"))"
   ]
  },
  {
   "cell_type": "code",
   "execution_count": null,
   "id": "17",
   "metadata": {},
   "outputs": [],
   "source": [
    "sc.set_figure_params(figsize=(10, 5))\n",
    "sc.pl.embedding(concatenated, basis=\"mde\", color=[\"leiden\"])"
   ]
  },
  {
   "cell_type": "markdown",
   "id": "18",
   "metadata": {},
   "source": [
    "## Save our SCVI VAE"
   ]
  },
  {
   "cell_type": "code",
   "execution_count": null,
   "id": "19",
   "metadata": {},
   "outputs": [],
   "source": [
    "import pickle\n",
    "\n",
    "# File path where you want to save the object\n",
    "file_path = os.path.join(output_folder, \"vae_object.pkl\")\n",
    "\n",
    "# Dump the object to the file\n",
    "with open(file_path, \"wb\") as file:\n",
    "    pickle.dump(vae, file)"
   ]
  }
 ],
 "metadata": {
  "kernelspec": {
   "display_name": "Python 3 (ipykernel)",
   "language": "python",
   "name": "python3"
  },
  "language_info": {
   "codemirror_mode": {
    "name": "ipython",
    "version": 3
   },
   "file_extension": ".py",
   "mimetype": "text/x-python",
   "name": "python",
   "nbconvert_exporter": "python",
   "pygments_lexer": "ipython3",
   "version": "3.9.18"
  }
 },
 "nbformat": 4,
 "nbformat_minor": 5
}
