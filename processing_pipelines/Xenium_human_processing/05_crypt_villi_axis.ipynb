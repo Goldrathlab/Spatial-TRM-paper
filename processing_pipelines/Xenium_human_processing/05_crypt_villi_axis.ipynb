{
 "cells": [
  {
   "cell_type": "code",
   "execution_count": null,
   "metadata": {},
   "outputs": [],
   "source": [
    "import glob\n",
    "import os\n",
    "from sklearn.neighbors import NearestNeighbors\n",
    "from PIL import Image, ImageDraw\n",
    "import scanpy as sc\n",
    "from core_functions.unrolling import *"
   ]
  },
  {
   "cell_type": "markdown",
   "metadata": {},
   "source": [
    "##### Put in the paths to to the human adatas. Images will be exported for which the villi should be labeled in labelme"
   ]
  },
  {
   "cell_type": "code",
   "execution_count": null,
   "metadata": {},
   "outputs": [],
   "source": [
    "data_dir = \"/mnt/sata1/Analysis_Alex/human_r1\"\n",
    "input_folders = glob.glob(os.path.join(data_dir, \"human_0*\"))"
   ]
  },
  {
   "cell_type": "code",
   "execution_count": null,
   "metadata": {},
   "outputs": [],
   "source": [
    "def create_base_image_type(adata, downsize=20):\n",
    "\n",
    "    points = adata.obsm[\"X_spatial\"] / downsize\n",
    "    types = adata.obs[\"topic\"].values\n",
    "\n",
    "    # Define the size of the image (adjust as needed)\n",
    "    image_width = 2000\n",
    "    image_height = 2000\n",
    "\n",
    "    # Create a white canvas as the base image\n",
    "    base_image = Image.new(\"RGB\", (image_width, image_height), (255, 255, 255))\n",
    "\n",
    "    # Draw the points on the image\n",
    "    draw = ImageDraw.Draw(base_image)\n",
    "    point_size = 1  # Size of the points\n",
    "    ct = 0\n",
    "    for point in points:\n",
    "        draw.ellipse(\n",
    "            (\n",
    "                point[0] - point_size,\n",
    "                point[1] - point_size,\n",
    "                point[0] + point_size,\n",
    "                point[1] + point_size,\n",
    "            ),\n",
    "            fill=adata.uns[\"topic_colors\"][\n",
    "                np.where(adata.obs[\"topic\"].cat.categories == types[ct])[0]\n",
    "            ][0],\n",
    "            outline=adata.uns[\"topic_colors\"][\n",
    "                np.where(adata.obs[\"topic\"].cat.categories == types[ct])[0]\n",
    "            ][0],\n",
    "            width=0,\n",
    "        )\n",
    "        ct += 1\n",
    "\n",
    "    return base_image"
   ]
  },
  {
   "cell_type": "code",
   "execution_count": null,
   "metadata": {},
   "outputs": [],
   "source": [
    "for input_file in input_folders:\n",
    "    try:\n",
    "        adata = sc.read(\n",
    "            os.path.join(input_file, \"adatas\", \"03_intial_neighborhoods.h5ad\")\n",
    "        )\n",
    "        all_spatial = adata.obsm[\"X_spatial\"]\n",
    "\n",
    "        try:\n",
    "            adata.X = adata.X.A\n",
    "        except:\n",
    "            print(\"Adata already in array format\")\n",
    "\n",
    "        downsize = 4\n",
    "        base_image = create_base_image_type(adata, downsize=downsize)\n",
    "        plt.imshow(base_image)\n",
    "        plt.show()\n",
    "        file_path = os.path.join(input_file, \"label_img.png\")\n",
    "        base_image.save(file_path)\n",
    "        adata.uns[\"unrolling_downsize\"] = downsize\n",
    "        adata.write(os.path.join(input_file, \"adatas\", \"03_intial_neighborhoods.h5ad\"))\n",
    "    except:\n",
    "        print(input_file + \" not generated yet\")"
   ]
  },
  {
   "cell_type": "markdown",
   "metadata": {},
   "source": [
    "### Label the villi in all images in labelme. We store our labels in the ./labels/filtering folder in this directory"
   ]
  }
 ],
 "metadata": {
  "kernelspec": {
   "display_name": "merscope_01",
   "language": "python",
   "name": "python3"
  },
  "language_info": {
   "codemirror_mode": {
    "name": "ipython",
    "version": 3
   },
   "file_extension": ".py",
   "mimetype": "text/x-python",
   "name": "python",
   "nbconvert_exporter": "python",
   "pygments_lexer": "ipython3",
   "version": "3.8.18"
  }
 },
 "nbformat": 4,
 "nbformat_minor": 2
}
