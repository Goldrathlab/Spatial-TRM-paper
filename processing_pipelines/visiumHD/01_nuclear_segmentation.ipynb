{
 "cells": [
  {
   "cell_type": "markdown",
   "id": "110c006d",
   "metadata": {},
   "source": [
    "Nucleus segmentation for the visiumHD data using the DAPI staining and cellpose"
   ]
  },
  {
   "cell_type": "code",
   "execution_count": null,
   "id": "40302b73-6293-48bf-80b8-051dc653ffd1",
   "metadata": {},
   "outputs": [],
   "source": [
    "import imageio as io\n",
    "import pandas as pd\n",
    "import os\n",
    "import matplotlib.pyplot as plt\n",
    "import numpy as np\n",
    "import tifffile\n",
    "from tqdm.notebook import tqdm\n",
    "import pathlib\n",
    "import geopandas as gpd\n",
    "from cellpose import models, core\n",
    "import json\n",
    "from shapely.geometry import Polygon, Point\n",
    "import scanpy as sc\n",
    "import glob"
   ]
  },
  {
   "cell_type": "markdown",
   "id": "8a4b060a",
   "metadata": {},
   "source": [
    "Enter the experimental paths"
   ]
  },
  {
   "cell_type": "code",
   "execution_count": null,
   "id": "90b389da",
   "metadata": {},
   "outputs": [],
   "source": [
    "experiment = 'SI_d90pi'\n",
    "\n",
    "visium_path = 'VisiumHD_data/LJI_001_visiumhd_SI'\n",
    "\n",
    "#model path\n",
    "mp = r'visium_hd/segmentation/models/day8_SI_DAPI'"
   ]
  },
  {
   "cell_type": "markdown",
   "id": "2de80d81-0399-4b42-a934-8dbcb8ccd606",
   "metadata": {},
   "source": [
    "Read in Visium cell staining image\n"
   ]
  },
  {
   "cell_type": "code",
   "execution_count": null,
   "id": "6c4bbf02",
   "metadata": {},
   "outputs": [],
   "source": [
    "experiment_spatial_path = os.path.join(visium_path, 'count_outputs', f'visium_hd_count_{experiment}', 'outs', 'spatial')"
   ]
  },
  {
   "cell_type": "code",
   "execution_count": null,
   "id": "53a36c08",
   "metadata": {},
   "outputs": [],
   "source": [
    "highres_image = glob.glob(os.path.join(experiment_spatial_path, '*used.tif'))[0]"
   ]
  },
  {
   "cell_type": "code",
   "execution_count": null,
   "id": "352633b0-14cf-499c-98eb-d2f4511f59dd",
   "metadata": {},
   "outputs": [],
   "source": [
    "import PIL\n",
    "PIL.Image.MAX_IMAGE_PIXELS = 2382717010\n",
    "\n",
    "def read_dapi_image(path: str, downscale_factor: int = 2) -> np.ndarray:\n",
    "    img_fpath = pathlib.Path(path)\n",
    "    img = io.imread(img_fpath)\n",
    "    print(img.shape)\n",
    "    return downscale_image(img, downscale_factor=downscale_factor)\n",
    "\n",
    "def downscale_image(img: np.ndarray, downscale_factor: int = 2) -> np.ndarray:\n",
    "    # Calculate the amount \n",
    "    # \n",
    "    # of padding needed for each axis\n",
    "    pad_height = (downscale_factor - img.shape[0] % downscale_factor) % downscale_factor\n",
    "    pad_width = (downscale_factor - img.shape[1] % downscale_factor) % downscale_factor\n",
    "    new_shape = (img.shape[0] + pad_height, img.shape[1] + pad_width, img.shape[2])\n",
    "\n",
    "    new_image = np.zeros(new_shape, dtype=img.dtype)\n",
    "    for channel in range(img.shape[2]):\n",
    "        new_image[:, :, channel] = np.pad(img[:, :, channel], ((0, pad_height), (0, pad_width)), mode='constant')\n",
    "    # Pad the array with zeros\n",
    "    return new_image\n"
   ]
  },
  {
   "cell_type": "code",
   "execution_count": null,
   "id": "991e7810-e4c1-4944-87f5-a31c27c5fe94",
   "metadata": {},
   "outputs": [],
   "source": [
    "maxed_visium = read_dapi_image(highres_image, downscale_factor=1)"
   ]
  },
  {
   "cell_type": "markdown",
   "id": "59e90c72-a70c-496b-852b-5efe2738496f",
   "metadata": {},
   "source": [
    "#### Running cellpose\n",
    "\n",
    "Here, we use the pretrained model to perform a nuclear segmentation with cellpose."
   ]
  },
  {
   "cell_type": "code",
   "execution_count": null,
   "id": "a1e10b0f-6a01-4401-a0e0-dcd1eb7076f0",
   "metadata": {},
   "outputs": [],
   "source": [
    "def run_cellpose(img: np.ndarray, model_path: str) -> (np.ndarray, np.ndarray, np.ndarray):\n",
    "    use_GPU = core.use_gpu()\n",
    "    model = models.CellposeModel(gpu=use_GPU, pretrained_model= model_path  )\n",
    "    channels = [0,0]\n",
    "    masks, flows, styles = model.eval([img], channels=channels, diameter=model.diam_labels,flow_threshold=1, cellprob_threshold=0, batch_size=4)\n",
    "    return (masks, flows, styles)\n"
   ]
  },
  {
   "cell_type": "code",
   "execution_count": null,
   "id": "7cef605a",
   "metadata": {},
   "outputs": [],
   "source": [
    "chunk_per_axis = 2\n",
    "\n",
    "masks_top_left, flows, styles = run_cellpose(\n",
    "    maxed_visium[:np.shape(maxed_visium)[0]//chunk_per_axis, :np.shape(maxed_visium)[1]//chunk_per_axis, :],\n",
    "    model_path = mp,\n",
    ")\n",
    "\n",
    "masks_top_right, flows, styles = run_cellpose(\n",
    "    maxed_visium[:np.shape(maxed_visium)[0]//chunk_per_axis, np.shape(maxed_visium)[1]//chunk_per_axis:, :],\n",
    "    model_path = mp,\n",
    ")\n",
    "\n",
    "masks_bottom_left, flows, styles = run_cellpose(\n",
    "    maxed_visium[np.shape(maxed_visium)[0]//chunk_per_axis:, :np.shape(maxed_visium)[1]//chunk_per_axis, :],\n",
    "    model_path = mp,\n",
    ")\n",
    "\n",
    "masks_bottom_right, flows, styles = run_cellpose(\n",
    "    maxed_visium[np.shape(maxed_visium)[0]//chunk_per_axis:, np.shape(maxed_visium)[1]//chunk_per_axis:, :],\n",
    "    model_path = mp,\n",
    ")"
   ]
  },
  {
   "cell_type": "markdown",
   "id": "72c23162-de9c-4ef8-bb61-b4b2780c672e",
   "metadata": {},
   "source": [
    "Plot and save segmentation"
   ]
  },
  {
   "cell_type": "code",
   "execution_count": null,
   "id": "37783d75",
   "metadata": {},
   "outputs": [],
   "source": [
    "constant = 1000000\n",
    "full_mask = np.zeros_like(maxed_visium[:, :, 0], dtype=np.uint32)\n",
    "full_mask[:np.shape(maxed_visium)[0]//chunk_per_axis, :np.shape(maxed_visium)[1]//chunk_per_axis] = masks_top_left[0]\n",
    "full_mask[:np.shape(maxed_visium)[0]//chunk_per_axis, np.shape(maxed_visium)[1]//chunk_per_axis:] = masks_top_right[0] + (constant)\n",
    "full_mask[np.shape(maxed_visium)[0]//chunk_per_axis:, :np.shape(maxed_visium)[1]//chunk_per_axis] = masks_bottom_left[0] + (constant*2)\n",
    "full_mask[np.shape(maxed_visium)[0]//chunk_per_axis:, np.shape(maxed_visium)[1]//chunk_per_axis:] = masks_bottom_right[0] + (constant*3)\n",
    "\n",
    "# when fullmask % constant == 0, set the value to 0\n",
    "full_mask = np.where(full_mask % constant == 0, 0, full_mask)"
   ]
  },
  {
   "cell_type": "code",
   "execution_count": null,
   "id": "4d9a661a",
   "metadata": {},
   "outputs": [],
   "source": [
    "# save np array as png\n",
    "tifffile.imsave(f'visium_hd/segmentation/segmentation_outputs/{experiment}_segmentation.png', full_mask)"
   ]
  },
  {
   "cell_type": "markdown",
   "id": "148fc126-21f8-4988-b348-e0dd0a64e87d",
   "metadata": {},
   "source": [
    "Assign barcodes to cells"
   ]
  },
  {
   "cell_type": "code",
   "execution_count": null,
   "id": "47f638d9",
   "metadata": {},
   "outputs": [],
   "source": [
    "full_mask = tifffile.imread(f'visium_hd/segmentation/segmentation_outputs/{experiment}_segmentation.png')"
   ]
  },
  {
   "cell_type": "code",
   "execution_count": null,
   "id": "2e3ca54e-f59a-47a8-b8a4-d7fcffa2b50a",
   "metadata": {},
   "outputs": [],
   "source": [
    "dir_base = 'VisiumHD_data/LJI_001_visiumhd_SI/count_outputs/visium_hd_count_SI_d90pi/outs/binned_outputs/square_002um/'\n",
    "# Load Visium HD data\n",
    "raw_h5_file = dir_base+'filtered_feature_bc_matrix.h5'\n",
    "adata = sc.read_10x_h5(raw_h5_file)\n",
    "\n",
    "# Load the Spatial Coordinates\n",
    "tissue_position_file = dir_base+'spatial/tissue_positions.parquet'\n",
    "df_tissue_positions=pd.read_parquet(tissue_position_file)\n",
    "\n",
    "#Set the index of the dataframe to the barcodes\n",
    "df_tissue_positions = df_tissue_positions.set_index('barcode')\n",
    "\n",
    "# Create an index in the dataframe to check joins\n",
    "df_tissue_positions['index']=df_tissue_positions.index\n",
    "\n",
    "# Adding the tissue positions to the meta data\n",
    "adata.obs =  pd.merge(adata.obs, df_tissue_positions, left_index=True, right_index=True)\n",
    "\n",
    "# Create a GeoDataFrame from the DataFrame of coordinates\n",
    "geometry = [Point(xy) for xy in zip(df_tissue_positions['pxl_col_in_fullres'], df_tissue_positions['pxl_row_in_fullres'])]\n",
    "gdf_coordinates = gpd.GeoDataFrame(df_tissue_positions, geometry=geometry)\n",
    "\n"
   ]
  },
  {
   "cell_type": "code",
   "execution_count": null,
   "id": "dc63a0e4",
   "metadata": {},
   "outputs": [],
   "source": [
    "plt.imshow(full_mask)\n",
    "plt.scatter(list(adata.obs['pxl_col_in_fullres'].values)[::10], list(adata.obs['pxl_row_in_fullres'].values)[::10], s=1, alpha = 0.01, c='r')\n",
    "plt.show()"
   ]
  },
  {
   "cell_type": "markdown",
   "id": "3346c83d",
   "metadata": {},
   "source": [
    "assigning capture regions to individual nuclei"
   ]
  },
  {
   "cell_type": "code",
   "execution_count": null,
   "id": "e3acf39d",
   "metadata": {},
   "outputs": [],
   "source": [
    "point_mask = (gdf_coordinates['pxl_row_in_fullres'].values.astype(int) < np.shape(full_mask)[0]) & (gdf_coordinates['pxl_col_in_fullres'].values.astype(int) < np.shape(full_mask)[1])\n",
    "\n",
    "cells = full_mask[gdf_coordinates['pxl_row_in_fullres'].values.astype(int)[point_mask], gdf_coordinates['pxl_col_in_fullres'].values.astype(int)[point_mask]]\n",
    "\n",
    "gdf_coordinates = gdf_coordinates[point_mask]\n",
    "\n",
    "gdf_coordinates['cells'] = cells\n",
    "\n",
    "assigned_regions = gdf_coordinates[gdf_coordinates['cells'] > 0]\n",
    "\n",
    "adata.obs = adata.obs.merge(assigned_regions[['cells']], left_index=True, right_index=True, how='left')\n",
    "\n",
    "adata = adata[~pd.isna(adata.obs['cells'])]\n",
    "\n",
    "adata.obs['cells'] = adata.obs['cells'].astype(int)"
   ]
  },
  {
   "cell_type": "markdown",
   "id": "2bbbb258",
   "metadata": {},
   "source": [
    "Summing the transcript counts in capture regions assigned to each nucleus"
   ]
  },
  {
   "cell_type": "code",
   "execution_count": null,
   "id": "546fbb63",
   "metadata": {},
   "outputs": [],
   "source": [
    "import anndata\n",
    "from scipy import sparse\n",
    "# Group the data by unique nucleous IDs\n",
    "groupby_object = adata.obs.groupby(['cells'], observed=True)\n",
    "\n",
    "# Extract the gene expression counts from the AnnData object\n",
    "counts = adata.X\n",
    "\n",
    "spatial_coords = adata.obs[['pxl_row_in_fullres', 'pxl_col_in_fullres']].values\n",
    "\n",
    "# Obtain the number of unique nuclei and the number of genes in the expression data\n",
    "N_groups = groupby_object.ngroups\n",
    "N_genes = counts.shape[1]\n",
    "\n",
    "# Initialize a sparse matrix to store the summed gene counts for each nucleus\n",
    "summed_counts = sparse.lil_matrix((N_groups, N_genes))\n",
    "\n",
    "# Lists to store the IDs of polygons and the current row index\n",
    "polygon_id = []\n",
    "cell_coords = []\n",
    "row = 0\n",
    "\n",
    "# Iterate over each unique polygon to calculate the sum of gene counts.\n",
    "for polygons, idx_ in groupby_object.indices.items():\n",
    "    summed_counts[row] = counts[idx_].sum(0)\n",
    "    cell_coords.append(np.mean(spatial_coords[idx_], axis = 0))\n",
    "    row += 1\n",
    "    polygon_id.append(polygons)\n",
    "\n",
    "cell_coords = np.array(cell_coords)\n",
    "# Create and AnnData object from the summed count matrix\n",
    "summed_counts = summed_counts.tocsr()\n",
    "grouped_adata = anndata.AnnData(X=summed_counts,obs=pd.DataFrame(polygon_id,columns=['cells'],index=polygon_id),var=adata.var)\n",
    "\n",
    "%store grouped_adata\n"
   ]
  },
  {
   "cell_type": "code",
   "execution_count": null,
   "id": "64ba8bf5",
   "metadata": {},
   "outputs": [],
   "source": [
    "# Calculate quality control metrics for the AnnData object\n",
    "sc.pp.calculate_qc_metrics(grouped_adata, inplace=True)\n",
    "\n",
    "grouped_adata.obsm['X_spatial'] = cell_coords\n",
    "\n",
    "sc.set_figure_params(dpi=300)\n",
    "sc.pl.embedding(grouped_adata, basis='X_spatial', color='Acta2', alpha=1, vmax = 1, cmap='Blues')"
   ]
  },
  {
   "cell_type": "markdown",
   "id": "a15731c5",
   "metadata": {},
   "source": [
    "Save out the single cell visiumHD adata"
   ]
  },
  {
   "cell_type": "code",
   "execution_count": null,
   "metadata": {},
   "outputs": [],
   "source": [
    "grouped_adata.write(f'visium_hd/segmentation/segmentation_outputs/{experiment}_single_cell_adata.h5ad')"
   ]
  }
 ],
 "metadata": {
  "kernelspec": {
   "display_name": "Python 3 (ipykernel)",
   "language": "python",
   "name": "python3"
  },
  "language_info": {
   "codemirror_mode": {
    "name": "ipython",
    "version": 3
   },
   "file_extension": ".py",
   "mimetype": "text/x-python",
   "name": "python",
   "nbconvert_exporter": "python",
   "pygments_lexer": "ipython3",
   "version": "3.8.18"
  }
 },
 "nbformat": 4,
 "nbformat_minor": 5
}
