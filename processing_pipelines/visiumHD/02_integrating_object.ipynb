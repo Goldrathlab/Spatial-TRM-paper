{
 "cells": [
  {
   "cell_type": "markdown",
   "metadata": {},
   "source": [
    "Integrating the Xenium timecourse with VisiumHD"
   ]
  },
  {
   "cell_type": "code",
   "execution_count": null,
   "metadata": {},
   "outputs": [],
   "source": [
    "import anndata\n",
    "import matplotlib.pyplot as plt\n",
    "import numpy as np\n",
    "import scanpy as sc\n",
    "from scipy.stats import spearmanr\n",
    "from scvi.data import cortex, smfish\n",
    "from scvi.external import GIMVI\n",
    "import os\n",
    "import pandas as pd\n",
    "import numpy as np\n",
    "from sklearn.neighbors import KDTree\n",
    "from tqdm.notebook import tqdm\n",
    "import torch"
   ]
  },
  {
   "cell_type": "code",
   "execution_count": null,
   "metadata": {},
   "outputs": [],
   "source": [
    "train_size = 1\n",
    "\n",
    "%config InlineBackend.print_figure_kwargs={'facecolor' : \"w\"}\n",
    "%config InlineBackend.figure_format='retina'"
   ]
  },
  {
   "cell_type": "markdown",
   "metadata": {},
   "source": [
    "Add paths to the Visium Experiment"
   ]
  },
  {
   "cell_type": "code",
   "execution_count": null,
   "metadata": {},
   "outputs": [],
   "source": [
    "visium_path = \"VisiumHD_data/LJI_001_visiumhd_SI\"\n",
    "experiment = \"SI_d8pi\""
   ]
  },
  {
   "cell_type": "markdown",
   "metadata": {},
   "source": [
    "read in the Visium data"
   ]
  },
  {
   "cell_type": "code",
   "execution_count": null,
   "metadata": {},
   "outputs": [],
   "source": [
    "visium_data = sc.read(\n",
    "    f\"visium_hd/segmentation/segmentation_outputs/{experiment}_single_cell_adata.h5ad\"\n",
    ")\n",
    "visium_data.var_names_make_unique()\n",
    "sc.pp.filter_genes(visium_data, min_cells=10)\n",
    "sc.pp.filter_cells(visium_data, min_genes=60)"
   ]
  },
  {
   "cell_type": "markdown",
   "metadata": {},
   "source": [
    "Read in the Xenium timecourse data"
   ]
  },
  {
   "cell_type": "code",
   "execution_count": null,
   "metadata": {},
   "outputs": [],
   "source": [
    "xenium_file = \"timecourse.h5ad\"\n",
    "xenium_data = sc.read(xenium_file)"
   ]
  },
  {
   "cell_type": "markdown",
   "metadata": {},
   "source": [
    "Subset to day 8 to and intersecting genes with visium to prepare for integration"
   ]
  },
  {
   "cell_type": "code",
   "execution_count": null,
   "metadata": {},
   "outputs": [],
   "source": [
    "xenium_data = xenium_data[xenium_data.obs[\"batch\"] == \"day8_SI_Ctrl\"]"
   ]
  },
  {
   "cell_type": "code",
   "execution_count": null,
   "metadata": {},
   "outputs": [],
   "source": [
    "intersection = []\n",
    "non_intersecting = []\n",
    "for k in visium_data.var_names:\n",
    "    if k in xenium_data.var_names:\n",
    "        intersection.append(k)\n",
    "    else:\n",
    "        non_intersecting.append(k)\n",
    "\n",
    "# only use genes in both datasets\n",
    "visium_data = visium_data[:, intersection].copy()\n",
    "xenium_data = xenium_data[:, intersection].copy()"
   ]
  },
  {
   "cell_type": "markdown",
   "metadata": {},
   "source": [
    "Prepare data for integration with gimVI"
   ]
  },
  {
   "cell_type": "code",
   "execution_count": null,
   "metadata": {},
   "outputs": [],
   "source": [
    "xenium_gene_names = xenium_data.var_names\n",
    "n_genes = xenium_data.n_vars\n",
    "n_train_genes = int(n_genes * train_size)\n",
    "\n",
    "# randomly select training_genes\n",
    "\n",
    "rand_train_genes = visium_data.var.index.values[: len(visium_data.var.index.values) - 2]\n",
    "rand_test_genes = visium_data.var.index.values[len(visium_data.var.index.values) - 2 :]\n",
    "\n",
    "\n",
    "visium_data_partial = visium_data.copy()\n",
    "\n",
    "visium_data_partial.obs[\"batch\"] = \"visium\"\n",
    "# remove cells with no counts\n",
    "sc.pp.filter_cells(visium_data_partial, min_counts=1)\n",
    "sc.pp.filter_cells(xenium_data, min_counts=1)\n",
    "\n",
    "# setup_anndata for visium and xeniumuencing data\n",
    "GIMVI.setup_anndata(visium_data_partial, labels_key=\"batch\")\n",
    "GIMVI.setup_anndata(xenium_data, labels_key=\"Subtype\")"
   ]
  },
  {
   "cell_type": "markdown",
   "metadata": {},
   "source": [
    "Run gimVI"
   ]
  },
  {
   "cell_type": "code",
   "execution_count": null,
   "metadata": {},
   "outputs": [],
   "source": [
    "xenium_data.X = xenium_data.layers[\"raw\"]"
   ]
  },
  {
   "cell_type": "code",
   "execution_count": null,
   "metadata": {},
   "outputs": [],
   "source": [
    "torch.set_float32_matmul_precision(\"medium\")"
   ]
  },
  {
   "cell_type": "code",
   "execution_count": null,
   "metadata": {},
   "outputs": [],
   "source": [
    "# create our model\n",
    "model = GIMVI(xenium_data, visium_data_partial, n_latent=10)\n",
    "\n",
    "# train for 200 epochs\n",
    "model.train(200)"
   ]
  },
  {
   "cell_type": "markdown",
   "metadata": {},
   "source": [
    "Process the joint latent space created by gimVI"
   ]
  },
  {
   "cell_type": "code",
   "execution_count": null,
   "metadata": {},
   "outputs": [],
   "source": [
    "# get the latent representations for the xeniumuencing and visium data\n",
    "latent_xenium, latent_visium = model.get_latent_representation()\n",
    "\n",
    "# concatenate to one latent representation\n",
    "latent_representation = np.concatenate([latent_xenium, latent_visium])\n",
    "latent_adata = anndata.AnnData(latent_representation)\n",
    "\n",
    "# labels which cells were from the xeniumuencing dataset and which were from the visium dataset\n",
    "latent_labels = ([\"xenium\"] * latent_xenium.shape[0]) + (\n",
    "    [\"visium\"] * latent_visium.shape[0]\n",
    ")\n",
    "latent_adata.obs[\"labels\"] = latent_labels\n",
    "\n",
    "# compute umap\n",
    "sc.pp.neighbors(latent_adata, use_rep=\"X\")\n",
    "sc.tl.umap(latent_adata)"
   ]
  },
  {
   "cell_type": "markdown",
   "metadata": {},
   "source": [
    "Store projections"
   ]
  },
  {
   "cell_type": "code",
   "execution_count": null,
   "metadata": {},
   "outputs": [],
   "source": [
    "# save umap representations to original xenium and visium_datasets\n",
    "xenium_data.obsm[\"X_umap_gimvi\"] = latent_adata.obsm[\"X_umap\"][\n",
    "    latent_adata.obs[\"labels\"] == \"xenium\"\n",
    "]\n",
    "visium_data_partial.obsm[\"X_umap_gimvi\"] = latent_adata.obsm[\"X_umap\"][\n",
    "    latent_adata.obs[\"labels\"] == \"visium\"\n",
    "]"
   ]
  },
  {
   "cell_type": "code",
   "execution_count": null,
   "metadata": {},
   "outputs": [],
   "source": [
    "visium_data_partial.obs[\"modality\"] = \"visium\"\n",
    "xenium_data.obs[\"modality\"] = \"xenium\""
   ]
  },
  {
   "cell_type": "code",
   "execution_count": null,
   "metadata": {},
   "outputs": [],
   "source": [
    "xenium_latent = model.get_latent_representation()[0]\n",
    "xenium_data.obsm[\"X_gimvi\"] = xenium_latent\n",
    "visium_data_partial.obsm[\"X_gimvi\"] = model.get_latent_representation()[1]"
   ]
  },
  {
   "cell_type": "code",
   "execution_count": null,
   "metadata": {},
   "outputs": [],
   "source": [
    "sc.pp.neighbors(latent_adata, use_rep=\"X\", n_neighbors=30)\n",
    "sc.tl.umap(latent_adata, min_dist=0.1)"
   ]
  },
  {
   "cell_type": "code",
   "execution_count": null,
   "metadata": {},
   "outputs": [],
   "source": [
    "# save umap representations to original xenium and visium_datasets\n",
    "xenium_data.obsm[\"X_umap_gimvi\"] = latent_adata.obsm[\"X_umap\"][: xenium_data.shape[0]]\n",
    "visium_data_partial.obsm[\"X_umap_gimvi\"] = latent_adata.obsm[\"X_umap\"][\n",
    "    xenium_data.shape[0] :\n",
    "]"
   ]
  },
  {
   "cell_type": "markdown",
   "metadata": {},
   "source": [
    "Impute cv axis and epithelial distance values into VisiumHD from Xenium"
   ]
  },
  {
   "cell_type": "code",
   "execution_count": null,
   "metadata": {},
   "outputs": [],
   "source": [
    "adata = latent_adata.copy()\n",
    "\n",
    "# Filter visium and xenium cells\n",
    "visium_cells = adata[adata.obs[\"labels\"] == \"visium\"].copy()\n",
    "xenium_cells = adata[adata.obs[\"labels\"] == \"xenium\"].copy()\n",
    "xenium_data_copy = xenium_data.copy()\n",
    "\n",
    "# Create KD tree for xenium cells\n",
    "xenium_gimvi = xenium_data.obsm[\"X_gimvi\"]\n",
    "kdtree = KDTree(xenium_gimvi)\n",
    "\n",
    "# Find nearest xenium cells for each xenium\n",
    "n_neighbors = 3  # Specify the number of nearest neighbors\n",
    "distances, indices = kdtree.query(visium_data_partial.obsm[\"X_gimvi\"], k=n_neighbors)\n",
    "\n",
    "# Average gene expression for visium cells\n",
    "averaged_expression = np.zeros((visium_cells.n_obs, 1))\n",
    "averaged_epithelial = np.zeros((visium_cells.n_obs, 1))\n",
    "\n",
    "for i in tqdm(range(visium_cells.n_obs)):\n",
    "    xenium_neighbors_indices = indices[i]\n",
    "    xenium_neighbors_expression = xenium_data_copy.obs[\"crypt_villi_axis\"].values[\n",
    "        xenium_neighbors_indices\n",
    "    ]\n",
    "    xenium_neighbors_epithelial = xenium_data_copy.obs[\"epithelial_distance\"].values[\n",
    "        xenium_neighbors_indices\n",
    "    ]\n",
    "\n",
    "    averaged_expression[i] = np.mean(xenium_neighbors_expression, axis=0)\n",
    "    averaged_epithelial[i] = np.mean(xenium_neighbors_epithelial, axis=0)\n",
    "\n",
    "visium_data_partial.obs[\"crypt_villi_axis\"] = averaged_expression.flatten()\n",
    "visium_data_partial.obs[\"epithelial_distance\"] = averaged_epithelial.flatten()"
   ]
  },
  {
   "cell_type": "markdown",
   "metadata": {},
   "source": [
    "Impute cell type into Visium"
   ]
  },
  {
   "cell_type": "code",
   "execution_count": null,
   "metadata": {},
   "outputs": [],
   "source": [
    "from collections import Counter\n",
    "\n",
    "adata = latent_adata.copy()\n",
    "\n",
    "# Filter visium and xenium cells\n",
    "visium_cells = adata[adata.obs[\"labels\"] == \"visium\"].copy()\n",
    "xenium_cells = adata[adata.obs[\"labels\"] == \"xenium\"].copy()\n",
    "xenium_data_copy = xenium_data.copy()\n",
    "\n",
    "# Create KD tree for xenium cells\n",
    "xenium_gimvi = xenium_data.obsm[\"X_gimvi\"]\n",
    "kdtree = KDTree(xenium_gimvi)\n",
    "\n",
    "# Find nearest xenium cells for each xenium\n",
    "n_neighbors = 3  # Specify the number of nearest neighbors\n",
    "distances, indices = kdtree.query(visium_data_partial.obsm[\"X_gimvi\"], k=n_neighbors)\n",
    "\n",
    "# Average gene expression for visium cells\n",
    "averaged_expression = []\n",
    "\n",
    "for i in tqdm(range(visium_cells.n_obs)):\n",
    "    xenium_neighbors_indices = indices[i]\n",
    "\n",
    "    xenium_neighbors_categories = xenium_data_copy.obs[\"Subtype\"].values[\n",
    "        xenium_neighbors_indices\n",
    "    ]\n",
    "\n",
    "    # Use Counter to count occurrences\n",
    "    counter = Counter(xenium_neighbors_categories)\n",
    "\n",
    "    # Find the most common element\n",
    "    most_common = counter.most_common(1)\n",
    "\n",
    "    averaged_expression.append(most_common[0][0])\n",
    "\n",
    "visium_data_partial.obs[\"Subtype\"] = averaged_expression"
   ]
  },
  {
   "cell_type": "markdown",
   "metadata": {},
   "source": [
    "Smoothing the crypt-villus axis"
   ]
  },
  {
   "cell_type": "code",
   "execution_count": null,
   "metadata": {},
   "outputs": [],
   "source": [
    "visium_spatial_coords = visium_data_partial.obsm[\"X_spatial\"]\n",
    "\n",
    "kdtree = KDTree(visium_spatial_coords)\n",
    "\n",
    "n_neighbors = 60  # Specify the number of nearest neighbors\n",
    "distances, indices = kdtree.query(visium_spatial_coords, k=n_neighbors)\n",
    "\n",
    "averaged_expression = np.zeros((len(visium_spatial_coords), 1))\n",
    "\n",
    "for i in tqdm(range(len(visium_spatial_coords))):\n",
    "    neighbors_indices = indices[i]\n",
    "    neighbors_expression = visium_data_partial.obs[\"crypt_villi_axis\"].values[\n",
    "        neighbors_indices\n",
    "    ]\n",
    "\n",
    "    averaged_expression[i] = np.percentile(neighbors_expression, 75, axis=0)\n",
    "\n",
    "n_neighbors_epithelial = 10  # Specify the number of nearest neighbors\n",
    "distances, indices = kdtree.query(visium_spatial_coords, k=n_neighbors)\n",
    "\n",
    "averaged_epithelial = np.zeros((len(visium_spatial_coords), 1))\n",
    "\n",
    "for i in tqdm(range(len(visium_spatial_coords))):\n",
    "    neighbors_indices = indices[i]\n",
    "    neighbors_expression = visium_data_partial.obs[\"epithelial_distance\"].values[\n",
    "        neighbors_indices\n",
    "    ]\n",
    "\n",
    "    averaged_epithelial[i] = np.percentile(neighbors_expression, 75, axis=0)"
   ]
  },
  {
   "cell_type": "code",
   "execution_count": null,
   "metadata": {},
   "outputs": [],
   "source": [
    "visium_data_partial.obs[\"crypt_villi_axis_smoothed\"] = averaged_expression.flatten()\n",
    "visium_data_partial.obs[\"epithelial_distance_smoothed\"] = averaged_epithelial.flatten()"
   ]
  },
  {
   "cell_type": "markdown",
   "metadata": {},
   "source": [
    "Adding smoothed predictions to the adata"
   ]
  },
  {
   "cell_type": "code",
   "execution_count": null,
   "metadata": {},
   "outputs": [],
   "source": [
    "visium_data_partial.obs[\"crypt_villi_axis_predicted\"] = visium_data_partial.obs[\n",
    "    \"crypt_villi_axis\"\n",
    "]\n",
    "visium_data_partial.obs[\"epithelial_distance_predicted\"] = visium_data_partial.obs[\n",
    "    \"epithelial_distance\"\n",
    "]"
   ]
  },
  {
   "cell_type": "code",
   "execution_count": null,
   "metadata": {},
   "outputs": [],
   "source": [
    "visium_data_partial.obs[\"crypt_villi_axis\"] = visium_data_partial.obs[\n",
    "    \"crypt_villi_axis_smoothed\"\n",
    "]\n",
    "visium_data_partial.obs[\"epithelial_distance\"] = visium_data_partial.obs[\n",
    "    \"epithelial_distance_smoothed\"\n",
    "]"
   ]
  },
  {
   "cell_type": "markdown",
   "metadata": {},
   "source": [
    "Redefining epithelial distance using distance to epithelial cells because more trustworthy than the epithelial imputation"
   ]
  },
  {
   "cell_type": "code",
   "execution_count": null,
   "metadata": {},
   "outputs": [],
   "source": [
    "visium_data_partial.obs[\"Class\"] = [\n",
    "    (\n",
    "        \"Epithelial\"\n",
    "        if i\n",
    "        in [\n",
    "            \"Enterocyte_3\",\n",
    "            \"Transit_Amplifying\",\n",
    "            \"Early_Enterocyte\",\n",
    "            \"Enterocyte_1\",\n",
    "            \"Enterocyte_2\",\n",
    "            \"ISC\",\n",
    "            \"Goblet\",\n",
    "            \"Enteroendocrine\",\n",
    "            \"Paneth\",\n",
    "            \"Tuft\",\n",
    "        ]\n",
    "        else \"Other\"\n",
    "    )\n",
    "    for i in visium_data_partial.obs[\"Subtype\"]\n",
    "]\n",
    "points_epi = visium_data_partial[\n",
    "    visium_data_partial.obs.Class.isin([\"Epithelial\"])\n",
    "].obsm[\"X_spatial\"]\n",
    "\n",
    "all_tree = KDTree(visium_data_partial.obsm[\"X_spatial\"])\n",
    "epi_tree = KDTree(points_epi)\n",
    "distances_all, neighbors_all = all_tree.query(\n",
    "    visium_data_partial.obsm[\"X_spatial\"], k=5\n",
    ")\n",
    "distances, neighbors = epi_tree.query(visium_data_partial.obsm[\"X_spatial\"], k=5)\n",
    "distance_medians = np.mean(distances, axis=1) / np.mean(distances_all, axis=1)\n",
    "visium_data_partial.obs[\"epithelial_distance\"] = distance_medians\n",
    "visium_data_partial.obs[\"epithelial_distance\"] = visium_data_partial.obs[\n",
    "    \"epithelial_distance\"\n",
    "] / np.percentile(visium_data_partial.obs[\"epithelial_distance\"], 99)"
   ]
  },
  {
   "cell_type": "code",
   "execution_count": null,
   "metadata": {},
   "outputs": [],
   "source": [
    "visium_data_partial.write(\n",
    "    f\"visium_hd/segmentation/segmentation_outputs/{experiment}_visium_adata.h5ad\"\n",
    ")"
   ]
  },
  {
   "cell_type": "markdown",
   "metadata": {},
   "source": [
    "Adding the imputed results to the original visium adata"
   ]
  },
  {
   "cell_type": "code",
   "execution_count": null,
   "metadata": {},
   "outputs": [],
   "source": [
    "visium_data_partial = sc.read(\n",
    "    f\"visium_hd/segmentation/segmentation_outputs/{experiment}_visium_adata.h5ad\"\n",
    ")\n",
    "\n",
    "visium_data = sc.read(\n",
    "    f\"visium_hd/segmentation/segmentation_outputs/{experiment}_single_cell_adata.h5ad\"\n",
    ")\n",
    "\n",
    "visium_data.var_names_make_unique()\n",
    "sc.pp.filter_genes(visium_data, min_cells=10)\n",
    "sc.pp.filter_cells(visium_data, min_genes=60)\n",
    "\n",
    "visium_data.obs = visium_data.obs.merge(\n",
    "    visium_data_partial.obs[[\"crypt_villi_axis\", \"epithelial_distance\", \"Subtype\"]],\n",
    "    how=\"left\",\n",
    "    left_index=True,\n",
    "    right_index=True,\n",
    ")\n",
    "\n",
    "visium_data.write(\n",
    "    f\"visium_hd/segmentation/segmentation_outputs/{experiment}_visium_adata.h5ad\"\n",
    ")"
   ]
  }
 ],
 "metadata": {
  "kernelspec": {
   "display_name": "scvi-env",
   "language": "python",
   "name": "python3"
  },
  "language_info": {
   "codemirror_mode": {
    "name": "ipython",
    "version": 3
   },
   "file_extension": ".py",
   "mimetype": "text/x-python",
   "name": "python",
   "nbconvert_exporter": "python",
   "pygments_lexer": "ipython3",
   "version": "3.9.18"
  }
 },
 "nbformat": 4,
 "nbformat_minor": 2
}
