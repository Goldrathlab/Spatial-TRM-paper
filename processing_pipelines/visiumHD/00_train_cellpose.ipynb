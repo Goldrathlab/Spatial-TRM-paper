{
 "cells": [
  {
   "cell_type": "markdown",
   "metadata": {},
   "source": [
    "Code for processing the VisiumHD data. "
   ]
  },
  {
   "cell_type": "code",
   "execution_count": null,
   "metadata": {},
   "outputs": [],
   "source": [
    "import imageio as io\n",
    "import pandas as pd\n",
    "import os\n",
    "import matplotlib.pyplot as plt\n",
    "import numpy as np\n",
    "import tifffile\n",
    "from tqdm.notebook import tqdm\n",
    "import pathlib\n",
    "from cellpose import models, core\n",
    "import json\n",
    "import cv2\n",
    "import glob"
   ]
  },
  {
   "cell_type": "code",
   "execution_count": null,
   "metadata": {},
   "outputs": [],
   "source": [
    "#experiment paths\n",
    "visium_path = 'VisiumHD_data/LJI_001_visiumhd_SI'\n",
    "\n",
    "experiment = 'SI_d8pi'\n",
    "\n",
    "output_path = 'visium_hd/segmentation'"
   ]
  },
  {
   "cell_type": "markdown",
   "metadata": {},
   "source": [
    "Read in the histology image"
   ]
  },
  {
   "cell_type": "code",
   "execution_count": null,
   "metadata": {},
   "outputs": [],
   "source": [
    "\n",
    "\n",
    "experiment_spatial_path = os.path.join(visium_path, 'count_outputs', f'visium_hd_count_{experiment}', 'outs', 'spatial')\n",
    "\n",
    "highres_image = glob.glob(os.path.join(experiment_spatial_path, '*used.tif'))[0]\n",
    "\n",
    "img_fpath = pathlib.Path(highres_image)\n",
    "img = io.imread(highres_image)"
   ]
  },
  {
   "cell_type": "markdown",
   "metadata": {},
   "source": [
    "Write out chunks of the histology image to train a cellpose model"
   ]
  },
  {
   "cell_type": "code",
   "execution_count": null,
   "metadata": {},
   "outputs": [],
   "source": [
    "chunk_size = (500, 500)\n",
    "\n",
    "for i in range(0, img.shape[1], int(chunk_size[1])):\n",
    "    for j in range(0, img.shape[0], int(chunk_size[0])):\n",
    "        # Define the coordinates for cropping\n",
    "        left = i\n",
    "        upper = j\n",
    "        right = i + chunk_size[1]\n",
    "        lower = j + chunk_size[0]\n",
    "\n",
    "        # Crop the img chunk\n",
    "        chunk = img[upper:lower, left:right]\n",
    "\n",
    "        cv2.imwrite(\n",
    "            os.path.join(output_path, \"histology_images\", f\"chunk_{i}_{j}.png\"),\n",
    "            chunk,\n",
    "        )\n",
    "        print(os.path.join(output_path, \"histology_images\", f\"chunk_{i}_{j}.png\"))"
   ]
  }
 ],
 "metadata": {
  "kernelspec": {
   "display_name": "merscope_01",
   "language": "python",
   "name": "python3"
  },
  "language_info": {
   "codemirror_mode": {
    "name": "ipython",
    "version": 3
   },
   "file_extension": ".py",
   "mimetype": "text/x-python",
   "name": "python",
   "nbconvert_exporter": "python",
   "pygments_lexer": "ipython3",
   "version": "3.8.18"
  }
 },
 "nbformat": 4,
 "nbformat_minor": 2
}
