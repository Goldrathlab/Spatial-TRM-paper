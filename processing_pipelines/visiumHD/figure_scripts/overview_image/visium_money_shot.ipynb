{
 "cells": [
  {
   "cell_type": "markdown",
   "metadata": {},
   "source": [
    "Creating summary snapshots of the dataset"
   ]
  },
  {
   "cell_type": "code",
   "execution_count": null,
   "metadata": {},
   "outputs": [],
   "source": [
    "import numpy as np\n",
    "import imageio\n",
    "import matplotlib.pyplot as plt\n",
    "import glob\n",
    "import scanpy as sc\n",
    "import json\n",
    "import os\n",
    "\n",
    "import geopandas as gpd\n",
    "import json\n",
    "from shapely.geometry import Polygon, Point\n",
    "import glob\n",
    "import pandas as pd\n",
    "import pathlib\n",
    "\n",
    "import cv2\n",
    "import matplotlib.pyplot as plt"
   ]
  },
  {
   "cell_type": "markdown",
   "metadata": {},
   "source": [
    "Add paths to experiment and segmentation"
   ]
  },
  {
   "cell_type": "code",
   "execution_count": null,
   "metadata": {},
   "outputs": [],
   "source": [
    "experiment = \"SI_d8pi\"\n",
    "\n",
    "segmentation_path = (\n",
    "    f\"visium_hd/segmentation/segmentation_outputs/{experiment}_segmentation.png\"\n",
    ")"
   ]
  },
  {
   "cell_type": "markdown",
   "metadata": {},
   "source": [
    "Read in the segmentation and high res image"
   ]
  },
  {
   "cell_type": "code",
   "execution_count": null,
   "metadata": {},
   "outputs": [],
   "source": [
    "import PIL\n",
    "\n",
    "PIL.Image.MAX_IMAGE_PIXELS = 2382717010\n",
    "segmentation = imageio.imread(segmentation_path)"
   ]
  },
  {
   "cell_type": "code",
   "execution_count": null,
   "metadata": {},
   "outputs": [],
   "source": [
    "visium_path = \"VisiumHD_data/LJI_001_visiumhd_SI\"\n",
    "experiment_spatial_path = os.path.join(\n",
    "    visium_path, \"count_outputs\", f\"visium_hd_count_{experiment}\", \"outs\", \"spatial\"\n",
    ")\n",
    "highres_image = glob.glob(os.path.join(experiment_spatial_path, \"*used.tif\"))[0]"
   ]
  },
  {
   "cell_type": "code",
   "execution_count": null,
   "metadata": {},
   "outputs": [],
   "source": [
    "def read_dapi_image(path: str) -> np.ndarray:\n",
    "    img_fpath = pathlib.Path(path)\n",
    "    img = imageio.imread(img_fpath)\n",
    "    print(img.shape)\n",
    "    return img\n",
    "\n",
    "\n",
    "maxed_visium = read_dapi_image(highres_image)"
   ]
  },
  {
   "cell_type": "markdown",
   "metadata": {},
   "source": [
    "Reading in all the capture spot positions and their expression"
   ]
  },
  {
   "cell_type": "code",
   "execution_count": null,
   "metadata": {},
   "outputs": [],
   "source": [
    "dir_base = f\"VisiumHD_data/LJI_001_visiumhd_SI/count_outputs/visium_hd_count_{experiment}/outs/binned_outputs/square_002um/\"\n",
    "# Load Visium HD data\n",
    "raw_h5_file = dir_base + \"filtered_feature_bc_matrix.h5\"\n",
    "adata = sc.read_10x_h5(raw_h5_file)\n",
    "\n",
    "# Load the Spatial Coordinates\n",
    "tissue_position_file = dir_base + \"spatial/tissue_positions.parquet\"\n",
    "df_tissue_positions = pd.read_parquet(tissue_position_file)\n",
    "\n",
    "# Set the index of the dataframe to the barcodes\n",
    "df_tissue_positions = df_tissue_positions.set_index(\"barcode\")\n",
    "\n",
    "# Create an index in the dataframe to check joins\n",
    "df_tissue_positions[\"index\"] = df_tissue_positions.index\n",
    "\n",
    "# Adding the tissue positions to the meta data\n",
    "adata.obs = pd.merge(adata.obs, df_tissue_positions, left_index=True, right_index=True)\n",
    "\n",
    "# Create a GeoDataFrame from the DataFrame of coordinates\n",
    "geometry = [\n",
    "    Point(xy)\n",
    "    for xy in zip(\n",
    "        df_tissue_positions[\"pxl_col_in_fullres\"],\n",
    "        df_tissue_positions[\"pxl_row_in_fullres\"],\n",
    "    )\n",
    "]\n",
    "gdf_coordinates = gpd.GeoDataFrame(df_tissue_positions, geometry=geometry)"
   ]
  },
  {
   "cell_type": "markdown",
   "metadata": {},
   "source": [
    "Finding the edges in the segmentation mask. Used sin and cos just in case one of them is 0 for a paritcular point"
   ]
  },
  {
   "cell_type": "code",
   "execution_count": null,
   "metadata": {},
   "outputs": [],
   "source": [
    "if segmentation.dtype != np.uint8:\n",
    "    segmentation_uint8_sin = (\n",
    "        255\n",
    "        * np.sin(segmentation)\n",
    "        * (segmentation - np.min(segmentation))\n",
    "        / (np.max(segmentation) - np.min(segmentation))\n",
    "    ).astype(np.uint8)\n",
    "    segmentation_uint8_cos = (\n",
    "        255\n",
    "        * np.cos(segmentation)\n",
    "        * (segmentation - np.min(segmentation))\n",
    "        / (np.max(segmentation) - np.min(segmentation))\n",
    "    ).astype(np.uint8)\n",
    "edges_sin = cv2.Canny(segmentation_uint8_sin, threshold1=0, threshold2=0)\n",
    "\n",
    "edges_sin[edges_sin > 0] = 255\n",
    "\n",
    "edges_cos = cv2.Canny(segmentation_uint8_cos, threshold1=0, threshold2=0)\n",
    "edges_cos[edges_cos > 0] = 255\n",
    "\n",
    "edges = np.clip(edges_sin + edges_cos, 0, 255)"
   ]
  },
  {
   "cell_type": "markdown",
   "metadata": {},
   "source": [
    "Midrange moneyshot"
   ]
  },
  {
   "cell_type": "code",
   "execution_count": null,
   "metadata": {},
   "outputs": [],
   "source": [
    "overlay = np.zeros_like(maxed_visium)\n",
    "\n",
    "pink_color = (255, 255, 0)\n",
    "\n",
    "# Set the pink color where the edges are (where edges == 255)\n",
    "overlay[edges >= 254] = pink_color\n",
    "\n",
    "# Combine the original image with the pink overlay using alpha blending\n",
    "alpha = 1  # Transparency factor\n",
    "result = cv2.addWeighted(maxed_visium, alpha - 0.4, overlay, alpha, 2)"
   ]
  },
  {
   "cell_type": "code",
   "execution_count": null,
   "metadata": {},
   "outputs": [],
   "source": [
    "from matplotlib.patches import Rectangle\n",
    "\n",
    "window_low_x = 9000\n",
    "window_low_y = 14700\n",
    "window_high_x = 12000\n",
    "window_high_y = 17000\n",
    "\n",
    "min_y = 500\n",
    "max_y = 800\n",
    "min_x = 500\n",
    "max_x = 800\n",
    "\n",
    "fig, ax0 = plt.subplots(1, 1, figsize=(10, 10))\n",
    "rectangle = Rectangle(\n",
    "    (min_y, min_x),\n",
    "    max_y - min_y,\n",
    "    max_x - min_x,\n",
    "    linewidth=4,\n",
    "    edgecolor=\"black\",\n",
    "    facecolor=\"none\",\n",
    ")\n",
    "ax0.imshow(result[window_low_x:window_high_x, window_low_y:window_high_y])\n",
    "ax0.add_patch(rectangle)\n",
    "fig.savefig(\"mid_zoom.pdf\")\n",
    "plt.show()"
   ]
  },
  {
   "cell_type": "markdown",
   "metadata": {},
   "source": [
    "Coloring cells by gene expression"
   ]
  },
  {
   "cell_type": "code",
   "execution_count": null,
   "metadata": {},
   "outputs": [],
   "source": [
    "window_low_x = 9000\n",
    "window_low_y = 14700\n",
    "window_high_x = 12000\n",
    "window_high_y = 17000"
   ]
  },
  {
   "cell_type": "code",
   "execution_count": null,
   "metadata": {},
   "outputs": [],
   "source": [
    "temp_seg = segmentation.copy()[window_low_x:window_high_x, window_low_y:window_high_y]"
   ]
  },
  {
   "cell_type": "code",
   "execution_count": null,
   "metadata": {},
   "outputs": [],
   "source": [
    "corrected_x = adata.obs[\"pxl_row_in_fullres\"] - window_low_x\n",
    "corrected_y = adata.obs[\"pxl_col_in_fullres\"] - window_low_y\n",
    "\n",
    "ids_corrected = np.where(\n",
    "    (corrected_x > 0)\n",
    "    & (corrected_x < (window_high_x - window_low_x))\n",
    "    & (corrected_y > 0)\n",
    "    & (corrected_y < (window_high_y - window_low_y))\n",
    ")[0]"
   ]
  },
  {
   "cell_type": "code",
   "execution_count": null,
   "metadata": {},
   "outputs": [],
   "source": [
    "gene = \"Reg3b\""
   ]
  },
  {
   "cell_type": "code",
   "execution_count": null,
   "metadata": {},
   "outputs": [],
   "source": [
    "gene_counts = adata.X[:, adata.var.index == gene].toarray().flatten()[ids_corrected]"
   ]
  },
  {
   "cell_type": "code",
   "execution_count": null,
   "metadata": {},
   "outputs": [],
   "source": [
    "corrected_row = adata.obs[\"pxl_col_in_fullres\"].values[ids_corrected] - window_low_y\n",
    "corrected_col = adata.obs[\"pxl_row_in_fullres\"].values[ids_corrected] - window_low_x\n",
    "\n",
    "sub_segmentation = temp_seg.copy()\n",
    "\n",
    "dic = {}\n",
    "for i in range(len(ids_corrected)):\n",
    "    value = sub_segmentation[int(corrected_col[i]), int(corrected_row[i])]\n",
    "    if value not in dic:\n",
    "        dic[value] = 0\n",
    "    dic[value] += gene_counts[i]\n",
    "del dic[0]\n",
    "\n",
    "dic_values = np.array(list(dic.values()))\n",
    "\n",
    "for k in list(dic.keys()):\n",
    "    sub_segmentation[sub_segmentation == k] = int(dic.get(k) + 1)"
   ]
  },
  {
   "cell_type": "code",
   "execution_count": null,
   "metadata": {},
   "outputs": [],
   "source": [
    "import numpy as np\n",
    "import matplotlib.pyplot as plt\n",
    "from matplotlib.colors import Normalize, ListedColormap\n",
    "from matplotlib.cm import viridis, magma, Blues, plasma\n",
    "\n",
    "# Assuming sub_segmentation is your 2D grayscale image array\n",
    "# Set vmax to 3 as specified, and normalize pixel values\n",
    "vmax = 3\n",
    "norm = Normalize(vmin=0.1, vmax=vmax)\n",
    "\n",
    "# Create a mask for non-zero pixels\n",
    "mask = sub_segmentation != 0\n",
    "\n",
    "# Apply the colormap to the entire array at once\n",
    "colored_image = np.zeros((*sub_segmentation.shape, 4))\n",
    "colored_image[mask] = Blues(norm(sub_segmentation[mask]))\n",
    "\n",
    "# Set background color to white for zero pixels\n",
    "colored_image[~mask] = [1, 1, 1, 1]  # RGBA for white\n",
    "\n",
    "# Create a custom colormap that includes white for zero values\n",
    "colors = np.vstack(([1, 1, 1, 1], Blues(np.linspace(0, 1, 255))))\n",
    "custom_cmap = ListedColormap(colors)\n",
    "\n",
    "# Create the plot\n",
    "fig, ax = plt.subplots(figsize=(10, 8), dpi=300)\n",
    "im = ax.imshow(sub_segmentation, cmap=custom_cmap, norm=norm)\n",
    "ax.axis(\"off\")  # Hide axes for better visualization\n",
    "\n",
    "# Add colorbar\n",
    "cbar = plt.colorbar(im, ax=ax)\n",
    "cbar.set_label(f\"{gene} expression\")\n",
    "\n",
    "plt.title(f\"{gene} expression per cell\")\n",
    "plt.tight_layout()\n",
    "plt.savefig(\"mid_zoom_reg3b.pdf\")\n",
    "plt.show()\n",
    "plt.close()"
   ]
  },
  {
   "cell_type": "markdown",
   "metadata": {},
   "source": [
    "Very zoom in"
   ]
  },
  {
   "cell_type": "code",
   "execution_count": null,
   "metadata": {},
   "outputs": [],
   "source": [
    "overlay = np.zeros_like(maxed_visium)\n",
    "\n",
    "pink_color = (255, 0, 0)\n",
    "\n",
    "# Set the pink color where the edges are (where edges == 255)\n",
    "overlay[edges >= 254] = pink_color\n",
    "\n",
    "# Combine the original image with the pink overlay using alpha blending\n",
    "alpha = 1  # Transparency factor\n",
    "result = cv2.addWeighted(maxed_visium, alpha - 0.4, overlay, alpha, 2)"
   ]
  },
  {
   "cell_type": "code",
   "execution_count": null,
   "metadata": {},
   "outputs": [],
   "source": [
    "gene = None"
   ]
  },
  {
   "cell_type": "code",
   "execution_count": null,
   "metadata": {},
   "outputs": [],
   "source": [
    "import matplotlib.patches as patches\n",
    "from matplotlib import cm\n",
    "from matplotlib.colors import Normalize\n",
    "from matplotlib.cm import ScalarMappable\n",
    "\n",
    "fig, ax = plt.subplots()\n",
    "indices = np.where(\n",
    "    (adata.obs[\"pxl_col_in_fullres\"].values > (window_low_y + min_y))\n",
    "    & (adata.obs[\"pxl_col_in_fullres\"].values < (window_low_y + max_y))\n",
    "    & (adata.obs[\"pxl_row_in_fullres\"].values > (window_low_x + min_x))\n",
    "    & (adata.obs[\"pxl_row_in_fullres\"].values < (max_x + window_low_x))\n",
    ")[0]\n",
    "ax.imshow(\n",
    "    result[\n",
    "        window_low_x + min_x : window_low_x + max_x,\n",
    "        window_low_y + min_y : window_low_y + max_y,\n",
    "    ]\n",
    ")\n",
    "col_scatter = np.array(list(adata.obs[\"pxl_col_in_fullres\"].values[indices])) - (\n",
    "    window_low_y + min_y\n",
    ")\n",
    "row_scatter = np.array(list(adata.obs[\"pxl_row_in_fullres\"].values[indices])) - (\n",
    "    window_low_x + min_x\n",
    ")\n",
    "\n",
    "square_side = 16  # Desired side length of the squares\n",
    "transparency = 0.1  # Transparency level for the fill (0 = transparent, 1 = opaque)\n",
    "\n",
    "# Calculate the area of the squares to use in the s parameter\n",
    "area = [square_side**2 for i in range(len(indices))]\n",
    "\n",
    "# Get the viridis colormap\n",
    "viridis = cm.get_cmap(\"viridis\")\n",
    "\n",
    "\n",
    "# Plotting squares with transparent fill and opaque edges\n",
    "if gene == None:\n",
    "    colors = np.log(np.sum(adata.X[indices, :].toarray(), axis=1))\n",
    "    # Normalize the colors to the range [0, 1]\n",
    "    norm_colors = colors / np.max(colors)\n",
    "\n",
    "    # Apply the colormap to the normalized values\n",
    "    edge_colors = viridis(norm_colors)\n",
    "\n",
    "    # greater_zero = np.where(np.array(colors) == 'r')[0]\n",
    "    transparency = 0.3\n",
    "\n",
    "    for x, y, s, c in zip(col_scatter, row_scatter, area, edge_colors):\n",
    "        size = (\n",
    "            s**0.5\n",
    "        ) / 2  # Convert area to half the length of a side for the square marker\n",
    "        rect = patches.Rectangle(\n",
    "            (x - size, y - size),\n",
    "            2 * size,\n",
    "            2 * size,\n",
    "            linewidth=0.8,\n",
    "            edgecolor=c,\n",
    "            facecolor=(0, 0, 0, 0),\n",
    "        )\n",
    "        ax.add_patch(rect)\n",
    "    # Create a ScalarMappable for the colorbar\n",
    "    norm = Normalize(vmin=np.min(colors), vmax=np.max(colors))\n",
    "    sm = ScalarMappable(norm=norm, cmap=viridis)\n",
    "    sm.set_array(\n",
    "        []\n",
    "    )  # You can use sm.set_array(norm_colors) if you want a specific range\n",
    "\n",
    "    # Add the colorbar\n",
    "    plt.colorbar(sm, ax=ax)\n",
    "else:\n",
    "    colors = np.log(np.array(adata.X[indices, adata.var.index == gene]).flatten())\n",
    "    # Normalize the colors to the range [0, 1]\n",
    "    norm_colors = colors / np.max(colors)\n",
    "\n",
    "    # Apply the colormap to the normalized values\n",
    "    edge_colors = viridis(norm_colors)\n",
    "\n",
    "    # greater_zero = np.where(np.array(colors) == 'r')[0]\n",
    "    transparency = 0.1\n",
    "\n",
    "    for x, y, s, c in zip(col_scatter, row_scatter, area, edge_colors):\n",
    "        size = (\n",
    "            s**0.5\n",
    "        ) / 2  # Convert area to half the length of a side for the square marker\n",
    "        rect = patches.Rectangle(\n",
    "            (x - size, y - size),\n",
    "            2 * size,\n",
    "            2 * size,\n",
    "            linewidth=0.3,\n",
    "            edgecolor=c,\n",
    "            facecolor=(0, 0, 0, 0),\n",
    "        )\n",
    "        ax.add_patch(rect)\n",
    "    # Create a ScalarMappable for the colorbar\n",
    "    norm = Normalize(vmin=np.min(colors), vmax=np.max(colors))\n",
    "    sm = ScalarMappable(norm=norm, cmap=viridis)\n",
    "    sm.set_array(\n",
    "        []\n",
    "    )  # You can use sm.set_array(norm_colors) if you want a specific range\n",
    "\n",
    "    # Add the colorbar\n",
    "    plt.colorbar(sm, ax=ax)\n",
    "# plt.scatter(col_scatter, row_scatter, s=area, alpha=1, c='r', marker='s', linewidth=0, )\n",
    "plt.title(\"Transcript abundances per capture spot\")\n",
    "plt.savefig(\"close_zoom.pdf\")\n",
    "plt.show()"
   ]
  },
  {
   "cell_type": "markdown",
   "metadata": {},
   "source": [
    "Far shot"
   ]
  },
  {
   "cell_type": "code",
   "execution_count": null,
   "metadata": {},
   "outputs": [],
   "source": [
    "from matplotlib.patches import Rectangle\n",
    "\n",
    "window_low_x = 9000\n",
    "window_low_y = 14700\n",
    "window_high_x = 12000\n",
    "window_high_y = 17000\n",
    "\n",
    "fig, ax0 = plt.subplots(1, 1, figsize=(10, 10))\n",
    "rectangle = Rectangle(\n",
    "    (window_low_y, window_low_x),\n",
    "    window_high_y - window_low_y,\n",
    "    window_high_x - window_low_x,\n",
    "    linewidth=2,\n",
    "    edgecolor=\"black\",\n",
    "    facecolor=\"none\",\n",
    ")\n",
    "ax0.imshow(result)\n",
    "ax0.add_patch(rectangle)\n",
    "fig.savefig(\"full_room.pdf\")\n",
    "plt.show()"
   ]
  }
 ],
 "metadata": {
  "kernelspec": {
   "display_name": "scvi-env_gpu",
   "language": "python",
   "name": "python3"
  },
  "language_info": {
   "codemirror_mode": {
    "name": "ipython",
    "version": 3
   },
   "file_extension": ".py",
   "mimetype": "text/x-python",
   "name": "python",
   "nbconvert_exporter": "python",
   "pygments_lexer": "ipython3",
   "version": "3.8.18"
  }
 },
 "nbformat": 4,
 "nbformat_minor": 2
}
