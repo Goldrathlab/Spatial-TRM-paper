{
 "cells": [
  {
   "cell_type": "markdown",
   "metadata": {},
   "source": [
    "Creating the cytokine expression along the crypt-villus axis heatmap"
   ]
  },
  {
   "cell_type": "code",
   "execution_count": null,
   "metadata": {},
   "outputs": [],
   "source": [
    "import os\n",
    "# important for gpd.sjoin\n",
    "os.environ['USE_PYGEOS'] = '0'\n",
    "\n",
    "import scanpy as sc\n",
    "import scvelo as scv\n",
    "import geopandas as gpd\n",
    "\n",
    "import pandas as pd\n",
    "import matplotlib.pyplot as plt\n",
    "from matplotlib.gridspec import GridSpec\n",
    "from matplotlib.gridspec import GridSpecFromSubplotSpec\n",
    "from mpl_toolkits.axes_grid1 import AxesGrid\n",
    "from matplotlib.patches import Rectangle\n",
    "#import mpl_scatter_density # adds projection='scatter_density'\n",
    "import numpy as np\n",
    "import warnings\n",
    "import seaborn as sns\n",
    "import igraph\n",
    "import random\n",
    "from shapely.geometry import Polygon, Point\n",
    "from scipy.spatial import KDTree\n",
    "from tqdm.notebook import tqdm\n",
    "from PIL import Image, ImageDraw\n",
    "warnings.filterwarnings('ignore')"
   ]
  },
  {
   "cell_type": "code",
   "execution_count": 2,
   "metadata": {},
   "outputs": [],
   "source": [
    "experiment = 'SI_d8pi'"
   ]
  },
  {
   "cell_type": "markdown",
   "metadata": {},
   "source": [
    "We want to use all capture spots, even the ones that don't fall within a cell nucleus. So we need to load in all the capture spots."
   ]
  },
  {
   "cell_type": "code",
   "execution_count": 3,
   "metadata": {},
   "outputs": [],
   "source": [
    "dir_base = f'VisiumHD_data/LJI_001_visiumhd_SI/count_outputs/visium_hd_count_{experiment}/outs/binned_outputs/square_002um/'\n",
    "# Load Visium HD data\n",
    "raw_h5_file = dir_base+'filtered_feature_bc_matrix.h5'\n",
    "adata = sc.read_10x_h5(raw_h5_file)\n",
    "\n",
    "# Load the Spatial Coordinates\n",
    "tissue_position_file = dir_base+'spatial/tissue_positions.parquet'\n",
    "df_tissue_positions=pd.read_parquet(tissue_position_file)\n",
    "\n",
    "#Set the index of the dataframe to the barcodes\n",
    "df_tissue_positions = df_tissue_positions.set_index('barcode')\n",
    "\n",
    "# Create an index in the dataframe to check joins\n",
    "df_tissue_positions['index']=df_tissue_positions.index\n",
    "\n",
    "# Adding the tissue positions to the meta data\n",
    "adata.obs =  pd.merge(adata.obs, df_tissue_positions, left_index=True, right_index=True)\n",
    "\n",
    "# Create a GeoDataFrame from the DataFrame of coordinates\n",
    "geometry = [Point(xy) for xy in zip(df_tissue_positions['pxl_col_in_fullres'], df_tissue_positions['pxl_row_in_fullres'])]\n",
    "gdf_coordinates = gpd.GeoDataFrame(df_tissue_positions, geometry=geometry)\n",
    "\n"
   ]
  },
  {
   "cell_type": "markdown",
   "metadata": {},
   "source": [
    "##### Making the Visium figures - gene expression trends and spatial axes"
   ]
  },
  {
   "cell_type": "code",
   "execution_count": 4,
   "metadata": {},
   "outputs": [],
   "source": [
    "import matplotlib.colors as clr\n",
    "zissou = [\"#3A9AB2\", \"#6FB2C1\", \"#91BAB6\", \"#A5C2A3\", \"#BDC881\", \"#DCCB4E\", \"#E3B710\", \"#E79805\", \"#EC7A05\", \"#EF5703\", \"#F11B00\"]\n",
    "\n",
    "colormap = clr.LinearSegmentedColormap.from_list(\"Zissou\", zissou)\n",
    "colormap_r = clr.LinearSegmentedColormap.from_list(\"Zissou\", zissou[::-1])"
   ]
  },
  {
   "cell_type": "code",
   "execution_count": 5,
   "metadata": {},
   "outputs": [],
   "source": [
    "#load in the visium adata\n",
    "experiments = ['SI_d8pi']\n",
    "adatas = []\n",
    "ct = 0\n",
    "for experiment in experiments:\n",
    "    adata_ = sc.read_h5ad(f'/mnt/sata1/Analysis_Alex/visium_hd/segmentation/segmentation_outputs/{experiment}_visium_adata.h5ad')\n",
    "    adata_.obs['batch'] = experiment\n",
    "    adata_.obsm['X_spatial'] = adata_.obsm['X_spatial'] + int(300000 * ct) \n",
    "    adatas.append(adata_)\n",
    "    ct += 1\n",
    "adata_ = sc.concat(adatas)"
   ]
  },
  {
   "cell_type": "code",
   "execution_count": 6,
   "metadata": {},
   "outputs": [],
   "source": [
    "# drop cells where crypt_villus_axis or epithelial distance is none\n",
    "adata_ = adata_[~adata_.obs['crypt_villi_axis'].isna()]\n",
    "adata_ = adata_[~adata_.obs['epithelial_distance'].isna()]"
   ]
  },
  {
   "cell_type": "markdown",
   "metadata": {},
   "source": [
    "Taking the adata with all capture spota, not just the ones that fall within a nucleus:"
   ]
  },
  {
   "cell_type": "code",
   "execution_count": 7,
   "metadata": {},
   "outputs": [],
   "source": [
    "adata.obs['transcripts_per_cell'] = adata.X.sum(1)"
   ]
  },
  {
   "cell_type": "code",
   "execution_count": 8,
   "metadata": {},
   "outputs": [],
   "source": [
    "sc.pp.filter_genes(adata, min_cells=10)\n",
    "\n",
    "sc.pp.normalize_per_cell(adata)\n",
    "sc.pp.log1p(adata)"
   ]
  },
  {
   "cell_type": "markdown",
   "metadata": {},
   "source": [
    "Creating a KDtree to find the nearest neighbor to each capture spot"
   ]
  },
  {
   "cell_type": "code",
   "execution_count": 9,
   "metadata": {},
   "outputs": [],
   "source": [
    "tree = KDTree(adata_.obsm['X_spatial'])"
   ]
  },
  {
   "cell_type": "code",
   "execution_count": 10,
   "metadata": {},
   "outputs": [],
   "source": [
    "cv = []\n",
    "epi = []\n",
    "cv_values = adata_.obs['crypt_villi_axis'].values\n",
    "epi_values = adata_.obs['epithelial_distance'].values\n",
    "\n",
    "ids = tree.query(adata.obs[['pxl_row_in_fullres', 'pxl_col_in_fullres']].values, k = 5)[1]\n",
    "    \n"
   ]
  },
  {
   "cell_type": "markdown",
   "metadata": {},
   "source": [
    "Get the cv axis and epithelial distance values for the mean of the neighbors of each capture spot"
   ]
  },
  {
   "cell_type": "code",
   "execution_count": 11,
   "metadata": {},
   "outputs": [],
   "source": [
    "for k in range(len(ids)):\n",
    "    cv_axis = np.mean(cv_values[ids[k]])\n",
    "    epithelial = np.mean(epi_values[ids[k]])\n",
    "    cv.append(cv_axis)\n",
    "    epi.append(epithelial)"
   ]
  },
  {
   "cell_type": "code",
   "execution_count": 12,
   "metadata": {},
   "outputs": [],
   "source": [
    "adata.obs['crypt_villi_axis'] = cv\n",
    "adata.obs['epithelial_distance'] = epi"
   ]
  },
  {
   "cell_type": "markdown",
   "metadata": {},
   "source": [
    "Load in list of cytokines"
   ]
  },
  {
   "cell_type": "code",
   "execution_count": null,
   "metadata": {},
   "outputs": [],
   "source": [
    "# list from https://www.genome.jp/pathway/mmu04060\n",
    "df_cytokines = pd.read_csv(\"kegg_cytokines.csv\")\n",
    "df_cytokines = df_cytokines[df_cytokines['type'] == 'ligand']\n",
    "df_cytokines"
   ]
  },
  {
   "cell_type": "code",
   "execution_count": 14,
   "metadata": {},
   "outputs": [],
   "source": [
    "cytokine_genes = df_cytokines['gene'][df_cytokines['gene'].isin(adata.var_names)].to_list()"
   ]
  },
  {
   "cell_type": "markdown",
   "metadata": {},
   "source": [
    "Define functions for creating the scVelo heatmap"
   ]
  },
  {
   "cell_type": "code",
   "execution_count": 15,
   "metadata": {},
   "outputs": [],
   "source": [
    "from typing import List\n",
    "\n",
    "def filter_adata_expressed_in_n_cells(adata, percent=0.05):\n",
    "    bin_Layer = adata.X > 0\n",
    "    gene_expressed_in_percent_cells = np.mean(bin_Layer, axis=0)\n",
    "    keep = gene_expressed_in_percent_cells > percent\n",
    "    adata = adata[:,keep]\n",
    "    return(adata)\n",
    "\n",
    "def scvelo_heatmap(\n",
    "    adata: sc.AnnData,\n",
    "    batches: List[str],\n",
    "    sortby: str,\n",
    "    highlight: List[str],\n",
    "    n_bins: int = 5,\n",
    "):\n",
    "    \"\"\"\n",
    "    Create a heatmap to visualize gene expression trends in single-cell RNA-seq data, \n",
    "    with options for subsetting, sorting, and highlighting genes.\n",
    "\n",
    "    Parameters:\n",
    "    - adata (sc.AnnData): Annotated data object containing single-cell RNA-seq data.\n",
    "    - batches (List[str]): List of batch identifiers to subset the data.\n",
    "    - sortby (str): Variable to sort the heatmap by (e.g., \"crypt_villi_axis\").\n",
    "    - highlight (List[str]): List of labels to highlight on the heatmap.\n",
    "    - n_bins (int, optional): Integer specifying the number of bins to use for convolution (default: 5).\n",
    "\n",
    "    Returns:\n",
    "    - s (seaborn.matrix.ClusterGrid): Matplotlib figure object representing the heatmap.\n",
    "\n",
    "    This function subsets the input data based on specified batches, and creates a heatmap\n",
    "    to visualize gene expression trends along a specified variable. The function also allows\n",
    "    highlighting specific labels on the y-axis.\n",
    "\n",
    "    Example:\n",
    "    ```\n",
    "    scvelo_heatmap(adata, batches=list(batches.keys())[0:2],\n",
    "               sortby=\"crypt_villi_axis\",\n",
    "               highlight=highlight,\n",
    "               n_bins=20)\n",
    "    ```\n",
    "    \"\"\"\n",
    "    print(\"Creating Heatmap for batches\", \" + \".join(batches))\n",
    "    # Subset batches\n",
    "    adata = adata[adata.obs[\"batch\"].isin(batches)]\n",
    "    # Filter to include only genes that are expressed in 5% of the cells\n",
    "    # adata = filter_adata_expressed_in_n_cells(adata)\n",
    "    adata = adata.copy()\n",
    "\n",
    "    n_convolve = len(adata) // n_bins\n",
    "    print(f\"Setting `n_convolve` to {n_convolve} ({n_bins} bins, {len(adata)} cells) \")\n",
    "    # Plot\n",
    "\n",
    "    s = scv.pl.heatmap(\n",
    "        adata,\n",
    "        var_names=adata.var_names,\n",
    "        sortby=\"crypt_villi_axis\",\n",
    "        n_convolve=n_convolve,\n",
    "        show=False,\n",
    "        yticklabels=True,\n",
    "        rasterized=True,\n",
    "        color_map=colormap,\n",
    "        figsize = (8, 16)\n",
    "    )\n",
    "    ax = s.ax_heatmap\n",
    "\n",
    "    ids = [i for i, e in enumerate(adata.var_names) if e in in_xenium]\n",
    "    ax.tick_params(axis='both', labelsize=10)  # Adjust font size of tick labels\n",
    "\n",
    "    # Loop through the x-axis tick labels and show/hide based on the 'highlight' list\n",
    "    for i, label in enumerate(ax.get_yticklabels()):\n",
    "        if label.get_text() not in highlight:\n",
    "            label.set_visible(False)\n",
    "            ax.get_yticklines()[2 * i + 1].set_visible(False)\n",
    "        ax.get_yticklines()[2 * i].set_visible(False)\n",
    "        if label.get_text() in in_xenium:\n",
    "            label.set_color('red')  # Set color to red\n",
    "\n",
    "    ax.set_xlabel(\"\")\n",
    "    ax.set_title(f\"Visium Gene Expression Trends Along {sortby}\")\n",
    "    ax.grid(False)\n",
    "    s.savefig('figures/Visium_Cytokines.pdf')\n",
    "    return s"
   ]
  },
  {
   "cell_type": "markdown",
   "metadata": {},
   "source": [
    "Get the list of genes imaged in the Xenium data"
   ]
  },
  {
   "cell_type": "code",
   "execution_count": 16,
   "metadata": {},
   "outputs": [],
   "source": [
    "in_xenium  = sc.read('timecourse.h5ad').var.index.values"
   ]
  },
  {
   "cell_type": "markdown",
   "metadata": {},
   "source": [
    "Create an image of the spatial data to mark what section we should calculate gene trends for. This is important because some sections have very low transcript detection efficiency, which can lead to misleading trends."
   ]
  },
  {
   "cell_type": "code",
   "execution_count": 17,
   "metadata": {},
   "outputs": [],
   "source": [
    "adata.obsm['X_spatial'] = adata.obs[['pxl_col_in_fullres', 'pxl_row_in_fullres']].values"
   ]
  },
  {
   "cell_type": "code",
   "execution_count": 19,
   "metadata": {},
   "outputs": [],
   "source": [
    "\n",
    "all_spatial = adata.obsm['X_spatial']\n",
    "#red hex code\n",
    "image_colors = ['#FF0000' for v in adata.obs.index]\n",
    "\n",
    "#D6, D7, D30 #downsize = 20\n",
    "downsize = 50\n",
    "# Example 2D point array (replace this with your own data)\n",
    "points = all_spatial/downsize\n",
    "\n",
    "# Define the size of the image (adjust as needed)\n",
    "image_width = 2000\n",
    "image_height = 2000\n",
    "\n",
    "# Create a white canvas as the base image\n",
    "base_image = Image.new('RGB', (image_width, image_height), (255, 255, 255))\n",
    "\n",
    "# Draw the points on the image\n",
    "draw = ImageDraw.Draw(base_image)\n",
    "point_size = 1  # Size of the points\n",
    "ct = 0\n",
    "for point in points:\n",
    "    draw.ellipse((point[0] - point_size, point[1] - point_size, point[0] + point_size, point[1] + point_size),\n",
    "                    fill=image_colors[ct])\n",
    "    ct += 1\n",
    "\n",
    "file_path = 'Subtype_image.png'\n",
    "base_image.save(file_path)"
   ]
  },
  {
   "cell_type": "markdown",
   "metadata": {},
   "source": [
    "In the labelme label editor, create a polygon around the section of the tissue to remove. Save the anotation as a json file."
   ]
  },
  {
   "cell_type": "code",
   "execution_count": 20,
   "metadata": {},
   "outputs": [],
   "source": [
    "from tqdm.notebook import tqdm\n",
    "from shapely.geometry import Point, Polygon\n",
    "import json\n",
    "\n",
    "remove_ids = []\n",
    "current_adata = adata.copy()\n",
    "\n",
    "json_file_path =os.path.join('Subtype_image.json')\n",
    "all_spatial = current_adata.obsm['X_spatial']\n",
    "\n",
    "# Load the JSON data from the file\n",
    "with open(json_file_path, 'r') as json_file:\n",
    "    data = json.load(json_file)\n",
    "\n",
    "# Extract relevant information from the JSON data\n",
    "image_height = data['imageHeight']\n",
    "image_width = data['imageWidth']\n",
    "image_path = data['imagePath']\n",
    "shapes = data['shapes']\n",
    "\n",
    "# Process the shapes (annotations)\n",
    "removals = []\n",
    "points = [] \n",
    "top_points = [] \n",
    "for shape in shapes:\n",
    "    label = shape['label']\n",
    "    removals.append(shape['points'])\n",
    "\n",
    "total_indices = []\n",
    "for ir in removals:\n",
    "    ir_ = np.array(ir)*downsize\n",
    "    poly = Polygon(ir_)\n",
    "    indices = []\n",
    "    for i in range(len(all_spatial)):\n",
    "        pt = Point(all_spatial[i])\n",
    "        if pt.within(poly):\n",
    "            indices.append(i)\n",
    "    total_indices.append(indices)\n",
    "\n",
    "total_indices=list(set([element for sublist in total_indices for element in sublist]))\n",
    "index_set = list(set(total_indices))\n"
   ]
  },
  {
   "cell_type": "code",
   "execution_count": 21,
   "metadata": {},
   "outputs": [],
   "source": [
    "keep_inds = np.setdiff1d(np.arange(len(current_adata.obs.index)), index_set)\n"
   ]
  },
  {
   "cell_type": "code",
   "execution_count": null,
   "metadata": {},
   "outputs": [],
   "source": [
    "if len(index_set) > 0:\n",
    "    current_adata = current_adata[keep_inds, :]\n",
    "    remove_ids.extend(current_adata.obs.index.values)\n",
    "print(len(remove_ids))"
   ]
  },
  {
   "cell_type": "code",
   "execution_count": 23,
   "metadata": {},
   "outputs": [],
   "source": [
    "current_adata.obs['batch'] = 'SI_d8pi'"
   ]
  },
  {
   "cell_type": "markdown",
   "metadata": {},
   "source": [
    "Create the gene trend heatmap on the subsetted object"
   ]
  },
  {
   "cell_type": "code",
   "execution_count": null,
   "metadata": {},
   "outputs": [],
   "source": [
    "s = scvelo_heatmap(\n",
    "    current_adata[:, current_adata.var.index.isin(cytokine_genes)],\n",
    "    batches=['SI_d8pi'],\n",
    "    sortby=\"crypt_villi_axis\",\n",
    "    highlight=cytokine_genes,\n",
    "    n_bins=7\n",
    ")"
   ]
  },
  {
   "cell_type": "markdown",
   "metadata": {},
   "source": [
    "Plot the crypt-villus axis on the Visium data"
   ]
  },
  {
   "cell_type": "code",
   "execution_count": null,
   "metadata": {},
   "outputs": [],
   "source": [
    "sc.set_figure_params(dpi=300)\n",
    "for batch in np.unique(adata.obs['batch']):\n",
    "    fig = sc.pl.embedding(adata[adata.obs['batch'] == batch], basis='spatial', color = 'crypt_villi_axis', title=f'{batch} Visium Crypt Villi Axis', return_fig=True)\n",
    "    ax = fig.gca()\n",
    "    ax.axis('equal')\n",
    "    fig.savefig(f'figures/{batch}_visium_cvaxis.pdf')"
   ]
  }
 ],
 "metadata": {
  "kernelspec": {
   "display_name": "stlearn",
   "language": "python",
   "name": "python3"
  },
  "language_info": {
   "codemirror_mode": {
    "name": "ipython",
    "version": 3
   },
   "file_extension": ".py",
   "mimetype": "text/x-python",
   "name": "python",
   "nbconvert_exporter": "python",
   "pygments_lexer": "ipython3",
   "version": "3.8.18"
  }
 },
 "nbformat": 4,
 "nbformat_minor": 2
}
