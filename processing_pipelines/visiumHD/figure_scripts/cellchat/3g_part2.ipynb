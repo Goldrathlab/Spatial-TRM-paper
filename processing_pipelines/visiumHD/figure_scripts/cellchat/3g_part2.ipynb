{
 "cells": [
  {
   "cell_type": "markdown",
   "metadata": {},
   "source": [
    "Running cellchat for visiumHD"
   ]
  },
  {
   "cell_type": "code",
   "execution_count": 1,
   "metadata": {
    "vscode": {
     "languageId": "r"
    }
   },
   "outputs": [],
   "source": [
    "suppressPackageStartupMessages({\n",
    "    library(tidyverse)\n",
    "    library(zellkonverter)\n",
    "    # library(scater)\n",
    "    # library(scran)\n",
    "    # library(scuttle)\n",
    "    library(SingleCellExperiment)\n",
    "    library(CellChat)\n",
    "})"
   ]
  },
  {
   "cell_type": "markdown",
   "metadata": {},
   "source": [
    "load in adata"
   ]
  },
  {
   "cell_type": "code",
   "execution_count": 2,
   "metadata": {
    "vscode": {
     "languageId": "r"
    }
   },
   "outputs": [],
   "source": [
    "sce = readH5AD(\"tmp/adata_gated.h5ad\")"
   ]
  },
  {
   "cell_type": "code",
   "execution_count": 3,
   "metadata": {
    "vscode": {
     "languageId": "r"
    }
   },
   "outputs": [],
   "source": [
    "data.input = assay(sce, \"X\") # X are the log norm counts here, see part 1\n",
    "meta = data.frame(labels = sce$Subtype_gate,\n",
    "                  slices = sce$batch,\n",
    "                  row.names = colnames(sce))\n",
    "# drop na from meta\n",
    "meta = meta[!is.na(meta$labels),]\n",
    "data.input = data.input[,rownames(meta)]\n",
    "meta$labels = droplevels(meta$labels, exclude = setdiff(levels(meta$labels),unique(meta$labels)))\n",
    "spatial.locs = reducedDim(sce, 'X_spatial') |> as.data.frame()\n",
    "scale.factors = list(spot.diameter = 5, spot = 5)\n",
    "spatial.factors = data.frame(ratio = 1, tol = 5)"
   ]
  },
  {
   "cell_type": "markdown",
   "metadata": {},
   "source": [
    "Create cellchat object"
   ]
  },
  {
   "cell_type": "code",
   "execution_count": null,
   "metadata": {
    "vscode": {
     "languageId": "r"
    }
   },
   "outputs": [],
   "source": [
    "cellchat <-\n",
    "  createCellChat(\n",
    "    object = data.input,\n",
    "    meta = meta,\n",
    "    group.by = \"labels\",\n",
    "    datatype = \"spatial\",\n",
    "    coordinates = spatial.locs,\n",
    "    #scale.factors = scale.factors\n",
    "    spatial.factors = spatial.factors\n",
    "  )"
   ]
  },
  {
   "cell_type": "code",
   "execution_count": 5,
   "metadata": {
    "vscode": {
     "languageId": "r"
    }
   },
   "outputs": [],
   "source": [
    "CellChatDB <- CellChatDB.mouse # use CellChatDB.human if running on human data\n",
    "\n",
    "CellChatDB.use <- CellChatDB # simply use the default CellChatDB\n",
    "\n",
    "# set the used database in the object\n",
    "cellchat@DB <- CellChatDB.use"
   ]
  },
  {
   "cell_type": "code",
   "execution_count": 6,
   "metadata": {
    "vscode": {
     "languageId": "r"
    }
   },
   "outputs": [],
   "source": [
    "# subset the expression data of signaling genes for saving computation cost\n",
    "cellchat <- subsetData(cellchat) # This step is necessary even if using the whole database\n"
   ]
  },
  {
   "cell_type": "code",
   "execution_count": null,
   "metadata": {
    "vscode": {
     "languageId": "r"
    }
   },
   "outputs": [],
   "source": [
    "# future::plan(\"multisession\", workers = 8) # do parallel\n",
    "cellchat <- identifyOverExpressedGenes(cellchat)\n",
    "cellchat <- identifyOverExpressedInteractions(cellchat)"
   ]
  },
  {
   "cell_type": "markdown",
   "metadata": {},
   "source": [
    "This part takes a long time to run!\n",
    "(~3h)"
   ]
  },
  {
   "cell_type": "code",
   "execution_count": null,
   "metadata": {
    "vscode": {
     "languageId": "r"
    }
   },
   "outputs": [],
   "source": [
    "#future::plan(\"multisession\", workers = 32)\n",
    "# Typically, contact.range = 10, which is a typical human cell size\n",
    "cellchat <- computeCommunProb(cellchat,\n",
    "  type = \"thresholdedMean\", trim = 0.001,\n",
    "  distance.use = TRUE, interaction.range = 150,\n",
    "  contact.range = 50,\n",
    "  scale.distance = 1\n",
    ")"
   ]
  },
  {
   "cell_type": "code",
   "execution_count": 9,
   "metadata": {
    "vscode": {
     "languageId": "r"
    }
   },
   "outputs": [],
   "source": [
    "\n",
    "# Filter out the cell-cell communication if there are only few number of cells in certain cell groups\n",
    "cellchat <- filterCommunication(cellchat, min.cells = 10)\n"
   ]
  },
  {
   "cell_type": "code",
   "execution_count": 10,
   "metadata": {
    "vscode": {
     "languageId": "r"
    }
   },
   "outputs": [],
   "source": [
    "cellchat <- computeCommunProbPathway(cellchat)\n",
    "cellchat <- aggregateNet(cellchat)"
   ]
  },
  {
   "cell_type": "markdown",
   "metadata": {},
   "source": [
    "Save out the final object"
   ]
  },
  {
   "cell_type": "code",
   "execution_count": 11,
   "metadata": {
    "vscode": {
     "languageId": "r"
    }
   },
   "outputs": [],
   "source": [
    "saveRDS(cellchat, file = \"tmp/cellchat.rds\")"
   ]
  }
 ],
 "metadata": {
  "kernelspec": {
   "display_name": "R",
   "language": "R",
   "name": "ir"
  },
  "language_info": {
   "codemirror_mode": "r",
   "file_extension": ".r",
   "mimetype": "text/x-r-source",
   "name": "R",
   "pygments_lexer": "r",
   "version": "4.3.0"
  }
 },
 "nbformat": 4,
 "nbformat_minor": 2
}
