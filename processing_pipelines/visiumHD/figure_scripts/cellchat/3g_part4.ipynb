{
 "cells": [
  {
   "cell_type": "markdown",
   "metadata": {},
   "source": [
    "Creating the incoming and outgoing heatmaps. Contributions to each pathway in the heatmaps were saved in the part 3 script"
   ]
  },
  {
   "cell_type": "code",
   "execution_count": 1,
   "metadata": {},
   "outputs": [],
   "source": [
    "import pandas as pd\n",
    "import os\n",
    "import seaborn as sns\n",
    "import matplotlib.pyplot as plt"
   ]
  },
  {
   "cell_type": "code",
   "execution_count": 2,
   "metadata": {},
   "outputs": [],
   "source": [
    "filepath = 'tmp'"
   ]
  },
  {
   "cell_type": "code",
   "execution_count": 3,
   "metadata": {},
   "outputs": [],
   "source": [
    "incoming = pd.read_csv(os.path.join(filepath, 'incoming.csv'), index_col=0)\n",
    "outgoing = pd.read_csv(os.path.join(filepath, 'outgoing.csv'), index_col=0)"
   ]
  },
  {
   "cell_type": "code",
   "execution_count": 4,
   "metadata": {},
   "outputs": [],
   "source": [
    "p14s_incoming = incoming.iloc[:3]\n",
    "#sort columns by sum\n",
    "p14s_incoming = p14s_incoming[p14s_incoming.sum().sort_values(ascending=False).index]\n",
    "\n",
    "p14s_outgoing = outgoing.iloc[:3]\n",
    "#sort columns by sum\n",
    "p14s_outgoing = p14s_outgoing[p14s_outgoing.sum().sort_values(ascending=False).index]"
   ]
  },
  {
   "cell_type": "code",
   "execution_count": 5,
   "metadata": {},
   "outputs": [],
   "source": [
    "try:\n",
    "    os.mkdir(os.path.join('figures'))\n",
    "except FileExistsError:\n",
    "    pass\n",
    "\n",
    "try:\n",
    "    os.mkdir(os.path.join('figures', 'heatmaps'))\n",
    "except FileExistsError:\n",
    "    pass\n",
    "\n",
    "for top_n in range(10, 70, 10):\n",
    "    plt.figure(figsize=(15, 12))\n",
    "    sns.heatmap(p14s_incoming[p14s_incoming.columns[:top_n]], square=True, cmap='viridis', annot=False, cbar_kws={'label': 'Intensity'})\n",
    "    plt.title('Incoming signals across P14 regional subtypes')\n",
    "    plt.xlabel('Signaling Pathway')\n",
    "    plt.ylabel('Cell Type')\n",
    "    plt.savefig(os.path.join('figures', 'heatmaps', f'incoming_heatmap_n{top_n}.pdf'))\n",
    "    #plt.show()\n",
    "    plt.close()\n",
    "\n",
    "    plt.figure(figsize=(10, 8))\n",
    "    sns.heatmap(p14s_outgoing[p14s_outgoing.columns[:top_n]], square=True, cmap='viridis', annot=False, cbar_kws={'label': 'Intensity'})\n",
    "    plt.title('outgoing signals across P14 regional subtypes')\n",
    "    plt.xlabel('Signaling Pathway')\n",
    "    plt.ylabel('Cell Type')\n",
    "    plt.savefig(os.path.join('figures', 'heatmaps', f'outgoing_heatmap_n{top_n}.pdf'))\n",
    "    #plt.show()\n",
    "    plt.close()\n"
   ]
  }
 ],
 "metadata": {
  "kernelspec": {
   "display_name": "merscope_01",
   "language": "python",
   "name": "python3"
  },
  "language_info": {
   "codemirror_mode": {
    "name": "ipython",
    "version": 3
   },
   "file_extension": ".py",
   "mimetype": "text/x-python",
   "name": "python",
   "nbconvert_exporter": "python",
   "pygments_lexer": "ipython3",
   "version": "3.8.18"
  }
 },
 "nbformat": 4,
 "nbformat_minor": 2
}
