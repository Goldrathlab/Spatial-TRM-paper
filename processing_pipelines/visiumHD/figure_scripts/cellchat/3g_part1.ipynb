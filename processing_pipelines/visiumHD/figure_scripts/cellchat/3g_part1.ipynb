{
 "cells": [
  {
   "cell_type": "markdown",
   "metadata": {},
   "source": [
    "Cellchat preparation for VisiumHD"
   ]
  },
  {
   "cell_type": "code",
   "execution_count": null,
   "metadata": {},
   "outputs": [],
   "source": [
    "import scanpy as sc\n",
    "import matplotlib.pyplot as plt\n",
    "import numpy as np\n",
    "import warnings\n",
    "import pandas as pd\n",
    "from scipy.spatial import KDTree\n",
    "\n",
    "warnings.filterwarnings(\"ignore\")"
   ]
  },
  {
   "cell_type": "markdown",
   "metadata": {},
   "source": [
    "Read in the adatas for the experiments you want to use"
   ]
  },
  {
   "cell_type": "code",
   "execution_count": null,
   "metadata": {},
   "outputs": [],
   "source": [
    "experiments = ['SI_d8pi']\n",
    "adatas = []\n",
    "ct = 0\n",
    "for experiment in experiments:\n",
    "    adata = sc.read_h5ad(f'visium_hd/segmentation/segmentation_outputs/{experiment}_visium_adata.h5ad')\n",
    "    adata.obs['batch'] = experiment\n",
    "    adata.obsm['X_spatial'] = adata.obsm['X_spatial'] + int(300000 * ct) \n",
    "    adatas.append(adata)\n",
    "    ct += 1\n",
    "adata = sc.concat(adatas)\n",
    "\n",
    "adata = adata[~pd.isna(adata.obs['Subtype'])]"
   ]
  },
  {
   "cell_type": "markdown",
   "metadata": {},
   "source": [
    "Read in the Xenium timecouse data to get the celltype heirarchy"
   ]
  },
  {
   "cell_type": "code",
   "execution_count": null,
   "metadata": {},
   "outputs": [],
   "source": [
    "types = sc.read('timecourse.h5ad')\n",
    "types_ = pd.crosstab(types.obs['Type'], types.obs['Subtype'])\n",
    "class_ = pd.crosstab(types.obs['Class'], types.obs['Type'])\n",
    "immuno_ = pd.crosstab(types.obs['Immunocentric_Type'], types.obs['Subtype'])"
   ]
  },
  {
   "cell_type": "markdown",
   "metadata": {},
   "source": [
    "Create a cell type heirarchy dictionary"
   ]
  },
  {
   "cell_type": "code",
   "execution_count": null,
   "metadata": {},
   "outputs": [],
   "source": [
    "\n",
    "\n",
    "type_dictionary = {}\n",
    "for i in adata.obs['Subtype'].cat.categories:\n",
    "    type_dictionary[i] = types_.index.values[np.where(types_[i].values > 0)[0]][0]\n",
    "all_types = []\n",
    "for k in adata.obs['Subtype'].values:\n",
    "    all_types.append(type_dictionary.get(k))\n",
    "adata.obs['Type'] = all_types\n",
    "\n",
    "itype_dictionary = {}\n",
    "for i in adata.obs['Subtype'].cat.categories:\n",
    "    try:\n",
    "        itype_dictionary[i] = immuno_.index.values[np.where(immuno_[i].values > 0)[0]][0]\n",
    "    except:\n",
    "        itype_dictionary[i] = 'None'\n",
    "all_itypes = []\n",
    "for k in adata.obs['Subtype'].values:\n",
    "    all_itypes.append(itype_dictionary.get(k))\n",
    "adata.obs['Immunocentric_Type'] = all_itypes\n",
    "\n",
    "class_dictionary = {}\n",
    "for i in np.unique(adata.obs['Type'].values):\n",
    "    class_dictionary[i] = class_.index.values[np.where(class_[i].values > 0)[0]][0]\n",
    "all_classes = []\n",
    "for k in adata.obs['Type'].values:\n",
    "    all_classes.append(class_dictionary.get(k))\n",
    "adata.obs['Class'] = all_classes\n"
   ]
  },
  {
   "cell_type": "markdown",
   "metadata": {},
   "source": [
    "Getting an idea of the distance to the nearest cells to get parameters for cellchat"
   ]
  },
  {
   "cell_type": "code",
   "execution_count": null,
   "metadata": {},
   "outputs": [],
   "source": [
    "def kdtree_nearest_neighbor_distances(points):\n",
    "    # Convert input to numpy array if it's not already\n",
    "    points = np.array(points)\n",
    "    \n",
    "    # Create KDTree\n",
    "    tree = KDTree(points)\n",
    "    \n",
    "    # Query the tree for the nearest neighbor of each point\n",
    "    # We use k=2 because the nearest point to any point is itself (with distance 0)\n",
    "    distances, _ = tree.query(points, k=2)\n",
    "    \n",
    "    # Return the distances to the nearest neighbors (second column)\n",
    "    return distances[:, 1]\n",
    "near_dist = kdtree_nearest_neighbor_distances(adata.obsm['X_spatial'][(adata.obsm['X_spatial'][:, 0] < 20000) & (adata.obsm['X_spatial'][:, 1] <20000)])"
   ]
  },
  {
   "cell_type": "code",
   "execution_count": null,
   "metadata": {},
   "outputs": [],
   "source": [
    "import matplotlib.pyplot as plt\n",
    "plt.hist(near_dist, bins=100)\n",
    "plt.show()"
   ]
  },
  {
   "cell_type": "markdown",
   "metadata": {},
   "source": [
    "Noralize gene expression counts"
   ]
  },
  {
   "cell_type": "code",
   "execution_count": null,
   "metadata": {},
   "outputs": [],
   "source": [
    "sc.pp.normalize_per_cell(adata)\n",
    "sc.pp.log1p(adata)"
   ]
  },
  {
   "cell_type": "markdown",
   "metadata": {},
   "source": [
    "Defining gates for top, crypt, and muscularis"
   ]
  },
  {
   "cell_type": "code",
   "execution_count": null,
   "metadata": {},
   "outputs": [],
   "source": [
    "# Coordinates of the gates\n",
    "d8_gates = {\n",
    "    \"Top\": {\n",
    "        \"edges\": [\n",
    "            [0.15, 0.6],\n",
    "            [0.8, 0.6],\n",
    "            [0.8, 1.03],\n",
    "            [0.15, 1.03],\n",
    "        ],\n",
    "        \"label_position\": {\"x\": 0.16, \"y\": 0.9},\n",
    "        \"fill\": \"#3A9AB244\",\n",
    "        \"stroke\": \"#3A9AB2\",\n",
    "    },\n",
    "    \"Crypt\": {\n",
    "        \"edges\": [\n",
    "            [0.15, 0.6],\n",
    "            [0.8, 0.6],\n",
    "            [0.8, 0],\n",
    "            [0.15, 0],\n",
    "        ],\n",
    "        \"label_position\": {\"x\": 0.16, \"y\": 0.05},\n",
    "        \"fill\": \"#F11B0044\",\n",
    "        \"stroke\": \"#F11B00\",\n",
    "    },\n",
    "    \"Muscularis\": {\n",
    "        \"edges\": [[0.8, 0], [0.8, 0.4], [6, 0.4], [6, 0], [0.8, 0]],\n",
    "        \"label_position\": {\"x\": 0.6, \"y\": 0.05},\n",
    "        \"fill\": \"#BDC88155\",\n",
    "        \"stroke\": \"#BDC881\",\n",
    "    },\n",
    "}\n"
   ]
  },
  {
   "cell_type": "code",
   "execution_count": null,
   "metadata": {},
   "outputs": [],
   "source": [
    "# Custom biexponential transformation. Maybe not needed for IF data\n",
    "def transformation(x, a=0.1, b=0.1, c=0.5, d=2.5, f=4, w=1):\n",
    "    x = np.array(x)\n",
    "    return a * np.exp(b * ((x - w))) - c * np.exp(-d * (x - w)) + f\n",
    "\n",
    "\n",
    "def classify_cells(adata, gates, transformation=transformation):\n",
    "    \"\"\"\n",
    "    Classify cells based on the gates.\n",
    "    \"\"\"\n",
    "    from shapely.geometry import Point\n",
    "    from shapely.geometry.polygon import Polygon\n",
    "    import geopandas as gpd\n",
    "\n",
    "    adata.obs[\"epithelial_distance_transformed\"] = transformation(\n",
    "        adata.obs[\"epithelial_distance\"]\n",
    "    )\n",
    "    adata.obs[\"gate\"] = False\n",
    "\n",
    "    print(\"Creating polygons\")\n",
    "    polygons = {}\n",
    "    for gate in gates:\n",
    "        # Apply transformation to x values\n",
    "        points = [\n",
    "            [transformation(element[0])] + element[1:]\n",
    "            for element in gates[gate][\"edges\"]\n",
    "        ]\n",
    "        polygons[gate] = Polygon(points)\n",
    "    polygons = gpd.GeoSeries(polygons)\n",
    "    gpd_poly = gpd.GeoDataFrame({\"gates\": polygons}, geometry=\"gates\")\n",
    "\n",
    "    print(\"Creating cells\")\n",
    "    cells = gpd.GeoSeries.from_xy(\n",
    "        adata.obs[\"epithelial_distance_transformed\"], adata.obs[\"crypt_villi_axis\"]\n",
    "    )\n",
    "    gpd_cells = gpd.GeoDataFrame({\"cells\": cells}, geometry=\"cells\")\n",
    "\n",
    "    print(\"Joining cells and polygons\")\n",
    "    result = gpd.sjoin(\n",
    "        gpd_cells,\n",
    "        gpd_poly,\n",
    "        how=\"left\",\n",
    "    )\n",
    "    return result"
   ]
  },
  {
   "cell_type": "markdown",
   "metadata": {},
   "source": [
    "Assigning all cells to the gate they lie within"
   ]
  },
  {
   "cell_type": "code",
   "execution_count": null,
   "metadata": {},
   "outputs": [],
   "source": [
    "classification = classify_cells(adata, d8_gates)\n",
    "classification"
   ]
  },
  {
   "cell_type": "code",
   "execution_count": null,
   "metadata": {},
   "outputs": [],
   "source": [
    "adata.obs[\"gate\"] = classification[\"index_right\"]\n",
    "adata"
   ]
  },
  {
   "cell_type": "markdown",
   "metadata": {},
   "source": [
    "Defining CD8ab+ cells and adding their positional information"
   ]
  },
  {
   "cell_type": "code",
   "execution_count": null,
   "metadata": {},
   "outputs": [],
   "source": [
    "temp_subtype_array = np.array(list(adata.obs['Subtype'].values))\n",
    "temp_subtype_array[adata.obs['Subtype'].isin(['Cd8_T-Cell_P14', 'Cd8_T-Cell_ab+'])] = 'Cd8_T-Cell'"
   ]
  },
  {
   "cell_type": "code",
   "execution_count": null,
   "metadata": {},
   "outputs": [],
   "source": [
    "def make_name(gate, cell):\n",
    "    if cell == \"Cd8_T-Cell\":\n",
    "        if gate == \"Top\":\n",
    "            return \"Cd8 ab+ top\"\n",
    "        elif gate == \"Crypt\":\n",
    "            return \"Cd8 ab+ crypt\"\n",
    "        elif gate == \"Muscularis\":\n",
    "            return \"Cd8 ab+ muscularis\"\n",
    "        else:\n",
    "            return \"Cd8 ab+ undeterminded\"\n",
    "    else:\n",
    "        return cell\n",
    "\n",
    "\n",
    "adata.obs[\"Subtype_gate\"] = [\n",
    "    make_name(gate, cell) for gate, cell in zip(adata.obs[\"gate\"], temp_subtype_array)\n",
    "]\n",
    "adata = adata[~(adata.obs[\"Subtype_gate\"] == \"Cd8 ab+ undeterminded\")]\n",
    "adata.obs[\"Subtype_gate\"] = adata.obs[\"Subtype_gate\"].astype(\"category\")\n",
    "adata.obs[\"Subtype_gate\"]\n",
    "adata"
   ]
  },
  {
   "cell_type": "markdown",
   "metadata": {},
   "source": [
    "Saving out adata"
   ]
  },
  {
   "cell_type": "code",
   "execution_count": null,
   "metadata": {},
   "outputs": [],
   "source": [
    "adata.obs_names_make_unique()"
   ]
  },
  {
   "cell_type": "code",
   "execution_count": null,
   "metadata": {},
   "outputs": [],
   "source": [
    "import os\n",
    "\n",
    "if not os.path.exists(\"tmp\"):\n",
    "    os.makedirs(\"tmp\")\n",
    "    print(f\"Folder 'tmp' created successfully!\")\n",
    "else:\n",
    "    print(f\"Folder 'tmp' already exists.\")\n",
    "\n",
    "adata.write_h5ad(\"tmp/adata_gated.h5ad\")"
   ]
  },
  {
   "cell_type": "code",
   "execution_count": null,
   "metadata": {},
   "outputs": [],
   "source": []
  }
 ],
 "metadata": {
  "kernelspec": {
   "display_name": "Python 3",
   "language": "python",
   "name": "python3"
  },
  "language_info": {
   "codemirror_mode": {
    "name": "ipython",
    "version": 3
   },
   "file_extension": ".py",
   "mimetype": "text/x-python",
   "name": "python",
   "nbconvert_exporter": "python",
   "pygments_lexer": "ipython3",
   "version": "3.9.18"
  }
 },
 "nbformat": 4,
 "nbformat_minor": 2
}
