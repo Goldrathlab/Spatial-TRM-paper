{
 "cells": [
  {
   "cell_type": "markdown",
   "id": "0",
   "metadata": {},
   "source": [
    "## Integrate MERFISH experiments after QC filtering"
   ]
  },
  {
   "cell_type": "code",
   "execution_count": null,
   "id": "1",
   "metadata": {},
   "outputs": [],
   "source": [
    "import scanpy as sc\n",
    "import scvi\n",
    "from tqdm.notebook import tqdm\n",
    "import os\n",
    "import numpy as np\n",
    "import pandas as pd\n",
    "from scvi.model.utils import mde\n",
    "import matplotlib.pyplot as plt\n",
    "import pickle\n",
    "import glob"
   ]
  },
  {
   "cell_type": "code",
   "execution_count": null,
   "id": "2",
   "metadata": {},
   "outputs": [],
   "source": [
    "sc.set_figure_params(figsize=(4, 4))"
   ]
  },
  {
   "cell_type": "markdown",
   "id": "3",
   "metadata": {},
   "source": [
    "Add the paths to all folders for experiments to be integrated"
   ]
  },
  {
   "cell_type": "code",
   "execution_count": null,
   "id": "4",
   "metadata": {},
   "outputs": [],
   "source": [
    "input_folders = glob.glob(\"D:/amonell/merscope_final/SI*\")"
   ]
  },
  {
   "cell_type": "code",
   "execution_count": null,
   "id": "5",
   "metadata": {},
   "outputs": [],
   "source": [
    "output_folder = r\"D:/amonell/merscope_final/analysis/final\""
   ]
  },
  {
   "cell_type": "markdown",
   "id": "6",
   "metadata": {},
   "source": [
    "Run scvi integration"
   ]
  },
  {
   "cell_type": "code",
   "execution_count": null,
   "id": "7",
   "metadata": {},
   "outputs": [],
   "source": [
    "for path_adata in input_folders:\n",
    "    rolls = glob.glob(os.path.join(path_adata, \"adatas\", \"05_unrolled*roll_roll*.h5ad\"))\n",
    "    for roll in rolls:\n",
    "        print(path_adata)\n",
    "        print(roll)"
   ]
  },
  {
   "cell_type": "code",
   "execution_count": null,
   "id": "8",
   "metadata": {},
   "outputs": [],
   "source": [
    "adata_list = []\n",
    "for path_adata in input_folders:\n",
    "    rolls_ = glob.glob(\n",
    "        os.path.join(path_adata, \"adatas\", \"05_unrolled*roll_roll*.h5ad\")\n",
    "    )\n",
    "    for roll in rolls_:\n",
    "        experiment = sc.read(roll)\n",
    "        experiment.obs[\"batch\"] = (\n",
    "            os.path.basename(path_adata) + f\"_{experiment.obs.roll.values[0]}\"\n",
    "        )\n",
    "        adata_list.append(experiment.copy())\n",
    "\n",
    "concatenated = sc.concat(adata_list)\n",
    "\n",
    "concatenated.obs_names_make_unique()\n",
    "concatenated.layers[\"counts\"] = concatenated.X\n",
    "scvi.model.SCVI.setup_anndata(concatenated, layer=\"counts\", batch_key=\"batch\")\n",
    "vae = scvi.model.SCVI(concatenated, n_layers=2, n_latent=30, gene_likelihood=\"nb\")\n",
    "vae.train()"
   ]
  },
  {
   "cell_type": "markdown",
   "id": "9",
   "metadata": {},
   "source": [
    "Use integration to calculate new clustering and neighbors"
   ]
  },
  {
   "cell_type": "code",
   "execution_count": null,
   "id": "10",
   "metadata": {},
   "outputs": [],
   "source": [
    "concatenated.obsm[\"X_scVI\"] = vae.get_latent_representation()"
   ]
  },
  {
   "cell_type": "code",
   "execution_count": null,
   "id": "11",
   "metadata": {},
   "outputs": [],
   "source": [
    "sc.pp.neighbors(concatenated, use_rep=\"X_scVI\")"
   ]
  },
  {
   "cell_type": "markdown",
   "id": "12",
   "metadata": {},
   "source": [
    "Use MDE as new visualization. Can sometimes give extreme outlier values so I put some filters on at 8 units in all directions"
   ]
  },
  {
   "cell_type": "code",
   "execution_count": null,
   "id": "13",
   "metadata": {},
   "outputs": [],
   "source": [
    "concatenated.obsm[\"X_mde\"] = mde(concatenated.obsm[\"X_scVI\"])"
   ]
  },
  {
   "cell_type": "code",
   "execution_count": null,
   "id": "14",
   "metadata": {},
   "outputs": [],
   "source": [
    "concatenated.obs[\"new_batch\"] = concatenated.obs.batch.values"
   ]
  },
  {
   "cell_type": "code",
   "execution_count": null,
   "id": "15",
   "metadata": {},
   "outputs": [],
   "source": [
    "xcoords = concatenated.obsm[\"X_mde\"][:, 0]\n",
    "ycoords = concatenated.obsm[\"X_mde\"][:, 1]\n",
    "category_names = concatenated.obs.new_batch.values"
   ]
  },
  {
   "cell_type": "code",
   "execution_count": null,
   "id": "16",
   "metadata": {},
   "outputs": [],
   "source": [
    "sc.tl.leiden(concatenated)"
   ]
  },
  {
   "cell_type": "code",
   "execution_count": null,
   "id": "17",
   "metadata": {},
   "outputs": [],
   "source": [
    "os.mkdir(output_folder)"
   ]
  },
  {
   "cell_type": "code",
   "execution_count": null,
   "id": "18",
   "metadata": {},
   "outputs": [],
   "source": [
    "concatenated.write(os.path.join(output_folder, \"concatenated_integrated.h5ad\"))"
   ]
  },
  {
   "cell_type": "code",
   "execution_count": null,
   "id": "19",
   "metadata": {},
   "outputs": [],
   "source": [
    "sc.set_figure_params(figsize=(5, 5))\n",
    "sc.pl.embedding(concatenated, basis=\"mde\", color=[\"leiden\"])"
   ]
  },
  {
   "cell_type": "markdown",
   "id": "20",
   "metadata": {},
   "source": [
    "## Save our SCVI VAE"
   ]
  },
  {
   "cell_type": "code",
   "execution_count": null,
   "id": "21",
   "metadata": {},
   "outputs": [],
   "source": [
    "import pickle\n",
    "\n",
    "# File path where you want to save the object\n",
    "file_path = os.path.join(output_folder, \"vae_object.pkl\")\n",
    "\n",
    "# Dump the object to the file\n",
    "with open(file_path, \"wb\") as file:\n",
    "    pickle.dump(vae, file)"
   ]
  },
  {
   "cell_type": "markdown",
   "id": "22",
   "metadata": {},
   "source": [
    "## Subcluster data"
   ]
  },
  {
   "cell_type": "code",
   "execution_count": null,
   "id": "23",
   "metadata": {},
   "outputs": [],
   "source": [
    "def get_celltype(celltype, ad_sp):\n",
    "    ctype = ad_sp[ad_sp.obs.leiden.isin([celltype])]\n",
    "    sc.pp.neighbors(ctype, use_rep=\"X_scVI\")\n",
    "    sc.tl.leiden(ctype, resolution=0.5)\n",
    "    sc.tl.umap(ctype)\n",
    "    return ctype\n",
    "\n",
    "\n",
    "def reunite_with_ad(ad_sp, subset_ad, celltype):\n",
    "    new_labels = []\n",
    "    subclusters = ad_sp.obs.Sub_leiden.values\n",
    "    clusters = ad_sp.obs.leiden.values\n",
    "    idex = ad_sp.obs.index.values\n",
    "    for i in tqdm(range(len(subclusters))):\n",
    "        if clusters[i] == celltype:\n",
    "            new_labels.append(subset_ad.obs.loc[idex[i], :].leiden)\n",
    "        else:\n",
    "            new_labels.append(subclusters[i])\n",
    "    ad_sp.obs.Sub_leiden = new_labels\n",
    "    return ad_sp"
   ]
  },
  {
   "cell_type": "code",
   "execution_count": null,
   "id": "24",
   "metadata": {},
   "outputs": [],
   "source": [
    "ad_sp = sc.read(os.path.join(output_folder, \"concatenated_integrated.h5ad\"))\n",
    "ad_sp.obs[\"Sub_leiden\"] = ad_sp.obs[\"leiden\"]"
   ]
  },
  {
   "cell_type": "code",
   "execution_count": null,
   "id": "25",
   "metadata": {},
   "outputs": [],
   "source": [
    "lts = ad_sp.obs.leiden.cat.categories\n",
    "for leiden_to_subset in lts:\n",
    "    mac = get_celltype(leiden_to_subset, ad_sp)\n",
    "    sc.pl.embedding(mac, basis=\"mde\", color=[\"leiden\"], vmax=1, size=0.1)\n",
    "    mac.obs[\"leiden\"] = [leiden_to_subset + \"_\" + i for i in mac.obs.leiden]\n",
    "    ad_sp = reunite_with_ad(ad_sp, mac, leiden_to_subset)\n",
    "    sc.pl.embedding(ad_sp, basis=\"mde\", color=[\"Sub_leiden\"])"
   ]
  },
  {
   "cell_type": "code",
   "execution_count": null,
   "id": "26",
   "metadata": {},
   "outputs": [],
   "source": [
    "ad_sp.write(os.path.join(output_folder, \"integrated_clustered.h5ad\"))"
   ]
  }
 ],
 "metadata": {
  "kernelspec": {
   "display_name": "Python 3 (ipykernel)",
   "language": "python",
   "name": "python3"
  },
  "language_info": {
   "codemirror_mode": {
    "name": "ipython",
    "version": 3
   },
   "file_extension": ".py",
   "mimetype": "text/x-python",
   "name": "python",
   "nbconvert_exporter": "python",
   "pygments_lexer": "ipython3",
   "version": "3.10.12"
  }
 },
 "nbformat": 4,
 "nbformat_minor": 5
}
