{
 "cells": [
  {
   "cell_type": "code",
   "execution_count": null,
   "id": "0",
   "metadata": {},
   "outputs": [],
   "source": [
    "import scanpy as sc\n",
    "import numpy as np\n",
    "from tqdm.notebook import tqdm\n",
    "import scipy.stats as stats\n",
    "import pandas as pd\n",
    "import json\n",
    "import os\n",
    "import seaborn as sns\n",
    "import matplotlib.pyplot as plt\n",
    "import shapely\n",
    "from sklearn.neighbors import NearestNeighbors\n",
    "from PIL import Image, ImageDraw"
   ]
  },
  {
   "cell_type": "markdown",
   "id": "1",
   "metadata": {},
   "source": [
    "## Unrolling the adata with the best morphology (Reference)"
   ]
  },
  {
   "cell_type": "markdown",
   "id": "2",
   "metadata": {},
   "source": [
    "Put in the path to the SI adata to be unrolled"
   ]
  },
  {
   "cell_type": "code",
   "execution_count": null,
   "id": "3",
   "metadata": {},
   "outputs": [],
   "source": [
    "path_adata = \"D:/amonell/merscope_final/SI-Ctrl-L-RAR-R-dist-1-VS120-NP_Beta8\""
   ]
  },
  {
   "cell_type": "code",
   "execution_count": null,
   "id": "4",
   "metadata": {},
   "outputs": [],
   "source": [
    "adata = sc.read(os.path.join(path_adata, \"adatas\", \"04_tissue_cleared.h5ad\"))"
   ]
  },
  {
   "cell_type": "code",
   "execution_count": null,
   "id": "5",
   "metadata": {},
   "outputs": [],
   "source": [
    "all_spatial = adata.obsm[\"X_spatial\"]"
   ]
  },
  {
   "cell_type": "code",
   "execution_count": null,
   "id": "6",
   "metadata": {},
   "outputs": [],
   "source": [
    "try:\n",
    "    adata.X = adata.X.A\n",
    "except:\n",
    "    print(\"Adata already in array format\")"
   ]
  },
  {
   "cell_type": "markdown",
   "id": "7",
   "metadata": {},
   "source": [
    "Identifying cells on the bottom of the villi by neighborhood. Put the bottom neighborhoods in the topics_contain list"
   ]
  },
  {
   "cell_type": "code",
   "execution_count": null,
   "id": "8",
   "metadata": {},
   "outputs": [],
   "source": [
    "def plot_topic_scatter(adata, topic_column):\n",
    "    # Extract data for plotting\n",
    "    topics = adata.obs[topic_column]\n",
    "    spatial_coords = adata.obsm[\"X_spatial\"]\n",
    "\n",
    "    # Get unique topics\n",
    "    unique_topics = topics.unique()\n",
    "\n",
    "    # Create separate plots for each topic\n",
    "    for topic in unique_topics:\n",
    "        mask = topics == topic\n",
    "\n",
    "        # Set up the plot for the current topic\n",
    "        plt.figure(figsize=(2, 2), dpi=100)\n",
    "        plt.scatter(\n",
    "            spatial_coords[:, 0],\n",
    "            spatial_coords[:, 1],\n",
    "            color=\"lightgray\",\n",
    "            label=\"Other Cells\",\n",
    "            s=0.1,\n",
    "            linewidths=0.1,\n",
    "        )\n",
    "        plt.scatter(\n",
    "            spatial_coords[mask, 0],\n",
    "            spatial_coords[mask, 1],\n",
    "            color=\"red\",\n",
    "            label=f\"Topic: {topic}\",\n",
    "            alpha=0.8,\n",
    "            s=0.1,\n",
    "            linewidths=0.1,\n",
    "        )\n",
    "\n",
    "        # Add labels and legend for the current plot\n",
    "        plt.xlabel(\"X Spatial\")\n",
    "        plt.ylabel(\"Y Spatial\")\n",
    "        plt.title(f\"Spatial Distribution of Topic: {topic}\")\n",
    "        plt.legend()\n",
    "        plt.grid(False)\n",
    "\n",
    "        # Save the plot with a unique filename for each topic\n",
    "        plt.show()\n",
    "        plt.close()"
   ]
  },
  {
   "cell_type": "code",
   "execution_count": null,
   "id": "9",
   "metadata": {},
   "outputs": [],
   "source": [
    "plot_topic_scatter(adata, topic_column=\"topic\")"
   ]
  },
  {
   "cell_type": "markdown",
   "id": "10",
   "metadata": {},
   "source": [
    "Using the above topic highlight maps, put all neighborhoods appearing at the base of the swiss roll in the following list"
   ]
  },
  {
   "cell_type": "code",
   "execution_count": null,
   "id": "11",
   "metadata": {},
   "outputs": [],
   "source": [
    "topics_contain = [\"2\", \"12\"]"
   ]
  },
  {
   "cell_type": "code",
   "execution_count": null,
   "id": "12",
   "metadata": {},
   "outputs": [],
   "source": [
    "spatial_points = np.array(\n",
    "    adata[adata.obs[\"topic\"].isin(topics_contain), :].obsm[\"X_spatial\"]\n",
    ")\n",
    "other_spatial = np.array(\n",
    "    adata[~adata.obs[\"topic\"].isin(topics_contain), :].obsm[\"X_spatial\"]\n",
    ")"
   ]
  },
  {
   "cell_type": "markdown",
   "id": "13",
   "metadata": {},
   "source": [
    "Further removing outlier points that lay outside of the general spiral shape"
   ]
  },
  {
   "cell_type": "code",
   "execution_count": null,
   "id": "14",
   "metadata": {},
   "outputs": [],
   "source": [
    "# Step 1: Compute distances between each point\n",
    "nn = 100\n",
    "nbrs = NearestNeighbors(n_neighbors=nn, algorithm=\"kd_tree\").fit(spatial_points)\n",
    "distances, _ = nbrs.kneighbors(spatial_points)\n",
    "\n",
    "# Step 2: For each point, remove the distance to itself (which will be 0)\n",
    "distances = distances[:, 1:]\n",
    "\n",
    "# Step 3: Calculate the average distance to the 5 nearest neighbors for each point\n",
    "avg_distances = np.mean(distances, axis=1)\n",
    "\n",
    "# Step 4: Create a histogram to visualize the distribution of average distances\n",
    "plt.hist(avg_distances, bins=100, edgecolor=\"black\")\n",
    "plt.xlabel(f\"Average Distance to {nn} Nearest Neighbors\")\n",
    "plt.ylabel(\"Frequency\")\n",
    "plt.title(f\"Histogram of Average Distances to {nn} Nearest Neighbors\")\n",
    "plt.grid(True)\n",
    "plt.show()"
   ]
  },
  {
   "cell_type": "markdown",
   "id": "15",
   "metadata": {},
   "source": [
    "Make a manual cutoff to remove outliers"
   ]
  },
  {
   "cell_type": "code",
   "execution_count": null,
   "id": "16",
   "metadata": {},
   "outputs": [],
   "source": [
    "cutoff = 100"
   ]
  },
  {
   "cell_type": "code",
   "execution_count": null,
   "id": "17",
   "metadata": {},
   "outputs": [],
   "source": [
    "spatial_points = spatial_points[avg_distances < cutoff]"
   ]
  },
  {
   "cell_type": "markdown",
   "id": "18",
   "metadata": {},
   "source": [
    "See if the spiral looks clean"
   ]
  },
  {
   "cell_type": "code",
   "execution_count": null,
   "id": "19",
   "metadata": {},
   "outputs": [],
   "source": [
    "plt.scatter(spatial_points[:, 0], spatial_points[:, 1], s=1)"
   ]
  },
  {
   "cell_type": "markdown",
   "id": "20",
   "metadata": {},
   "source": [
    "Write the spiral points to an image so that they can be labeled"
   ]
  },
  {
   "cell_type": "code",
   "execution_count": null,
   "id": "21",
   "metadata": {},
   "outputs": [],
   "source": [
    "downsize = 10\n",
    "adata.uns[\"unrolling_downsize\"] = downsize\n",
    "# Example 2D point array (replace this with your own data)\n",
    "points = spatial_points / downsize\n",
    "other_points = other_spatial / downsize\n",
    "\n",
    "# Define the size of the image (adjust as needed)\n",
    "image_width = 2000\n",
    "image_height = 2000\n",
    "\n",
    "# Create a white canvas as the base image\n",
    "base_image = Image.new(\"RGB\", (image_width, image_height), (255, 255, 255))\n",
    "\n",
    "# Draw the points on the image\n",
    "draw = ImageDraw.Draw(base_image)\n",
    "point_size = 1  # Size of the points\n",
    "ct = 0\n",
    "for point in points:\n",
    "    draw.ellipse(\n",
    "        (\n",
    "            point[0] - point_size,\n",
    "            point[1] - point_size,\n",
    "            point[0] + point_size,\n",
    "            point[1] + point_size,\n",
    "        ),\n",
    "        fill=\"blue\",\n",
    "    )\n",
    "    ct += 1\n",
    "\n",
    "ct = 0\n",
    "for point in other_points:\n",
    "    draw.ellipse(\n",
    "        (\n",
    "            point[0] - point_size,\n",
    "            point[1] - point_size,\n",
    "            point[0] + point_size,\n",
    "            point[1] + point_size,\n",
    "        ),\n",
    "        fill=\"red\",\n",
    "    )\n",
    "    ct += 1"
   ]
  },
  {
   "cell_type": "markdown",
   "id": "22",
   "metadata": {},
   "source": [
    "Save the image to an output path"
   ]
  },
  {
   "cell_type": "code",
   "execution_count": null,
   "id": "23",
   "metadata": {},
   "outputs": [],
   "source": [
    "base_image"
   ]
  },
  {
   "cell_type": "code",
   "execution_count": null,
   "id": "24",
   "metadata": {},
   "outputs": [],
   "source": [
    "try:\n",
    "    os.mkdir(os.path.join(path_adata, \"unrolling\"))\n",
    "except:\n",
    "    print(\"unrolling directory already exists\")\n",
    "file_path = os.path.join(path_adata, \"unrolling\", \"roll_image.png\")\n",
    "base_image.save(file_path)"
   ]
  },
  {
   "cell_type": "code",
   "execution_count": null,
   "id": "25",
   "metadata": {},
   "outputs": [],
   "source": [
    "np.save(\n",
    "    os.path.join(path_adata, \"unrolling\", \"base_topicas.npy\"), np.array(topics_contain)\n",
    ")"
   ]
  },
  {
   "cell_type": "markdown",
   "id": "26",
   "metadata": {},
   "source": [
    "Go to labelme (pip install labelme > labelme) > open > open roll_image.png > create polygons > click along the base of the blue spiral starting from the outside. Catch as little red as possible. When finished clicking, click enter, name point, group 0, save to roll_image.json in same directory."
   ]
  },
  {
   "cell_type": "markdown",
   "id": "27",
   "metadata": {},
   "source": [
    "Read in the json"
   ]
  },
  {
   "cell_type": "code",
   "execution_count": null,
   "id": "28",
   "metadata": {},
   "outputs": [],
   "source": [
    "json_file_path = os.path.join(path_adata, \"unrolling\", \"roll_image.json\")\n",
    "\n",
    "# Load the JSON data from the file\n",
    "with open(json_file_path, \"r\") as json_file:\n",
    "    data = json.load(json_file)\n",
    "\n",
    "# Extract relevant information from the JSON data\n",
    "image_height = data[\"imageHeight\"]\n",
    "image_width = data[\"imageWidth\"]\n",
    "image_path = data[\"imagePath\"]\n",
    "shapes = data[\"shapes\"]\n",
    "\n",
    "# Process the shapes (annotations)\n",
    "removals = []\n",
    "points = []\n",
    "use_points = []\n",
    "for shape in shapes:\n",
    "    label = shape[\"label\"]\n",
    "    if (label == \"roll\") or (label == \"point\"):\n",
    "        points.append(shape[\"points\"])\n",
    "    elif label == \"reference\":\n",
    "        use_points.append(shape[\"points\"])\n",
    "    else:\n",
    "        removals.append(shape[\"points\"])"
   ]
  },
  {
   "cell_type": "code",
   "execution_count": null,
   "id": "29",
   "metadata": {},
   "outputs": [],
   "source": [
    "total_indices = []\n",
    "for ir in removals:\n",
    "    ir_ = np.array(ir) * downsize\n",
    "    poly = shapely.Polygon(ir_)\n",
    "    indices = []\n",
    "    for i in tqdm(range(len(all_spatial))):\n",
    "        pt = shapely.Point(all_spatial[i])\n",
    "        if pt.within(poly):\n",
    "            indices.append(i)\n",
    "    total_indices.append(indices)"
   ]
  },
  {
   "cell_type": "code",
   "execution_count": null,
   "id": "30",
   "metadata": {},
   "outputs": [],
   "source": [
    "total_indices = list(set([element for sublist in total_indices for element in sublist]))"
   ]
  },
  {
   "cell_type": "code",
   "execution_count": null,
   "id": "31",
   "metadata": {},
   "outputs": [],
   "source": [
    "index_set = set(total_indices)\n",
    "dont_remove = [i for i in tqdm(range(len(all_spatial))) if i not in index_set]"
   ]
  },
  {
   "cell_type": "code",
   "execution_count": null,
   "id": "32",
   "metadata": {},
   "outputs": [],
   "source": [
    "micron_to_mosaic_file = \"D:/amonell/merscope_final/SI-Ctrl-L-RAR-R-dist-1-VS120-NP_Beta8/images/micron_to_mosaic_pixel_transform.csv\""
   ]
  },
  {
   "cell_type": "code",
   "execution_count": null,
   "id": "33",
   "metadata": {},
   "outputs": [],
   "source": [
    "micron_to_mosaic_file = pd.read_csv(\n",
    "    micron_to_mosaic_file, header=None, delim_whitespace=True\n",
    ")"
   ]
  },
  {
   "cell_type": "code",
   "execution_count": null,
   "id": "34",
   "metadata": {},
   "outputs": [],
   "source": [
    "spiral_main = [(np.array(i) * downsize) for i in points]"
   ]
  },
  {
   "cell_type": "code",
   "execution_count": null,
   "id": "35",
   "metadata": {},
   "outputs": [],
   "source": [
    "plt.figure(figsize=(4, 4))\n",
    "for i in spiral_main:\n",
    "    plt.plot(i[:, 0], i[:, 1])\n",
    "plt.scatter(\n",
    "    all_spatial[dont_remove][:, 0], all_spatial[dont_remove][:, 1], s=1, color=\"red\"\n",
    ")\n",
    "plt.show()"
   ]
  },
  {
   "cell_type": "markdown",
   "id": "36",
   "metadata": {},
   "source": [
    "## Evenly space points along drawn spiral"
   ]
  },
  {
   "cell_type": "code",
   "execution_count": null,
   "id": "37",
   "metadata": {},
   "outputs": [],
   "source": [
    "%matplotlib inline\n",
    "x_points = []\n",
    "y_points = []\n",
    "for k in spiral_main:\n",
    "    x = k[:, 0]\n",
    "    y = k[:, 1]\n",
    "    # Number of points you want to evenly space\n",
    "    num_points = int(100000 * (len(k) / np.sum([np.shape(l)[0] for l in spiral_main])))\n",
    "\n",
    "    # Calculate the distances between consecutive points on the line\n",
    "    distances = np.sqrt(np.diff(x) ** 2 + np.diff(y) ** 2)\n",
    "\n",
    "    # Calculate the cumulative sum of distances and normalize it to [0, 1]\n",
    "    cumulative_distances = np.cumsum(distances)\n",
    "    normalized_distances = cumulative_distances / cumulative_distances[-1]\n",
    "\n",
    "    # Create evenly spaced values from 0 to 1\n",
    "    evenly_spaced_values = np.linspace(0, 1, num_points)\n",
    "\n",
    "    # Use linear interpolation to calculate the x and y coordinates of the points\n",
    "    x_points_sub = list(np.interp(evenly_spaced_values, normalized_distances, x[:-1]))\n",
    "    y_points_sub = list(np.interp(evenly_spaced_values, normalized_distances, y[:-1]))\n",
    "    x_points += x_points_sub\n",
    "    y_points += y_points_sub\n",
    "    # Plot the original line and the evenly spaced points\n",
    "    # plt.plot(x, y, 'bo-', label='Original Line')\n",
    "    # plt.plot(x_points, y_points, 'r.', label='Evenly Spaced Points')\n",
    "    # plt.xlabel('X')\n",
    "    # plt.ylabel('Y')\n",
    "    # plt.legend()\n",
    "    # plt.grid(True)\n",
    "    # plt.show()"
   ]
  },
  {
   "cell_type": "markdown",
   "id": "38",
   "metadata": {},
   "source": [
    "## Unroll the spiral"
   ]
  },
  {
   "cell_type": "markdown",
   "id": "39",
   "metadata": {},
   "source": [
    "Specify the center of the spiral using the plot above as a reference"
   ]
  },
  {
   "cell_type": "code",
   "execution_count": null,
   "id": "40",
   "metadata": {},
   "outputs": [],
   "source": [
    "plt.figure(figsize=(4, 4))\n",
    "for i in spiral_main:\n",
    "    plt.plot(i[:, 0], i[:, 1])\n",
    "plt.scatter(\n",
    "    all_spatial[dont_remove][:, 0], all_spatial[dont_remove][:, 1], s=1, color=\"red\"\n",
    ")\n",
    "plt.scatter(9700, 8800)\n",
    "plt.show()"
   ]
  },
  {
   "cell_type": "code",
   "execution_count": null,
   "id": "41",
   "metadata": {},
   "outputs": [],
   "source": [
    "# center = [3600, 3400]\n",
    "center = [9700, 8800]\n",
    "# D30 #center = [22000, 20000]\n",
    "# center = [20000, 25000]"
   ]
  },
  {
   "cell_type": "code",
   "execution_count": null,
   "id": "42",
   "metadata": {},
   "outputs": [],
   "source": [
    "x_points = np.array(x_points)\n",
    "y_points = np.array(y_points)"
   ]
  },
  {
   "cell_type": "code",
   "execution_count": null,
   "id": "43",
   "metadata": {},
   "outputs": [],
   "source": [
    "distances = np.sqrt((x_points - center[0]) ** 2 + (y_points - center[1]) ** 2)"
   ]
  },
  {
   "cell_type": "code",
   "execution_count": null,
   "id": "44",
   "metadata": {},
   "outputs": [],
   "source": [
    "all_points = adata.obsm[\"X_spatial\"][dont_remove]"
   ]
  },
  {
   "cell_type": "code",
   "execution_count": null,
   "id": "45",
   "metadata": {},
   "outputs": [],
   "source": [
    "all_distances = np.sqrt(\n",
    "    (all_points[:, 0] - center[0]) ** 2 + (all_points[:, 1] - center[1]) ** 2\n",
    ")"
   ]
  },
  {
   "cell_type": "code",
   "execution_count": null,
   "id": "46",
   "metadata": {},
   "outputs": [],
   "source": [
    "point_index = np.array([i for i in range(len(x_points))])"
   ]
  },
  {
   "cell_type": "code",
   "execution_count": null,
   "id": "47",
   "metadata": {},
   "outputs": [],
   "source": [
    "center_x = center[0]\n",
    "center_y = center[1]"
   ]
  },
  {
   "cell_type": "markdown",
   "id": "48",
   "metadata": {},
   "source": [
    "## This is the proper way to get distal-proximal axis"
   ]
  },
  {
   "cell_type": "code",
   "execution_count": null,
   "id": "49",
   "metadata": {},
   "outputs": [],
   "source": [
    "window_size = 5000\n",
    "\n",
    "# Calculate the differences between each point and the center point\n",
    "delta_x = all_points[:, 0] - center_x\n",
    "delta_y = all_points[:, 1] - center_y\n",
    "\n",
    "# Calculate the distance (r) from the center to each point using the hypot function\n",
    "distances = np.hypot(delta_x, delta_y)\n",
    "\n",
    "# Calculate the angle (theta) of each point from the center using the arctan2 function\n",
    "angles = np.arctan2(delta_y, delta_x)\n",
    "\n",
    "# Convert angles from radians to degrees\n",
    "angles_degrees_all_points = np.degrees(angles)\n",
    "\n",
    "# Calculate the differences between each point and the center point\n",
    "delta_x = x_points - center_x\n",
    "delta_y = y_points - center_y\n",
    "\n",
    "# Calculate the distance (r) from the center to each point using the hypot function\n",
    "distances = np.hypot(delta_x, delta_y)\n",
    "\n",
    "# Calculate the angle (theta) of each point from the center using the arctan2 function\n",
    "angles = np.arctan2(delta_y, delta_x)\n",
    "\n",
    "# Convert angles from radians to degrees\n",
    "angles_degrees_spiral = np.degrees(angles)\n",
    "\n",
    "near_points = []\n",
    "near_distances = []\n",
    "angle_calc = True\n",
    "cd_points = [e for e in range(len(x_points))]\n",
    "for k in tqdm(range(len(all_points))):\n",
    "\n",
    "    if angle_calc == True:\n",
    "        values = np.where(\n",
    "            abs(angles_degrees_all_points[k] - angles_degrees_spiral) < 0.1\n",
    "        )[0]\n",
    "\n",
    "        # Sort the array (if not already sorted)\n",
    "        values = np.sort(values)\n",
    "\n",
    "        # Calculate the differences between adjacent values\n",
    "        differences = np.diff(values)\n",
    "\n",
    "        diff_locs = np.where(differences > window_size)[0]\n",
    "\n",
    "        # Create a boolean mask to group values within 2000 of each other\n",
    "        mask = np.zeros(len(values), dtype=int)\n",
    "\n",
    "        for idx in diff_locs:\n",
    "            mask[0 : idx + 1] += 1\n",
    "\n",
    "        mask_unique = np.unique(mask)\n",
    "        candidate_points = np.array([], dtype=int)\n",
    "        for g in mask_unique:\n",
    "            ids_mask = values[np.where(mask == g)[0]]\n",
    "            if np.all(distances[ids_mask] < all_distances[k]):\n",
    "                candidate_points = np.append(candidate_points, ids_mask)\n",
    "    else:\n",
    "        candidate_points = cd_points\n",
    "\n",
    "    distances_to_center = np.sqrt(\n",
    "        (x_points[candidate_points] - all_points[k][0]) ** 2\n",
    "        + (y_points[candidate_points] - all_points[k][1]) ** 2\n",
    "    )\n",
    "    try:\n",
    "        nearest_idx = np.argmin(distances_to_center)\n",
    "        near_dist = np.min(distances_to_center)\n",
    "        point = point_index[candidate_points][nearest_idx]\n",
    "    except:\n",
    "        distances_to_center = np.sqrt(\n",
    "            (x_points - all_points[k][0]) ** 2 + (y_points - all_points[k][1]) ** 2\n",
    "        )\n",
    "        nearest_idx = np.argmin(distances_to_center)\n",
    "        near_dist = np.min(distances_to_center)\n",
    "        point = point_index[nearest_idx]\n",
    "    near_points.append(point)\n",
    "    near_distances.append(near_dist)"
   ]
  },
  {
   "cell_type": "markdown",
   "id": "50",
   "metadata": {},
   "source": [
    "## Display unrolling"
   ]
  },
  {
   "cell_type": "code",
   "execution_count": null,
   "id": "51",
   "metadata": {},
   "outputs": [],
   "source": [
    "ad_unrolled_points = np.zeros(len(all_spatial))\n",
    "ad_unrolled_distances = np.zeros(len(all_spatial))"
   ]
  },
  {
   "cell_type": "code",
   "execution_count": null,
   "id": "52",
   "metadata": {},
   "outputs": [],
   "source": [
    "ad_unrolled_points[dont_remove] = near_points\n",
    "ad_unrolled_distances[dont_remove] = near_distances"
   ]
  },
  {
   "cell_type": "code",
   "execution_count": null,
   "id": "53",
   "metadata": {},
   "outputs": [],
   "source": [
    "ad_unrolled_points[total_indices] = -1\n",
    "ad_unrolled_distances[total_indices] = -1"
   ]
  },
  {
   "cell_type": "code",
   "execution_count": null,
   "id": "54",
   "metadata": {},
   "outputs": [],
   "source": [
    "adata.obs[\"not_removed_from_longitudinal\"] = ad_unrolled_points != -1"
   ]
  },
  {
   "cell_type": "code",
   "execution_count": null,
   "id": "55",
   "metadata": {},
   "outputs": [],
   "source": [
    "adata.obsm[\"X_unrolled\"] = np.array([ad_unrolled_points, ad_unrolled_distances]).T"
   ]
  },
  {
   "cell_type": "code",
   "execution_count": null,
   "id": "56",
   "metadata": {},
   "outputs": [],
   "source": [
    "sc.set_figure_params(figsize=(10, 5), dpi=300)\n",
    "sc.pl.embedding(adata, basis=\"unrolled\", color=\"topic\", title=\"Neighborhood Unrolled\")"
   ]
  },
  {
   "cell_type": "markdown",
   "id": "57",
   "metadata": {},
   "source": [
    "### Normalize unrolling"
   ]
  },
  {
   "cell_type": "code",
   "execution_count": null,
   "id": "58",
   "metadata": {},
   "outputs": [],
   "source": [
    "plt.hist(adata.obsm[\"X_unrolled\"][:, 1], bins=100)\n",
    "plt.show()"
   ]
  },
  {
   "cell_type": "code",
   "execution_count": null,
   "id": "59",
   "metadata": {},
   "outputs": [],
   "source": [
    "adata.obsm[\"X_unrolled\"][:, 1] = np.clip(adata.obsm[\"X_unrolled\"][:, 1], 0, 700)"
   ]
  },
  {
   "cell_type": "code",
   "execution_count": null,
   "id": "60",
   "metadata": {},
   "outputs": [],
   "source": [
    "points = adata.obsm[\"X_unrolled\"]\n",
    "adata.obs[\"normalized_crypt_villi\"] = [0 for i in range(len(adata.obs.index))]\n",
    "# Define the number of bins\n",
    "num_bins = 200\n",
    "\n",
    "# Bin the points along the x-axis\n",
    "bins = np.linspace(np.min(points[:, 0]), np.max(points[:, 0] + 1), num_bins + 1)\n",
    "\n",
    "# Initialize the normalized_crypt list\n",
    "normalized_crypt = []\n",
    "\n",
    "# Iterate over each bin\n",
    "for i in range(num_bins):\n",
    "    # Find the indices of points within the current bin\n",
    "    indices = np.where((points[:, 0] >= bins[i]) & (points[:, 0] < bins[i + 1]))[0]\n",
    "    # print(indices)\n",
    "    # Extract the y-values of points within the bin\n",
    "    y_values = points[indices, 1]\n",
    "\n",
    "    try:\n",
    "        # Normalize the y-values by dividing by the maximum value in the bin\n",
    "        normalized_y = y_values / np.max(y_values)\n",
    "\n",
    "        # Append the normalized y-values to the normalized_crypt list\n",
    "        adata.obs[\"normalized_crypt_villi\"][indices] = normalized_y.tolist()\n",
    "    except:\n",
    "        None\n",
    "    # normalized_crypt.extend(normalized_y.tolist())\n",
    "\n",
    "# Convert the normalized_crypt list to a NumPy array\n",
    "# normalized_crypt = np.array(normalized_crypt)\n",
    "# adata.obs['normalized_crypt_villi'] = normalized_crypt"
   ]
  },
  {
   "cell_type": "code",
   "execution_count": null,
   "id": "61",
   "metadata": {},
   "outputs": [],
   "source": [
    "adata.obsm[\"X_unrolled_norm\"] = np.array(\n",
    "    [adata.obsm[\"X_unrolled\"][:, 0], adata.obs[\"normalized_crypt_villi\"].values]\n",
    ").T"
   ]
  },
  {
   "cell_type": "code",
   "execution_count": null,
   "id": "62",
   "metadata": {},
   "outputs": [],
   "source": [
    "sc.set_figure_params(figsize=(10, 5), dpi=300)\n",
    "sc.pl.embedding(\n",
    "    adata,\n",
    "    basis=\"unrolled_norm\",\n",
    "    color=\"topic\",\n",
    "    title=\"Neighborhood Unrolled Normalized\",\n",
    ")"
   ]
  },
  {
   "cell_type": "markdown",
   "id": "63",
   "metadata": {},
   "source": [
    "## Reordering Neighborhoods"
   ]
  },
  {
   "cell_type": "code",
   "execution_count": null,
   "id": "64",
   "metadata": {},
   "outputs": [],
   "source": [
    "topics = adata.obs[\"topic\"]\n",
    "try:\n",
    "    normalized_crypt_villi = adata.obs[\"normalized_crypt_villi\"]\n",
    "except:\n",
    "    adata.obs[\"normalized_crypt_villi\"] = adata.obsm[\"X_unrolled\"][:, 1]\n",
    "    normalized_crypt_villi = adata.obs[\"normalized_crypt_villi\"]\n",
    "# Calculate the mean 'normalized_crypt_villi' for each topic\n",
    "mean_crypt_villi_per_topic = normalized_crypt_villi.groupby(topics).mean()\n",
    "\n",
    "# Sort the topics based on the mean 'normalized_crypt_villi' in ascending order\n",
    "sorted_topics = mean_crypt_villi_per_topic.sort_values().index\n",
    "\n",
    "# Create a dictionary to map the current topics to the new order\n",
    "topic_mapping = {\n",
    "    topic: new_topic for new_topic, topic in enumerate(sorted_topics, start=1)\n",
    "}\n",
    "\n",
    "# Update the 'topics' in the adata object\n",
    "adata.obs[\"topic\"] = topics.map(topic_mapping)"
   ]
  },
  {
   "cell_type": "code",
   "execution_count": null,
   "id": "65",
   "metadata": {},
   "outputs": [],
   "source": [
    "# Calculate the mean 'normalized_crypt_villi' for each topic\n",
    "mean_crypt_villi_per_topic = adata.obs.groupby(\"topic\")[\"normalized_crypt_villi\"].mean()\n",
    "\n",
    "# Sort the topics based on the mean 'normalized_crypt_villi' in ascending order\n",
    "sorted_topics = mean_crypt_villi_per_topic.sort_values().index\n",
    "# Convert the 'sorted_topics' to a list of strings, as Seurat expects the group names to be strings\n",
    "sorted_topics_str = [(topic) for topic in sorted_topics]"
   ]
  },
  {
   "cell_type": "code",
   "execution_count": null,
   "id": "66",
   "metadata": {},
   "outputs": [],
   "source": [
    "adata.obs.topic = adata.obs.topic.cat.reorder_categories(sorted_topics_str)"
   ]
  },
  {
   "cell_type": "code",
   "execution_count": null,
   "id": "67",
   "metadata": {},
   "outputs": [],
   "source": [
    "sc.set_figure_params(figsize=(10, 5), dpi=300)\n",
    "fig = sc.pl.embedding(\n",
    "    adata, basis=\"unrolled\", color=\"topic\", title=\"Reference Unrolled\", return_fig=True\n",
    ")\n",
    "fig.tight_layout()\n",
    "try:\n",
    "    os.mkdir(os.path.join(path_adata, \"figures\", \"reference_unrolling\"))\n",
    "except:\n",
    "    print(\"Already made unrolling directory\")\n",
    "fig.savefig(os.path.join(path_adata, \"figures\", \"reference_unrolling\", \"unrolled.png\"))"
   ]
  },
  {
   "cell_type": "code",
   "execution_count": null,
   "id": "68",
   "metadata": {},
   "outputs": [],
   "source": [
    "adata.obs.topic = adata.obs.topic.astype(str)"
   ]
  },
  {
   "cell_type": "code",
   "execution_count": null,
   "id": "69",
   "metadata": {},
   "outputs": [],
   "source": [
    "# Use the 'order' parameter in the sc.pl.violin() function to set the order of the violins\n",
    "ax = sc.pl.violin(\n",
    "    adata,\n",
    "    groupby=\"topic\",\n",
    "    keys=\"normalized_crypt_villi\",\n",
    "    xlabel=\"Neighborhood\",\n",
    "    ylabel=\"Distance from Base of Villi\",\n",
    "    order=sorted_topics_str,\n",
    "    show=False,\n",
    ")\n",
    "plt.savefig(\n",
    "    os.path.join(\n",
    "        path_adata, \"figures\", \"reference_unrolling\", \"neighborhoods_sorted.png\"\n",
    "    )\n",
    ")"
   ]
  },
  {
   "cell_type": "markdown",
   "id": "70",
   "metadata": {},
   "source": [
    "## Cutoff"
   ]
  },
  {
   "cell_type": "markdown",
   "id": "71",
   "metadata": {},
   "source": [
    "Make a cutoff on the unrolled slice. It will not throw away cells, just mark them. Do not change the parameters without asking Alex"
   ]
  },
  {
   "cell_type": "code",
   "execution_count": null,
   "id": "72",
   "metadata": {},
   "outputs": [],
   "source": [
    "plt.scatter(\n",
    "    adata.obsm[\"X_unrolled\"][:, 0],\n",
    "    adata.obsm[\"X_unrolled\"][:, 1],\n",
    "    s=0.1,\n",
    "    linewidths=0.01,\n",
    "    color=adata.uns[\"topic_colors\"][adata.obs[\"topic\"].values.astype(int) - 1],\n",
    ")"
   ]
  },
  {
   "cell_type": "code",
   "execution_count": null,
   "id": "73",
   "metadata": {},
   "outputs": [],
   "source": [
    "upper_cutoff = 100000\n",
    "lower_cutoff = 0"
   ]
  },
  {
   "cell_type": "code",
   "execution_count": null,
   "id": "74",
   "metadata": {},
   "outputs": [],
   "source": [
    "bool_array = (lower_cutoff < adata.obsm[\"X_unrolled\"][:, 0]) & (\n",
    "    upper_cutoff > adata.obsm[\"X_unrolled\"][:, 0]\n",
    ")"
   ]
  },
  {
   "cell_type": "code",
   "execution_count": null,
   "id": "75",
   "metadata": {},
   "outputs": [],
   "source": [
    "adata.obs[\"keep_section_unrolled\"] = bool_array"
   ]
  },
  {
   "cell_type": "code",
   "execution_count": null,
   "id": "76",
   "metadata": {},
   "outputs": [],
   "source": [
    "adata.obs[\"longitudinal\"] = adata.obsm[\"X_unrolled\"][:, 0]"
   ]
  },
  {
   "cell_type": "code",
   "execution_count": null,
   "id": "77",
   "metadata": {},
   "outputs": [],
   "source": [
    "sc.pl.embedding(adata, basis=\"spatial\", color=\"longitudinal\", size=2)"
   ]
  },
  {
   "cell_type": "code",
   "execution_count": null,
   "id": "78",
   "metadata": {},
   "outputs": [],
   "source": [
    "adata.write(os.path.join(path_adata, \"adatas\", \"05_reference_unrolled.h5ad\"))"
   ]
  },
  {
   "cell_type": "markdown",
   "id": "79",
   "metadata": {},
   "source": [
    "## Plot crypt-villi and longitudinal axis"
   ]
  },
  {
   "cell_type": "code",
   "execution_count": null,
   "id": "80",
   "metadata": {},
   "outputs": [],
   "source": [
    "sc.set_figure_params(figsize=(7, 7))\n",
    "sc.pl.embedding(\n",
    "    adata,\n",
    "    basis=\"spatial\",\n",
    "    color=\"normalized_crypt_villi\",\n",
    "    title=f\"Crypt-Villi Axis\",\n",
    "    size=2,\n",
    ")"
   ]
  },
  {
   "cell_type": "code",
   "execution_count": null,
   "id": "81",
   "metadata": {},
   "outputs": [],
   "source": [
    "sc.pl.embedding(adata, basis=\"spatial\", color=\"longitudinal\", size=2)"
   ]
  }
 ],
 "metadata": {
  "kernelspec": {
   "display_name": "Python 3 (ipykernel)",
   "language": "python",
   "name": "python3"
  },
  "language_info": {
   "codemirror_mode": {
    "name": "ipython",
    "version": 3
   },
   "file_extension": ".py",
   "mimetype": "text/x-python",
   "name": "python",
   "nbconvert_exporter": "python",
   "pygments_lexer": "ipython3",
   "version": "3.9.17"
  }
 },
 "nbformat": 4,
 "nbformat_minor": 5
}
