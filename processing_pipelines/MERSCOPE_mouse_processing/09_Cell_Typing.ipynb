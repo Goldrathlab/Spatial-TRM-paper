{
 "cells": [
  {
   "cell_type": "markdown",
   "id": "0",
   "metadata": {},
   "source": [
    "## Notebook for assigning cell types to clusters after manual annotation"
   ]
  },
  {
   "cell_type": "code",
   "execution_count": null,
   "id": "1",
   "metadata": {},
   "outputs": [],
   "source": [
    "import scanpy as sc\n",
    "import numpy as np\n",
    "from tqdm.notebook import tqdm\n",
    "import os\n",
    "import pandas as pd\n",
    "import seaborn as sns\n",
    "import matplotlib.pyplot as plt\n",
    "import scvi\n",
    "import glob"
   ]
  },
  {
   "cell_type": "code",
   "execution_count": null,
   "id": "2",
   "metadata": {},
   "outputs": [],
   "source": [
    "sc.set_figure_params(figsize=(4, 4))\n",
    "### Path to the MERSCOPE object from the previous script.\n",
    "input_folders = \"/projects/2023_Spatial_Paper/Analysis_Alex/merscope_final/analysis/final/integrated_clustered.h5ad\"\n",
    "merscope = sc.read(input_folders)\n",
    "### Path to the Xenium final object after replicate 2 processing\n",
    "input_folders_x = \"/mnt/sata1/Analysis_Alex/timecourse_replicates/analysis/cleaned/full_xenium_replicates_and_reference.h5ad\"\n",
    "types = sc.read(input_folders_x)"
   ]
  },
  {
   "cell_type": "markdown",
   "id": "3",
   "metadata": {},
   "source": [
    "### Getting the celltype heirarchies from the Xenium data"
   ]
  },
  {
   "cell_type": "code",
   "execution_count": null,
   "id": "4",
   "metadata": {},
   "outputs": [],
   "source": [
    "types_ = pd.crosstab(types.obs[\"Type\"], types.obs[\"Subtype\"])\n",
    "class_ = pd.crosstab(types.obs[\"Class\"], types.obs[\"Type\"])\n",
    "immuno_ = pd.crosstab(types.obs[\"Immunocentric_Type\"], types.obs[\"Subtype\"])"
   ]
  },
  {
   "cell_type": "markdown",
   "id": "5",
   "metadata": {},
   "source": [
    "#### Reading in a csv file with manual annotations of the sub-Leiden clusters that we derived through an ensembl of methods and manual annotation. This csv is provide in this directory"
   ]
  },
  {
   "cell_type": "code",
   "execution_count": null,
   "id": "6",
   "metadata": {},
   "outputs": [],
   "source": [
    "celllabels = pd.read_csv(\"merscope_annotations.csv\", index_col=0)\n",
    "celltypes = []\n",
    "for i in merscope.obs[\"Sub_leiden\"].values:\n",
    "    celltypes.append(celllabels.loc[i].values[0])\n",
    "merscope.obs[\"Subtype\"] = celltypes"
   ]
  },
  {
   "cell_type": "markdown",
   "id": "7",
   "metadata": {},
   "source": [
    "### Fixing nomenclature of the Subtype annotations"
   ]
  },
  {
   "cell_type": "code",
   "execution_count": null,
   "id": "8",
   "metadata": {},
   "outputs": [],
   "source": [
    "merscope.obs[\"Subtype\"] = pd.Categorical(merscope.obs[\"Subtype\"].values)"
   ]
  },
  {
   "cell_type": "code",
   "execution_count": null,
   "id": "9",
   "metadata": {},
   "outputs": [],
   "source": [
    "merscope.obs[\"Subtype\"] = (\n",
    "    merscope.obs[\"Subtype\"]\n",
    "    .replace(\"Enterocyte 1\", \"Enterocyte_1\")\n",
    "    .replace(\"Enterocyte 2\", \"Enterocyte_2\")\n",
    "    .replace(\"Enterocyte 3\", \"Enterocyte_3\")\n",
    ")\n",
    "merscope.obs[\"Subtype\"] = merscope.obs[\"Subtype\"].replace(\"Eosinophils\", \"Eosinophil\")\n",
    "merscope.obs[\"Subtype\"] = merscope.obs[\"Subtype\"].replace(\n",
    "    \"Fibroblast_Pdgfrb+\", \"Fibroblast_Pdgfrb+ \"\n",
    ")\n",
    "merscope.obs[\"Subtype\"] = merscope.obs[\"Subtype\"].replace(\n",
    "    \"Resting_Fibroblast\", \"Resting Fibroblast\"\n",
    ")"
   ]
  },
  {
   "cell_type": "markdown",
   "id": "10",
   "metadata": {},
   "source": [
    "### Fixing nomenclature of type and class annotations."
   ]
  },
  {
   "cell_type": "code",
   "execution_count": null,
   "id": "11",
   "metadata": {},
   "outputs": [],
   "source": [
    "types_flip = types_.T\n",
    "types_flip[\"Unknown\"] = 0\n",
    "types_ = types_flip.T"
   ]
  },
  {
   "cell_type": "code",
   "execution_count": null,
   "id": "12",
   "metadata": {},
   "outputs": [],
   "source": [
    "types_[\"Unknown_1\"] = [0 if i != \"Unknown\" else 1 for i in types_.index.values]\n",
    "types_[\"Unknown_2\"] = [0 if i != \"Unknown\" else 1 for i in types_.index.values]"
   ]
  },
  {
   "cell_type": "code",
   "execution_count": null,
   "id": "13",
   "metadata": {},
   "outputs": [],
   "source": [
    "class_flip = class_.T\n",
    "class_flip[\"Unknown\"] = 0\n",
    "class_ = class_flip.T"
   ]
  },
  {
   "cell_type": "code",
   "execution_count": null,
   "id": "14",
   "metadata": {},
   "outputs": [],
   "source": [
    "class_[\"Unknown\"] = [0 if i != \"Unknown\" else 1 for i in class_.index.values]"
   ]
  },
  {
   "cell_type": "code",
   "execution_count": null,
   "id": "15",
   "metadata": {},
   "outputs": [],
   "source": [
    "types_[\"Fibroblast_Apoe+\"] = [\n",
    "    0 if i != \"Fibroblast\" else 1 for i in types_.index.values\n",
    "]"
   ]
  },
  {
   "cell_type": "markdown",
   "id": "16",
   "metadata": {},
   "source": [
    "### Final annotation placement and plotting"
   ]
  },
  {
   "cell_type": "code",
   "execution_count": null,
   "id": "17",
   "metadata": {},
   "outputs": [],
   "source": [
    "xenium.obs[\"indices\"] = [i for i in range(len(xenium.obs.index))]\n",
    "\n",
    "type_dictionary = {}\n",
    "for i in merscope.obs[\"Subtype\"].cat.categories:\n",
    "    type_dictionary[i] = types_.index.values[np.where(types_[i].values > 0)[0]][0]\n",
    "all_types = []\n",
    "for k in merscope.obs[\"Subtype\"].values:\n",
    "    all_types.append(type_dictionary.get(k))\n",
    "merscope.obs[\"Type\"] = all_types\n",
    "\n",
    "itype_dictionary = {}\n",
    "for i in merscope.obs[\"Subtype\"].cat.categories:\n",
    "    try:\n",
    "        itype_dictionary[i] = immuno_.index.values[np.where(immuno_[i].values > 0)[0]][\n",
    "            0\n",
    "        ]\n",
    "    except:\n",
    "        itype_dictionary[i] = \"None\"\n",
    "all_itypes = []\n",
    "for k in merscope.obs[\"Subtype\"].values:\n",
    "    all_itypes.append(itype_dictionary.get(k))\n",
    "merscope.obs[\"Immunocentric_Type\"] = all_itypes\n",
    "\n",
    "class_dictionary = {}\n",
    "for i in np.unique(merscope.obs[\"Type\"].values):\n",
    "    class_dictionary[i] = class_.index.values[np.where(class_[i].values > 0)[0]][0]\n",
    "all_classes = []\n",
    "for k in merscope.obs[\"Type\"].values:\n",
    "    all_classes.append(class_dictionary.get(k))\n",
    "merscope.obs[\"Class\"] = all_classes\n",
    "\n",
    "sc.pl.embedding(merscope, basis=\"mde\", color=[\"Sub_leiden\", \"Type\", \"Class\"], ncols=1)"
   ]
  },
  {
   "cell_type": "markdown",
   "id": "18",
   "metadata": {},
   "source": [
    "### Write out the data at the desired path"
   ]
  },
  {
   "cell_type": "code",
   "execution_count": null,
   "id": "19",
   "metadata": {},
   "outputs": [],
   "source": [
    "merscope.write(\n",
    "    \"/projects/2023_Spatial_Paper/Analysis_Alex/merscope_final/analysis/final/full_celltypes_and_leiden.h5ad\"\n",
    ")"
   ]
  }
 ],
 "metadata": {
  "kernelspec": {
   "display_name": "Python 3 (ipykernel)",
   "language": "python",
   "name": "python3"
  },
  "language_info": {
   "codemirror_mode": {
    "name": "ipython",
    "version": 3
   },
   "file_extension": ".py",
   "mimetype": "text/x-python",
   "name": "python",
   "nbconvert_exporter": "python",
   "pygments_lexer": "ipython3",
   "version": "3.9.18"
  }
 },
 "nbformat": 4,
 "nbformat_minor": 5
}
