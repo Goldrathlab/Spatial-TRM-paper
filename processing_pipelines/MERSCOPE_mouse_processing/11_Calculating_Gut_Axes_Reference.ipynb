{
 "cells": [
  {
   "cell_type": "code",
   "execution_count": null,
   "metadata": {},
   "outputs": [],
   "source": [
    "import numpy as np\n",
    "import os\n",
    "import matplotlib.pyplot as plt\n",
    "import scanpy as sc\n",
    "from cv2 import resize\n",
    "from tqdm.notebook import tqdm\n",
    "import json"
   ]
  },
  {
   "cell_type": "markdown",
   "metadata": {},
   "source": [
    "Roll 1 of Beta8 was the reference in the MERSCOPE data. Hardcoded in here.\n",
    "\n",
    "We first convert the MERSCOPE micron coordinates to pixels."
   ]
  },
  {
   "cell_type": "code",
   "execution_count": null,
   "metadata": {},
   "outputs": [],
   "source": [
    "merscope_path = r\"/projects/2023_Spatial_Paper/Analysis_Alex/merscope_final/SI-Ctrl-L-RAR-R-dist-1-VS120-NP_Beta8\"\n",
    "reference_unrolled = sc.read(\n",
    "    os.path.join(merscope_path, \"adatas\", \"05_reference_unrolled.h5ad\")\n",
    ")\n",
    "\n",
    "vill_seg = np.load(os.path.join(merscope_path, \"villi_segmentation_mask.npy\"))\n",
    "adata = sc.read(\n",
    "    os.path.join(merscope_path, \"adatas\", \"06_before_decomposition_model_roll1.h5ad\")\n",
    ")"
   ]
  },
  {
   "cell_type": "code",
   "execution_count": null,
   "metadata": {},
   "outputs": [],
   "source": [
    "adata.obs[\"x\"] = adata.obsm[\"X_spatial\"][:, 0]\n",
    "adata.obs[\"y\"] = adata.obsm[\"X_spatial\"][:, 1]"
   ]
  },
  {
   "cell_type": "code",
   "execution_count": null,
   "metadata": {},
   "outputs": [],
   "source": [
    "def apply_transform(point, matrix):\n",
    "    x, y, _ = point\n",
    "    new_x = matrix[0][0] * x + matrix[0][1] * y + matrix[0][2]\n",
    "    new_y = matrix[1][0] * x + matrix[1][1] * y + matrix[1][2]\n",
    "    return new_x, new_y\n",
    "\n",
    "\n",
    "xvals = adata.obs.x.values\n",
    "yvals = adata.obs.y.values\n",
    "\n",
    "points = [(xvals[j], yvals[j], 1) for j in range(len(xvals))]\n",
    "\n",
    "# The matrix in the micron_to_mosaic file supplied in the reference output by Vizgen.\n",
    "matrix = [\n",
    "    [9.259335517883300781e00, 0.000000000000000000e00, 1.038718627929687500e03],\n",
    "    [0.000000000000000000e00, 9.259373664855957031e00, 8.366503295898437500e02],\n",
    "    [0.000000000000000000e00, 0.000000000000000000e00, 1.000000000000000000e00],\n",
    "]\n",
    "\n",
    "transformed_points = [apply_transform(point, matrix) for point in points]"
   ]
  },
  {
   "cell_type": "markdown",
   "metadata": {},
   "source": [
    "Plotting the cells over the villus segmentation masks and assigining cells to villi"
   ]
  },
  {
   "cell_type": "code",
   "execution_count": null,
   "metadata": {},
   "outputs": [],
   "source": [
    "downsize_factor = np.load(\n",
    "    os.path.join(merscope_path, \"villi_segmentation_downsize_factor.npy\")\n",
    ")\n",
    "\n",
    "xvals = np.array(transformed_points)[:, 0] / downsize_factor\n",
    "yvals = np.array(transformed_points)[:, 1] / downsize_factor\n",
    "\n",
    "plt.imshow(vill_seg)\n",
    "plt.scatter(xvals, yvals, s=1)\n",
    "plt.show()\n",
    "\n",
    "villi_numbers = vill_seg[yvals.astype(int), xvals.astype(int)]\n",
    "adata.obs[\"villi_number\"] = villi_numbers"
   ]
  },
  {
   "cell_type": "code",
   "execution_count": null,
   "metadata": {},
   "outputs": [],
   "source": [
    "in_villi = []\n",
    "for i in adata.obs[\"villi_number\"].values:\n",
    "    if i == 0:\n",
    "        in_villi.append(False)\n",
    "    else:\n",
    "        in_villi.append(True)\n",
    "\n",
    "adata.obs[\"in_villi\"] = in_villi\n",
    "unique_villi = np.unique(adata.obs.villi_number)"
   ]
  },
  {
   "cell_type": "markdown",
   "metadata": {},
   "source": [
    "Calculating the the training crypt-villus axis for the reference dataset"
   ]
  },
  {
   "cell_type": "code",
   "execution_count": null,
   "metadata": {},
   "outputs": [],
   "source": [
    "adata.obs = adata.obs.merge(\n",
    "    reference_unrolled.obs[[\"normalized_crypt_villi\"]],\n",
    "    how=\"left\",\n",
    "    left_index=True,\n",
    "    right_index=True,\n",
    ")"
   ]
  },
  {
   "cell_type": "code",
   "execution_count": null,
   "metadata": {},
   "outputs": [],
   "source": [
    "norm_scaled = np.zeros(len(adata.obs.index.values))\n",
    "for i in tqdm(unique_villi):\n",
    "    if i == 0:\n",
    "        indices = np.array(adata.obs[\"villi_number\"] == i)\n",
    "        norm_vals = adata[indices, :].obs[\"normalized_crypt_villi\"].values\n",
    "        norm_scaled[indices] = norm_vals\n",
    "    else:\n",
    "        indices = np.array(adata.obs[\"villi_number\"] == i)\n",
    "        norm_vals = adata[indices, :].obs[\"normalized_crypt_villi\"].values\n",
    "        norm_scaled[indices] = norm_vals / np.max(norm_vals)"
   ]
  },
  {
   "cell_type": "code",
   "execution_count": null,
   "metadata": {},
   "outputs": [],
   "source": [
    "adata.obs[\"normalized_crypt_villi_scaled\"] = norm_scaled"
   ]
  },
  {
   "cell_type": "code",
   "execution_count": null,
   "metadata": {},
   "outputs": [],
   "source": [
    "sc.pl.embedding(\n",
    "    adata, basis=\"spatial\", color=\"normalized_crypt_villi_scaled\", frameon=False\n",
    ")"
   ]
  },
  {
   "cell_type": "code",
   "execution_count": null,
   "metadata": {},
   "outputs": [],
   "source": [
    "adata.write(\n",
    "    os.path.join(merscope_path, \"adatas\", \"07_axes_defined_reference_roll1.h5ad\")\n",
    ")"
   ]
  }
 ],
 "metadata": {
  "kernelspec": {
   "display_name": "tensorflow",
   "language": "python",
   "name": "python3"
  },
  "language_info": {
   "codemirror_mode": {
    "name": "ipython",
    "version": 3
   },
   "file_extension": ".py",
   "mimetype": "text/x-python",
   "name": "python",
   "nbconvert_exporter": "python",
   "pygments_lexer": "ipython3",
   "version": "3.8.18"
  }
 },
 "nbformat": 4,
 "nbformat_minor": 2
}
