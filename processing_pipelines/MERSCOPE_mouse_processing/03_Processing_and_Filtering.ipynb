{
 "cells": [
  {
   "cell_type": "code",
   "execution_count": null,
   "id": "0",
   "metadata": {},
   "outputs": [],
   "source": [
    "import matplotlib.pyplot as plt\n",
    "import pandas as pd\n",
    "import seaborn as sns\n",
    "from anndata import AnnData\n",
    "import glob\n",
    "import os\n",
    "import numpy as np\n",
    "import scanpy as sc\n",
    "from tqdm.notebook import tqdm\n",
    "from core_functions.processing_and_filtering import *"
   ]
  },
  {
   "cell_type": "markdown",
   "id": "1",
   "metadata": {},
   "source": [
    "#### Filtering low quality cells before postprocessing. Enter the path to the data folder with the MERSCOPE adatas. "
   ]
  },
  {
   "cell_type": "code",
   "execution_count": null,
   "id": "2",
   "metadata": {},
   "outputs": [],
   "source": [
    "data_dir = \"D:/amonell/merscope_final\""
   ]
  },
  {
   "cell_type": "code",
   "execution_count": null,
   "id": "3",
   "metadata": {},
   "outputs": [],
   "source": [
    "input_folders = glob.glob(os.path.join(data_dir, \"SI*\"))"
   ]
  },
  {
   "cell_type": "code",
   "execution_count": null,
   "id": "4",
   "metadata": {},
   "outputs": [],
   "source": [
    "def qc_before_clustering(\n",
    "    adata,\n",
    "    min_transcript_threshold=20,\n",
    "    max_transcript_threshold=2500,\n",
    "    min_unique_transcripts=8,\n",
    "    max_unique_transcripts=600,\n",
    "):\n",
    "    print(f\"{len(adata.obs.index)} cells before QC filtering\")\n",
    "    adata = adata[\n",
    "        (adata.obs[\"total_transcripts\"] > min_transcript_threshold)\n",
    "        & (adata.obs[\"total_transcripts\"] < max_transcript_threshold),\n",
    "        :,\n",
    "    ]\n",
    "    adata = adata[\n",
    "        (adata.obs[\"unique_transcripts\"] > min_unique_transcripts)\n",
    "        & (adata.obs[\"unique_transcripts\"] < max_unique_transcripts),\n",
    "        :,\n",
    "    ]\n",
    "\n",
    "    print(f\"{len(adata.obs.index)} cells after QC filtering\")\n",
    "\n",
    "    return adata"
   ]
  },
  {
   "cell_type": "markdown",
   "id": "5",
   "metadata": {},
   "source": [
    "#### We used default parameters for the filtering, but you can choose different when prompted."
   ]
  },
  {
   "cell_type": "code",
   "execution_count": null,
   "id": "6",
   "metadata": {},
   "outputs": [],
   "source": [
    "for input_file in tqdm(input_folders):\n",
    "    experiment = sc.read(os.path.join(input_file, \"adatas\", \"01_preprocessed.h5ad\"))\n",
    "    # experiment = experiment[1:, :]\n",
    "    experiment.obs[\"total_transcripts\"] = np.sum(experiment.X, axis=1)\n",
    "    experiment.obs[\"unique_transcripts\"] = np.count_nonzero(experiment.X, axis=1)\n",
    "    try:\n",
    "        df = pd.DataFrame(\n",
    "            experiment.X.A,\n",
    "            columns=experiment.var.index.values,\n",
    "            index=experiment.obs.index.values,\n",
    "        )\n",
    "    except:\n",
    "        df = pd.DataFrame(\n",
    "            experiment.X,\n",
    "            columns=experiment.var.index.values,\n",
    "            index=experiment.obs.index.values,\n",
    "        )\n",
    "\n",
    "    metadata = experiment.obs\n",
    "    print(\"QC metrics for batch \" + os.path.basename(input_file))\n",
    "\n",
    "    plot_qc_feature(df, metadata, os.path.join(input_file), False)\n",
    "\n",
    "    default_parameters = input(\"Do you want to use default filtering cutoffs (y/n)?\")\n",
    "\n",
    "    if default_parameters == \"n\":\n",
    "\n",
    "        min_transcript_threshold = float(input(\"Min transcripts threshold: \"))\n",
    "        max_transcript_threshold = float(input(\"Max transcripts threshold: \"))\n",
    "\n",
    "        min_unique_transcripts = float(input(\"Min unique transcripts: \"))\n",
    "        max_unique_transcripts = float(input(\"Max unique transcripts: \"))\n",
    "\n",
    "        min_cyto_transcripts = float(input(\"Min cyto transcripts: \"))\n",
    "        max_cyto_transcripts = float(input(\"Max cyto transcripts: \"))\n",
    "\n",
    "        min_nuc_pct = float(input(\"Min nuclear transcripts / total transcripts: \"))\n",
    "        max_nuc_pct = float(input(\"Max nuclear transcripts / total transcripts: \"))\n",
    "\n",
    "        experiment = qc_before_clustering(\n",
    "            experiment,\n",
    "            min_transcript_threshold,\n",
    "            max_transcript_threshold,\n",
    "            min_unique_transcripts,\n",
    "            max_unique_transcripts,\n",
    "        )\n",
    "    else:\n",
    "        experiment = qc_before_clustering(experiment)\n",
    "\n",
    "    experiment.write(\n",
    "        os.path.join(input_file, \"adatas\", \"02_preprocessed_and_filtered.h5ad\")\n",
    "    )"
   ]
  }
 ],
 "metadata": {
  "kernelspec": {
   "display_name": "Python 3 (ipykernel)",
   "language": "python",
   "name": "python3"
  },
  "language_info": {
   "codemirror_mode": {
    "name": "ipython",
    "version": 3
   },
   "file_extension": ".py",
   "mimetype": "text/x-python",
   "name": "python",
   "nbconvert_exporter": "python",
   "pygments_lexer": "ipython3",
   "version": "3.8.0"
  }
 },
 "nbformat": 4,
 "nbformat_minor": 5
}
