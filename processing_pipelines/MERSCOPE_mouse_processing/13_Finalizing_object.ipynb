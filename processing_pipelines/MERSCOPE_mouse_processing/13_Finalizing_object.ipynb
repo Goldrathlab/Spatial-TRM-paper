{
 "cells": [
  {
   "cell_type": "code",
   "execution_count": null,
   "metadata": {},
   "outputs": [],
   "source": [
    "import scanpy as sc\n",
    "import os\n",
    "import numpy as np\n",
    "from tqdm.notebook import tqdm\n",
    "import glob\n",
    "from scipy.spatial import KDTree\n",
    "import matplotlib.pyplot as plt\n",
    "import scipy.stats as stats"
   ]
  },
  {
   "cell_type": "markdown",
   "metadata": {},
   "source": [
    "##### Add the paths to the MERSCOPE datasets."
   ]
  },
  {
   "cell_type": "code",
   "execution_count": null,
   "metadata": {},
   "outputs": [],
   "source": [
    "input_folders = glob.glob(\n",
    "    \"/projects/2023_Spatial_Paper/Analysis_Alex/merscope_final/SI*\"\n",
    ")"
   ]
  },
  {
   "cell_type": "markdown",
   "metadata": {},
   "source": [
    "##### Add the path to the cell-typed object"
   ]
  },
  {
   "cell_type": "code",
   "execution_count": null,
   "metadata": {},
   "outputs": [],
   "source": [
    "output_folder = (\n",
    "    r\"/projects/2023_Spatial_Paper/Analysis_Alex/merscope_final/analysis/final\"\n",
    ")\n",
    "combined_adata = sc.read(os.path.join(output_folder, \"full_celltypes_and_leiden.h5ad\"))"
   ]
  },
  {
   "cell_type": "markdown",
   "metadata": {},
   "source": [
    "##### Subset the axes-calculated objects to only include cells from the full celltyped object"
   ]
  },
  {
   "cell_type": "code",
   "execution_count": null,
   "metadata": {},
   "outputs": [],
   "source": [
    "for input_file in input_folders:\n",
    "    for roll in [\"roll1\", \"roll2\"]:\n",
    "        adata = sc.read(\n",
    "            os.path.join(input_file, \"adatas\", f\"07_axes_defined_{roll}.h5ad\")\n",
    "        )\n",
    "\n",
    "        sub_combined = combined_adata[\n",
    "            combined_adata.obs[\"batch\"]\n",
    "            == os.path.basename(input_file) + f\"_roll_{roll}\"\n",
    "        ]\n",
    "        sub_combined.obs[\"indices\"] = [i for i in range(len(sub_combined.obs.index))]\n",
    "        indices = adata.obs.merge(\n",
    "            sub_combined.obs, left_on=\"cell\", right_index=True, how=\"left\"\n",
    "        )[\"indices\"].values\n",
    "        adata = adata[np.where(np.invert(np.isnan(indices)))[0], :]\n",
    "\n",
    "        indices = indices[np.where(np.invert(np.isnan(indices)))]\n",
    "        indices = indices.astype(int)\n",
    "        adata.obsm[\"X_mde\"] = sub_combined.obsm[\"X_mde\"][indices, :]\n",
    "        adata.obsm[\"X_scVI\"] = sub_combined.obsm[\"X_scVI\"][indices, :]\n",
    "        if \"predicted_longitudinal\" not in adata.obs.columns:\n",
    "            adata.obs[\"predicted_longitudinal\"] = adata.obs[\"longitudinal\"]\n",
    "        adata.obs[\"batch\"] = os.path.basename(input_file) + f\"_roll_{roll}\"\n",
    "        adata.write(os.path.join(input_file, \"adatas\", f\"08_final_adata_{roll}.h5ad\"))"
   ]
  },
  {
   "cell_type": "markdown",
   "metadata": {},
   "source": [
    "#### Concatenate all rolls"
   ]
  },
  {
   "cell_type": "code",
   "execution_count": null,
   "metadata": {},
   "outputs": [],
   "source": [
    "adatalist = []\n",
    "for input_file in input_folders:\n",
    "    for roll in [\"roll1\", \"roll2\"]:\n",
    "        adatalist.append(\n",
    "            sc.read(os.path.join(input_file, \"adatas\", f\"08_final_adata_{roll}.h5ad\"))\n",
    "        )\n",
    "concatenated_all = sc.concat(adatalist)\n",
    "\n",
    "concatenated_all.obs[\"epithelial_distance_clipped\"] = np.clip(\n",
    "    concatenated_all.obs[\"epithelial_distance\"].values, 0, 0.6\n",
    ")"
   ]
  },
  {
   "cell_type": "markdown",
   "metadata": {},
   "source": [
    "##### Flip all longitudinal axes into the same orientation based on polarization of Guca2a"
   ]
  },
  {
   "cell_type": "code",
   "execution_count": null,
   "metadata": {},
   "outputs": [],
   "source": [
    "unique_bat = np.unique(concatenated_all.obs.batch)"
   ]
  },
  {
   "cell_type": "code",
   "execution_count": null,
   "metadata": {},
   "outputs": [],
   "source": [
    "sc.set_figure_params(dpi=150)\n",
    "outer_inner = []\n",
    "for i in unique_bat:\n",
    "    longit = concatenated_all[\n",
    "        (concatenated_all.obs.batch == i)\n",
    "        & concatenated_all.obs.not_removed_from_longitudinal\n",
    "    ].obs[\"predicted_longitudinal\"]\n",
    "    guca2a = (\n",
    "        concatenated_all[\n",
    "            (concatenated_all.obs.batch == i)\n",
    "            & concatenated_all.obs.not_removed_from_longitudinal\n",
    "        ]\n",
    "        .X[\n",
    "            :,\n",
    "            concatenated_all[concatenated_all.obs.batch == i].var.index.isin([\"Fdft1\"]),\n",
    "        ]\n",
    "        .flatten()\n",
    "    )\n",
    "    spear = stats.spearmanr(longit, guca2a)\n",
    "    if spear.correlation > 0:\n",
    "        outer_inner.append(\"inner\")\n",
    "    else:\n",
    "        outer_inner.append(\"outer\")\n",
    "    # sc.pl.embedding(concatenated_all[concatenated_all.obs.batch == i], basis='spatial', color='Guca2a', vmax=1, cmap='Blues', title=i)"
   ]
  },
  {
   "cell_type": "code",
   "execution_count": null,
   "metadata": {},
   "outputs": [],
   "source": [
    "longitude = {}\n",
    "for bt in range(len(unique_bat)):\n",
    "    longitude[unique_bat[bt]] = outer_inner[bt]"
   ]
  },
  {
   "cell_type": "code",
   "execution_count": null,
   "metadata": {},
   "outputs": [],
   "source": [
    "guca2a_expression = [longitude.get(i) for i in concatenated_all.obs.batch.values]\n",
    "new_longitudinal = np.zeros(len(concatenated_all.obs))\n",
    "\n",
    "for i in unique_bat:\n",
    "    indices = np.where(concatenated_all.obs.batch.values == i)[0]\n",
    "    if longitude.get(i) == \"outer\":\n",
    "        new_longitudinal[indices] = (\n",
    "            1 - concatenated_all[indices, :].obs.predicted_longitudinal.values\n",
    "        )\n",
    "    elif longitude.get(i) == \"inner\":\n",
    "        new_longitudinal[indices] = concatenated_all[\n",
    "            indices, :\n",
    "        ].obs.predicted_longitudinal.values\n",
    "\n",
    "concatenated_all.obs[\"predicted_longitudinal\"] = new_longitudinal"
   ]
  },
  {
   "cell_type": "markdown",
   "metadata": {},
   "source": [
    "##### Write out the final MERSCOPE object"
   ]
  },
  {
   "cell_type": "code",
   "execution_count": null,
   "metadata": {},
   "outputs": [],
   "source": [
    "concatenated_all.write(os.path.join(output_folder, \"final_celltyped_and_axes.h5ad\"))"
   ]
  }
 ],
 "metadata": {
  "kernelspec": {
   "display_name": "tensorflow",
   "language": "python",
   "name": "python3"
  },
  "language_info": {
   "codemirror_mode": {
    "name": "ipython",
    "version": 3
   },
   "file_extension": ".py",
   "mimetype": "text/x-python",
   "name": "python",
   "nbconvert_exporter": "python",
   "pygments_lexer": "ipython3",
   "version": "3.10.13"
  }
 },
 "nbformat": 4,
 "nbformat_minor": 2
}
