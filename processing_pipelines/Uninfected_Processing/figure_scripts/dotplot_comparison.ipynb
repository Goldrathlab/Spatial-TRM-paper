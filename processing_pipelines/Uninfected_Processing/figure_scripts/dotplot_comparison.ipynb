{
 "cells": [
  {
   "cell_type": "code",
   "execution_count": 1,
   "metadata": {},
   "outputs": [
    {
     "name": "stderr",
     "output_type": "stream",
     "text": [
      "Global seed set to 0\n"
     ]
    }
   ],
   "source": [
    "import scanpy as sc\n",
    "import numpy as np\n",
    "from typing import List\n",
    "import scvelo as scv\n",
    "import matplotlib.colors as clr\n",
    "import matplotlib.pyplot as plt"
   ]
  },
  {
   "cell_type": "markdown",
   "metadata": {},
   "source": [
    "adding the uninfected data to the time course data"
   ]
  },
  {
   "cell_type": "code",
   "execution_count": 2,
   "metadata": {},
   "outputs": [],
   "source": [
    "adata = sc.read_h5ad('uninfected/analysis/cleaned/final_object_no_peyers.h5ad')\n",
    "replicates_adata = sc.read('timecourse.h5ad')\n",
    "total_adata = sc.concat([adata, replicates_adata])"
   ]
  },
  {
   "cell_type": "markdown",
   "metadata": {},
   "source": [
    "Adding a \"timepoint\" observation to the adata"
   ]
  },
  {
   "cell_type": "code",
   "execution_count": 5,
   "metadata": {},
   "outputs": [],
   "source": [
    "mapping = {'day6_SI': 'D6', 'day6_SI_r2': 'D6', 'day8_SI_Ctrl': 'D8', 'day8_SI_r2': 'D8', 'day30_SI': 'D30', 'day30_SI_r2': 'D30', 'day90_SI': 'D90', 'day90_SI_r2': 'D90', 'segmentation_SI1': 'Uninfected', 'segmentation_SI2': 'Uninfected'}"
   ]
  },
  {
   "cell_type": "code",
   "execution_count": 6,
   "metadata": {},
   "outputs": [],
   "source": [
    "maps = [mapping.get(i) for i in total_adata.obs['batch']]\n",
    "total_adata.obs['timepoint'] = maps\n",
    "\n",
    "total_adata = total_adata[~total_adata.obs['timepoint'].isna()]\n",
    "total_adata = total_adata[~total_adata.obs['Subtype'].isin(['Contaminated DCs'])]"
   ]
  },
  {
   "cell_type": "markdown",
   "metadata": {},
   "source": [
    "Saving out dotplots of key gene expression"
   ]
  },
  {
   "cell_type": "code",
   "execution_count": 13,
   "metadata": {},
   "outputs": [],
   "source": [
    "for batch in np.unique(total_adata.obs['timepoint']):\n",
    "    fig = sc.pl.dotplot(total_adata[total_adata.obs['timepoint'] == batch], groupby = 'Subtype', var_names=['Il18', 'Il15', 'Tgfb1', 'Tgfb2', 'Tgfb3', 'Slamf6', 'Cxcl9', 'Cxcl10'], return_fig=True, show=False, standard_scale = 'var', smallest_dot = 20)\n",
    "    fig.savefig(f'../figures/dotplots/{batch}.pdf')\n",
    "    plt.close()"
   ]
  }
 ],
 "metadata": {
  "kernelspec": {
   "display_name": "merscope_01",
   "language": "python",
   "name": "python3"
  },
  "language_info": {
   "codemirror_mode": {
    "name": "ipython",
    "version": 3
   },
   "file_extension": ".py",
   "mimetype": "text/x-python",
   "name": "python",
   "nbconvert_exporter": "python",
   "pygments_lexer": "ipython3",
   "version": "3.8.18"
  }
 },
 "nbformat": 4,
 "nbformat_minor": 2
}
