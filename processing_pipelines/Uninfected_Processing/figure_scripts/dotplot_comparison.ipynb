{
 "cells": [
  {
   "cell_type": "code",
   "execution_count": null,
   "metadata": {},
   "outputs": [],
   "source": [
    "import scanpy as sc\n",
    "import numpy as np\n",
    "from typing import List\n",
    "import scvelo as scv\n",
    "import matplotlib.colors as clr\n",
    "import matplotlib.pyplot as plt"
   ]
  },
  {
   "cell_type": "markdown",
   "metadata": {},
   "source": [
    "adding the uninfected data to the time course data"
   ]
  },
  {
   "cell_type": "code",
   "execution_count": null,
   "metadata": {},
   "outputs": [],
   "source": [
    "adata = sc.read_h5ad(\"uninfected/analysis/cleaned/final_object_no_peyers.h5ad\")\n",
    "replicates_adata = sc.read(\"timecourse.h5ad\")\n",
    "total_adata = sc.concat([adata, replicates_adata])"
   ]
  },
  {
   "cell_type": "markdown",
   "metadata": {},
   "source": [
    "Adding a \"timepoint\" observation to the adata"
   ]
  },
  {
   "cell_type": "code",
   "execution_count": null,
   "metadata": {},
   "outputs": [],
   "source": [
    "mapping = {\n",
    "    \"day6_SI\": \"D6\",\n",
    "    \"day6_SI_r2\": \"D6\",\n",
    "    \"day8_SI_Ctrl\": \"D8\",\n",
    "    \"day8_SI_r2\": \"D8\",\n",
    "    \"day30_SI\": \"D30\",\n",
    "    \"day30_SI_r2\": \"D30\",\n",
    "    \"day90_SI\": \"D90\",\n",
    "    \"day90_SI_r2\": \"D90\",\n",
    "    \"segmentation_SI1\": \"Uninfected\",\n",
    "    \"segmentation_SI2\": \"Uninfected\",\n",
    "}"
   ]
  },
  {
   "cell_type": "code",
   "execution_count": null,
   "metadata": {},
   "outputs": [],
   "source": [
    "maps = [mapping.get(i) for i in total_adata.obs[\"batch\"]]\n",
    "total_adata.obs[\"timepoint\"] = maps\n",
    "\n",
    "total_adata = total_adata[~total_adata.obs[\"timepoint\"].isna()]\n",
    "total_adata = total_adata[~total_adata.obs[\"Subtype\"].isin([\"Contaminated DCs\"])]"
   ]
  },
  {
   "cell_type": "markdown",
   "metadata": {},
   "source": [
    "Saving out dotplots of key gene expression"
   ]
  },
  {
   "cell_type": "code",
   "execution_count": null,
   "metadata": {},
   "outputs": [],
   "source": [
    "for batch in np.unique(total_adata.obs[\"timepoint\"]):\n",
    "    fig = sc.pl.dotplot(\n",
    "        total_adata[total_adata.obs[\"timepoint\"] == batch],\n",
    "        groupby=\"Subtype\",\n",
    "        var_names=[\n",
    "            \"Il18\",\n",
    "            \"Il15\",\n",
    "            \"Tgfb1\",\n",
    "            \"Tgfb2\",\n",
    "            \"Tgfb3\",\n",
    "            \"Slamf6\",\n",
    "            \"Cxcl9\",\n",
    "            \"Cxcl10\",\n",
    "        ],\n",
    "        return_fig=True,\n",
    "        show=False,\n",
    "        standard_scale=\"var\",\n",
    "        smallest_dot=20,\n",
    "    )\n",
    "    fig.savefig(f\"../figures/dotplots/{batch}.pdf\")\n",
    "    plt.close()"
   ]
  }
 ],
 "metadata": {
  "kernelspec": {
   "display_name": "merscope_01",
   "language": "python",
   "name": "python3"
  },
  "language_info": {
   "codemirror_mode": {
    "name": "ipython",
    "version": 3
   },
   "file_extension": ".py",
   "mimetype": "text/x-python",
   "name": "python",
   "nbconvert_exporter": "python",
   "pygments_lexer": "ipython3",
   "version": "3.8.18"
  }
 },
 "nbformat": 4,
 "nbformat_minor": 2
}
