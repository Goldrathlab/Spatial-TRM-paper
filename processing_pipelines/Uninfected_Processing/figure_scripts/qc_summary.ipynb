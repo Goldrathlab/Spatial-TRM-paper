{
 "cells": [
  {
   "cell_type": "markdown",
   "metadata": {},
   "source": [
    "Plotting QC metrics for uninfected"
   ]
  },
  {
   "cell_type": "code",
   "execution_count": 2,
   "metadata": {},
   "outputs": [],
   "source": [
    "import os\n",
    "\n",
    "# important for gpd.sjoin\n",
    "os.environ[\"USE_PYGEOS\"] = \"0\"\n",
    "\n",
    "import scanpy as sc\n",
    "import squidpy as sq\n",
    "import numpy as np\n",
    "import warnings\n",
    "import seaborn as sns\n",
    "import matplotlib.pyplot as plt\n",
    "import igraph\n",
    "import random\n",
    "import math\n",
    "from sklearn.preprocessing import MinMaxScaler\n",
    "\n",
    "\n",
    "warnings.filterwarnings(\"ignore\")"
   ]
  },
  {
   "cell_type": "code",
   "execution_count": 3,
   "metadata": {},
   "outputs": [],
   "source": [
    "adata = sc.read_h5ad('uninfected/analysis/cleaned/final_object_no_peyers.h5ad')"
   ]
  },
  {
   "cell_type": "markdown",
   "metadata": {},
   "source": [
    "median transcripts per cell"
   ]
  },
  {
   "cell_type": "code",
   "execution_count": null,
   "metadata": {},
   "outputs": [],
   "source": [
    "np.median(adata.obs['total_transcripts'])"
   ]
  },
  {
   "cell_type": "markdown",
   "metadata": {},
   "source": [
    "number of cells"
   ]
  },
  {
   "cell_type": "code",
   "execution_count": null,
   "metadata": {},
   "outputs": [],
   "source": [
    "len(adata.obs)"
   ]
  },
  {
   "cell_type": "code",
   "execution_count": 9,
   "metadata": {},
   "outputs": [],
   "source": [
    "si1 = adata[adata.obs['batch'] == 'segmentation_SI1']\n",
    "si2 = adata[adata.obs['batch'] == 'segmentation_SI2']"
   ]
  },
  {
   "cell_type": "code",
   "execution_count": 17,
   "metadata": {},
   "outputs": [],
   "source": [
    "si1_counts = np.sum(si1.X, axis=0)"
   ]
  },
  {
   "cell_type": "code",
   "execution_count": 18,
   "metadata": {},
   "outputs": [],
   "source": [
    "si2_counts = np.sum(si2.X, axis=0)"
   ]
  },
  {
   "cell_type": "code",
   "execution_count": null,
   "metadata": {},
   "outputs": [],
   "source": [
    "# Calculate the log10 of the counts\n",
    "log_si1_counts = np.log10(si1_counts)\n",
    "log_si2_counts = np.log10(si2_counts)\n",
    "\n",
    "plt.figure(dpi=400)\n",
    "# Plot the scatter plot\n",
    "plt.scatter(log_si1_counts, log_si2_counts)\n",
    "\n",
    "# Draw the line y = x in black\n",
    "plt.plot([min(log_si1_counts), max(log_si1_counts)], [min(log_si1_counts), max(log_si1_counts)], color='black')\n",
    "\n",
    "# Add the correlation coefficient to the plot\n",
    "corr_coef = np.corrcoef(log_si1_counts, log_si2_counts)[0, 1]\n",
    "plt.text(0.1, 0.9, f'r = {corr_coef:.2f}', transform=plt.gca().transAxes)\n",
    "\n",
    "# Rename the axes ticks to 10^(current value)\n",
    "plt.xticks(ticks=np.arange(np.floor(min(log_si1_counts)), np.ceil(max(log_si1_counts))+1),\n",
    "           labels=[f'$10^{int(x)}$' for x in np.arange(np.floor(min(log_si1_counts)), np.ceil(max(log_si1_counts))+1)])\n",
    "\n",
    "plt.yticks(ticks=np.arange(np.floor(min(log_si2_counts)), np.ceil(max(log_si2_counts))+1),\n",
    "           labels=[f'$10^{int(y)}$' for y in np.arange(np.floor(min(log_si2_counts)), np.ceil(max(log_si2_counts))+1)])\n",
    "\n",
    "plt.xlabel('log10(si1_counts)')\n",
    "plt.ylabel('log10(si2_counts)')\n",
    "plt.savefig('../figures/qc.pdf')\n",
    "# Show the plot\n",
    "plt.show()"
   ]
  }
 ],
 "metadata": {
  "kernelspec": {
   "display_name": "stlearn",
   "language": "python",
   "name": "python3"
  },
  "language_info": {
   "codemirror_mode": {
    "name": "ipython",
    "version": 3
   },
   "file_extension": ".py",
   "mimetype": "text/x-python",
   "name": "python",
   "nbconvert_exporter": "python",
   "pygments_lexer": "ipython3",
   "version": "3.8.18"
  }
 },
 "nbformat": 4,
 "nbformat_minor": 2
}
