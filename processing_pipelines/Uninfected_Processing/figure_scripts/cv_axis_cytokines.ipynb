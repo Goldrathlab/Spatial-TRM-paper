{
 "cells": [
  {
   "cell_type": "markdown",
   "metadata": {},
   "source": [
    "Showing gene expression changes along the crypt villus axis"
   ]
  },
  {
   "cell_type": "code",
   "execution_count": null,
   "metadata": {},
   "outputs": [],
   "source": [
    "import scanpy as sc\n",
    "import numpy as np\n",
    "from typing import List\n",
    "import scvelo as scv\n",
    "import matplotlib.colors as clr\n",
    "import matplotlib.pyplot as plt"
   ]
  },
  {
   "cell_type": "code",
   "execution_count": 2,
   "metadata": {},
   "outputs": [],
   "source": [
    "# slightly modified to make it less red\n",
    "zissou = [\n",
    "    \"#3A9AB2\",\n",
    "    \"#6FB2C1\",\n",
    "    \"#91BAB6\",\n",
    "    \"#A5C2A3\",\n",
    "    \"#BDC881\",\n",
    "    \"#DCCB4E\",\n",
    "    \"#E3B710\",\n",
    "    \"#EC7A05\",\n",
    "    \"#F11B00\",\n",
    "]\n",
    "\n",
    "colormap = clr.LinearSegmentedColormap.from_list(\"Zissou\", zissou)\n",
    "colormap_r = clr.LinearSegmentedColormap.from_list(\"Zissou\", zissou[::-1])"
   ]
  },
  {
   "cell_type": "markdown",
   "metadata": {},
   "source": [
    "load in adata"
   ]
  },
  {
   "cell_type": "code",
   "execution_count": 3,
   "metadata": {},
   "outputs": [],
   "source": [
    "adata = sc.read_h5ad('uninfected/analysis/cleaned/final_object_no_peyers.h5ad')"
   ]
  },
  {
   "cell_type": "code",
   "execution_count": null,
   "metadata": {},
   "outputs": [],
   "source": [
    "# Normalize\n",
    "sc.pp.normalize_total(adata, target_sum=1e4)\n",
    "sc.pp.log1p(adata)\n",
    "adata"
   ]
  },
  {
   "cell_type": "code",
   "execution_count": 5,
   "metadata": {},
   "outputs": [],
   "source": [
    "def filter_adata_expressed_in_n_cells(adata, percent=0.05):\n",
    "    \"\"\"\n",
    "    Filter the adata to only include genes expressed in more than a certain percentage of cells\n",
    "\n",
    "    Parameters:\n",
    "    - adata (anndata): The anndata object containing the gene expression\n",
    "    - percent (float): The percentage of cells a gene must be expressed in to be included\n",
    "\n",
    "    Return:\n",
    "    - adata (anndata): The filtered anndata object\n",
    "    \"\"\"\n",
    "    bin_Layer = adata.X > 0\n",
    "    gene_expressed_in_percent_cells = np.mean(bin_Layer, axis=0)\n",
    "    keep = gene_expressed_in_percent_cells > percent\n",
    "    adata = adata[:, keep]\n",
    "    return adata"
   ]
  },
  {
   "cell_type": "code",
   "execution_count": 6,
   "metadata": {},
   "outputs": [],
   "source": [
    "def scvelo_heatmap(\n",
    "    adata: sc.AnnData,\n",
    "    batches: List[str],\n",
    "    sortby: str,\n",
    "    highlight: List[str],\n",
    "    n_bins: int = 5,\n",
    "    dpi = 350\n",
    "):\n",
    "\n",
    "    print(\"Creating Heatmap for batches\", \" + \".join(batches))\n",
    "    # Subset batches\n",
    "    adata = adata[adata.obs[\"batch\"].isin(batches)]\n",
    "    # Filter to include only genes that are expressed in 5% of the cells\n",
    "    #adata = filter_adata_expressed_in_n_cells(adata)\n",
    "    adata = adata.copy()\n",
    "\n",
    "    n_convolve = len(adata) // n_bins\n",
    "    print(f\"Setting `n_convolve` to {n_convolve} ({n_bins} bins, {len(adata)} cells) \")\n",
    "    # Plot\n",
    "    s = scv.pl.heatmap(\n",
    "        adata,\n",
    "        var_names=adata.var_names,\n",
    "        sortby=sortby,\n",
    "        n_convolve=n_convolve,\n",
    "        show=False,\n",
    "        yticklabels=True,\n",
    "        rasterized=True,\n",
    "        color_map=colormap,\n",
    "    )\n",
    "    ax = s.ax_heatmap\n",
    "    \n",
    "    highlight_lower = [h.lower() for h in highlight]\n",
    "   # Loop through the y-axis tick labels and show/hide based on the 'highlight' list\n",
    "    highlighted_genes = []\n",
    "    for i, label in enumerate(ax.get_yticklabels()):\n",
    "        gene_name = label.get_text().strip()  # Remove any leading/trailing whitespace\n",
    "        if gene_name.lower() in highlight_lower:\n",
    "            highlighted_genes.append(gene_name)\n",
    "            label.set_visible(True)\n",
    "            ax.get_yticklines()[2 * i + 1].set_visible(True)\n",
    "        else:\n",
    "            label.set_visible(False)\n",
    "            ax.get_yticklines()[2 * i + 1].set_visible(False)\n",
    "        ax.get_yticklines()[2 * i].set_visible(False)\n",
    "\n",
    "    # Print information about highlighted genes\n",
    "    print(f\"Highlighted genes: {len(highlighted_genes)} out of {len(highlight)}\")\n",
    "    print(\"Genes not found in the plot:\", set(highlight) - set(highlighted_genes))\n",
    "\n",
    "    ax.set_xlabel(\"\")\n",
    "    ax.set_title(f\"Gene Expression Trends Along {sortby}\")\n",
    "\n",
    "    plt.savefig('../figures/cv_axis_xytokines.pdf', dpi=dpi, bbox_inches='tight')\n",
    "    return s"
   ]
  },
  {
   "cell_type": "code",
   "execution_count": 7,
   "metadata": {},
   "outputs": [],
   "source": [
    "highlight = [\n",
    "    \n",
    "    \"Il18\",\n",
    "    \"Tgfb1\",\n",
    "    \"Tgfb2\",\n",
    "    \"Tgfb3\",\n",
    "    \"Cxcl9\",\n",
    "    \"Cxcl10\",\n",
    "    \"Cxcl16\",\n",
    "    \"Itgae\",\n",
    "    \"Il15\",\n",
    "]\n",
    "\n",
    "batches = {\n",
    "    \"segmentation_SI1\": {\"x\": 6200, \"y\": 6200},\n",
    "    \"segmentation_SI2\": {\"x\": 5800, \"y\": 5500},\n",
    "}"
   ]
  },
  {
   "cell_type": "code",
   "execution_count": null,
   "metadata": {},
   "outputs": [],
   "source": [
    "s = scvelo_heatmap(\n",
    "    adata[::10, :],\n",
    "    batches=list(batches.keys()),\n",
    "    sortby=\"crypt_villi_axis\",\n",
    "    highlight=highlight,\n",
    "    n_bins=10,\n",
    ")"
   ]
  }
 ],
 "metadata": {
  "kernelspec": {
   "display_name": "merscope_01",
   "language": "python",
   "name": "python3"
  },
  "language_info": {
   "codemirror_mode": {
    "name": "ipython",
    "version": 3
   },
   "file_extension": ".py",
   "mimetype": "text/x-python",
   "name": "python",
   "nbconvert_exporter": "python",
   "pygments_lexer": "ipython3",
   "version": "3.8.18"
  }
 },
 "nbformat": 4,
 "nbformat_minor": 2
}
