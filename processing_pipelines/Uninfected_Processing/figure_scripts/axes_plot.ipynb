{
 "cells": [
  {
   "cell_type": "markdown",
   "metadata": {},
   "source": [
    "Plotting the axes in uninfected"
   ]
  },
  {
   "cell_type": "code",
   "execution_count": 1,
   "metadata": {},
   "outputs": [],
   "source": [
    "import os\n",
    "\n",
    "# important for gpd.sjoin\n",
    "os.environ[\"USE_PYGEOS\"] = \"0\"\n",
    "\n",
    "import scanpy as sc\n",
    "import squidpy as sq\n",
    "import numpy as np\n",
    "import warnings\n",
    "import seaborn as sns\n",
    "import matplotlib.pyplot as plt\n",
    "import igraph\n",
    "import random\n",
    "import math\n",
    "from sklearn.preprocessing import MinMaxScaler\n",
    "\n",
    "\n",
    "warnings.filterwarnings(\"ignore\")"
   ]
  },
  {
   "cell_type": "code",
   "execution_count": 2,
   "metadata": {},
   "outputs": [],
   "source": [
    "adata = sc.read_h5ad('uninfected/analysis/cleaned/final_object_no_peyers.h5ad')"
   ]
  },
  {
   "cell_type": "code",
   "execution_count": null,
   "metadata": {},
   "outputs": [],
   "source": [
    "sc.set_figure_params(dpi = 300)\n",
    "fig = sc.pl.embedding(adata[adata.obs['batch'] == 'segmentation_SI1'], basis = 'spatial', show = False, color = 'crypt_villi_axis', return_fig=True)\n",
    "fig.savefig('../figures/segmentation_SI1_crypt_villi_axis.pdf')\n",
    "\n",
    "plt.show()\n",
    "plt.close()\n",
    "\n",
    "fig = sc.pl.embedding(adata[adata.obs['batch'] == 'segmentation_SI2'], basis = 'spatial', show = False, color = 'crypt_villi_axis', return_fig=True)\n",
    "\n",
    "fig.savefig('../figures/segmentation_SI2_crypt_villi_axis.pdf')\n",
    "\n",
    "plt.show()\n",
    "plt.close()\n"
   ]
  }
 ],
 "metadata": {
  "kernelspec": {
   "display_name": "merscope_01",
   "language": "python",
   "name": "python3"
  },
  "language_info": {
   "codemirror_mode": {
    "name": "ipython",
    "version": 3
   },
   "file_extension": ".py",
   "mimetype": "text/x-python",
   "name": "python",
   "nbconvert_exporter": "python",
   "pygments_lexer": "ipython3",
   "version": "3.8.18"
  }
 },
 "nbformat": 4,
 "nbformat_minor": 2
}
