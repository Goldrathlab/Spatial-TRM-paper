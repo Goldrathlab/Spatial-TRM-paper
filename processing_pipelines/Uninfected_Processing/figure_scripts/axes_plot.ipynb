{
 "cells": [
  {
   "cell_type": "markdown",
   "metadata": {},
   "source": [
    "Plotting the axes in uninfected"
   ]
  },
  {
   "cell_type": "code",
   "execution_count": null,
   "metadata": {},
   "outputs": [],
   "source": [
    "import os\n",
    "\n",
    "# important for gpd.sjoin\n",
    "os.environ[\"USE_PYGEOS\"] = \"0\"\n",
    "\n",
    "import scanpy as sc\n",
    "import squidpy as sq\n",
    "import numpy as np\n",
    "import warnings\n",
    "import seaborn as sns\n",
    "import matplotlib.pyplot as plt\n",
    "import igraph\n",
    "import random\n",
    "import math\n",
    "from sklearn.preprocessing import MinMaxScaler\n",
    "\n",
    "\n",
    "warnings.filterwarnings(\"ignore\")"
   ]
  },
  {
   "cell_type": "code",
   "execution_count": null,
   "metadata": {},
   "outputs": [],
   "source": [
    "adata = sc.read_h5ad(\"uninfected/analysis/cleaned/final_object_no_peyers.h5ad\")"
   ]
  },
  {
   "cell_type": "code",
   "execution_count": null,
   "metadata": {},
   "outputs": [],
   "source": [
    "sc.set_figure_params(dpi=300)\n",
    "fig = sc.pl.embedding(\n",
    "    adata[adata.obs[\"batch\"] == \"segmentation_SI1\"],\n",
    "    basis=\"spatial\",\n",
    "    show=False,\n",
    "    color=\"crypt_villi_axis\",\n",
    "    return_fig=True,\n",
    ")\n",
    "fig.savefig(\"../figures/segmentation_SI1_crypt_villi_axis.pdf\")\n",
    "\n",
    "plt.show()\n",
    "plt.close()\n",
    "\n",
    "fig = sc.pl.embedding(\n",
    "    adata[adata.obs[\"batch\"] == \"segmentation_SI2\"],\n",
    "    basis=\"spatial\",\n",
    "    show=False,\n",
    "    color=\"crypt_villi_axis\",\n",
    "    return_fig=True,\n",
    ")\n",
    "\n",
    "fig.savefig(\"../figures/segmentation_SI2_crypt_villi_axis.pdf\")\n",
    "\n",
    "plt.show()\n",
    "plt.close()"
   ]
  }
 ],
 "metadata": {
  "kernelspec": {
   "display_name": "merscope_01",
   "language": "python",
   "name": "python3"
  },
  "language_info": {
   "codemirror_mode": {
    "name": "ipython",
    "version": 3
   },
   "file_extension": ".py",
   "mimetype": "text/x-python",
   "name": "python",
   "nbconvert_exporter": "python",
   "pygments_lexer": "ipython3",
   "version": "3.8.18"
  }
 },
 "nbformat": 4,
 "nbformat_minor": 2
}
