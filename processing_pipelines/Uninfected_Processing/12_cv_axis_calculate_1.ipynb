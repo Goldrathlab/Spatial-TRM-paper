{
 "cells": [
  {
   "cell_type": "code",
   "execution_count": null,
   "id": "0",
   "metadata": {},
   "outputs": [],
   "source": [
    "import scanpy as sc\n",
    "import numpy as np\n",
    "from tqdm.notebook import tqdm\n",
    "import scipy.stats as stats\n",
    "import pandas as pd\n",
    "import json\n",
    "import os\n",
    "import seaborn as sns\n",
    "import matplotlib.pyplot as plt\n",
    "import shapely\n",
    "from sklearn.neighbors import NearestNeighbors\n",
    "from PIL import Image, ImageDraw\n",
    "import glob"
   ]
  },
  {
   "cell_type": "markdown",
   "id": "1",
   "metadata": {},
   "source": [
    "Put in the path to the SI adatas that we want the crypt-villus axis calculated on"
   ]
  },
  {
   "cell_type": "code",
   "execution_count": null,
   "id": "2",
   "metadata": {},
   "outputs": [],
   "source": [
    "path_adata = r\"/mnt/sata1/Analysis_Alex/uninfected\"\n",
    "adata = sc.read(os.path.join(path_adata, \"final_celltyped_and_axes.h5ad\"))"
   ]
  },
  {
   "cell_type": "code",
   "execution_count": null,
   "id": "3",
   "metadata": {},
   "outputs": [],
   "source": [
    "def create_base_image_type(adata, downsize=20):\n",
    "\n",
    "    points = adata.obsm[\"X_spatial\"] / downsize\n",
    "    types = adata.obs[\"topic\"].values\n",
    "\n",
    "    # Define the size of the image (adjust as needed)\n",
    "    image_width = 2000\n",
    "    image_height = 2000\n",
    "\n",
    "    # Create a white canvas as the base image\n",
    "    base_image = Image.new(\"RGB\", (image_width, image_height), (255, 255, 255))\n",
    "\n",
    "    # Draw the points on the image\n",
    "    draw = ImageDraw.Draw(base_image)\n",
    "    point_size = 1  # Size of the points\n",
    "    ct = 0\n",
    "    for point in points:\n",
    "        draw.ellipse(\n",
    "            (\n",
    "                point[0] - point_size,\n",
    "                point[1] - point_size,\n",
    "                point[0] + point_size,\n",
    "                point[1] + point_size,\n",
    "            ),\n",
    "            fill=adata.uns[\"topic_colors\"][\n",
    "                np.where(adata.obs[\"topic\"].cat.categories == types[ct])[0]\n",
    "            ][0],\n",
    "            outline=adata.uns[\"topic_colors\"][\n",
    "                np.where(adata.obs[\"topic\"].cat.categories == types[ct])[0]\n",
    "            ][0],\n",
    "            width=0,\n",
    "        )\n",
    "        ct += 1\n",
    "\n",
    "    return base_image"
   ]
  },
  {
   "cell_type": "code",
   "execution_count": null,
   "id": "4",
   "metadata": {},
   "outputs": [],
   "source": [
    "try:\n",
    "    os.mkdir(os.path.join(path_adata, \"recalculating_axes\"))\n",
    "except:\n",
    "    pass"
   ]
  },
  {
   "cell_type": "code",
   "execution_count": null,
   "id": "5",
   "metadata": {},
   "outputs": [],
   "source": [
    "sc.pl.embedding(adata, basis=\"spatial\", color=\"topic\")"
   ]
  },
  {
   "cell_type": "code",
   "execution_count": null,
   "id": "6",
   "metadata": {},
   "outputs": [],
   "source": [
    "for batch in np.unique(adata.obs[\"batch\"]):\n",
    "    try:\n",
    "        adata_copy = adata[adata.obs[\"batch\"] == batch].copy()\n",
    "        all_spatial = adata_copy.obsm[\"X_spatial\"]\n",
    "\n",
    "        try:\n",
    "            adata_copy.X = adata_copy.X.A\n",
    "        except:\n",
    "            print(\"Adata already in array format\")\n",
    "\n",
    "        try:\n",
    "            os.mkdir(os.path.join(path_adata, \"recalculating_axes\", batch))\n",
    "        except:\n",
    "            pass\n",
    "\n",
    "        downsize = 4\n",
    "        base_image = create_base_image_type(adata_copy, downsize=downsize)\n",
    "        plt.imshow(base_image)\n",
    "        plt.show()\n",
    "        file_path = os.path.join(\n",
    "            path_adata, \"recalculating_axes\", batch, \"label_img.png\"\n",
    "        )\n",
    "        base_image.save(file_path)\n",
    "        adata_copy.uns[\"unrolling_downsize\"] = downsize\n",
    "        adata_copy.write(\n",
    "            os.path.join(\n",
    "                path_adata, \"recalculating_axes\", batch, \"03_intial_neighborhoods.h5ad\"\n",
    "            )\n",
    "        )\n",
    "    except:\n",
    "        print(batch + \" not generated yet\")"
   ]
  }
 ],
 "metadata": {
  "kernelspec": {
   "display_name": "Python 3 (ipykernel)",
   "language": "python",
   "name": "python3"
  },
  "language_info": {
   "codemirror_mode": {
    "name": "ipython",
    "version": 3
   },
   "file_extension": ".py",
   "mimetype": "text/x-python",
   "name": "python",
   "nbconvert_exporter": "python",
   "pygments_lexer": "ipython3",
   "version": "3.8.18"
  }
 },
 "nbformat": 4,
 "nbformat_minor": 5
}
