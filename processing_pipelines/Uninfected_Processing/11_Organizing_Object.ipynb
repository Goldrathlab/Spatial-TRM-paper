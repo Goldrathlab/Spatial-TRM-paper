{
 "cells": [
  {
   "cell_type": "code",
   "execution_count": null,
   "id": "0",
   "metadata": {},
   "outputs": [],
   "source": [
    "import scanpy as sc\n",
    "import os\n",
    "import numpy as np\n",
    "from tqdm.notebook import tqdm\n",
    "import glob\n",
    "from scipy.spatial import KDTree\n",
    "import matplotlib.pyplot as plt\n",
    "import scvi"
   ]
  },
  {
   "cell_type": "code",
   "execution_count": 2,
   "id": "1",
   "metadata": {},
   "outputs": [],
   "source": [
    "input_folders = glob.glob(\"uninfected/segmentation_SI*\")"
   ]
  },
  {
   "cell_type": "code",
   "execution_count": null,
   "id": "bf1c9cbc",
   "metadata": {},
   "outputs": [],
   "source": [
    "adatas = []\n",
    "for input_file in input_folders:\n",
    "    adatas_ = sc.read(os.path.join(input_file, \"adatas\", \"09_before_decomposition_model.h5ad\"))\n",
    "    adatas_.obs['batch'] = input_file.split(\"/\")[-1]\n",
    "    \n",
    "    original_adata = sc.read(os.path.join(input_file, \"adatas\", \"04_tissue_cleared.h5ad\"))\n",
    "    original_adata.obs = adatas_.obs\n",
    "    original_adata.obsm = adatas_.obsm\n",
    "    original_adata.uns = adatas_.uns\n",
    "    adatas.append(original_adata)\n",
    "adatas = sc.concat(adatas)"
   ]
  },
  {
   "cell_type": "code",
   "execution_count": 17,
   "id": "7",
   "metadata": {},
   "outputs": [],
   "source": [
    "adatas.obs = adatas.obs.drop(\n",
    "    adatas.obs.columns[adatas.obs.columns.str.contains(\"Topic \")], axis=1\n",
    ")"
   ]
  },
  {
   "cell_type": "markdown",
   "id": "8",
   "metadata": {},
   "source": [
    "Write out combined object to an output folder"
   ]
  },
  {
   "cell_type": "code",
   "execution_count": 19,
   "id": "9",
   "metadata": {},
   "outputs": [],
   "source": [
    "output_folder = r\"/mnt/sata1/Analysis_Alex/uninfected\""
   ]
  },
  {
   "cell_type": "code",
   "execution_count": 21,
   "id": "10",
   "metadata": {},
   "outputs": [],
   "source": [
    "adatas.write(os.path.join(output_folder, \"integrated_celltyped.h5ad\"))"
   ]
  },
  {
   "cell_type": "code",
   "execution_count": null,
   "id": "12",
   "metadata": {},
   "outputs": [],
   "source": [
    "concatenated_all = sc.read(os.path.join(output_folder, \"integrated_celltyped.h5ad\"))"
   ]
  },
  {
   "cell_type": "markdown",
   "id": "13",
   "metadata": {},
   "source": [
    "### We also want to clip our epithelial values at 0.6 for visualization"
   ]
  },
  {
   "cell_type": "code",
   "execution_count": 23,
   "id": "14",
   "metadata": {},
   "outputs": [],
   "source": [
    "concatenated_all.obs[\"epithelial_distance_clipped\"] = np.clip(\n",
    "    concatenated_all.obs[\"epithelial_distance\"].values, 0, 0.6\n",
    ")"
   ]
  },
  {
   "cell_type": "markdown",
   "id": "25",
   "metadata": {},
   "source": [
    "### Write out the final object"
   ]
  },
  {
   "cell_type": "code",
   "execution_count": 24,
   "id": "26",
   "metadata": {},
   "outputs": [],
   "source": [
    "concatenated_all.write(os.path.join(output_folder, \"final_celltyped_and_axes.h5ad\"))"
   ]
  }
 ],
 "metadata": {
  "kernelspec": {
   "display_name": "Python 3 (ipykernel)",
   "language": "python",
   "name": "python3"
  },
  "language_info": {
   "codemirror_mode": {
    "name": "ipython",
    "version": 3
   },
   "file_extension": ".py",
   "mimetype": "text/x-python",
   "name": "python",
   "nbconvert_exporter": "python",
   "pygments_lexer": "ipython3",
   "version": "3.9.18"
  }
 },
 "nbformat": 4,
 "nbformat_minor": 5
}
