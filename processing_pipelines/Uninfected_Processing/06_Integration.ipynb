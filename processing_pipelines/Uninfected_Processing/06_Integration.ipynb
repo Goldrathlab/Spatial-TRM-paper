{
 "cells": [
  {
   "cell_type": "code",
   "execution_count": null,
   "id": "0",
   "metadata": {},
   "outputs": [],
   "source": [
    "import scanpy as sc\n",
    "import scvi\n",
    "from tqdm.notebook import tqdm\n",
    "import os\n",
    "import numpy as np\n",
    "import pandas as pd\n",
    "from scvi.model.utils import mde\n",
    "import matplotlib.pyplot as plt\n",
    "import pickle\n",
    "import glob\n",
    "\n",
    "import numpy as np\n",
    "import scanpy as sc\n",
    "import pandas as pd\n",
    "import matplotlib.pyplot as plt\n",
    "import seaborn as sns\n",
    "from sklearn.metrics import classification_report\n",
    "import torch"
   ]
  },
  {
   "cell_type": "code",
   "execution_count": null,
   "id": "1",
   "metadata": {},
   "outputs": [],
   "source": [
    "sc.set_figure_params(figsize=(4, 4))"
   ]
  },
  {
   "cell_type": "markdown",
   "id": "2",
   "metadata": {},
   "source": [
    "Add the paths to all folders for experiments to be integrated"
   ]
  },
  {
   "cell_type": "code",
   "execution_count": null,
   "id": "3",
   "metadata": {},
   "outputs": [],
   "source": [
    "data_dir = \"/mnt/sata1/Analysis_Alex/uninfected\"\n",
    "input_folders = glob.glob(os.path.join(data_dir, \"segmentation_S*\"))"
   ]
  },
  {
   "cell_type": "code",
   "execution_count": null,
   "id": "4",
   "metadata": {},
   "outputs": [],
   "source": [
    "output_folder = os.path.join(data_dir, \"analysis\", \"cleaned\")"
   ]
  },
  {
   "cell_type": "code",
   "execution_count": null,
   "id": "5",
   "metadata": {},
   "outputs": [],
   "source": [
    "try:\n",
    "    os.makedirs(output_folder)\n",
    "except FileExistsError:\n",
    "    pass"
   ]
  },
  {
   "cell_type": "markdown",
   "id": "6",
   "metadata": {},
   "source": [
    "Map to reference"
   ]
  },
  {
   "cell_type": "code",
   "execution_count": null,
   "id": "7",
   "metadata": {},
   "outputs": [],
   "source": [
    "reference_adata = r\"timecourse.h5ad\"\n",
    "\n",
    "reference_adata = sc.read(reference_adata)"
   ]
  },
  {
   "cell_type": "code",
   "execution_count": null,
   "id": "8",
   "metadata": {},
   "outputs": [],
   "source": [
    "scvi.model.SCVI.setup_anndata(reference_adata, batch_key=\"batch\", layer=\"raw\")"
   ]
  },
  {
   "cell_type": "code",
   "execution_count": null,
   "id": "9",
   "metadata": {},
   "outputs": [],
   "source": [
    "torch.set_float32_matmul_precision(\"high\")"
   ]
  },
  {
   "cell_type": "code",
   "execution_count": null,
   "id": "10",
   "metadata": {},
   "outputs": [],
   "source": [
    "scvi_ref = scvi.model.SCVI(\n",
    "    reference_adata, n_layers=2, n_latent=30, gene_likelihood=\"nb\"\n",
    ")\n",
    "scvi_ref.train()"
   ]
  },
  {
   "cell_type": "code",
   "execution_count": null,
   "id": "11",
   "metadata": {},
   "outputs": [],
   "source": [
    "SCVI_LATENT_KEY = \"X_scVI_replicates\"\n",
    "\n",
    "reference_adata.obsm[SCVI_LATENT_KEY] = scvi_ref.get_latent_representation()\n",
    "sc.pp.neighbors(reference_adata, use_rep=SCVI_LATENT_KEY)"
   ]
  },
  {
   "cell_type": "code",
   "execution_count": null,
   "id": "12",
   "metadata": {},
   "outputs": [],
   "source": [
    "sc.tl.umap(reference_adata)\n",
    "sc.pl.umap(reference_adata, color=\"Subtype\")"
   ]
  },
  {
   "cell_type": "markdown",
   "id": "13",
   "metadata": {},
   "source": [
    "Save the mapping projection to the adata"
   ]
  },
  {
   "cell_type": "code",
   "execution_count": null,
   "id": "14",
   "metadata": {},
   "outputs": [],
   "source": [
    "for t in range(len(input_folders)):\n",
    "    target_adata = sc.read(\n",
    "        os.path.join(input_folders[t], \"adatas\", \"04_tissue_cleared.h5ad\")\n",
    "    )\n",
    "    target_adata.obs[\"batch\"] = os.path.basename(input_folders[t])\n",
    "    scvi.model.SCVI.prepare_query_anndata(target_adata, scvi_ref)\n",
    "    scvi_query = scvi.model.SCVI.load_query_data(target_adata, scvi_ref)\n",
    "\n",
    "    scvi_query.train(max_epochs=200, plan_kwargs={\"weight_decay\": 0.0})\n",
    "    target_adata.obsm[SCVI_LATENT_KEY] = scvi_query.get_latent_representation()\n",
    "    target_adata.write(\n",
    "        os.path.join(input_folders[t], \"adatas\", \"06_reference_mapped.h5ad\")\n",
    "    )"
   ]
  }
 ],
 "metadata": {
  "kernelspec": {
   "display_name": "Python 3 (ipykernel)",
   "language": "python",
   "name": "python3"
  },
  "language_info": {
   "codemirror_mode": {
    "name": "ipython",
    "version": 3
   },
   "file_extension": ".py",
   "mimetype": "text/x-python",
   "name": "python",
   "nbconvert_exporter": "python",
   "pygments_lexer": "ipython3",
   "version": "3.9.18"
  }
 },
 "nbformat": 4,
 "nbformat_minor": 5
}
