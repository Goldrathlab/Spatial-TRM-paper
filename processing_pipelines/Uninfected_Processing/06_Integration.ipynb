{
 "cells": [
  {
   "cell_type": "code",
   "execution_count": null,
   "id": "6284fbcf-6306-44ba-aba4-347308f2121b",
   "metadata": {
    "scrolled": true
   },
   "outputs": [],
   "source": [
    "import scanpy as sc\n",
    "import scvi\n",
    "from tqdm.notebook import tqdm\n",
    "import os\n",
    "import numpy as np\n",
    "import pandas as pd\n",
    "from scvi.model.utils import mde\n",
    "import matplotlib.pyplot as plt\n",
    "import pickle\n",
    "import glob\n",
    "\n",
    "import numpy as np\n",
    "import scanpy as sc\n",
    "import pandas as pd\n",
    "import matplotlib.pyplot as plt\n",
    "import seaborn as sns\n",
    "from sklearn.metrics import classification_report\n",
    "import torch"
   ]
  },
  {
   "cell_type": "code",
   "execution_count": 2,
   "id": "b6b3a7d4-1af5-49bc-96ec-c5981cd1ef86",
   "metadata": {
    "scrolled": true
   },
   "outputs": [],
   "source": [
    "sc.set_figure_params(figsize=(4, 4))"
   ]
  },
  {
   "cell_type": "markdown",
   "id": "727510b9-6e2b-4f43-878f-782bce7dc23f",
   "metadata": {},
   "source": [
    "Add the paths to all folders for experiments to be integrated"
   ]
  },
  {
   "cell_type": "code",
   "execution_count": 3,
   "id": "0913a071-b612-4a5e-9e36-8a344f780069",
   "metadata": {},
   "outputs": [],
   "source": [
    "data_dir = \"/mnt/sata1/Analysis_Alex/uninfected\"\n",
    "input_folders = glob.glob(os.path.join(data_dir, \"segmentation_S*\"))"
   ]
  },
  {
   "cell_type": "code",
   "execution_count": 4,
   "id": "1211415f-96a9-4bd8-800a-225aff69de8c",
   "metadata": {},
   "outputs": [],
   "source": [
    "output_folder = os.path.join(data_dir, 'analysis', 'cleaned')"
   ]
  },
  {
   "cell_type": "code",
   "execution_count": 5,
   "id": "83c3ed73",
   "metadata": {},
   "outputs": [],
   "source": [
    "try:\n",
    "    os.makedirs(output_folder)\n",
    "except FileExistsError:\n",
    "    pass"
   ]
  },
  {
   "cell_type": "markdown",
   "id": "964a6d45",
   "metadata": {},
   "source": [
    "Map to reference"
   ]
  },
  {
   "cell_type": "code",
   "execution_count": null,
   "id": "220de82c",
   "metadata": {},
   "outputs": [],
   "source": [
    "reference_adata = (\n",
    "    r\"timecourse.h5ad\"\n",
    ")\n",
    "\n",
    "reference_adata = sc.read(reference_adata)"
   ]
  },
  {
   "cell_type": "code",
   "execution_count": null,
   "id": "3bdf6226-a84d-4eb5-b6d2-5539e2b19447",
   "metadata": {},
   "outputs": [],
   "source": [
    "scvi.model.SCVI.setup_anndata(reference_adata, batch_key=\"batch\", layer=\"raw\")"
   ]
  },
  {
   "cell_type": "code",
   "execution_count": 9,
   "metadata": {},
   "outputs": [],
   "source": [
    "torch.set_float32_matmul_precision('high')"
   ]
  },
  {
   "cell_type": "code",
   "execution_count": null,
   "id": "448073bc-d4b4-4fc0-b75b-5813e960da7c",
   "metadata": {},
   "outputs": [],
   "source": [
    "scvi_ref = scvi.model.SCVI(reference_adata, n_layers=2, n_latent=30, gene_likelihood=\"nb\")\n",
    "scvi_ref.train()"
   ]
  },
  {
   "cell_type": "code",
   "execution_count": 11,
   "id": "065a3aee-54c2-45e4-bd68-150ab57e05eb",
   "metadata": {},
   "outputs": [],
   "source": [
    "SCVI_LATENT_KEY = \"X_scVI_replicates\"\n",
    "\n",
    "reference_adata.obsm[SCVI_LATENT_KEY] = scvi_ref.get_latent_representation()\n",
    "sc.pp.neighbors(reference_adata, use_rep=SCVI_LATENT_KEY)"
   ]
  },
  {
   "cell_type": "code",
   "execution_count": null,
   "metadata": {},
   "outputs": [],
   "source": [
    "sc.tl.umap(reference_adata)\n",
    "sc.pl.umap(reference_adata, color = 'Subtype')"
   ]
  },
  {
   "cell_type": "markdown",
   "id": "9f1c8c74",
   "metadata": {},
   "source": [
    "Save the mapping projection to the adata"
   ]
  },
  {
   "cell_type": "code",
   "execution_count": null,
   "id": "a231b040-1bd3-4817-9a0d-5bef2ab93875",
   "metadata": {},
   "outputs": [],
   "source": [
    "\n",
    "for t in range(len(input_folders)):\n",
    "    target_adata = sc.read(os.path.join(input_folders[t], 'adatas', '04_tissue_cleared.h5ad'))\n",
    "    target_adata.obs['batch'] = os.path.basename(input_folders[t])\n",
    "    scvi.model.SCVI.prepare_query_anndata(target_adata, scvi_ref)\n",
    "    scvi_query = scvi.model.SCVI.load_query_data(\n",
    "        target_adata,\n",
    "        scvi_ref\n",
    "    )\n",
    "\n",
    "    scvi_query.train(max_epochs=200, plan_kwargs={\"weight_decay\": 0.0})\n",
    "    target_adata.obsm[SCVI_LATENT_KEY] = scvi_query.get_latent_representation()\n",
    "    target_adata.write(os.path.join(input_folders[t], 'adatas', '06_reference_mapped.h5ad'))"
   ]
  }
 ],
 "metadata": {
  "kernelspec": {
   "display_name": "Python 3 (ipykernel)",
   "language": "python",
   "name": "python3"
  },
  "language_info": {
   "codemirror_mode": {
    "name": "ipython",
    "version": 3
   },
   "file_extension": ".py",
   "mimetype": "text/x-python",
   "name": "python",
   "nbconvert_exporter": "python",
   "pygments_lexer": "ipython3",
   "version": "3.9.18"
  }
 },
 "nbformat": 4,
 "nbformat_minor": 5
}
