{
 "cells": [
  {
   "cell_type": "markdown",
   "id": "0",
   "metadata": {},
   "source": [
    "Geneformer for Cell Annotation Application"
   ]
  },
  {
   "cell_type": "code",
   "execution_count": 1,
   "id": "1",
   "metadata": {},
   "outputs": [],
   "source": [
    "import os\n",
    "import sys\n",
    "\n",
    "sys.path.append(\"/home/amonell/Geneformer\")\n",
    "GPU_NUMBER = [0]\n",
    "os.environ[\"CUDA_VISIBLE_DEVICES\"] = \",\".join([str(s) for s in GPU_NUMBER])\n",
    "os.environ[\"NCCL_DEBUG\"] = \"INFO\""
   ]
  },
  {
   "cell_type": "code",
   "execution_count": 2,
   "id": "2",
   "metadata": {},
   "outputs": [
    {
     "name": "stdout",
     "output_type": "stream",
     "text": [
      "CUDA is available\n"
     ]
    }
   ],
   "source": [
    "import torch\n",
    "\n",
    "if torch.cuda.is_available():\n",
    "    print(\"CUDA is available\")\n",
    "else:\n",
    "    print(\"CUDA is not available\")"
   ]
  },
  {
   "cell_type": "code",
   "execution_count": 3,
   "id": "3",
   "metadata": {},
   "outputs": [
    {
     "name": "stderr",
     "output_type": "stream",
     "text": [
      "2024-09-09 13:43:41.841600: E external/local_xla/xla/stream_executor/cuda/cuda_dnn.cc:9261] Unable to register cuDNN factory: Attempting to register factory for plugin cuDNN when one has already been registered\n",
      "2024-09-09 13:43:41.841638: E external/local_xla/xla/stream_executor/cuda/cuda_fft.cc:607] Unable to register cuFFT factory: Attempting to register factory for plugin cuFFT when one has already been registered\n",
      "2024-09-09 13:43:41.842873: E external/local_xla/xla/stream_executor/cuda/cuda_blas.cc:1515] Unable to register cuBLAS factory: Attempting to register factory for plugin cuBLAS when one has already been registered\n",
      "2024-09-09 13:43:42.522371: W tensorflow/compiler/tf2tensorrt/utils/py_utils.cc:38] TF-TRT Warning: Could not find TensorRT\n",
      "/home/amonell/.local/lib/python3.10/site-packages/numba/np/ufunc/parallel.py:371: NumbaWarning: The TBB threading layer requires TBB version 2021 update 6 or later i.e., TBB_INTERFACE_VERSION >= 12060. Found TBB_INTERFACE_VERSION = 12050. The TBB threading layer is disabled.\n",
      "  warnings.warn(problem)\n"
     ]
    }
   ],
   "source": [
    "# imports\n",
    "from collections import Counter\n",
    "from tqdm.notebook import tqdm\n",
    "import datetime\n",
    "import pickle\n",
    "import subprocess\n",
    "import seaborn as sns\n",
    "\n",
    "sns.set()\n",
    "from datasets import load_from_disk\n",
    "from sklearn.metrics import accuracy_score, f1_score\n",
    "from transformers import BertForSequenceClassification\n",
    "from transformers import Trainer\n",
    "from transformers.training_args import TrainingArguments\n",
    "\n",
    "from geneformer import DataCollatorForCellClassification\n",
    "\n",
    "import numpy as np\n",
    "import scanpy as sc\n",
    "import glob\n",
    "import os\n",
    "import pandas as pd\n",
    "import matplotlib.pyplot as plt"
   ]
  },
  {
   "cell_type": "markdown",
   "id": "afd79f58",
   "metadata": {},
   "source": [
    "Input the path to a pretrained geneformer model"
   ]
  },
  {
   "cell_type": "code",
   "execution_count": null,
   "id": "bf251735",
   "metadata": {},
   "outputs": [],
   "source": [
    "geneformer_pretrained_path = 'Geneformer/240318_geneformer_CellClassifier_SI2_SI_L2048_B15_LR5e-05_LSlinear_WU500_E3_Oadamw_F0'"
   ]
  },
  {
   "cell_type": "markdown",
   "id": "4",
   "metadata": {},
   "source": [
    "Load in a trained GeneFormer model"
   ]
  },
  {
   "cell_type": "code",
   "execution_count": 4,
   "id": "10",
   "metadata": {},
   "outputs": [],
   "source": [
    "def compute_metrics(pred):\n",
    "    labels = pred.label_ids\n",
    "    preds = pred.predictions.argmax(-1)\n",
    "    # calculate accuracy and macro f1 using sklearn's function\n",
    "    acc = accuracy_score(labels, preds)\n",
    "    macro_f1 = f1_score(labels, preds, average=\"macro\")\n",
    "    return {\"accuracy\": acc, \"macro_f1\": macro_f1}"
   ]
  },
  {
   "cell_type": "code",
   "execution_count": 5,
   "id": "11",
   "metadata": {},
   "outputs": [],
   "source": [
    "# set model parameters\n",
    "# max input size\n",
    "max_input_size = 2**11  # 2048\n",
    "\n",
    "# set training parameters\n",
    "# max learning rate\n",
    "max_lr = 5e-5\n",
    "# how many pretrained layers to freeze\n",
    "freeze_layers = 0\n",
    "# number gpus\n",
    "num_gpus = 1\n",
    "# number cpu cores\n",
    "num_proc = 16\n",
    "# batch size for training and eval\n",
    "geneformer_batch_size = 15\n",
    "# learning schedule\n",
    "lr_schedule_fn = \"linear\"\n",
    "# warmup steps\n",
    "warmup_steps = 500\n",
    "# number of epochs\n",
    "epochs = 3\n",
    "# optimizer\n",
    "optimizer = \"adamw\"\n",
    "# set logging steps\n",
    "logging_steps = 1"
   ]
  },
  {
   "cell_type": "markdown",
   "id": "13",
   "metadata": {},
   "source": [
    "Predicting with geneformer and saving predictions"
   ]
  },
  {
   "cell_type": "code",
   "execution_count": 6,
   "id": "eb4beb16",
   "metadata": {},
   "outputs": [],
   "source": [
    "from transformers import AutoModelForSequenceClassification\n",
    "\n",
    "# set training arguments\n",
    "training_args = {\n",
    "    \"learning_rate\": max_lr,\n",
    "    \"do_train\": True,\n",
    "    \"do_eval\": True,\n",
    "    \"evaluation_strategy\": \"epoch\",\n",
    "    \"save_strategy\": \"epoch\",\n",
    "    \"logging_steps\": logging_steps,\n",
    "    \"group_by_length\": True,\n",
    "    \"length_column_name\": \"length\",\n",
    "    \"disable_tqdm\": False,\n",
    "    \"lr_scheduler_type\": lr_schedule_fn,\n",
    "    \"warmup_steps\": warmup_steps,\n",
    "    \"weight_decay\": 0.001,\n",
    "    \"per_device_train_batch_size\": geneformer_batch_size,\n",
    "    \"per_device_eval_batch_size\": geneformer_batch_size,\n",
    "    \"num_train_epochs\": epochs,\n",
    "    \"load_best_model_at_end\": True,\n",
    "    \"output_dir\": geneformer_pretrained_path,\n",
    "}\n",
    "\n",
    "training_args_init = TrainingArguments(**training_args)\n",
    "\n",
    "model = AutoModelForSequenceClassification.from_pretrained(geneformer_pretrained_path)"
   ]
  },
  {
   "cell_type": "code",
   "execution_count": 7,
   "id": "10f30f01",
   "metadata": {},
   "outputs": [
    {
     "name": "stderr",
     "output_type": "stream",
     "text": [
      "/home/amonell/mambaforge/envs/pytorch/lib/python3.10/site-packages/accelerate/accelerator.py:432: FutureWarning: Passing the following arguments to `Accelerator` is deprecated and will be removed in version 1.0 of Accelerate: dict_keys(['dispatch_batches', 'split_batches', 'even_batches', 'use_seedable_sampler']). Please pass an `accelerate.DataLoaderConfiguration` instead: \n",
      "dataloader_config = DataLoaderConfiguration(dispatch_batches=None, split_batches=False, even_batches=True, use_seedable_sampler=True)\n",
      "  warnings.warn(\n"
     ]
    }
   ],
   "source": [
    "organ = 'SI'\n",
    "\n",
    "trainer = Trainer(\n",
    "    model=model,\n",
    "    args=training_args_init,\n",
    "    data_collator=DataCollatorForCellClassification(),\n",
    "    train_dataset=None,\n",
    "    eval_dataset=None,\n",
    "    compute_metrics=compute_metrics,\n",
    ")"
   ]
  },
  {
   "cell_type": "code",
   "execution_count": 23,
   "id": "f6cb6638",
   "metadata": {},
   "outputs": [],
   "source": [
    "target_names = ['Goblet',\n",
    " 'Enterocyte_1',\n",
    " 'Monocyte',\n",
    " 'Cd8_T-Cell_P14',\n",
    " 'Cd8_T-Cell_aa+',\n",
    " 'Cd8_T-Cell_ab+',\n",
    " 'MAIT',\n",
    " 'T-Cell gd',\n",
    " 'Enterocyte_2',\n",
    " 'Macrophage',\n",
    " 'ILC',\n",
    " 'Cd4_T-Cell',\n",
    " 'B-Cell',\n",
    " 'Enteroendocrine',\n",
    " 'T-Cell',\n",
    " 'cDC1',\n",
    " 'Early_Enterocyte',\n",
    " 'Enterocyte_3',\n",
    " 'Myofibroblast',\n",
    " 'Eosinophil',\n",
    " 'DC2',\n",
    " 'Lymphatic',\n",
    " 'Tuft',\n",
    " 'NK-Cell',\n",
    " 'Resting Fibroblast',\n",
    " 'Fibroblast',\n",
    " 'Transit_Amplifying',\n",
    " 'Fibroblast_Pdgfrb+ ',\n",
    " 'Vascular Endothelial',\n",
    " 'Contaminated DCs',\n",
    " 'ISC',\n",
    " 'Paneth',\n",
    " 'Neuron',\n",
    " 'Fibroblast_Ncam1',\n",
    " 'Fibroblast_Pdgfra+',\n",
    " 'Complement_Fibroblast',\n",
    " 'MegakaryocytePlatelet']"
   ]
  },
  {
   "cell_type": "code",
   "execution_count": 14,
   "id": "14",
   "metadata": {},
   "outputs": [],
   "source": [
    "\n",
    "\n",
    "for filename in glob.glob(\"/mnt/sata1/Analysis_Alex/uninfected/segmentation_SI*\"):\n",
    "    outname = os.path.basename(filename)\n",
    "    # load train dataset (includes all tissues)\n",
    "    train_dataset = (\n",
    "        \"/mnt/sata1/Analysis_Alex/Geneformer/loom_\"\n",
    "        + outname\n",
    "        + \"/tokenized/train_\"\n",
    "        + outname\n",
    "        + \".dataset\"\n",
    "    )\n",
    "\n",
    "    # load evaluation dataset (includes all tissues)\n",
    "    c = 0\n",
    "    d = train_dataset\n",
    "    # load test\n",
    "    test_dataset = load_from_disk(d)\n",
    "    test_dataset = test_dataset.add_column(\n",
    "        \"label\", [0 for i in range(test_dataset.num_rows)]\n",
    "    )\n",
    "\n",
    "\n",
    "    predictions_test = trainer.predict(test_dataset)\n",
    "\n",
    "    ad = sc.read(\n",
    "        os.path.join(\n",
    "            filename,\n",
    "            \"adatas/06_reference_mapped.h5ad\",\n",
    "        )\n",
    "    )\n",
    "    ad.obs[\"celltype_predicted\"] = np.array(target_names)[\n",
    "        np.argmax(predictions_test.predictions, axis=1)\n",
    "    ]\n",
    "    ad.write(\n",
    "        os.path.join(\n",
    "            filename,\n",
    "            \"adatas/06_geneformer_celltypes.h5ad\",\n",
    "        )\n",
    "    )"
   ]
  }
 ],
 "metadata": {
  "kernelspec": {
   "display_name": "Python 3 (ipykernel)",
   "language": "python",
   "name": "python3"
  },
  "language_info": {
   "codemirror_mode": {
    "name": "ipython",
    "version": 3
   },
   "file_extension": ".py",
   "mimetype": "text/x-python",
   "name": "python",
   "nbconvert_exporter": "python",
   "pygments_lexer": "ipython3",
   "version": "3.10.13"
  },
  "vscode": {
   "interpreter": {
    "hash": "eba1599a1f7e611c14c87ccff6793920aa63510b01fc0e229d6dd014149b8829"
   }
  }
 },
 "nbformat": 4,
 "nbformat_minor": 5
}
