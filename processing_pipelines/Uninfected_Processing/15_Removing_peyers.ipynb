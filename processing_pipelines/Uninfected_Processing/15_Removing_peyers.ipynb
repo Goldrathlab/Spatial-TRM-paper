{
 "cells": [
  {
   "cell_type": "markdown",
   "metadata": {},
   "source": [
    "Removing any peyer's patches that passed through accidentally"
   ]
  },
  {
   "cell_type": "code",
   "execution_count": 1,
   "metadata": {},
   "outputs": [],
   "source": [
    "import scanpy as sc\n",
    "import numpy as np\n",
    "import scanpy as sc\n",
    "import glob\n",
    "import os\n",
    "import json\n",
    "from PIL import Image, ImageDraw\n",
    "import shapely"
   ]
  },
  {
   "cell_type": "code",
   "execution_count": 2,
   "metadata": {},
   "outputs": [],
   "source": [
    "output_folder = r\"/mnt/sata1/Analysis_Alex/uninfected\""
   ]
  },
  {
   "cell_type": "code",
   "execution_count": null,
   "metadata": {},
   "outputs": [],
   "source": [
    "adata = sc.read(os.path.join(output_folder, \"final_uninfected_adata.h5ad\"))"
   ]
  },
  {
   "cell_type": "code",
   "execution_count": null,
   "metadata": {},
   "outputs": [],
   "source": [
    "sc.pl.embedding(adata, basis='spatial', color = 'Immunocentric_Type')"
   ]
  },
  {
   "cell_type": "markdown",
   "metadata": {},
   "source": [
    "Save images of spatial cells colored by Immunocentric cell type"
   ]
  },
  {
   "cell_type": "code",
   "execution_count": null,
   "metadata": {},
   "outputs": [],
   "source": [
    "for input_file in np.unique(adata.obs.batch):\n",
    "    current_adata = adata[adata.obs['batch'] == input_file]\n",
    "    all_spatial = current_adata.obsm['X_spatial']\n",
    "\n",
    "    Immunocentric_Type_categories = current_adata.obs['Immunocentric_Type'].cat.categories\n",
    "    Immunocentric_Type_colors = current_adata.uns['Immunocentric_Type_colors']\n",
    "    \n",
    "    Immunocentric_Type_dict = {category: Immunocentric_Type_colors[i] for i, category in enumerate(Immunocentric_Type_categories)}\n",
    "    image_colors = [Immunocentric_Type_dict.get(v) for v in current_adata.obs.Immunocentric_Type]\n",
    "\n",
    "    #D6, D7, D30 #downsize = 20\n",
    "    downsize = 5\n",
    "    # Example 2D point array (replace this with your own data)\n",
    "    points = all_spatial/downsize\n",
    "    \n",
    "    # Define the size of the image (adjust as needed)\n",
    "    image_width = 2000\n",
    "    image_height = 2000\n",
    "    \n",
    "    # Create a white canvas as the base image\n",
    "    base_image = Image.new('RGB', (image_width, image_height), (255, 255, 255))\n",
    "    \n",
    "    # Draw the points on the image\n",
    "    draw = ImageDraw.Draw(base_image)\n",
    "    point_size = 1  # Size of the points\n",
    "    ct = 0\n",
    "    for point in points:\n",
    "        draw.ellipse((point[0] - point_size, point[1] - point_size, point[0] + point_size, point[1] + point_size),\n",
    "                     fill=image_colors[ct])\n",
    "        ct += 1\n",
    "\n",
    "    try:\n",
    "        os.mkdir(os.path.join(output_folder, 'peyers'))\n",
    "    except:\n",
    "        print('peyers directory already exists')\n",
    "        \n",
    "    try:\n",
    "        os.mkdir(os.path.join(output_folder, 'peyers', input_file))\n",
    "    except:\n",
    "        print('directory already exists')\n",
    "    file_path = os.path.join(output_folder, 'peyers', input_file, 'Immunocentric_Type_image.png')\n",
    "    base_image.save(file_path)"
   ]
  },
  {
   "cell_type": "markdown",
   "metadata": {},
   "source": [
    "label peyers patch cells to remove in labelme"
   ]
  },
  {
   "cell_type": "markdown",
   "metadata": {},
   "source": [
    "parse these labels below"
   ]
  },
  {
   "cell_type": "code",
   "execution_count": null,
   "metadata": {},
   "outputs": [],
   "source": [
    "from tqdm.notebook import tqdm\n",
    "from shapely.geometry import Point, Polygon\n",
    "\n",
    "remove_ids = []\n",
    "for input_file in tqdm(np.unique(adata.obs.batch)):\n",
    "    current_adata = adata[adata.obs['batch'] == input_file]\n",
    "    json_file_path =os.path.join(output_folder, 'peyers', input_file, 'Immunocentric_Type_image.json')\n",
    "    all_spatial = current_adata.obsm['X_spatial']\n",
    "    \n",
    "    # Load the JSON data from the file\n",
    "    with open(json_file_path, 'r') as json_file:\n",
    "        data = json.load(json_file)\n",
    "    \n",
    "    # Extract relevant information from the JSON data\n",
    "    image_height = data['imageHeight']\n",
    "    image_width = data['imageWidth']\n",
    "    image_path = data['imagePath']\n",
    "    shapes = data['shapes']\n",
    "    \n",
    "    # Process the shapes (annotations)\n",
    "    removals = []\n",
    "    points = [] \n",
    "    top_points = [] \n",
    "    for shape in shapes:\n",
    "        label = shape['label']\n",
    "        removals.append(shape['points'])\n",
    "    \n",
    "    total_indices = []\n",
    "    for ir in removals:\n",
    "        ir_ = np.array(ir)*downsize\n",
    "        poly = Polygon(ir_)\n",
    "        indices = []\n",
    "        for i in range(len(all_spatial)):\n",
    "            pt = Point(all_spatial[i])\n",
    "            if pt.within(poly):\n",
    "                indices.append(i)\n",
    "        total_indices.append(indices)\n",
    "    \n",
    "    total_indices=list(set([element for sublist in total_indices for element in sublist]))\n",
    "    index_set = list(set(total_indices))\n",
    "    if len(index_set) > 0:\n",
    "        current_adata = current_adata[index_set, :]\n",
    "        remove_ids.extend(current_adata.obs.index.values)\n",
    "    print(len(remove_ids))"
   ]
  },
  {
   "cell_type": "code",
   "execution_count": 7,
   "metadata": {},
   "outputs": [],
   "source": [
    "adata = adata[~adata.obs.index.isin(remove_ids)]"
   ]
  },
  {
   "cell_type": "code",
   "execution_count": 8,
   "metadata": {},
   "outputs": [],
   "source": [
    "adata.write(os.path.join(output_folder, 'analysis/cleaned/final_object_no_peyers.h5ad'))"
   ]
  },
  {
   "cell_type": "markdown",
   "metadata": {},
   "source": [
    "Converting P14s to cd8ab"
   ]
  },
  {
   "cell_type": "code",
   "execution_count": null,
   "metadata": {},
   "outputs": [],
   "source": [
    "adata = sc.read(os.path.join(output_folder, 'analysis/cleaned/final_object_no_peyers.h5ad'))"
   ]
  },
  {
   "cell_type": "code",
   "execution_count": 10,
   "metadata": {},
   "outputs": [],
   "source": [
    "adata.obs['Subtype'] = adata.obs['Subtype'].replace('Cd8_T-Cell_P14', 'Cd8_T-Cell_ab+')"
   ]
  },
  {
   "cell_type": "code",
   "execution_count": 11,
   "metadata": {},
   "outputs": [],
   "source": [
    "adata.write(os.path.join(output_folder, 'analysis/cleaned/final_object_no_peyers.h5ad'))"
   ]
  }
 ],
 "metadata": {
  "kernelspec": {
   "display_name": "scvi-env",
   "language": "python",
   "name": "python3"
  },
  "language_info": {
   "codemirror_mode": {
    "name": "ipython",
    "version": 3
   },
   "file_extension": ".py",
   "mimetype": "text/x-python",
   "name": "python",
   "nbconvert_exporter": "python",
   "pygments_lexer": "ipython3",
   "version": "3.8.18"
  }
 },
 "nbformat": 4,
 "nbformat_minor": 2
}
