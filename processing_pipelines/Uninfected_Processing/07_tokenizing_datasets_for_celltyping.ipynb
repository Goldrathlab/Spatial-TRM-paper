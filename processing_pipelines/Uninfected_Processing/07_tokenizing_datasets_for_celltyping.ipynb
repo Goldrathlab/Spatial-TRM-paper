{
 "cells": [
  {
   "cell_type": "markdown",
   "id": "0",
   "metadata": {},
   "source": [
    "Tokenizing cells for Geneformer, which can be used to predict cell types in the uninfected data from the time course data"
   ]
  },
  {
   "cell_type": "code",
   "execution_count": null,
   "id": "1",
   "metadata": {},
   "outputs": [],
   "source": [
    "import sys\n",
    "\n",
    "sys.path.append(\"/home/amonell/Geneformer\")\n",
    "from geneformer import TranscriptomeTokenizer\n",
    "import numpy as np\n",
    "import os\n",
    "import pandas as pd"
   ]
  },
  {
   "cell_type": "markdown",
   "id": "2",
   "metadata": {},
   "source": [
    "Put the path to the reference data"
   ]
  },
  {
   "cell_type": "code",
   "execution_count": null,
   "id": "3",
   "metadata": {},
   "outputs": [],
   "source": [
    "import scanpy as sc\n",
    "\n",
    "ad = sc.read(\"timecourse.h5ad\")"
   ]
  },
  {
   "cell_type": "markdown",
   "id": "4",
   "metadata": {},
   "source": [
    "#### Converting gene names to human homolog ensembl ids\n",
    "We provide the following file in the current directory"
   ]
  },
  {
   "cell_type": "code",
   "execution_count": null,
   "id": "5",
   "metadata": {},
   "outputs": [],
   "source": [
    "ensembl = pd.read_csv(\"gProfiler_hsapiens_9-18-2023_2-31-49 PM.csv\").drop_duplicates(\n",
    "    \"initial_alias\"\n",
    ")"
   ]
  },
  {
   "cell_type": "code",
   "execution_count": null,
   "id": "6",
   "metadata": {},
   "outputs": [],
   "source": [
    "ad.var[\"ensembl_id\"] = [i for i in ensembl[\"converted_alias\"] if not pd.isna(i)][\n",
    "    : len(ad.var.index)\n",
    "]\n",
    "ad.var.index = ad.var.ensembl_id.tolist()\n",
    "ad.obs[\"n_counts\"] = np.array(np.sum(ad.X, axis=1)).flatten()\n",
    "ad.obs[\"organ_major\"] = \"SI\""
   ]
  },
  {
   "cell_type": "code",
   "execution_count": null,
   "id": "7",
   "metadata": {},
   "outputs": [],
   "source": [
    "ad.obs[\"input_ids\"] = [i for i in range(len(ad.obs.index.tolist()))]\n",
    "d = {}\n",
    "for i in ad.var.index.tolist():\n",
    "    d[i] = True"
   ]
  },
  {
   "cell_type": "code",
   "execution_count": null,
   "id": "8",
   "metadata": {},
   "outputs": [],
   "source": [
    "tk = TranscriptomeTokenizer(\n",
    "    {\"Subtype\": \"cell_type\", \"organ_major\": \"organ_major\"}, nproc=4\n",
    ")"
   ]
  },
  {
   "cell_type": "markdown",
   "id": "9",
   "metadata": {},
   "source": [
    "### Tokenize datasets to annotate"
   ]
  },
  {
   "cell_type": "code",
   "execution_count": null,
   "id": "10",
   "metadata": {},
   "outputs": [],
   "source": [
    "import glob\n",
    "\n",
    "geneformer_dir = \"/mnt/sata1/Analysis_Alex/Geneformer\"\n",
    "\n",
    "ensembl = pd.read_csv(\"gProfiler_hsapiens_9-18-2023_2-31-49 PM.csv\").drop_duplicates(\n",
    "    \"initial_alias\"\n",
    ")\n",
    "\n",
    "for filename in glob.glob(\"/mnt/sata1/Analysis_Alex/uninfected/segmentation_SI*\"):\n",
    "    outname = os.path.basename(filename)\n",
    "    fname = os.path.dirname(filename)\n",
    "    try:\n",
    "        os.mkdir(os.path.join(geneformer_dir, \"loom_\" + outname))\n",
    "        ad = sc.read(\n",
    "            os.path.join(\n",
    "                fname,\n",
    "                outname,\n",
    "                \"adatas/06_reference_mapped.h5ad\",\n",
    "            )\n",
    "        )\n",
    "        ad.var[\"ensembl_id\"] = [\n",
    "            i for i in ensembl[\"converted_alias\"] if not pd.isna(i)\n",
    "        ][: len(ad.var.index)]\n",
    "        ad.var.index = ad.var.ensembl_id.tolist()\n",
    "        ad.obs[\"n_counts\"] = np.array(np.sum(ad.X, axis=1)).flatten()\n",
    "        ad.obs[\"organ_major\"] = \"SI\"\n",
    "        ad.obs[\"Subtype\"] = 0\n",
    "        ad.write_loom(\n",
    "            os.path.join(geneformer_dir, \"loom_\" + outname + \"/\" + outname + \".loom\")\n",
    "        )\n",
    "\n",
    "        tk = TranscriptomeTokenizer(\n",
    "            {\"Subtype\": \"cell_type\", \"organ_major\": \"organ_major\"}, nproc=4\n",
    "        )\n",
    "        tk.tokenize_data(\n",
    "            os.path.join(geneformer_dir, \"loom_\" + outname),\n",
    "            os.path.join(geneformer_dir, \"loom_\" + outname, \"tokenized\"),\n",
    "            \"train_\" + outname,\n",
    "        )\n",
    "    except:\n",
    "        print(outname)"
   ]
  }
 ],
 "metadata": {
  "kernelspec": {
   "display_name": "Python 3 (ipykernel)",
   "language": "python",
   "name": "python3"
  },
  "language_info": {
   "codemirror_mode": {
    "name": "ipython",
    "version": 3
   },
   "file_extension": ".py",
   "mimetype": "text/x-python",
   "name": "python",
   "nbconvert_exporter": "python",
   "pygments_lexer": "ipython3",
   "version": "3.10.13"
  }
 },
 "nbformat": 4,
 "nbformat_minor": 5
}
