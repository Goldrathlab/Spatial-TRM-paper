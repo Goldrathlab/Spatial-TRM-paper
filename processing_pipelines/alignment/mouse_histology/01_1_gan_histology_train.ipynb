{
 "cells": [
  {
   "cell_type": "code",
   "execution_count": null,
   "metadata": {},
   "outputs": [],
   "source": [
    "import os\n",
    "import numpy as np\n",
    "import pathlib\n",
    "from pyometiff import OMETIFFReader\n",
    "from PIL import Image\n",
    "from tqdm.notebook import tqdm\n",
    "import matplotlib.pyplot as plt"
   ]
  },
  {
   "cell_type": "code",
   "execution_count": null,
   "metadata": {},
   "outputs": [],
   "source": [
    "xenium_path = \"/mnt/sata1/Analysis_Alex/timecourse_replicates/day8_SI_r2/xenium_output\"\n",
    "h_and_e = np.load(os.path.join(os.path.dirname(xenium_path), \"h_and_e_alignment.npy\"))"
   ]
  },
  {
   "cell_type": "code",
   "execution_count": null,
   "metadata": {},
   "outputs": [],
   "source": [
    "h_and_e = h_and_e[:32766, :32766, :]"
   ]
  },
  {
   "cell_type": "code",
   "execution_count": null,
   "metadata": {},
   "outputs": [],
   "source": [
    "img_fpath = pathlib.Path(os.path.join(xenium_path, \"morphology_mip.ome.tif\"))\n",
    "\n",
    "reader = OMETIFFReader(fpath=img_fpath)\n",
    "\n",
    "img_array_xenium, metadata_xenium, xml_metadata = reader.read()"
   ]
  },
  {
   "cell_type": "code",
   "execution_count": null,
   "metadata": {},
   "outputs": [],
   "source": [
    "h_and_e = h_and_e.astype(np.uint16)"
   ]
  },
  {
   "cell_type": "code",
   "execution_count": null,
   "metadata": {},
   "outputs": [],
   "source": [
    "img_array_xenium = img_array_xenium[:32766, :32766]\n",
    "img_array_xenium = 255 * (img_array_xenium / np.max(img_array_xenium))"
   ]
  },
  {
   "cell_type": "code",
   "execution_count": null,
   "metadata": {},
   "outputs": [],
   "source": [
    "image_chunks = []\n",
    "for row in tqdm(range(256, np.shape(h_and_e)[0], 256)):\n",
    "    for col in range(256, np.shape(h_and_e)[1], 256):\n",
    "        right_part = h_and_e[row - 256 : row, col - 256 : col, :]\n",
    "        left_part = np.dstack(\n",
    "            [\n",
    "                img_array_xenium[row - 256 : row, col - 256 : col],\n",
    "                img_array_xenium[row - 256 : row, col - 256 : col],\n",
    "                img_array_xenium[row - 256 : row, col - 256 : col],\n",
    "            ]\n",
    "        )\n",
    "        image_chunks.append(np.hstack([left_part, right_part]))"
   ]
  },
  {
   "cell_type": "code",
   "execution_count": null,
   "metadata": {},
   "outputs": [],
   "source": [
    "image_chunks = [i for i in image_chunks if np.mean(i[:, :, 0]) > 130]"
   ]
  },
  {
   "cell_type": "code",
   "execution_count": null,
   "metadata": {},
   "outputs": [],
   "source": [
    "# Set a seed for reproducibility (optional)\n",
    "np.random.seed(42)\n",
    "\n",
    "# Shuffle the image_chunks randomly\n",
    "np.random.shuffle(image_chunks)\n",
    "\n",
    "# Calculate the split indices\n",
    "total_samples = len(image_chunks)\n",
    "train_size = int(0.6 * total_samples)\n",
    "test_size = int(0.2 * total_samples)\n",
    "\n",
    "# Split the image_chunks\n",
    "train_image_chunks = image_chunks[:train_size]\n",
    "test_image_chunks = image_chunks[train_size : train_size + test_size]\n",
    "validate_image_chunks = image_chunks[train_size + test_size :]"
   ]
  },
  {
   "cell_type": "code",
   "execution_count": null,
   "metadata": {},
   "outputs": [],
   "source": [
    "for i, arr in enumerate(train_image_chunks):\n",
    "    # Convert the numpy array to an image\n",
    "    img = Image.fromarray(arr.astype(\"uint8\"))\n",
    "\n",
    "    # Save the image to a file\n",
    "    img.save(\n",
    "        os.path.join(\n",
    "            \"/home/amonell/piloting/pytorch-CycleGAN-and-pix2pix/datasets/histology/train\",\n",
    "            f\"image_{i + 1}.jpg\",\n",
    "        )\n",
    "    )\n",
    "\n",
    "for i, arr in enumerate(test_image_chunks):\n",
    "    # Convert the numpy array to an image\n",
    "    img = Image.fromarray(arr.astype(\"uint8\"))\n",
    "\n",
    "    # Save the image to a file\n",
    "    img.save(\n",
    "        os.path.join(\n",
    "            \"/home/amonell/piloting/pytorch-CycleGAN-and-pix2pix/datasets/histology/test\",\n",
    "            f\"image_{i + 1}.jpg\",\n",
    "        )\n",
    "    )\n",
    "\n",
    "for i, arr in enumerate(validate_image_chunks):\n",
    "    # Convert the numpy array to an image\n",
    "    img = Image.fromarray(arr.astype(\"uint8\"))\n",
    "\n",
    "    # Save the image to a file\n",
    "    img.save(\n",
    "        os.path.join(\n",
    "            \"/home/amonell/piloting/pytorch-CycleGAN-and-pix2pix/datasets/histology/val\",\n",
    "            f\"image_{i + 1}.jpg\",\n",
    "        )\n",
    "    )"
   ]
  }
 ],
 "metadata": {
  "kernelspec": {
   "display_name": "pix2pix",
   "language": "python",
   "name": "python3"
  },
  "language_info": {
   "codemirror_mode": {
    "name": "ipython",
    "version": 3
   },
   "file_extension": ".py",
   "mimetype": "text/x-python",
   "name": "python",
   "nbconvert_exporter": "python",
   "pygments_lexer": "ipython3",
   "version": "3.8.18"
  }
 },
 "nbformat": 4,
 "nbformat_minor": 2
}
