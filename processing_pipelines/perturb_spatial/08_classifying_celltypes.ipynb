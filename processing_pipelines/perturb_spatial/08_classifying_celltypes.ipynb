{
 "cells": [
  {
   "cell_type": "markdown",
   "id": "0",
   "metadata": {},
   "source": [
    "## Geneformer Fine-Tuning for Cell Annotation Application"
   ]
  },
  {
   "cell_type": "code",
   "execution_count": null,
   "id": "1",
   "metadata": {},
   "outputs": [],
   "source": [
    "data_dir = \"/mnt/sata2/Analysis_Alex_2/perturb1/SI*\""
   ]
  },
  {
   "cell_type": "code",
   "execution_count": null,
   "id": "2",
   "metadata": {},
   "outputs": [],
   "source": [
    "import os\n",
    "import sys\n",
    "\n",
    "sys.path.append(\"/home/amonell/Geneformer\")\n",
    "GPU_NUMBER = [0]\n",
    "os.environ[\"CUDA_VISIBLE_DEVICES\"] = \",\".join([str(s) for s in GPU_NUMBER])\n",
    "os.environ[\"NCCL_DEBUG\"] = \"INFO\""
   ]
  },
  {
   "cell_type": "code",
   "execution_count": null,
   "id": "3",
   "metadata": {},
   "outputs": [],
   "source": [
    "import torch\n",
    "\n",
    "if torch.cuda.is_available():\n",
    "    print(\"CUDA is available\")\n",
    "else:\n",
    "    print(\"CUDA is not available\")"
   ]
  },
  {
   "cell_type": "code",
   "execution_count": null,
   "id": "4",
   "metadata": {},
   "outputs": [],
   "source": [
    "# imports\n",
    "from collections import Counter\n",
    "from tqdm.notebook import tqdm\n",
    "import datetime\n",
    "import pickle\n",
    "import subprocess\n",
    "import seaborn as sns\n",
    "\n",
    "sns.set()\n",
    "from datasets import load_from_disk\n",
    "from sklearn.metrics import accuracy_score, f1_score\n",
    "from transformers import BertForSequenceClassification\n",
    "from transformers import Trainer\n",
    "from transformers.training_args import TrainingArguments\n",
    "\n",
    "from geneformer import DataCollatorForCellClassification\n",
    "\n",
    "import numpy as np\n",
    "import scanpy as sc\n",
    "import glob\n",
    "import os\n",
    "import pandas as pd\n",
    "import matplotlib.pyplot as plt"
   ]
  },
  {
   "cell_type": "markdown",
   "id": "5",
   "metadata": {},
   "source": [
    "Input the path to a pretrained geneformer model"
   ]
  },
  {
   "cell_type": "code",
   "execution_count": null,
   "id": "6",
   "metadata": {},
   "outputs": [],
   "source": [
    "geneformer_pretrained_path = \"Geneformer/240318_geneformer_CellClassifier_SI2_SI_L2048_B15_LR5e-05_LSlinear_WU500_E3_Oadamw_F0\""
   ]
  },
  {
   "cell_type": "markdown",
   "id": "7",
   "metadata": {},
   "source": [
    "Load in a trained geneformer model"
   ]
  },
  {
   "cell_type": "code",
   "execution_count": null,
   "id": "8",
   "metadata": {},
   "outputs": [],
   "source": [
    "def compute_metrics(pred):\n",
    "    labels = pred.label_ids\n",
    "    preds = pred.predictions.argmax(-1)\n",
    "    # calculate accuracy and macro f1 using sklearn's function\n",
    "    acc = accuracy_score(labels, preds)\n",
    "    macro_f1 = f1_score(labels, preds, average=\"macro\")\n",
    "    return {\"accuracy\": acc, \"macro_f1\": macro_f1}"
   ]
  },
  {
   "cell_type": "code",
   "execution_count": null,
   "id": "9",
   "metadata": {},
   "outputs": [],
   "source": [
    "# set model parameters\n",
    "# max input size\n",
    "max_input_size = 2**11  # 2048\n",
    "\n",
    "# set training parameters\n",
    "# max learning rate\n",
    "max_lr = 5e-5\n",
    "# how many pretrained layers to freeze\n",
    "freeze_layers = 0\n",
    "# number gpus\n",
    "num_gpus = 1\n",
    "# number cpu cores\n",
    "num_proc = 16\n",
    "# batch size for training and eval\n",
    "geneformer_batch_size = 15\n",
    "# learning schedule\n",
    "lr_schedule_fn = \"linear\"\n",
    "# warmup steps\n",
    "warmup_steps = 500\n",
    "# number of epochs\n",
    "epochs = 3\n",
    "# optimizer\n",
    "optimizer = \"adamw\"\n",
    "# set logging steps\n",
    "logging_steps = 1"
   ]
  },
  {
   "cell_type": "markdown",
   "id": "10",
   "metadata": {},
   "source": [
    "Predicting with geneformer and saving predictions"
   ]
  },
  {
   "cell_type": "code",
   "execution_count": null,
   "id": "11",
   "metadata": {},
   "outputs": [],
   "source": [
    "from transformers import AutoModelForSequenceClassification\n",
    "\n",
    "# set training arguments\n",
    "training_args = {\n",
    "    \"learning_rate\": max_lr,\n",
    "    \"do_train\": True,\n",
    "    \"do_eval\": True,\n",
    "    \"evaluation_strategy\": \"epoch\",\n",
    "    \"save_strategy\": \"epoch\",\n",
    "    \"logging_steps\": logging_steps,\n",
    "    \"group_by_length\": True,\n",
    "    \"length_column_name\": \"length\",\n",
    "    \"disable_tqdm\": False,\n",
    "    \"lr_scheduler_type\": lr_schedule_fn,\n",
    "    \"warmup_steps\": warmup_steps,\n",
    "    \"weight_decay\": 0.001,\n",
    "    \"per_device_train_batch_size\": geneformer_batch_size,\n",
    "    \"per_device_eval_batch_size\": geneformer_batch_size,\n",
    "    \"num_train_epochs\": epochs,\n",
    "    \"load_best_model_at_end\": True,\n",
    "    \"output_dir\": geneformer_pretrained_path,\n",
    "}\n",
    "\n",
    "training_args_init = TrainingArguments(**training_args)\n",
    "\n",
    "model = AutoModelForSequenceClassification.from_pretrained(geneformer_pretrained_path)"
   ]
  },
  {
   "cell_type": "code",
   "execution_count": null,
   "id": "12",
   "metadata": {},
   "outputs": [],
   "source": [
    "organ = \"SI\"\n",
    "\n",
    "trainer = Trainer(\n",
    "    model=model,\n",
    "    args=training_args_init,\n",
    "    data_collator=DataCollatorForCellClassification(),\n",
    "    train_dataset=None,\n",
    "    eval_dataset=None,\n",
    "    compute_metrics=compute_metrics,\n",
    ")"
   ]
  },
  {
   "cell_type": "code",
   "execution_count": null,
   "id": "13",
   "metadata": {},
   "outputs": [],
   "source": [
    "target_names = [\n",
    "    \"Goblet\",\n",
    "    \"Enterocyte_1\",\n",
    "    \"Monocyte\",\n",
    "    \"Cd8_T-Cell_P14\",\n",
    "    \"Cd8_T-Cell_aa+\",\n",
    "    \"Cd8_T-Cell_ab+\",\n",
    "    \"MAIT\",\n",
    "    \"T-Cell gd\",\n",
    "    \"Enterocyte_2\",\n",
    "    \"Macrophage\",\n",
    "    \"ILC\",\n",
    "    \"Cd4_T-Cell\",\n",
    "    \"B-Cell\",\n",
    "    \"Enteroendocrine\",\n",
    "    \"T-Cell\",\n",
    "    \"cDC1\",\n",
    "    \"Early_Enterocyte\",\n",
    "    \"Enterocyte_3\",\n",
    "    \"Myofibroblast\",\n",
    "    \"Eosinophil\",\n",
    "    \"DC2\",\n",
    "    \"Lymphatic\",\n",
    "    \"Tuft\",\n",
    "    \"NK-Cell\",\n",
    "    \"Resting Fibroblast\",\n",
    "    \"Fibroblast\",\n",
    "    \"Transit_Amplifying\",\n",
    "    \"Fibroblast_Pdgfrb+ \",\n",
    "    \"Vascular Endothelial\",\n",
    "    \"Contaminated DCs\",\n",
    "    \"ISC\",\n",
    "    \"Paneth\",\n",
    "    \"Neuron\",\n",
    "    \"Fibroblast_Ncam1\",\n",
    "    \"Fibroblast_Pdgfra+\",\n",
    "    \"Complement_Fibroblast\",\n",
    "    \"MegakaryocytePlatelet\",\n",
    "]"
   ]
  },
  {
   "cell_type": "code",
   "execution_count": null,
   "id": "14",
   "metadata": {},
   "outputs": [],
   "source": [
    "for filename in glob.glob(data_dir):\n",
    "    outname = os.path.basename(filename)\n",
    "    # load train dataset (includes all tissues)\n",
    "    train_dataset = (\n",
    "        \"/mnt/sata1/Analysis_Alex/Geneformer/loom_\"\n",
    "        + outname\n",
    "        + \"/tokenized/train_\"\n",
    "        + outname\n",
    "        + \".dataset\"\n",
    "    )\n",
    "    # load evaluation dataset (includes all tissues)\n",
    "    c = 0\n",
    "    d = train_dataset\n",
    "    # load test\n",
    "    test_dataset = load_from_disk(d)\n",
    "    test_dataset = test_dataset.add_column(\n",
    "        \"label\", [0 for i in range(test_dataset.num_rows)]\n",
    "    )\n",
    "\n",
    "    predictions_test = trainer.predict(test_dataset)\n",
    "\n",
    "    ad = sc.read(\n",
    "        os.path.join(\n",
    "            filename,\n",
    "            \"adatas/05_reference_mapped.h5ad\",\n",
    "        )\n",
    "    )\n",
    "    ad.obs[\"celltype_predicted\"] = np.array(target_names)[\n",
    "        np.argmax(predictions_test.predictions, axis=1)\n",
    "    ]\n",
    "    ad.write(\n",
    "        os.path.join(\n",
    "            filename,\n",
    "            \"adatas/06_geneformer_celltypes.h5ad\",\n",
    "        )\n",
    "    )"
   ]
  }
 ],
 "metadata": {
  "kernelspec": {
   "display_name": "Python 3 (ipykernel)",
   "language": "python",
   "name": "python3"
  },
  "language_info": {
   "codemirror_mode": {
    "name": "ipython",
    "version": 3
   },
   "file_extension": ".py",
   "mimetype": "text/x-python",
   "name": "python",
   "nbconvert_exporter": "python",
   "pygments_lexer": "ipython3",
   "version": "3.10.13"
  },
  "vscode": {
   "interpreter": {
    "hash": "eba1599a1f7e611c14c87ccff6793920aa63510b01fc0e229d6dd014149b8829"
   }
  }
 },
 "nbformat": 4,
 "nbformat_minor": 5
}
