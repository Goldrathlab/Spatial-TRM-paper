{
 "cells": [
  {
   "cell_type": "code",
   "execution_count": 59,
   "metadata": {},
   "outputs": [],
   "source": [
    "import scanpy as sc\n",
    "import os\n",
    "import numpy as np\n",
    "import matplotlib.pyplot as plt"
   ]
  },
  {
   "cell_type": "markdown",
   "metadata": {},
   "source": [
    "Adding paths to the perturb experiment"
   ]
  },
  {
   "cell_type": "code",
   "execution_count": 60,
   "metadata": {},
   "outputs": [],
   "source": [
    "data_dir = \"/mnt/sata2/Analysis_Alex_2/perturb1\"\n",
    "exper = \"SI_2\"\n",
    "\n",
    "adata = sc.read(os.path.join(data_dir, exper, \"adatas\", \"04_tissue_cleared.h5ad\"))"
   ]
  },
  {
   "cell_type": "markdown",
   "metadata": {},
   "source": [
    "Names of the guide RNA genes and the guide RNAs that they correspond to"
   ]
  },
  {
   "cell_type": "code",
   "execution_count": 63,
   "metadata": {},
   "outputs": [],
   "source": [
    "guide_rna_genes = ['Muc5ac', 'Neurog3', 'Fer1l6']\n",
    "corresponding_guide_rnas = ['sgCd19', 'sgThy1', 'sgCxcr3']"
   ]
  },
  {
   "cell_type": "markdown",
   "metadata": {},
   "source": [
    "Calculate PCA without the guide RNA expression"
   ]
  },
  {
   "cell_type": "code",
   "execution_count": 64,
   "metadata": {},
   "outputs": [],
   "source": [
    "guide_rna_indices = np.where(~adata.var.index.isin(guide_rna_genes))[0]\n",
    "pca = sc.tl.pca(adata.X[:, guide_rna_indices], random_state=0)\n",
    "\n",
    "adata.obsm['X_pca'] = pca"
   ]
  },
  {
   "cell_type": "code",
   "execution_count": 87,
   "metadata": {},
   "outputs": [],
   "source": [
    "adata.write(os.path.join(data_dir, exper, \"adatas\", \"05_reference_mapped.h5ad\"))"
   ]
  }
 ],
 "metadata": {
  "kernelspec": {
   "display_name": "merscope_01",
   "language": "python",
   "name": "python3"
  },
  "language_info": {
   "codemirror_mode": {
    "name": "ipython",
    "version": 3
   },
   "file_extension": ".py",
   "mimetype": "text/x-python",
   "name": "python",
   "nbconvert_exporter": "python",
   "pygments_lexer": "ipython3",
   "version": "3.8.18"
  }
 },
 "nbformat": 4,
 "nbformat_minor": 2
}
