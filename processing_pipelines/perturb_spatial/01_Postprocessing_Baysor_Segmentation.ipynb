{
 "cells": [
  {
   "cell_type": "markdown",
   "id": "0",
   "metadata": {},
   "source": [
    "### Postprocessing the Baysor segmentations\n",
    "##### Baysor has many instances where a cell does not overlap with a nucleus, or a cell contains multiple nuclei. This script seeks to correct that. We are very confident in our nuclei segmentations, and therefore are able to make these adjustments with confidence"
   ]
  },
  {
   "cell_type": "code",
   "execution_count": null,
   "id": "1",
   "metadata": {},
   "outputs": [],
   "source": [
    "import scanpy as sc\n",
    "import pandas as pd\n",
    "import numpy as np\n",
    "import os\n",
    "from tqdm.notebook import tqdm\n",
    "import matplotlib.pyplot as plt\n",
    "from collections import Counter\n",
    "import glob\n",
    "import alphashape\n",
    "import geopandas as gpd\n",
    "import seaborn as sns\n",
    "from shapely.ops import transform\n",
    "import imageio as io\n",
    "from core_functions.baysor_postprocessing import *\n",
    "import warnings\n",
    "from concurrent.futures import ThreadPoolExecutor"
   ]
  },
  {
   "cell_type": "markdown",
   "id": "2",
   "metadata": {},
   "source": [
    "##### Put the path to the folders where the Baysor runs are stored"
   ]
  },
  {
   "cell_type": "code",
   "execution_count": null,
   "id": "3",
   "metadata": {},
   "outputs": [],
   "source": [
    "data_dir = \"/mnt/sata2/Analysis_Alex_2/perturb1\""
   ]
  },
  {
   "cell_type": "markdown",
   "id": "4",
   "metadata": {},
   "source": [
    "##### Create anndatas from processing Baysor Segmentation"
   ]
  },
  {
   "cell_type": "code",
   "execution_count": null,
   "id": "5",
   "metadata": {},
   "outputs": [],
   "source": [
    "input_folders = glob.glob(os.path.join(data_dir, \"SI*\"))"
   ]
  },
  {
   "cell_type": "markdown",
   "id": "6",
   "metadata": {},
   "source": [
    "#### To run without multithreading"
   ]
  },
  {
   "cell_type": "code",
   "execution_count": null,
   "id": "7",
   "metadata": {},
   "outputs": [],
   "source": [
    "warnings.filterwarnings(\"ignore\")\n",
    "for input_file in tqdm(input_folders):\n",
    "    print(input_file)\n",
    "    try:\n",
    "        os.mkdir(os.path.join(input_file, \"adatas\"))\n",
    "    except:\n",
    "        print(\"Adatas dir already exists\")\n",
    "\n",
    "    print(\"Preparing Transcripts...\", end=\" \")\n",
    "    transcripts, transcripts_cellpose = prepare_transcripts(input_file)\n",
    "    print(\"done\")\n",
    "\n",
    "    print(\"Assigning nuclei to Baysor Cells...\", end=\" \")\n",
    "    result = assign_nuclei_to_cells(transcripts, transcripts_cellpose)\n",
    "    print(\"done\")\n",
    "\n",
    "    print(\"Finding the most common nucleus per cell...\", end=\" \")\n",
    "    transcripts_with_gt_and_main_nucleus_filtered, groupby_most_common_nucleus = (\n",
    "        find_main_nucleus(transcripts, transcripts_cellpose, result)\n",
    "    )\n",
    "    print(\"done\")\n",
    "\n",
    "    print(\"Splitting cells with multiple nucleus assignments...\", end=\" \")\n",
    "    transcripts_with_gt_and_main_nucleus_filtered = reassign_multiple_nuclei(\n",
    "        transcripts_with_gt_and_main_nucleus_filtered, groupby_most_common_nucleus\n",
    "    )\n",
    "    print(\"done\")\n",
    "\n",
    "    print(\"Making adata...\", end=\" \")\n",
    "    anndata = make_adata(transcripts_with_gt_and_main_nucleus_filtered)\n",
    "    print(\"done\")\n",
    "\n",
    "    anndata = anndata[1:]\n",
    "    anndata.obs.drop(\"cell\", axis=1, inplace=True)\n",
    "    anndata.uns[\"points\"].drop([\"nucleus\"], axis=1, inplace=True)\n",
    "    anndata.write(os.path.join(input_file, \"adatas\", \"01_preprocessed.h5ad\"))"
   ]
  }
 ],
 "metadata": {
  "kernelspec": {
   "display_name": "Python 3 (ipykernel)",
   "language": "python",
   "name": "python3"
  },
  "language_info": {
   "codemirror_mode": {
    "name": "ipython",
    "version": 3
   },
   "file_extension": ".py",
   "mimetype": "text/x-python",
   "name": "python",
   "nbconvert_exporter": "python",
   "pygments_lexer": "ipython3",
   "version": "3.8.18"
  }
 },
 "nbformat": 4,
 "nbformat_minor": 5
}
