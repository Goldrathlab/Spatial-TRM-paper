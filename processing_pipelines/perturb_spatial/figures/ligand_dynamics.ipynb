{
 "cells": [
  {
   "cell_type": "code",
   "execution_count": null,
   "metadata": {},
   "outputs": [],
   "source": [
    "import scanpy as sc\n",
    "import numpy as np\n",
    "import matplotlib.pyplot as plt\n",
    "import pandas as pd"
   ]
  },
  {
   "cell_type": "code",
   "execution_count": null,
   "metadata": {},
   "outputs": [],
   "source": [
    "adata = sc.read('/mnt/sata1/Analysis_Alex/timecourse_replicates/analysis/cleaned/full_xenium_replicates_and_reference_no_peyers.h5ad')"
   ]
  },
  {
   "cell_type": "code",
   "execution_count": null,
   "metadata": {},
   "outputs": [],
   "source": [
    "batches = {'day6': ['day6_SI', 'day6_SI_r2'], 'day8':['day8_SI_Ctrl', 'day8_SI_r2'], 'day30': ['day30_SI', 'day30_SI_r2'], 'day90': ['day90_SI', 'day90_SI_r2']}"
   ]
  },
  {
   "cell_type": "code",
   "execution_count": null,
   "metadata": {},
   "outputs": [],
   "source": [
    "\n",
    "inverted_batches = {}\n",
    "for key, value in batches.items():\n",
    "    for item in value:\n",
    "        inverted_batches[item] = key"
   ]
  },
  {
   "cell_type": "code",
   "execution_count": null,
   "metadata": {},
   "outputs": [],
   "source": [
    "adata.obs['timepoint'] = [inverted_batches.get(i) for i in adata.obs['batch']]\n",
    "adata = adata[~adata.obs['timepoint'].isna()]"
   ]
  },
  {
   "cell_type": "code",
   "execution_count": null,
   "metadata": {},
   "outputs": [],
   "source": [
    "def transformation(x, a=0.1, b=0.1, c=0.5, d=2.5, f=4, w=1):\n",
    "    x = np.array(x)\n",
    "    return a * np.exp(b * ((x - w))) - c * np.exp(-d * (x - w)) + f\n",
    "def filter_adata_expressed_in_n_cells(adata, percent=0.01):\n",
    "    bin_Layer = adata.X > 0\n",
    "    gene_expressed_in_percent_cells = np.mean(bin_Layer, axis=0)\n",
    "    keep = gene_expressed_in_percent_cells > percent\n",
    "    adata = adata[:,keep]\n",
    "    return(adata)\n"
   ]
  },
  {
   "cell_type": "code",
   "execution_count": null,
   "metadata": {},
   "outputs": [],
   "source": [
    "test_adatas = []\n",
    "unique_batches = np.unique(adata.obs['batch'])\n",
    "\n",
    "for timepoint in unique_batches:\n",
    "    print(timepoint)\n",
    "    ad_ = adata[adata.obs['batch'] == timepoint]\n",
    "    sub_adata = filter_adata_expressed_in_n_cells(ad_)\n",
    "    sub_adata = sub_adata.copy()\n",
    "\n",
    "    sc.pp.normalize_total(sub_adata, target_sum=1e4)\n",
    "    sc.pp.log1p(sub_adata)\n",
    "\n",
    "    sub_adata.obs[\"epithelial_distance_transformed\"] = transformation(\n",
    "        sub_adata.obs[\"epithelial_distance_clipped\"]\n",
    "    )\n",
    "    plt.scatter(sub_adata.obs['epithelial_distance_transformed'], sub_adata.obs['crypt_villi_axis'], c=sub_adata.X[:, sub_adata.var.index == 'Epcam'], s=2, vmax=40)\n",
    "    plt.show()\n",
    "    cutoff = input('Enter cutoff for LP cells: ')\n",
    "    sub_adata.obs['condition'] = ['IEL' if i < float(cutoff) else 'LP' for i in sub_adata.obs['epithelial_distance_transformed']]\n",
    "\n",
    "    test_adatas.append(sub_adata.obs)\n",
    "\n"
   ]
  },
  {
   "cell_type": "code",
   "execution_count": null,
   "metadata": {},
   "outputs": [],
   "source": [
    "# from tqdm.notebook import tqdm\n",
    "\n",
    "# conditions = []\n",
    "# batches = []\n",
    "# mean_cxcl9_IEL = []\n",
    "# mean_cxcl9_LP = []\n",
    "# mean_cxcl10_IEL = []\n",
    "# mean_cxcl10_LP = []\n",
    "\n",
    "# for j in tqdm(range(len(unique_batches))):\n",
    "#     ad_ = adata[adata.obs['batch'] == unique_batches[j]]\n",
    "#     sub_adata = filter_adata_expressed_in_n_cells(ad_)\n",
    "#     sub_adata = sub_adata.copy()\n",
    "\n",
    "#     sc.pp.normalize_total(sub_adata, target_sum=1e4)\n",
    "#     sc.pp.log1p(sub_adata)\n",
    "\n",
    "#     sub_adata.obs = test_adatas[j]\n",
    "\n",
    "#     current_df = sub_adata.obs.copy()\n",
    "\n",
    "#     groupby = current_df.groupby('condition')\n",
    "#     for group in groupby:\n",
    "#         conditions.append(group[0])\n",
    "#         batches.append(unique_batches[j])\n",
    "#         ids_iel = current_df['condition'] == 'IEL'\n",
    "#         ids_lp = current_df['condition'] == 'LP'\n",
    "#         mean_cxcl9_IEL.append(sub_adata.X[ids_iel, sub_adata.var.index == 'Cxcl9'])\n",
    "#         mean_cxcl9_LP.append(sub_adata.X[ids_lp, sub_adata.var.index == 'Cxcl9'])\n",
    "#         mean_cxcl10_IEL.append(sub_adata.X[ids_iel, sub_adata.var.index == 'Cxcl10'])\n",
    "#         mean_cxcl10_LP.append(sub_adata.X[ids_lp, sub_adata.var.index == 'Cxcl10'])"
   ]
  },
  {
   "cell_type": "code",
   "execution_count": null,
   "metadata": {},
   "outputs": [],
   "source": [
    "adata.obs = adata.obs.merge(pd.concat(test_adatas, axis=0)['condition'], how='left', left_index=True, right_index=True)"
   ]
  },
  {
   "cell_type": "code",
   "execution_count": null,
   "metadata": {},
   "outputs": [],
   "source": [
    "adata.obs['timepoint_region'] = adata.obs['timepoint'].astype(str) + '_' + adata.obs['condition'].astype(str)"
   ]
  },
  {
   "cell_type": "code",
   "execution_count": null,
   "metadata": {},
   "outputs": [],
   "source": [
    "sc.set_figure_params(figsize=(20, 20), dpi=400)\n",
    "fig = sc.pl.dotplot(adata, var_names=['Cxcl9', 'Cxcl10'], groupby='timepoint_region', use_raw=False, log=True, return_fig=True, show=False)\n",
    "fig.savefig('figures/panel_f_dynamics.pdf')\n",
    "plt.show()"
   ]
  },
  {
   "cell_type": "code",
   "execution_count": null,
   "metadata": {},
   "outputs": [],
   "source": []
  }
 ],
 "metadata": {
  "kernelspec": {
   "display_name": "merscope_01",
   "language": "python",
   "name": "python3"
  },
  "language_info": {
   "codemirror_mode": {
    "name": "ipython",
    "version": 3
   },
   "file_extension": ".py",
   "mimetype": "text/x-python",
   "name": "python",
   "nbconvert_exporter": "python",
   "pygments_lexer": "ipython3",
   "version": "3.8.18"
  }
 },
 "nbformat": 4,
 "nbformat_minor": 2
}
