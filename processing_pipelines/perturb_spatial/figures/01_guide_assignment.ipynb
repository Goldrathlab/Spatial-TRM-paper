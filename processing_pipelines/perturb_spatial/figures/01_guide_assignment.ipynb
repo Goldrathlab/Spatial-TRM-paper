{
 "cells": [
  {
   "cell_type": "code",
   "execution_count": 166,
   "metadata": {},
   "outputs": [],
   "source": [
    "import scanpy as sc\n",
    "import numpy as np\n",
    "import pandas as pd\n",
    "import scipy.stats as stats\n",
    "import os\n",
    "import matplotlib.pyplot as plt\n",
    "import pickle"
   ]
  },
  {
   "cell_type": "markdown",
   "metadata": {},
   "source": [
    "loading in the spatial perturb adata"
   ]
  },
  {
   "cell_type": "code",
   "execution_count": 167,
   "metadata": {},
   "outputs": [],
   "source": [
    "output_folder = r\"/mnt/sata2/Analysis_Alex_2/perturb1\""
   ]
  },
  {
   "cell_type": "code",
   "execution_count": null,
   "metadata": {},
   "outputs": [],
   "source": [
    "adata = sc.read(os.path.join(output_folder, \"final_celltyped_and_axes.h5ad\"))"
   ]
  },
  {
   "cell_type": "code",
   "execution_count": 169,
   "metadata": {},
   "outputs": [],
   "source": [
    "adata.obs_names_make_unique()"
   ]
  },
  {
   "cell_type": "markdown",
   "metadata": {},
   "source": [
    "Defining the spatial perturb variable names and corresponding sgRNAs"
   ]
  },
  {
   "cell_type": "code",
   "execution_count": 170,
   "metadata": {},
   "outputs": [],
   "source": [
    "guide_rna_genes = ['Muc5ac', 'Neurog3', 'Fer1l6']\n",
    "corresponding_guide_rnas = ['sgCd19', 'sgThy1', 'sgCxcr3']"
   ]
  },
  {
   "cell_type": "markdown",
   "metadata": {},
   "source": [
    "Helper functions"
   ]
  },
  {
   "cell_type": "code",
   "execution_count": 171,
   "metadata": {},
   "outputs": [],
   "source": [
    "def transcript_thresholding_for_P14s(adata, gene_lists, minimum_counts):\n",
    "    ctrl = adata.copy()\n",
    "    for k in range(len(gene_lists)):\n",
    "        gene_list = gene_lists[k]\n",
    "        indices = np.where(ctrl.var.index.isin(gene_list))[0]\n",
    "        ctrl = ctrl[np.array(ctrl[:, indices].X).sum(axis=1) >= minimum_counts[k]]\n",
    "\n",
    "    #Muc2 less than or equal to 1 filtering\n",
    "    indices = np.where(ctrl.var.index.isin(['Muc2']))[0]\n",
    "    ctrl = ctrl[np.array(ctrl[:, indices].X).sum(axis=1) <= 1]\n",
    "    ctrl.X = ctrl.X.astype(np.float64)\n",
    "\n",
    "    return ctrl\n",
    "\n",
    "def remove_cells_multiple_guides(adata, guide_rna_genes):\n",
    "    true_guide_rna_indices = np.where(adata.var.index.isin(guide_rna_genes))[0]\n",
    "    adata = adata[np.where(~(np.count_nonzero(adata[: ,true_guide_rna_indices].X, axis=1) > 1))[0], :]\n",
    "    return adata\n",
    "\n",
    "def assign_guide_rnas(adata, guide_rna_genes, corresponding_guide_rnas):\n",
    "    true_guide_rna_indices = []\n",
    "    for i in guide_rna_genes:\n",
    "        id_ = np.where(adata.var.index == i)[0]\n",
    "        true_guide_rna_indices.append(id_)\n",
    "    true_guide_rna_indices = np.array(true_guide_rna_indices).flatten()\n",
    "    adata.obs['guide_rna_genes'] = list(np.array(guide_rna_genes)[np.array(adata[:, true_guide_rna_indices].X.argmax(axis=1))])\n",
    "    adata.obs['guide_rnas'] = list(np.array(corresponding_guide_rnas)[np.array(adata[:, true_guide_rna_indices].X.argmax(axis=1))])\n",
    "    return adata"
   ]
  },
  {
   "cell_type": "markdown",
   "metadata": {},
   "source": [
    "Filtering for cells with at least one guide RNA barcode and 3 counts of CD8 markers"
   ]
  },
  {
   "cell_type": "code",
   "execution_count": 172,
   "metadata": {},
   "outputs": [],
   "source": [
    "gene_lists = [guide_rna_genes, \n",
    "              ['Cd8a', 'Cd8b1', 'Cd3e']]\n",
    "\n",
    "minimum_counts = [1, 3]"
   ]
  },
  {
   "cell_type": "code",
   "execution_count": null,
   "metadata": {},
   "outputs": [],
   "source": [
    "filtered_adata = transcript_thresholding_for_P14s(adata, gene_lists, minimum_counts)\n",
    "filtered_adata = remove_cells_multiple_guides(filtered_adata, guide_rna_genes)\n",
    "assigned_adata = assign_guide_rnas(filtered_adata, guide_rna_genes, corresponding_guide_rnas)"
   ]
  },
  {
   "cell_type": "markdown",
   "metadata": {},
   "source": [
    "Single cell processing on the joint embedding"
   ]
  },
  {
   "cell_type": "code",
   "execution_count": null,
   "metadata": {},
   "outputs": [],
   "source": [
    "sc.tl.pca(assigned_adata)\n",
    "sc.pp.neighbors(assigned_adata)\n",
    "sc.tl.umap(assigned_adata)\n",
    "sc.tl.leiden(assigned_adata)\n",
    "sc.pl.umap(assigned_adata, color=['guide_rnas', 'leiden'], vmax = 10)"
   ]
  },
  {
   "cell_type": "markdown",
   "metadata": {},
   "source": [
    "Process only the cells that passed the filtering constraints"
   ]
  },
  {
   "cell_type": "code",
   "execution_count": 179,
   "metadata": {},
   "outputs": [],
   "source": [
    "p14s = assigned_adata.copy()\n",
    "\n",
    "temp_X = np.array(p14s.X).astype(np.float64)\n",
    "\n",
    "p14s.X = None\n",
    "\n",
    "p14s.X = temp_X\n",
    "\n",
    "sc.pp.normalize_total(p14s)\n",
    "sc.pp.log1p(p14s)\n",
    "\n",
    "sc.pp.filter_genes(p14s, min_cells=10)\n",
    "p14s = p14s[:, ~p14s.var.index.isin(guide_rna_genes)]"
   ]
  },
  {
   "cell_type": "markdown",
   "metadata": {},
   "source": [
    "Transform epithelial distance"
   ]
  },
  {
   "cell_type": "code",
   "execution_count": 185,
   "metadata": {},
   "outputs": [],
   "source": [
    "def transformation(x, a=0.1, b=0.1, c=0.5, d=2.5, f=4, w=1):\n",
    "        x = np.array(x)\n",
    "        return a * np.exp(b * ((x - w))) - c * np.exp(-d * (x - w)) + f\n",
    "\n",
    "adata.obs[\"epithelial_distance_transformed\"] = transformation(\n",
    "    adata.obs[\"epithelial_distance_clipped\"]\n",
    ")"
   ]
  },
  {
   "cell_type": "markdown",
   "metadata": {},
   "source": [
    "Add sgRNA assignments to the object"
   ]
  },
  {
   "cell_type": "code",
   "execution_count": 186,
   "metadata": {},
   "outputs": [],
   "source": [
    "adata.obs = adata.obs.merge(assigned_adata.obs[['guide_rnas']], left_index=True, right_index=True, how='left')\n",
    "array_vals = np.array(list(adata.obs['guide_rnas'].values))\n",
    "array_vals[pd.isna(adata.obs['guide_rnas']).values] = 'Other cells'\n",
    "adata.obs['guide_rnas']= array_vals"
   ]
  },
  {
   "cell_type": "code",
   "execution_count": 195,
   "metadata": {},
   "outputs": [],
   "source": [
    "adata.write('/mnt/sata2/Analysis_Alex_2/perturb1/adata_with_guides.h5ad')"
   ]
  }
 ],
 "metadata": {
  "kernelspec": {
   "display_name": "merscope_01",
   "language": "python",
   "name": "python3"
  },
  "language_info": {
   "codemirror_mode": {
    "name": "ipython",
    "version": 3
   },
   "file_extension": ".py",
   "mimetype": "text/x-python",
   "name": "python",
   "nbconvert_exporter": "python",
   "pygments_lexer": "ipython3",
   "version": "3.8.18"
  }
 },
 "nbformat": 4,
 "nbformat_minor": 2
}
