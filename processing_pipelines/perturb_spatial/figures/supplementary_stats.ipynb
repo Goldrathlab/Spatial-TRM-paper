{
 "cells": [
  {
   "cell_type": "code",
   "execution_count": null,
   "metadata": {},
   "outputs": [],
   "source": [
    "import numpy as np\n",
    "import matplotlib.pyplot as plt\n",
    "import scanpy as sc\n",
    "import os"
   ]
  },
  {
   "cell_type": "code",
   "execution_count": null,
   "metadata": {},
   "outputs": [],
   "source": [
    "adata = sc.read(\"/mnt/sata2/Analysis_Alex_2/perturb1/final_filtered_on_leiden.h5ad\")"
   ]
  },
  {
   "cell_type": "code",
   "execution_count": null,
   "metadata": {},
   "outputs": [],
   "source": [
    "output_dir = \"figures/guide_rna_stats\""
   ]
  },
  {
   "cell_type": "code",
   "execution_count": null,
   "metadata": {},
   "outputs": [],
   "source": [
    "try:\n",
    "    os.makedirs(output_dir)\n",
    "except FileExistsError:\n",
    "    pass"
   ]
  },
  {
   "cell_type": "code",
   "execution_count": null,
   "metadata": {},
   "outputs": [],
   "source": [
    "corresponding_guide_rnas = [\"sgCd19\", \"sgThy1\", \"sgCxcr3\"]\n",
    "P14s = adata[adata.obs[\"guide_rnas\"].isin(corresponding_guide_rnas)]"
   ]
  },
  {
   "cell_type": "code",
   "execution_count": null,
   "metadata": {},
   "outputs": [],
   "source": [
    "guide_rna_genes = [\"Muc5ac\", \"Neurog3\", \"Fer1l6\"]\n",
    "corresponding_guide_rnas = [\"sgCd19\", \"sgThy1\", \"sgCxcr3\"]"
   ]
  },
  {
   "cell_type": "code",
   "execution_count": null,
   "metadata": {},
   "outputs": [],
   "source": [
    "guide_rna_indices = np.where(~adata.var.index.isin(guide_rna_genes))[0]"
   ]
  },
  {
   "cell_type": "code",
   "execution_count": null,
   "metadata": {},
   "outputs": [],
   "source": [
    "true_guide_rna_indices = np.where(adata.var.index.isin(guide_rna_genes))[0]"
   ]
  },
  {
   "cell_type": "code",
   "execution_count": null,
   "metadata": {},
   "outputs": [],
   "source": [
    "count_values = np.count_nonzero(np.array(P14s[:, true_guide_rna_indices].X), axis=0)"
   ]
  },
  {
   "cell_type": "code",
   "execution_count": null,
   "metadata": {},
   "outputs": [],
   "source": [
    "import matplotlib.pyplot as plt\n",
    "\n",
    "# Define the data\n",
    "sizes = count_values\n",
    "labels = [\n",
    "    corresponding_guide_rnas[p]\n",
    "    for p in [guide_rna_genes.index(k) for k in P14s.var.index[true_guide_rna_indices]]\n",
    "]\n",
    "\n",
    "# Create the pie chart with both percentage and quantity\n",
    "\n",
    "\n",
    "# Define a function to format the labels\n",
    "def func(pct, allvals):\n",
    "    absolute = int(pct / 100.0 * np.sum(allvals))\n",
    "    return \"{:.1f}%\\n({:d})\".format(pct, absolute)\n",
    "\n",
    "\n",
    "# Create the pie chart\n",
    "fig, ax = plt.subplots()\n",
    "ax.pie(\n",
    "    sizes,\n",
    "    labels=labels,\n",
    "    colors=[\"#92c5de\", \"#f57f20\", \"#0d5cb6\"],\n",
    "    autopct=lambda pct: func(pct, sizes),\n",
    "    startangle=90,\n",
    ")\n",
    "\n",
    "# Equal aspect ratio ensures that pie is drawn as a circle.\n",
    "ax.axis(\"equal\")\n",
    "\n",
    "plt.title(\"Guide composition of transferred cells\")\n",
    "plt.savefig(os.path.join(output_dir, \"panel_s2_guide_composition.pdf\"))\n",
    "plt.show()"
   ]
  },
  {
   "cell_type": "markdown",
   "metadata": {},
   "source": [
    "Number of cells with multiple guides"
   ]
  },
  {
   "cell_type": "code",
   "execution_count": null,
   "metadata": {},
   "outputs": [],
   "source": [
    "output_folder = r\"/mnt/sata2/Analysis_Alex_2/perturb1\""
   ]
  },
  {
   "cell_type": "code",
   "execution_count": null,
   "metadata": {},
   "outputs": [],
   "source": [
    "adata = sc.read(os.path.join(output_folder, \"final_celltyped_and_axes.h5ad\"))"
   ]
  },
  {
   "cell_type": "code",
   "execution_count": null,
   "metadata": {},
   "outputs": [],
   "source": [
    "guide_rna_genes = [\"Muc5ac\", \"Neurog3\", \"Fer1l6\"]\n",
    "corresponding_guide_rnas = [\"sgCd19\", \"sgThy1\", \"sgCxcr3\"]"
   ]
  },
  {
   "cell_type": "code",
   "execution_count": null,
   "metadata": {},
   "outputs": [],
   "source": [
    "def transcript_thresholding_for_P14s(adata, gene_lists, minimum_counts):\n",
    "    ctrl = adata.copy()\n",
    "    for k in range(len(gene_lists)):\n",
    "        gene_list = gene_lists[k]\n",
    "        indices = np.where(ctrl.var.index.isin(gene_list))[0]\n",
    "        ctrl = ctrl[np.array(ctrl[:, indices].X).sum(axis=1) >= minimum_counts[k]]\n",
    "\n",
    "    indices = np.where(ctrl.var.index.isin([\"Muc2\"]))[0]\n",
    "    ctrl = ctrl[np.array(ctrl[:, indices].X).sum(axis=1) <= 1]\n",
    "    ctrl.X = ctrl.X.astype(np.float64)\n",
    "\n",
    "    return ctrl\n",
    "\n",
    "\n",
    "def remove_cells_multiple_guides(adata, guide_rna_genes):\n",
    "    true_guide_rna_indices = np.where(adata.var.index.isin(guide_rna_genes))[0]\n",
    "    adata = adata[\n",
    "        np.where(~(np.count_nonzero(adata[:, true_guide_rna_indices].X, axis=1) > 1))[\n",
    "            0\n",
    "        ],\n",
    "        :,\n",
    "    ]\n",
    "    return adata\n",
    "\n",
    "\n",
    "def assign_guide_rnas(adata, guide_rna_genes, corresponding_guide_rnas):\n",
    "    true_guide_rna_indices = []\n",
    "    for i in guide_rna_genes:\n",
    "        id_ = np.where(adata.var.index == i)[0]\n",
    "        true_guide_rna_indices.append(id_)\n",
    "    true_guide_rna_indices = np.array(true_guide_rna_indices).flatten()\n",
    "    adata.obs[\"guide_rna_genes\"] = list(\n",
    "        np.array(guide_rna_genes)[\n",
    "            np.array(adata[:, true_guide_rna_indices].X.argmax(axis=1))\n",
    "        ]\n",
    "    )\n",
    "    adata.obs[\"guide_rnas\"] = list(\n",
    "        np.array(corresponding_guide_rnas)[\n",
    "            np.array(adata[:, true_guide_rna_indices].X.argmax(axis=1))\n",
    "        ]\n",
    "    )\n",
    "    return adata"
   ]
  },
  {
   "cell_type": "code",
   "execution_count": null,
   "metadata": {},
   "outputs": [],
   "source": [
    "gene_lists = [guide_rna_genes, [\"Cd8a\", \"Cd8b1\", \"Cd3e\"]]\n",
    "\n",
    "minimum_counts = [1, 3]"
   ]
  },
  {
   "cell_type": "code",
   "execution_count": null,
   "metadata": {},
   "outputs": [],
   "source": [
    "filtered_adata = transcript_thresholding_for_P14s(adata, gene_lists, minimum_counts)\n",
    "assigned_adata = assign_guide_rnas(\n",
    "    filtered_adata, guide_rna_genes, corresponding_guide_rnas\n",
    ")"
   ]
  },
  {
   "cell_type": "code",
   "execution_count": null,
   "metadata": {},
   "outputs": [],
   "source": [
    "true_guide_rna_indices = []\n",
    "for i in guide_rna_genes:\n",
    "    id_ = np.where(assigned_adata.var.index == i)[0]\n",
    "    true_guide_rna_indices.append(id_)\n",
    "true_guide_rna_indices = np.array(true_guide_rna_indices).flatten()"
   ]
  },
  {
   "cell_type": "code",
   "execution_count": null,
   "metadata": {},
   "outputs": [],
   "source": [
    "import numpy as np\n",
    "import matplotlib.pyplot as plt\n",
    "\n",
    "number, count = np.unique(\n",
    "    np.count_nonzero(np.array(assigned_adata[:, true_guide_rna_indices].X), axis=1),\n",
    "    return_counts=True,\n",
    ")\n",
    "\n",
    "# Define the data\n",
    "sizes = count\n",
    "labels = number\n",
    "\n",
    "# Create the bar chart\n",
    "fig, ax = plt.subplots(dpi=400)\n",
    "bars = ax.bar(labels, sizes, color=[\"#7fb3d5\", \"#f3c683\", \"#9bd8d3\"])\n",
    "\n",
    "# Adding labels and title\n",
    "ax.set_xlabel(\"Number of unique sgRNA types per cell\")\n",
    "ax.set_ylabel(\"Count\")\n",
    "plt.title(\n",
    "    \"Number of unique sgRNA types per cell among all cells passing perturbed filtering criteria\"\n",
    ")\n",
    "\n",
    "# Ensure x-ticks are integers\n",
    "ax.set_xticks(np.arange(min(labels), max(labels) + 1, 1))\n",
    "\n",
    "# Add absolute number and percentage of the whole over each bar\n",
    "total = np.sum(sizes)\n",
    "for bar, size in zip(bars, sizes):\n",
    "    height = bar.get_height()\n",
    "    percentage = height / total * 100\n",
    "    ax.annotate(\n",
    "        f\"{height}\\n({percentage:.2f}%)\",  # Format as \"absolute\\n(percentage%)\"\n",
    "        xy=(bar.get_x() + bar.get_width() / 2, height),\n",
    "        xytext=(0, 3),  # 3 points vertical offset\n",
    "        textcoords=\"offset points\",\n",
    "        ha=\"center\",\n",
    "        va=\"bottom\",\n",
    "    )\n",
    "plt.ylim(0, 4500)\n",
    "# Save the figure\n",
    "plt.savefig(os.path.join(output_dir, \"panel_s2_unique_guide_number_bar.pdf\"))\n",
    "\n",
    "# Show the plot\n",
    "plt.show()"
   ]
  }
 ],
 "metadata": {
  "kernelspec": {
   "display_name": "merscope_01",
   "language": "python",
   "name": "python3"
  },
  "language_info": {
   "codemirror_mode": {
    "name": "ipython",
    "version": 3
   },
   "file_extension": ".py",
   "mimetype": "text/x-python",
   "name": "python",
   "nbconvert_exporter": "python",
   "pygments_lexer": "ipython3",
   "version": "3.8.18"
  }
 },
 "nbformat": 4,
 "nbformat_minor": 2
}
