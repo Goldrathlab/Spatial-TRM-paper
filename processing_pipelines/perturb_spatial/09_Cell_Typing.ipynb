{
 "cells": [
  {
   "cell_type": "markdown",
   "id": "0",
   "metadata": {},
   "source": [
    "Notebook for annotations using the geneformer result"
   ]
  },
  {
   "cell_type": "code",
   "execution_count": null,
   "id": "1",
   "metadata": {},
   "outputs": [],
   "source": [
    "import scanpy as sc\n",
    "import numpy as np\n",
    "from tqdm.notebook import tqdm\n",
    "import os\n",
    "import pandas as pd\n",
    "import seaborn as sns\n",
    "import matplotlib.pyplot as plt\n",
    "import scvi\n",
    "import glob"
   ]
  },
  {
   "cell_type": "code",
   "execution_count": null,
   "id": "2",
   "metadata": {},
   "outputs": [],
   "source": [
    "data_dir = \"/mnt/sata2/Analysis_Alex_2/perturb1/SI*\""
   ]
  },
  {
   "cell_type": "markdown",
   "id": "3",
   "metadata": {},
   "source": [
    "Using the path to the time course, get the Class > Type > Subtype Heirarchy"
   ]
  },
  {
   "cell_type": "code",
   "execution_count": null,
   "id": "4",
   "metadata": {},
   "outputs": [],
   "source": [
    "types = sc.read(\"timecourse.h5ad\")\n",
    "types_ = pd.crosstab(types.obs[\"Type\"], types.obs[\"Subtype\"])\n",
    "class_ = pd.crosstab(types.obs[\"Class\"], types.obs[\"Type\"])\n",
    "immuno_ = pd.crosstab(types.obs[\"Immunocentric_Type\"], types.obs[\"Subtype\"])"
   ]
  },
  {
   "cell_type": "markdown",
   "id": "5",
   "metadata": {},
   "source": [
    "Create Class > Type > Subtype Heirarchy in replicates based off the GeneFormer result"
   ]
  },
  {
   "cell_type": "code",
   "execution_count": null,
   "id": "6",
   "metadata": {},
   "outputs": [],
   "source": [
    "for path in glob.glob(data_dir):\n",
    "    ad_sp = sc.read(os.path.join(path, \"adatas\", \"06_geneformer_celltypes.h5ad\"))\n",
    "    # ad_sp.obsm['X_mde'] = scvi.model.utils.mde(ad_sp.obsm['X_scVI_replicates'])\n",
    "\n",
    "    ad_sp.obs[\"Subtype\"] = ad_sp.obs[\"celltype_predicted\"].values\n",
    "\n",
    "    type_dictionary = {}\n",
    "    for i in ad_sp.obs[\"celltype_predicted\"].cat.categories:\n",
    "        type_dictionary[i] = types_.index.values[np.where(types_[i].values > 0)[0]][0]\n",
    "    all_types = []\n",
    "    for k in ad_sp.obs[\"celltype_predicted\"].values:\n",
    "        all_types.append(type_dictionary.get(k))\n",
    "    ad_sp.obs[\"Type\"] = all_types\n",
    "\n",
    "    itype_dictionary = {}\n",
    "    for i in ad_sp.obs[\"celltype_predicted\"].cat.categories:\n",
    "        try:\n",
    "            itype_dictionary[i] = immuno_.index.values[\n",
    "                np.where(immuno_[i].values > 0)[0]\n",
    "            ][0]\n",
    "        except:\n",
    "            itype_dictionary[i] = \"None\"\n",
    "    all_itypes = []\n",
    "    for k in ad_sp.obs[\"celltype_predicted\"].values:\n",
    "        all_itypes.append(itype_dictionary.get(k))\n",
    "    ad_sp.obs[\"Immunocentric_Type\"] = all_itypes\n",
    "\n",
    "    class_dictionary = {}\n",
    "    for i in np.unique(ad_sp.obs[\"Type\"].values):\n",
    "        class_dictionary[i] = class_.index.values[np.where(class_[i].values > 0)[0]][0]\n",
    "    all_classes = []\n",
    "    for k in ad_sp.obs[\"Type\"].values:\n",
    "        all_classes.append(class_dictionary.get(k))\n",
    "    ad_sp.obs[\"Class\"] = all_classes\n",
    "\n",
    "    sc.pp.neighbors(ad_sp, use_rep=\"X_pca\")\n",
    "    sc.tl.leiden(ad_sp, resolution=2)\n",
    "    ad_sp.write(os.path.join(path, \"adatas\", \"08_full_celltypes_and_leiden.h5ad\"))\n",
    "    # sc.pl.embedding(ad_sp, basis='mde', color=['celltype_predicted', 'Type', 'Class', 'Immunocentric_Type'])"
   ]
  }
 ],
 "metadata": {
  "kernelspec": {
   "display_name": "Python 3 (ipykernel)",
   "language": "python",
   "name": "python3"
  },
  "language_info": {
   "codemirror_mode": {
    "name": "ipython",
    "version": 3
   },
   "file_extension": ".py",
   "mimetype": "text/x-python",
   "name": "python",
   "nbconvert_exporter": "python",
   "pygments_lexer": "ipython3",
   "version": "3.8.18"
  }
 },
 "nbformat": 4,
 "nbformat_minor": 5
}
