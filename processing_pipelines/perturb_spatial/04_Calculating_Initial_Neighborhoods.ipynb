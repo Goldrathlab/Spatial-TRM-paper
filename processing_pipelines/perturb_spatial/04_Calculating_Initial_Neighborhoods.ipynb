{
 "cells": [
  {
   "cell_type": "markdown",
   "id": "0",
   "metadata": {},
   "source": [
    "#### This notebook is for calculating transcriptional neighborhoods. These will be recalculated later. We just need them for making tissue cleanup easier."
   ]
  },
  {
   "cell_type": "code",
   "execution_count": null,
   "id": "1",
   "metadata": {},
   "outputs": [],
   "source": [
    "import scanpy as sc\n",
    "import pandas as pd\n",
    "import numpy as np\n",
    "import os\n",
    "from tqdm.notebook import tqdm\n",
    "import matplotlib.pyplot as plt\n",
    "from scipy.spatial import KDTree\n",
    "from sklearn.decomposition import NMF\n",
    "import glob\n",
    "from core_functions.initial_neighborhoods import *"
   ]
  },
  {
   "cell_type": "code",
   "execution_count": null,
   "id": "2",
   "metadata": {},
   "outputs": [],
   "source": [
    "data_dir = \"/mnt/sata2/Analysis_Alex_2/perturb1\""
   ]
  },
  {
   "cell_type": "markdown",
   "id": "3",
   "metadata": {},
   "source": [
    "Specify the folders of the experiments that you want to calculate neighborhoods for."
   ]
  },
  {
   "cell_type": "code",
   "execution_count": null,
   "id": "4",
   "metadata": {},
   "outputs": [],
   "source": [
    "input_folders = glob.glob(os.path.join(data_dir, \"SI*\"))"
   ]
  },
  {
   "cell_type": "markdown",
   "id": "5",
   "metadata": {},
   "source": [
    "Neighborhood calculations"
   ]
  },
  {
   "cell_type": "code",
   "execution_count": null,
   "id": "6",
   "metadata": {},
   "outputs": [],
   "source": [
    "irrelevent_list = [\"Muc5ac\", \"Neurog3\", \"Fer1l6\"]"
   ]
  },
  {
   "cell_type": "code",
   "execution_count": null,
   "id": "7",
   "metadata": {},
   "outputs": [],
   "source": [
    "# We want a high number of neighborhoods at this stage\n",
    "num_neighborhoods = 15\n",
    "dfs = []\n",
    "for input_file in input_folders:\n",
    "    adata = sc.read(\n",
    "        os.path.join(input_file, \"adatas\", \"02_preprocessed_and_filtered.h5ad\")\n",
    "    )\n",
    "\n",
    "    ##### We do not want to include guide RNAs in the neighborhood calculations so lets grab their indices\n",
    "    guide_rna_indices = np.where(~adata.var.index.isin(irrelevent_list))\n",
    "\n",
    "    low_res_binning = 200\n",
    "\n",
    "    spatial_points = np.array(\n",
    "        [adata.obsm[\"X_spatial\"][:, 0], adata.obsm[\"X_spatial\"][:, 1]]\n",
    "    ).T\n",
    "    binned_points_low, binned_centers_low = create_grid_bins(\n",
    "        spatial_points, low_res_binning\n",
    "    )\n",
    "\n",
    "    zeros_low = np.zeros(len(spatial_points))\n",
    "    low_counts = []\n",
    "    ct = 0\n",
    "    for binn in range(len(binned_points_low)):\n",
    "        for k in range(len(binned_points_low[binn])):\n",
    "            zeros_low[binned_points_low[binn][k]] = ct\n",
    "            low_counts.append(ct)\n",
    "            ct += 1\n",
    "\n",
    "    adata_bin30 = create_binned_data(adata, zeros_low, binned_centers_low, low_counts)\n",
    "\n",
    "    X = pd.DataFrame(adata_bin30.X[:, guide_rna_indices].squeeze())\n",
    "    dfs.append(X)"
   ]
  },
  {
   "cell_type": "code",
   "execution_count": null,
   "id": "8",
   "metadata": {},
   "outputs": [],
   "source": [
    "X = pd.concat(dfs)\n",
    "f = len(X.columns)\n",
    "n = len(X.index.tolist())\n",
    "\n",
    "model = NMF(\n",
    "    n_components=num_neighborhoods, random_state=0\n",
    ")  # np.where(interp_scores == np.min(interp_scores))[0][0]\n",
    "W = model.fit_transform(X)\n",
    "H = model.components_"
   ]
  },
  {
   "cell_type": "code",
   "execution_count": null,
   "id": "9",
   "metadata": {},
   "outputs": [],
   "source": [
    "for input_file in input_folders:\n",
    "    adata = sc.read(\n",
    "        os.path.join(input_file, \"adatas\", \"02_preprocessed_and_filtered.h5ad\")\n",
    "    )\n",
    "\n",
    "    ##### We do not want to include guide RNAs or other unique genes in the neighborhood calculations so lets grab their indices\n",
    "    guide_rna_indices = np.where(~adata.var.index.isin(irrelevent_list))[0]\n",
    "\n",
    "    adata_arr = np.array(adata.X)\n",
    "\n",
    "    celltype_cluster = np.array(adata.obs.index.tolist())\n",
    "    base_dictionary = {}\n",
    "    for i in np.unique(celltype_cluster):\n",
    "        base_dictionary[i] = 0\n",
    "    nneighbors = 10\n",
    "    list_of_arrays = []\n",
    "    spatial_points = np.array(\n",
    "        [adata.obsm[\"X_spatial\"][:, 0], adata.obsm[\"X_spatial\"][:, 1]]\n",
    "    ).T\n",
    "    tree = KDTree(spatial_points)\n",
    "    for i_bac in tqdm(range(len(celltype_cluster))):\n",
    "        current_cell = celltype_cluster[i_bac]\n",
    "        distances, neighbors = tree.query(spatial_points[i_bac], k=nneighbors)\n",
    "        neighbors = list(neighbors)\n",
    "        gene_array = np.array(\n",
    "            np.sum(adata_arr[np.array(neighbors), :], axis=0)\n",
    "        ).squeeze()\n",
    "        list_of_arrays.append(gene_array)\n",
    "\n",
    "    X = pd.DataFrame(np.array(list_of_arrays)[:, guide_rna_indices]).astype(H.dtype)\n",
    "    W = model.transform(X)\n",
    "\n",
    "    topics_frame = pd.DataFrame(W)\n",
    "    topics_frame.columns = [\n",
    "        \"Topic \" + str(i + 1) for i in range(len(topics_frame.columns))\n",
    "    ]\n",
    "    topics_frame.index = adata.obs.index.tolist()\n",
    "\n",
    "    def zscore(column):\n",
    "        return (column - column.mean()) / column.std()\n",
    "\n",
    "    # Apply the z-score function to each column in the dataframe\n",
    "    topics_frame = topics_frame.apply(zscore)\n",
    "    adata.obs = pd.concat([adata.obs, topics_frame], axis=1)\n",
    "    adata.obs[\"topic\"] = pd.Categorical(\n",
    "        (np.argmax(topics_frame.values, axis=1) + 1).astype(str)\n",
    "    )\n",
    "\n",
    "    sc.set_figure_params(dpi=300)\n",
    "    sc.pl.embedding(\n",
    "        adata,\n",
    "        basis=\"spatial\",\n",
    "        color=\"topic\",\n",
    "        vmax=1,\n",
    "        cmap=\"Blues\",\n",
    "        title=\"Neighborhood\",\n",
    "        size=2,\n",
    "    )\n",
    "\n",
    "    adata.write(os.path.join(input_file, \"adatas\", \"03_intial_neighborhoods.h5ad\"))"
   ]
  },
  {
   "cell_type": "code",
   "execution_count": null,
   "id": "10",
   "metadata": {},
   "outputs": [],
   "source": [
    "import matplotlib.pyplot as plt\n",
    "\n",
    "plot_top_words(model, adata.var.index.tolist(), 5, \"Neighborhood Composition\")"
   ]
  }
 ],
 "metadata": {
  "kernelspec": {
   "display_name": "Python 3 (ipykernel)",
   "language": "python",
   "name": "python3"
  },
  "language_info": {
   "codemirror_mode": {
    "name": "ipython",
    "version": 3
   },
   "file_extension": ".py",
   "mimetype": "text/x-python",
   "name": "python",
   "nbconvert_exporter": "python",
   "pygments_lexer": "ipython3",
   "version": "3.8.18"
  }
 },
 "nbformat": 4,
 "nbformat_minor": 5
}
