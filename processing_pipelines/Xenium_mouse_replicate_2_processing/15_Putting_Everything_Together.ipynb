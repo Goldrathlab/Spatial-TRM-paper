{
 "cells": [
  {
   "cell_type": "code",
   "execution_count": null,
   "metadata": {},
   "outputs": [],
   "source": [
    "import scvi\n",
    "import scanpy as sc\n",
    "import os\n",
    "import pandas as pd\n",
    "from scvi.model.utils import mde"
   ]
  },
  {
   "cell_type": "markdown",
   "metadata": {},
   "source": [
    "##### Put the replicate 2 processed data path here"
   ]
  },
  {
   "cell_type": "code",
   "execution_count": null,
   "metadata": {},
   "outputs": [],
   "source": [
    "output_folder = r\"/mnt/sata1/Analysis_Alex/timecourse_replicates/analysis/cleaned\""
   ]
  },
  {
   "cell_type": "code",
   "execution_count": null,
   "metadata": {},
   "outputs": [],
   "source": [
    "replicates_xenium_data = sc.read(\n",
    "    os.path.join(output_folder, \"final_celltyped_and_axes.h5ad\")\n",
    ")"
   ]
  },
  {
   "cell_type": "markdown",
   "metadata": {},
   "source": [
    "##### Put the replicate 1 processed data path here"
   ]
  },
  {
   "cell_type": "code",
   "execution_count": null,
   "metadata": {},
   "outputs": [],
   "source": [
    "reference_xenium_data = sc.read(\n",
    "    \"/mnt/sata1/Analysis_Alex/timecourse_final/analysis/cleaned/final_celltyped_and_axes.h5ad\"\n",
    ")"
   ]
  },
  {
   "cell_type": "markdown",
   "metadata": {},
   "source": [
    "Merging the two objects replicate 1 and replicate 2 together"
   ]
  },
  {
   "cell_type": "code",
   "execution_count": null,
   "metadata": {},
   "outputs": [],
   "source": [
    "replicates_xenium_data.obs.index = [\n",
    "    \"rep2_\"\n",
    "    + replicates_xenium_data.obs[\"batch\"].values[d]\n",
    "    + \"_\"\n",
    "    + replicates_xenium_data.obs.index.values[d]\n",
    "    for d in range(len(replicates_xenium_data.obs[\"batch\"].values))\n",
    "]"
   ]
  },
  {
   "cell_type": "code",
   "execution_count": null,
   "metadata": {},
   "outputs": [],
   "source": [
    "reference_xenium_data.obs.index = [\n",
    "    \"rep1_\"\n",
    "    + reference_xenium_data.obs[\"batch\"].values[d]\n",
    "    + \"_\"\n",
    "    + reference_xenium_data.obs.index.values[d]\n",
    "    for d in range(len(reference_xenium_data.obs[\"batch\"].values))\n",
    "]"
   ]
  },
  {
   "cell_type": "code",
   "execution_count": null,
   "metadata": {},
   "outputs": [],
   "source": [
    "del replicates_xenium_data.uns\n",
    "del reference_xenium_data.uns"
   ]
  },
  {
   "cell_type": "code",
   "execution_count": null,
   "metadata": {},
   "outputs": [],
   "source": [
    "replicate_obs = replicates_xenium_data.obs\n",
    "reference_obs = reference_xenium_data.obs"
   ]
  },
  {
   "cell_type": "code",
   "execution_count": null,
   "metadata": {},
   "outputs": [],
   "source": [
    "replicates_xenium_data.obs = pd.DataFrame(\n",
    "    replicates_xenium_data.obs[\"batch\"], index=replicates_xenium_data.obs.index.values\n",
    ")"
   ]
  },
  {
   "cell_type": "code",
   "execution_count": null,
   "metadata": {},
   "outputs": [],
   "source": [
    "reference_xenium_data.obs = pd.DataFrame(\n",
    "    reference_xenium_data.obs[\"batch\"], index=reference_xenium_data.obs.index.values\n",
    ")"
   ]
  },
  {
   "cell_type": "code",
   "execution_count": null,
   "metadata": {},
   "outputs": [],
   "source": [
    "concatenated_xenium = sc.concat([replicates_xenium_data, reference_xenium_data])"
   ]
  },
  {
   "cell_type": "markdown",
   "metadata": {},
   "source": [
    "Running scvi joint integration on the objects"
   ]
  },
  {
   "cell_type": "code",
   "execution_count": null,
   "metadata": {},
   "outputs": [],
   "source": [
    "scvi.model.SCVI.setup_anndata(concatenated_xenium, batch_key=\"batch\", layer=\"raw\")"
   ]
  },
  {
   "cell_type": "code",
   "execution_count": null,
   "metadata": {},
   "outputs": [],
   "source": [
    "scvi_ref = scvi.model.SCVI(\n",
    "    concatenated_xenium, n_layers=2, n_latent=30, gene_likelihood=\"nb\"\n",
    ")\n",
    "scvi_ref.train()"
   ]
  },
  {
   "cell_type": "code",
   "execution_count": null,
   "metadata": {},
   "outputs": [],
   "source": [
    "concatenated_xenium.obsm[\"X_scVI\"] = scvi_ref.get_latent_representation()"
   ]
  },
  {
   "cell_type": "markdown",
   "metadata": {},
   "source": [
    "#### Projecting into UMAP, clustering, and subsetting the data to relevant observations"
   ]
  },
  {
   "cell_type": "code",
   "execution_count": null,
   "metadata": {},
   "outputs": [],
   "source": [
    "sc.pp.neighbors(concatenated_xenium, use_rep=\"X_scVI\")"
   ]
  },
  {
   "cell_type": "code",
   "execution_count": null,
   "metadata": {},
   "outputs": [],
   "source": [
    "concatenated_xenium.obsm[\"X_mde\"] = mde(concatenated_xenium.obsm[\"X_scVI\"])"
   ]
  },
  {
   "cell_type": "code",
   "execution_count": null,
   "metadata": {},
   "outputs": [],
   "source": [
    "observations = pd.concat(\n",
    "    [\n",
    "        replicate_obs[\n",
    "            [\n",
    "                \"predicted_longitudinal\",\n",
    "                \"not_removed_from_longitudinal\",\n",
    "                \"Subtype\",\n",
    "                \"Type\",\n",
    "                \"Immunocentric_Type\",\n",
    "                \"Class\",\n",
    "                \"leiden\",\n",
    "                \"epithelial_distance\",\n",
    "                \"crypt_villi_axis\",\n",
    "                \"epithelial_distance_clipped\",\n",
    "                \"batch\",\n",
    "            ]\n",
    "        ],\n",
    "        reference_obs[\n",
    "            [\n",
    "                \"predicted_longitudinal\",\n",
    "                \"not_removed_from_longitudinal\",\n",
    "                \"Subtype\",\n",
    "                \"Type\",\n",
    "                \"Immunocentric_Type\",\n",
    "                \"Class\",\n",
    "                \"leiden\",\n",
    "                \"epithelial_distance\",\n",
    "                \"crypt_villi_axis\",\n",
    "                \"epithelial_distance_clipped\",\n",
    "                \"batch\",\n",
    "            ]\n",
    "        ],\n",
    "    ]\n",
    ")"
   ]
  },
  {
   "cell_type": "code",
   "execution_count": null,
   "metadata": {},
   "outputs": [],
   "source": [
    "concatenated_xenium.obs = concatenated_xenium.obs.merge(\n",
    "    observations, how=\"left\", left_index=True, right_index=True\n",
    ")"
   ]
  },
  {
   "cell_type": "code",
   "execution_count": null,
   "metadata": {},
   "outputs": [],
   "source": [
    "sc.tl.leiden(concatenated_xenium)"
   ]
  },
  {
   "cell_type": "code",
   "execution_count": null,
   "metadata": {},
   "outputs": [],
   "source": [
    "import matplotlib.pyplot as plt\n",
    "\n",
    "fig = sc.pl.embedding(\n",
    "    concatenated_xenium, basis=\"mde\", color=\"leiden\", return_fig=True, vmax=1\n",
    ")\n",
    "plt.xlim(-3, 3)\n",
    "plt.ylim(-3, 3)\n",
    "plt.show()"
   ]
  },
  {
   "cell_type": "markdown",
   "metadata": {},
   "source": [
    "#### Subclustering all leiden clusters"
   ]
  },
  {
   "cell_type": "code",
   "execution_count": null,
   "metadata": {},
   "outputs": [],
   "source": [
    "from tqdm.notebook import tqdm\n",
    "import numpy as np\n",
    "\n",
    "\n",
    "def get_celltype(celltype, ad_sp):\n",
    "    ctype = ad_sp[ad_sp.obs.leiden.isin([celltype])]\n",
    "    sc.pp.neighbors(ctype, use_rep=\"X_scVI\")\n",
    "    sc.tl.leiden(ctype, resolution=1.2)\n",
    "    sc.tl.umap(ctype)\n",
    "    return ctype\n",
    "\n",
    "\n",
    "def reunite_with_ad(ad_sp, subset_ad, celltype):\n",
    "    new_labels = []\n",
    "    subclusters = ad_sp.obs.Sub_leiden.values\n",
    "    clusters = ad_sp.obs.leiden.values\n",
    "    idex = ad_sp.obs.index.values\n",
    "    for i in tqdm(range(len(subclusters))):\n",
    "        if clusters[i] == celltype:\n",
    "            new_labels.append(subset_ad.obs.loc[idex[i], :].leiden)\n",
    "        else:\n",
    "            new_labels.append(subclusters[i])\n",
    "    ad_sp.obs.Sub_leiden = new_labels\n",
    "    return ad_sp\n",
    "\n",
    "\n",
    "concatenated_xenium.obs[\"Sub_leiden\"] = concatenated_xenium.obs[\"leiden\"]\n",
    "for leiden_to_subset in tqdm(np.unique(concatenated_xenium.obs[\"leiden\"].values)):\n",
    "    mac = get_celltype(leiden_to_subset, concatenated_xenium)\n",
    "    mac.obs[\"leiden\"] = [leiden_to_subset + \"_\" + i for i in mac.obs.leiden]\n",
    "    concatenated_xenium = reunite_with_ad(concatenated_xenium, mac, leiden_to_subset)"
   ]
  },
  {
   "cell_type": "markdown",
   "metadata": {},
   "source": [
    "#### Reassigning the cell types of all the replicate 2 samples based on what cell type 1 annotation is most prevalent in each joint cluster "
   ]
  },
  {
   "cell_type": "code",
   "execution_count": null,
   "metadata": {},
   "outputs": [],
   "source": [
    "dictionary_sub = {}\n",
    "for group in concatenated_xenium.obs.groupby(\"Sub_leiden\"):\n",
    "    most_common_subtype = group[1][\"Subtype\"].value_counts().idxmax()\n",
    "    dictionary_sub[group[0]] = most_common_subtype"
   ]
  },
  {
   "cell_type": "code",
   "execution_count": null,
   "metadata": {},
   "outputs": [],
   "source": [
    "reassigned_subtypes = []\n",
    "for sub in concatenated_xenium.obs[\"Sub_leiden\"].values:\n",
    "    diction = dictionary_sub.get(sub)\n",
    "    reassigned_subtypes.append(diction)"
   ]
  },
  {
   "cell_type": "code",
   "execution_count": null,
   "metadata": {},
   "outputs": [],
   "source": [
    "concatenated_xenium.obs[\"New_Subtype\"] = reassigned_subtypes"
   ]
  },
  {
   "cell_type": "code",
   "execution_count": null,
   "metadata": {},
   "outputs": [],
   "source": [
    "import matplotlib.pyplot as plt\n",
    "\n",
    "fig = sc.pl.embedding(\n",
    "    concatenated_xenium,\n",
    "    basis=\"mde\",\n",
    "    color=\"Sub_leiden\",\n",
    "    legend_loc=\"on data\",\n",
    "    return_fig=True,\n",
    "    vmax=1,\n",
    ")\n",
    "plt.xlim(-3, 3)\n",
    "plt.ylim(-3, 3)\n",
    "plt.show()"
   ]
  },
  {
   "cell_type": "code",
   "execution_count": null,
   "metadata": {},
   "outputs": [],
   "source": [
    "import matplotlib.pyplot as plt\n",
    "\n",
    "fig = sc.pl.embedding(\n",
    "    concatenated_xenium, basis=\"mde\", color=\"New_Subtype\", return_fig=True, vmax=1\n",
    ")\n",
    "plt.xlim(-3, 3)\n",
    "plt.ylim(-3, 3)\n",
    "plt.show()"
   ]
  },
  {
   "cell_type": "markdown",
   "metadata": {},
   "source": [
    "#### Assiging Type, Class and Immunocentric Type based on heirarchy\n",
    "##### Put the path to the final replicate 1 adata"
   ]
  },
  {
   "cell_type": "code",
   "execution_count": null,
   "metadata": {},
   "outputs": [],
   "source": [
    "rep1_path = \"/mnt/sata1/Analysis_Alex/timecourse_final/analysis/cleaned/final_celltyped_and_axes.h5ad\""
   ]
  },
  {
   "cell_type": "code",
   "execution_count": null,
   "metadata": {},
   "outputs": [],
   "source": [
    "types = sc.read(rep1_path)\n",
    "types_ = pd.crosstab(types.obs[\"Type\"], types.obs[\"Subtype\"])\n",
    "class_ = pd.crosstab(types.obs[\"Class\"], types.obs[\"Type\"])\n",
    "immuno_ = pd.crosstab(types.obs[\"Immunocentric_Type\"], types.obs[\"Subtype\"])"
   ]
  },
  {
   "cell_type": "code",
   "execution_count": null,
   "metadata": {},
   "outputs": [],
   "source": [
    "type_dictionary = {}\n",
    "for i in concatenated_xenium.obs[\"New_Subtype\"].cat.categories:\n",
    "    type_dictionary[i] = types_.index.values[np.where(types_[i].values > 0)[0]][0]\n",
    "all_types = []\n",
    "for k in concatenated_xenium.obs[\"New_Subtype\"].values:\n",
    "    all_types.append(type_dictionary.get(k))\n",
    "concatenated_xenium.obs[\"Type\"] = all_types\n",
    "\n",
    "itype_dictionary = {}\n",
    "for i in concatenated_xenium.obs[\"New_Subtype\"].cat.categories:\n",
    "    try:\n",
    "        itype_dictionary[i] = immuno_.index.values[np.where(immuno_[i].values > 0)[0]][\n",
    "            0\n",
    "        ]\n",
    "    except:\n",
    "        print(i)\n",
    "        # itype_dictionary[i] = 'None'\n",
    "all_itypes = []\n",
    "for k in concatenated_xenium.obs[\"New_Subtype\"].values:\n",
    "    all_itypes.append(itype_dictionary.get(k))\n",
    "concatenated_xenium.obs[\"Immunocentric_Type\"] = all_itypes\n",
    "\n",
    "class_dictionary = {}\n",
    "for i in np.unique(concatenated_xenium.obs[\"Type\"].values):\n",
    "    class_dictionary[i] = class_.index.values[np.where(class_[i].values > 0)[0]][0]\n",
    "all_classes = []\n",
    "for k in concatenated_xenium.obs[\"Type\"].values:\n",
    "    all_classes.append(class_dictionary.get(k))\n",
    "concatenated_xenium.obs[\"Class\"] = all_classes\n",
    "\n",
    "# sc.pl.embedding(concatenated_xenium, basis='mde', color=['New_Subtype', 'Type', 'Class', 'Immunocentric_Type'])"
   ]
  },
  {
   "cell_type": "code",
   "execution_count": null,
   "metadata": {},
   "outputs": [],
   "source": [
    "import matplotlib.pyplot as plt\n",
    "\n",
    "fig = sc.pl.embedding(\n",
    "    concatenated_xenium, basis=\"mde\", color=\"Type\", return_fig=True, vmax=1\n",
    ")\n",
    "plt.xlim(-3, 3)\n",
    "plt.ylim(-3, 3)\n",
    "plt.show()"
   ]
  },
  {
   "cell_type": "code",
   "execution_count": null,
   "metadata": {},
   "outputs": [],
   "source": [
    "concatenated_xenium.obs[\"Subtype\"] = concatenated_xenium.obs[\"New_Subtype\"]"
   ]
  },
  {
   "cell_type": "code",
   "execution_count": null,
   "metadata": {},
   "outputs": [],
   "source": [
    "first_df = pd.concat([reference_obs, replicate_obs])[\n",
    "    [\n",
    "        \"total_transcripts\",\n",
    "        \"nuclear_transcripts\",\n",
    "        \"cytoplasmic_transcripts\",\n",
    "        \"nuclear_transcript_percentage\",\n",
    "        \"cell\",\n",
    "        \"x\",\n",
    "        \"y\",\n",
    "        \"predicted_longitudinal\",\n",
    "        \"not_removed_from_longitudinal\",\n",
    "        \"epithelial_distance\",\n",
    "        \"crypt_villi_axis\",\n",
    "        \"epithelial_distance_clipped\",\n",
    "    ]\n",
    "]"
   ]
  },
  {
   "cell_type": "code",
   "execution_count": null,
   "metadata": {},
   "outputs": [],
   "source": [
    "concatenated_xenium.obs = concatenated_xenium.obs[\n",
    "    [\"batch\", \"leiden\", \"Sub_leiden\", \"Subtype\", \"Type\", \"Class\", \"Immunocentric_Type\"]\n",
    "].merge(first_df, how=\"left\", left_index=True, right_index=True)"
   ]
  },
  {
   "cell_type": "markdown",
   "metadata": {},
   "source": [
    "##### Writing out the object with all replicates"
   ]
  },
  {
   "cell_type": "code",
   "execution_count": null,
   "metadata": {},
   "outputs": [],
   "source": [
    "concatenated_xenium.write(\n",
    "    r\"/mnt/sata1/Analysis_Alex/timecourse_replicates/analysis/cleaned/full_xenium_replicates_and_reference.h5ad\"\n",
    ")"
   ]
  },
  {
   "cell_type": "code",
   "execution_count": null,
   "metadata": {},
   "outputs": [],
   "source": [
    "import scvi\n",
    "import scanpy as sc\n",
    "import os\n",
    "import pandas as pd\n",
    "from scvi.model.utils import mde"
   ]
  },
  {
   "cell_type": "code",
   "execution_count": null,
   "metadata": {},
   "outputs": [],
   "source": [
    "concatenated_xenium = sc.read(\n",
    "    r\"/mnt/sata1/Analysis_Alex/timecourse_replicates/analysis/cleaned/full_xenium_replicates_and_reference.h5ad\"\n",
    ")"
   ]
  },
  {
   "cell_type": "markdown",
   "metadata": {},
   "source": [
    "#### Some manual correction of cell type clusters"
   ]
  },
  {
   "cell_type": "code",
   "execution_count": null,
   "metadata": {},
   "outputs": [],
   "source": [
    "new_cell_types = []\n",
    "for i in range(len(concatenated_xenium.obs[\"Subtype\"])):\n",
    "    if (concatenated_xenium.obs[\"Subtype\"].values[i] == \"ILC\") & (\n",
    "        concatenated_xenium.obs[\"Sub_leiden\"].values[i] in [\"3_0\", \"3_6\"]\n",
    "    ):\n",
    "        new_cell_types.append(\"NK-Cell\")\n",
    "    elif concatenated_xenium.obs[\"Subtype\"].values[i] == \"ILC\":\n",
    "        new_cell_types.append(\"ILC\")\n",
    "    elif concatenated_xenium.obs[\"Subtype\"].values[i] == \"NK-Cell\":\n",
    "        new_cell_types.append(\"DC2\")\n",
    "    elif concatenated_xenium.obs[\"Sub_leiden\"].values[i] in [\"11_0\"]:\n",
    "        new_cell_types.append(\"Paneth\")\n",
    "    else:\n",
    "        new_cell_types.append(concatenated_xenium.obs[\"Subtype\"][i])"
   ]
  },
  {
   "cell_type": "code",
   "execution_count": null,
   "metadata": {},
   "outputs": [],
   "source": [
    "concatenated_xenium.obs[\"Subtype\"] = new_cell_types"
   ]
  },
  {
   "cell_type": "code",
   "execution_count": null,
   "metadata": {},
   "outputs": [],
   "source": [
    "types = sc.read(rep1_path)\n",
    "types_ = pd.crosstab(types.obs[\"Type\"], types.obs[\"Subtype\"])\n",
    "class_ = pd.crosstab(types.obs[\"Class\"], types.obs[\"Type\"])\n",
    "immuno_ = pd.crosstab(types.obs[\"Immunocentric_Type\"], types.obs[\"Subtype\"])"
   ]
  },
  {
   "cell_type": "code",
   "execution_count": null,
   "metadata": {},
   "outputs": [],
   "source": [
    "import numpy as np\n",
    "\n",
    "type_dictionary = {}\n",
    "for i in concatenated_xenium.obs[\"Subtype\"].cat.categories:\n",
    "    type_dictionary[i] = types_.index.values[np.where(types_[i].values > 0)[0]][0]\n",
    "all_types = []\n",
    "for k in concatenated_xenium.obs[\"Subtype\"].values:\n",
    "    all_types.append(type_dictionary.get(k))\n",
    "concatenated_xenium.obs[\"Type\"] = all_types\n",
    "\n",
    "itype_dictionary = {}\n",
    "for i in concatenated_xenium.obs[\"Subtype\"].cat.categories:\n",
    "    try:\n",
    "        itype_dictionary[i] = immuno_.index.values[np.where(immuno_[i].values > 0)[0]][\n",
    "            0\n",
    "        ]\n",
    "    except:\n",
    "        print(i)\n",
    "        # itype_dictionary[i] = 'None'\n",
    "all_itypes = []\n",
    "for k in concatenated_xenium.obs[\"Subtype\"].values:\n",
    "    all_itypes.append(itype_dictionary.get(k))\n",
    "concatenated_xenium.obs[\"Immunocentric_Type\"] = all_itypes\n",
    "\n",
    "class_dictionary = {}\n",
    "for i in np.unique(concatenated_xenium.obs[\"Type\"].values):\n",
    "    class_dictionary[i] = class_.index.values[np.where(class_[i].values > 0)[0]][0]\n",
    "all_classes = []\n",
    "for k in concatenated_xenium.obs[\"Type\"].values:\n",
    "    all_classes.append(class_dictionary.get(k))\n",
    "concatenated_xenium.obs[\"Class\"] = all_classes\n",
    "\n",
    "# sc.pl.embedding(concatenated_xenium, basis='mde', color=['Subtype', 'Type', 'Class', 'Immunocentric_Type'])"
   ]
  },
  {
   "cell_type": "code",
   "execution_count": null,
   "metadata": {},
   "outputs": [],
   "source": [
    "concatenated_xenium.write(\n",
    "    r\"/mnt/sata1/Analysis_Alex/timecourse_replicates/analysis/cleaned/full_xenium_replicates_and_reference.h5ad\"\n",
    ")"
   ]
  }
 ],
 "metadata": {
  "kernelspec": {
   "display_name": "scvi-env",
   "language": "python",
   "name": "python3"
  },
  "language_info": {
   "codemirror_mode": {
    "name": "ipython",
    "version": 3
   },
   "file_extension": ".py",
   "mimetype": "text/x-python",
   "name": "python",
   "nbconvert_exporter": "python",
   "pygments_lexer": "ipython3",
   "version": "3.8.18"
  }
 },
 "nbformat": 4,
 "nbformat_minor": 2
}
