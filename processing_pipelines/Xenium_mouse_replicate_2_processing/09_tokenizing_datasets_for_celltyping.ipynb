{
 "cells": [
  {
   "cell_type": "markdown",
   "metadata": {},
   "source": [
    "### We used Geneformer to inform our manual celltype annotation of the replicate data, and tell us which cells were Epithelial and Stromal classes for axes classification"
   ]
  },
  {
   "cell_type": "code",
   "execution_count": 1,
   "id": "080fdd9c-0c48-4d5d-a254-52b6c53cdf78",
   "metadata": {
    "scrolled": false
   },
   "outputs": [
    {
     "name": "stderr",
     "output_type": "stream",
     "text": [
      "/home/amonell/mambaforge/envs/geneformer/lib/python3.10/site-packages/loompy/bus_file.py:68: NumbaDeprecationWarning: The 'nopython' keyword argument was not supplied to the 'numba.jit' decorator. The implicit default value for this argument is currently False, but it will be changed to True in Numba 0.59.0. See https://numba.readthedocs.io/en/stable/reference/deprecation.html#deprecation-of-object-mode-fall-back-behaviour-when-using-jit for details.\n",
      "  def twobit_to_dna(twobit: int, size: int) -> str:\n",
      "/home/amonell/mambaforge/envs/geneformer/lib/python3.10/site-packages/loompy/bus_file.py:85: NumbaDeprecationWarning: The 'nopython' keyword argument was not supplied to the 'numba.jit' decorator. The implicit default value for this argument is currently False, but it will be changed to True in Numba 0.59.0. See https://numba.readthedocs.io/en/stable/reference/deprecation.html#deprecation-of-object-mode-fall-back-behaviour-when-using-jit for details.\n",
      "  def dna_to_twobit(dna: str) -> int:\n",
      "/home/amonell/mambaforge/envs/geneformer/lib/python3.10/site-packages/loompy/bus_file.py:102: NumbaDeprecationWarning: The 'nopython' keyword argument was not supplied to the 'numba.jit' decorator. The implicit default value for this argument is currently False, but it will be changed to True in Numba 0.59.0. See https://numba.readthedocs.io/en/stable/reference/deprecation.html#deprecation-of-object-mode-fall-back-behaviour-when-using-jit for details.\n",
      "  def twobit_1hamming(twobit: int, size: int) -> List[int]:\n",
      "/home/amonell/.local/lib/python3.10/site-packages/tqdm/auto.py:21: TqdmWarning: IProgress not found. Please update jupyter and ipywidgets. See https://ipywidgets.readthedocs.io/en/stable/user_install.html\n",
      "  from .autonotebook import tqdm as notebook_tqdm\n"
     ]
    }
   ],
   "source": [
    "import sys\n",
    "sys.path.append('/home/amonell/Geneformer')\n",
    "from geneformer import TranscriptomeTokenizer\n",
    "import numpy as np\n",
    "import os"
   ]
  },
  {
   "cell_type": "markdown",
   "metadata": {},
   "source": [
    "### Put the path to the reference data"
   ]
  },
  {
   "cell_type": "code",
   "execution_count": 2,
   "id": "581bf4ad",
   "metadata": {},
   "outputs": [
    {
     "name": "stderr",
     "output_type": "stream",
     "text": [
      "/home/amonell/.local/lib/python3.10/site-packages/anndata/__init__.py:51: FutureWarning: `anndata.read` is deprecated, use `anndata.read_h5ad` instead. `ad.read` will be removed in mid 2024.\n",
      "  warnings.warn(\n",
      "/home/amonell/.local/lib/python3.10/site-packages/anndata/_core/anndata.py:1897: UserWarning: Observation names are not unique. To make them unique, call `.obs_names_make_unique`.\n",
      "  utils.warn_names_duplicates(\"obs\")\n"
     ]
    }
   ],
   "source": [
    "import scanpy as sc\n",
    "ad=sc.read('/mnt/sata1/Analysis_Alex/timecourse_final/analysis/cleaned/final_celltyped_and_axes.h5ad')"
   ]
  },
  {
   "cell_type": "code",
   "execution_count": 3,
   "id": "cc429509",
   "metadata": {},
   "outputs": [],
   "source": [
    "import pandas as pd\n",
    "pd.DataFrame(ad.var.index.tolist()).to_csv(r'/mnt/sata1/Analysis_Alex/Geneformer/adcsv.csv', index=None)"
   ]
  },
  {
   "cell_type": "markdown",
   "metadata": {},
   "source": [
    "### Converting gene names to human homolog ensembl ids"
   ]
  },
  {
   "cell_type": "code",
   "execution_count": 4,
   "id": "62daec83",
   "metadata": {},
   "outputs": [],
   "source": [
    "ensembl = pd.read_csv('/mnt/sata1/Analysis_Alex/Geneformer/gProfiler_hsapiens_9-18-2023_2-31-49 PM.csv').drop_duplicates('initial_alias')"
   ]
  },
  {
   "cell_type": "code",
   "execution_count": 7,
   "id": "9d041ee4",
   "metadata": {},
   "outputs": [],
   "source": [
    "ad.var['ensembl_id'] = [i for i in ensembl['converted_alias'] if not pd.isna(i)][:len(ad.var.index)]\n",
    "ad.var.index= ad.var.ensembl_id.tolist()\n",
    "ad.obs['n_counts'] = np.array(np.sum(ad.X, axis=1)).flatten()\n",
    "ad.obs['organ_major'] = \"SI\""
   ]
  },
  {
   "cell_type": "code",
   "execution_count": 1,
   "id": "3f6fbe00",
   "metadata": {},
   "outputs": [],
   "source": [
    "os.mkdir('/mnt/sata1/Analysis_Alex/Geneformer/loom_xenium')"
   ]
  },
  {
   "cell_type": "code",
   "execution_count": 12,
   "id": "078f6975",
   "metadata": {
    "scrolled": false
   },
   "outputs": [
    {
     "name": "stderr",
     "output_type": "stream",
     "text": [
      "The loom file will lack these fields:\n",
      "{'X_scVI', 'X_mde', 'X_spatial'}\n",
      "Use write_obsm_varm=True to export multi-dimensional annotations\n"
     ]
    }
   ],
   "source": [
    "ad.write_loom('/mnt/sata1/Analysis_Alex/Geneformer/loom_xenium/ad.loom')"
   ]
  },
  {
   "cell_type": "code",
   "execution_count": 13,
   "id": "e3bc883c",
   "metadata": {},
   "outputs": [],
   "source": [
    "ad.obs['input_ids'] = [i for i in range(len(ad.obs.index.tolist()))]\n",
    "d = {}\n",
    "for i in ad.var.index.tolist():\n",
    "    d[i] = True\n",
    "import pickle\n",
    "with open(\"/mnt/sata1/Analysis_Alex/Geneformer/ids.pkl\", 'wb') as w:\n",
    "    pickle.dump(d, w)"
   ]
  },
  {
   "cell_type": "code",
   "execution_count": 14,
   "id": "e2f11920",
   "metadata": {},
   "outputs": [
    {
     "name": "stdout",
     "output_type": "stream",
     "text": [
      "Tokenizing /mnt/sata1/Analysis_Alex/Geneformer/loom_xenium/ad.loom\n",
      "/mnt/sata1/Analysis_Alex/Geneformer/loom_xenium/ad.loom has no column attribute 'filter_pass'; tokenizing all cells.\n",
      "Creating dataset.\n"
     ]
    },
    {
     "name": "stderr",
     "output_type": "stream",
     "text": [
      "Map (num_proc=4): 100%|██████████| 1763585/1763585 [00:23<00:00, 76489.24 examples/s] \n",
      "Saving the dataset (1/1 shards): 100%|██████████| 1763585/1763585 [00:00<00:00, 3193315.34 examples/s]\n"
     ]
    }
   ],
   "source": [
    "tk = TranscriptomeTokenizer({\"Subtype\": \"cell_type\", \"organ_major\": \"organ_major\"}, nproc=4)\n",
    "tk.tokenize_data(\"/mnt/sata1/Analysis_Alex/Geneformer/loom_xenium\", \"/mnt/sata1/Analysis_Alex/Geneformer/loom_xenium/tokenized\", \"train_xenium\")"
   ]
  },
  {
   "cell_type": "markdown",
   "metadata": {},
   "source": [
    "### Tokenize datasets to annotate"
   ]
  },
  {
   "cell_type": "code",
   "execution_count": null,
   "id": "ff58bd57",
   "metadata": {},
   "outputs": [],
   "source": [
    "import glob\n",
    "ensembl = pd.read_csv('/mnt/sata1/Analysis_Alex/Geneformer/gProfiler_hsapiens_9-18-2023_2-31-49 PM.csv').drop_duplicates('initial_alias')\n",
    "\n",
    "for filename in glob.glob('/mnt/sata1/Analysis_Alex/timecourse_replicates/day*'):\n",
    "    outname = os.path.basename(filename)\n",
    "    try:\n",
    "        os.mkdir('/mnt/sata1/Analysis_Alex/Geneformer/loom_'+outname)\n",
    "        ad=sc.read(os.path.join('/mnt/sata1/Analysis_Alex/timecourse_replicates', outname, 'adatas/06_reference_mapped.h5ad'))\n",
    "        ad.var['ensembl_id'] = [i for i in ensembl['converted_alias'] if not pd.isna(i)][:len(ad.var.index)]\n",
    "        ad.var.index= ad.var.ensembl_id.tolist()\n",
    "        ad.obs['n_counts'] = np.array(np.sum(ad.X, axis=1)).flatten()\n",
    "        ad.obs['organ_major'] = \"SI\"\n",
    "        ad.obs['Subtype'] = 0\n",
    "        ad.write_loom('/mnt/sata1/Analysis_Alex/Geneformer/loom_'+outname+'/'+outname+'.loom')\n",
    "\n",
    "        tk = TranscriptomeTokenizer({\"Subtype\": \"cell_type\", \"organ_major\": \"organ_major\"}, nproc=4)\n",
    "        tk.tokenize_data(\"/mnt/sata1/Analysis_Alex/Geneformer/loom_\"+outname, \"/mnt/sata1/Analysis_Alex/Geneformer/loom_\"+outname+\"/tokenized\", \"train_\"+outname)\n",
    "    except:\n",
    "        print(outname)\n"
   ]
  }
 ],
 "metadata": {
  "kernelspec": {
   "display_name": "Python 3 (ipykernel)",
   "language": "python",
   "name": "python3"
  },
  "language_info": {
   "codemirror_mode": {
    "name": "ipython",
    "version": 3
   },
   "file_extension": ".py",
   "mimetype": "text/x-python",
   "name": "python",
   "nbconvert_exporter": "python",
   "pygments_lexer": "ipython3",
   "version": "3.8.18"
  }
 },
 "nbformat": 4,
 "nbformat_minor": 5
}
