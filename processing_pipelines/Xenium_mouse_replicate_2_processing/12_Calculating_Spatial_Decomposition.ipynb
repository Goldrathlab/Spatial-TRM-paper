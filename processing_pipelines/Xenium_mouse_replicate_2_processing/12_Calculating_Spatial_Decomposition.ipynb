{
 "cells": [
  {
   "cell_type": "code",
   "execution_count": 19,
   "id": "0faa94cb-d8d5-4fde-82f4-3af53f81c2ff",
   "metadata": {},
   "outputs": [],
   "source": [
    "import tensorflow as tf\n",
    "import scanpy as sc\n",
    "import os\n",
    "from scipy.spatial import KDTree\n",
    "from tensorflow import keras\n",
    "import numpy as np\n",
    "import pandas as pd\n",
    "import matplotlib.pyplot as plt\n",
    "from sklearn.decomposition import NMF\n",
    "from tqdm.notebook import tqdm\n",
    "from core_functions.neighborhood_decomposition import *\n",
    "import glob"
   ]
  },
  {
   "cell_type": "markdown",
   "metadata": {},
   "source": [
    "### Similarly to replicate 1 processing, we will use the Epithelial and Stromal classes defined by GeneFormer to perform a spatial decompostion on Epithelial and Stromal cells so that we have a feature set for crypt villus axis prediction"
   ]
  },
  {
   "cell_type": "markdown",
   "metadata": {},
   "source": [
    "##### Path to replicate datasets. "
   ]
  },
  {
   "cell_type": "code",
   "execution_count": 20,
   "id": "cbc1a60b-a9cb-433c-aa68-57328c1cd90c",
   "metadata": {},
   "outputs": [],
   "source": [
    "output_folder = r'/mnt/sata1/Analysis_Alex/timecourse_replicates/analysis/cleaned'"
   ]
  },
  {
   "cell_type": "code",
   "execution_count": 21,
   "id": "2e51341a-6efe-49ea-96a1-fa81764338f8",
   "metadata": {},
   "outputs": [],
   "source": [
    "input_folders = glob.glob('/mnt/sata1/Analysis_Alex/timecourse_replicates/day*')"
   ]
  },
  {
   "cell_type": "code",
   "execution_count": 22,
   "metadata": {},
   "outputs": [
    {
     "name": "stderr",
     "output_type": "stream",
     "text": [
      "/home/amonell/.local/lib/python3.10/site-packages/anndata/__init__.py:51: FutureWarning: `anndata.read` is deprecated, use `anndata.read_h5ad` instead. `ad.read` will be removed in mid 2024.\n",
      "  warnings.warn(\n",
      "/home/amonell/.local/lib/python3.10/site-packages/anndata/__init__.py:51: FutureWarning: `anndata.read` is deprecated, use `anndata.read_h5ad` instead. `ad.read` will be removed in mid 2024.\n",
      "  warnings.warn(\n",
      "/home/amonell/.local/lib/python3.10/site-packages/anndata/__init__.py:51: FutureWarning: `anndata.read` is deprecated, use `anndata.read_h5ad` instead. `ad.read` will be removed in mid 2024.\n",
      "  warnings.warn(\n",
      "/home/amonell/.local/lib/python3.10/site-packages/anndata/__init__.py:51: FutureWarning: `anndata.read` is deprecated, use `anndata.read_h5ad` instead. `ad.read` will be removed in mid 2024.\n",
      "  warnings.warn(\n"
     ]
    }
   ],
   "source": [
    "adatas = []\n",
    "for input_file in input_folders:\n",
    "    adatas.append(sc.read(os.path.join(input_file, 'adatas', '08_full_celltypes_and_leiden.h5ad')))"
   ]
  },
  {
   "cell_type": "markdown",
   "metadata": {},
   "source": [
    "##### Path to replicate 1 final dataset. We will be using the same reference dataset for morphology prediction as we used in the replicate 1 processing, in our case - Day 7 DMSO"
   ]
  },
  {
   "cell_type": "code",
   "execution_count": 23,
   "metadata": {},
   "outputs": [],
   "source": [
    "reference_path = r'/mnt/sata1/Analysis_Alex/timecourse_final/analysis/cleaned/final_celltyped_and_axes.h5ad'"
   ]
  },
  {
   "cell_type": "code",
   "execution_count": 24,
   "metadata": {},
   "outputs": [
    {
     "name": "stderr",
     "output_type": "stream",
     "text": [
      "/home/amonell/.local/lib/python3.10/site-packages/anndata/__init__.py:51: FutureWarning: `anndata.read` is deprecated, use `anndata.read_h5ad` instead. `ad.read` will be removed in mid 2024.\n",
      "  warnings.warn(\n",
      "/home/amonell/.local/lib/python3.10/site-packages/anndata/_core/anndata.py:1897: UserWarning: Observation names are not unique. To make them unique, call `.obs_names_make_unique`.\n",
      "  utils.warn_names_duplicates(\"obs\")\n"
     ]
    }
   ],
   "source": [
    "# subset to only the reference data (the dataset with the best morphology that was treated as a reference for the first set of replicates)\n",
    "reference_adata = sc.read(reference_path)\n",
    "reference_adata = reference_adata[reference_adata.obs['batch'] == 'day7_SI_DMSO']"
   ]
  },
  {
   "cell_type": "code",
   "execution_count": 25,
   "metadata": {},
   "outputs": [],
   "source": [
    "adatas.append(reference_adata)"
   ]
  },
  {
   "cell_type": "code",
   "execution_count": 26,
   "id": "c3b1679c-4c1a-4d34-8e79-6db423fc010c",
   "metadata": {},
   "outputs": [
    {
     "name": "stderr",
     "output_type": "stream",
     "text": [
      "/home/amonell/.local/lib/python3.10/site-packages/anndata/_core/anndata.py:1897: UserWarning: Observation names are not unique. To make them unique, call `.obs_names_make_unique`.\n",
      "  utils.warn_names_duplicates(\"obs\")\n"
     ]
    }
   ],
   "source": [
    "combined_adata = sc.concat(adatas)"
   ]
  },
  {
   "cell_type": "code",
   "execution_count": 27,
   "metadata": {},
   "outputs": [],
   "source": [
    "del adatas"
   ]
  },
  {
   "cell_type": "markdown",
   "metadata": {},
   "source": [
    "### Train Decomposition model"
   ]
  },
  {
   "cell_type": "code",
   "execution_count": 28,
   "id": "608e0c45-7706-4930-b1f2-8155e9d9433a",
   "metadata": {},
   "outputs": [],
   "source": [
    "unchanging_type_keys = ['Epithelial', 'Stromal']\n",
    "combined_adata_no_immune = combined_adata[combined_adata.obs['Class'].isin(unchanging_type_keys)]\n",
    "unique_batches = np.unique(combined_adata_no_immune.obs.batch.values)"
   ]
  },
  {
   "cell_type": "code",
   "execution_count": 29,
   "id": "b5bb8fcc-32a2-4716-9b32-041f9aa203b7",
   "metadata": {},
   "outputs": [],
   "source": [
    "nneighbors = 10\n",
    "dfs = []\n",
    "for input_file in unique_batches:\n",
    "    adata = combined_adata_no_immune[combined_adata_no_immune.obs['batch'] == input_file]\n",
    "    adata_arr = np.array(adata.X)\n",
    "    celltype_cluster = adata.obs.index.values\n",
    "    list_of_arrays = []\n",
    "    spatial_points = np.array([adata.obsm['X_spatial'][:,0], adata.obsm['X_spatial'][:,1]]).T\n",
    "    tree = KDTree(spatial_points)\n",
    "    for i_bac in tqdm(range(len(celltype_cluster))):\n",
    "        current_cell = celltype_cluster[i_bac]\n",
    "        distances, neighbors = tree.query(spatial_points[i_bac], k=nneighbors)\n",
    "        neighbors = np.array(list(neighbors))\n",
    "        gene_array = np.array(np.sum(adata_arr[neighbors, :], axis=0)).squeeze()\n",
    "        list_of_arrays.append(gene_array)\n",
    "    \n",
    "    X = pd.DataFrame(np.array(list_of_arrays))\n",
    "    dfs.append(X)"
   ]
  },
  {
   "cell_type": "code",
   "execution_count": 32,
   "metadata": {},
   "outputs": [],
   "source": [
    "del combined_adata\n",
    "del combined_adata_no_immune"
   ]
  },
  {
   "cell_type": "code",
   "execution_count": 33,
   "id": "bd8c06e9-ac13-4902-8aa4-0b4912591d9c",
   "metadata": {},
   "outputs": [],
   "source": [
    "X_arr = pd.concat(dfs)"
   ]
  },
  {
   "cell_type": "code",
   "execution_count": 34,
   "metadata": {},
   "outputs": [],
   "source": [
    "del dfs"
   ]
  },
  {
   "cell_type": "code",
   "execution_count": 35,
   "id": "9ca4bbab-f43d-4c64-8974-29e765845739",
   "metadata": {},
   "outputs": [
    {
     "name": "stderr",
     "output_type": "stream",
     "text": [
      "/home/amonell/.local/lib/python3.10/site-packages/sklearn/decomposition/_nmf.py:1710: ConvergenceWarning: Maximum number of iterations 200 reached. Increase it to improve convergence.\n",
      "  warnings.warn(\n"
     ]
    }
   ],
   "source": [
    "num_neighborhoods = 15\n",
    "X = X_arr\n",
    "del X_arr\n",
    "f = len(X.columns)\n",
    "n = len(X.index.tolist())\n",
    "\n",
    "model = NMF(n_components=num_neighborhoods, random_state=0)\n",
    "W = model.fit_transform(X)\n",
    "H = model.components_"
   ]
  },
  {
   "cell_type": "markdown",
   "metadata": {},
   "source": [
    "### Apply decomposition model"
   ]
  },
  {
   "cell_type": "code",
   "execution_count": 36,
   "id": "702775e7-117e-412e-bf57-f94994b34fa6",
   "metadata": {
    "scrolled": true
   },
   "outputs": [
    {
     "name": "stderr",
     "output_type": "stream",
     "text": [
      "/home/amonell/.local/lib/python3.10/site-packages/anndata/__init__.py:51: FutureWarning: `anndata.read` is deprecated, use `anndata.read_h5ad` instead. `ad.read` will be removed in mid 2024.\n",
      "  warnings.warn(\n"
     ]
    },
    {
     "data": {
      "application/vnd.jupyter.widget-view+json": {
       "model_id": "209a27dbcbed49dba98b905c8ca74d1e",
       "version_major": 2,
       "version_minor": 0
      },
      "text/plain": [
       "  0%|          | 0/274464 [00:00<?, ?it/s]"
      ]
     },
     "metadata": {},
     "output_type": "display_data"
    },
    {
     "name": "stderr",
     "output_type": "stream",
     "text": [
      "/home/amonell/.local/lib/python3.10/site-packages/scanpy/plotting/_tools/scatterplots.py:1251: FutureWarning: The default value of 'ignore' for the `na_action` parameter in pandas.Categorical.map is deprecated and will be changed to 'None' in a future version. Please set na_action to the desired value to avoid seeing this warning\n",
      "  color_vector = pd.Categorical(values.map(color_map))\n",
      "/home/amonell/.local/lib/python3.10/site-packages/scanpy/plotting/_tools/scatterplots.py:394: UserWarning: No data for colormapping provided via 'c'. Parameters 'cmap' will be ignored\n",
      "  cax = scatter(\n"
     ]
    },
    {
     "name": "stdout",
     "output_type": "stream",
     "text": [
      "Figures/neighborhoods already made.\n"
     ]
    },
    {
     "name": "stderr",
     "output_type": "stream",
     "text": [
      "/home/amonell/.local/lib/python3.10/site-packages/anndata/__init__.py:51: FutureWarning: `anndata.read` is deprecated, use `anndata.read_h5ad` instead. `ad.read` will be removed in mid 2024.\n",
      "  warnings.warn(\n"
     ]
    },
    {
     "data": {
      "application/vnd.jupyter.widget-view+json": {
       "model_id": "1792b8c7101840389bb039149e868b3a",
       "version_major": 2,
       "version_minor": 0
      },
      "text/plain": [
       "  0%|          | 0/258269 [00:00<?, ?it/s]"
      ]
     },
     "metadata": {},
     "output_type": "display_data"
    },
    {
     "name": "stderr",
     "output_type": "stream",
     "text": [
      "/home/amonell/.local/lib/python3.10/site-packages/scanpy/plotting/_tools/scatterplots.py:1251: FutureWarning: The default value of 'ignore' for the `na_action` parameter in pandas.Categorical.map is deprecated and will be changed to 'None' in a future version. Please set na_action to the desired value to avoid seeing this warning\n",
      "  color_vector = pd.Categorical(values.map(color_map))\n",
      "/home/amonell/.local/lib/python3.10/site-packages/scanpy/plotting/_tools/scatterplots.py:394: UserWarning: No data for colormapping provided via 'c'. Parameters 'cmap' will be ignored\n",
      "  cax = scatter(\n"
     ]
    },
    {
     "name": "stdout",
     "output_type": "stream",
     "text": [
      "Figures/neighborhoods already made.\n"
     ]
    },
    {
     "name": "stderr",
     "output_type": "stream",
     "text": [
      "/home/amonell/.local/lib/python3.10/site-packages/anndata/__init__.py:51: FutureWarning: `anndata.read` is deprecated, use `anndata.read_h5ad` instead. `ad.read` will be removed in mid 2024.\n",
      "  warnings.warn(\n"
     ]
    },
    {
     "data": {
      "application/vnd.jupyter.widget-view+json": {
       "model_id": "d9f82f4e500b4bafbb143ebc285b08c0",
       "version_major": 2,
       "version_minor": 0
      },
      "text/plain": [
       "  0%|          | 0/241781 [00:00<?, ?it/s]"
      ]
     },
     "metadata": {},
     "output_type": "display_data"
    },
    {
     "name": "stderr",
     "output_type": "stream",
     "text": [
      "/home/amonell/.local/lib/python3.10/site-packages/scanpy/plotting/_tools/scatterplots.py:1251: FutureWarning: The default value of 'ignore' for the `na_action` parameter in pandas.Categorical.map is deprecated and will be changed to 'None' in a future version. Please set na_action to the desired value to avoid seeing this warning\n",
      "  color_vector = pd.Categorical(values.map(color_map))\n",
      "/home/amonell/.local/lib/python3.10/site-packages/scanpy/plotting/_tools/scatterplots.py:394: UserWarning: No data for colormapping provided via 'c'. Parameters 'cmap' will be ignored\n",
      "  cax = scatter(\n"
     ]
    },
    {
     "name": "stdout",
     "output_type": "stream",
     "text": [
      "Figures/neighborhoods already made.\n"
     ]
    },
    {
     "name": "stderr",
     "output_type": "stream",
     "text": [
      "/home/amonell/.local/lib/python3.10/site-packages/anndata/__init__.py:51: FutureWarning: `anndata.read` is deprecated, use `anndata.read_h5ad` instead. `ad.read` will be removed in mid 2024.\n",
      "  warnings.warn(\n"
     ]
    },
    {
     "data": {
      "application/vnd.jupyter.widget-view+json": {
       "model_id": "8c42ff29763d456084a00a1a935311ed",
       "version_major": 2,
       "version_minor": 0
      },
      "text/plain": [
       "  0%|          | 0/198887 [00:00<?, ?it/s]"
      ]
     },
     "metadata": {},
     "output_type": "display_data"
    },
    {
     "name": "stderr",
     "output_type": "stream",
     "text": [
      "/home/amonell/.local/lib/python3.10/site-packages/scanpy/plotting/_tools/scatterplots.py:1251: FutureWarning: The default value of 'ignore' for the `na_action` parameter in pandas.Categorical.map is deprecated and will be changed to 'None' in a future version. Please set na_action to the desired value to avoid seeing this warning\n",
      "  color_vector = pd.Categorical(values.map(color_map))\n",
      "/home/amonell/.local/lib/python3.10/site-packages/scanpy/plotting/_tools/scatterplots.py:394: UserWarning: No data for colormapping provided via 'c'. Parameters 'cmap' will be ignored\n",
      "  cax = scatter(\n"
     ]
    },
    {
     "name": "stdout",
     "output_type": "stream",
     "text": [
      "Figures/neighborhoods already made.\n"
     ]
    }
   ],
   "source": [
    "for input_file in input_folders:\n",
    "    adata = sc.read(os.path.join(input_file, 'adatas', '08_full_celltypes_and_leiden.h5ad'))\n",
    "    \n",
    "    superclusters = adata.obs['Class'].values\n",
    "    celltype_cluster = adata.obs.index.values\n",
    "\n",
    "    base_dictionary = {}\n",
    "    for i in np.unique(celltype_cluster):\n",
    "        base_dictionary[i] = 0\n",
    "\n",
    "    nneighbors = 10\n",
    "    list_of_arrays = []\n",
    "    adata_epi = adata[adata.obs['Class'].isin(unchanging_type_keys)]\n",
    "    spatial_points_epi = np.array([adata_epi.obsm['X_spatial'][:,0], adata_epi.obsm['X_spatial'][:,1]]).T\n",
    "    spatial_points = np.array([adata.obsm['X_spatial'][:,0], adata.obsm['X_spatial'][:,1]]).T\n",
    "    adata_epi_arr = np.array(adata_epi.X)\n",
    "    \n",
    "    tree = KDTree(spatial_points_epi)\n",
    "    for i_bac in tqdm(range(len(celltype_cluster))):\n",
    "        current_cell = celltype_cluster[i_bac]\n",
    "        distances, neighbors = tree.query(spatial_points[i_bac], k=nneighbors)\n",
    "        neighbors = np.array(list(neighbors))\n",
    "        gene_array = np.array(np.sum(adata_epi_arr[neighbors, :], axis=0)).squeeze()\n",
    "        list_of_arrays.append(gene_array)\n",
    "    \n",
    "    X = pd.DataFrame(np.array(list_of_arrays)).astype(H.dtype)\n",
    "    W = model.transform(X)\n",
    "    \n",
    "    topics_frame = pd.DataFrame(W)\n",
    "    \n",
    "    topics_frame.columns = ['Topic '+str(i+1) for i in range(len(topics_frame.columns))]\n",
    "    topics_frame.index = adata.obs.index.tolist()\n",
    "    def zscore(column):\n",
    "        return (column - column.mean()) / column.std()\n",
    "    \n",
    "    # Apply the z-score function to each column in the dataframe\n",
    "    topics_frame = topics_frame.apply(zscore)\n",
    "    adata.obs=adata.obs.merge(topics_frame, left_index=True, right_index=True)\n",
    "    adata.obs['topic'] = pd.Categorical((np.argmax(topics_frame.values, axis = 1)+1).astype(str))\n",
    "\n",
    "    sc.set_figure_params(dpi=300)\n",
    "    figure = sc.pl.embedding(adata, basis='spatial', color='topic', vmax=1, cmap='Blues', title='Neighborhood', size=2, show=False, return_fig=True)\n",
    "    try:\n",
    "        os.mkdir(os.path.join(input_file,'figures', 'neighborhoods'))\n",
    "    except:\n",
    "        print('Figures/neighborhoods already made.')\n",
    "    figure.tight_layout()\n",
    "    plt.axis('equal')\n",
    "    figure.savefig(os.path.join(input_file,'figures', 'neighborhoods', 'neighborhoods.png'))\n",
    "    plt.close()\n",
    "    adata.write(os.path.join(input_file, 'adatas', '09_before_decomposition_model.h5ad'))"
   ]
  },
  {
   "cell_type": "markdown",
   "metadata": {},
   "source": [
    "### Adding topic enrichment vectors to  the reference day 7 DMSO data"
   ]
  },
  {
   "cell_type": "code",
   "execution_count": 37,
   "metadata": {},
   "outputs": [],
   "source": [
    "xenium_path = '/mnt/sata1/Analysis_Alex/timecourse_final/day7_SI_DMSO'"
   ]
  },
  {
   "cell_type": "code",
   "execution_count": 38,
   "metadata": {},
   "outputs": [
    {
     "name": "stderr",
     "output_type": "stream",
     "text": [
      "/home/amonell/.local/lib/python3.10/site-packages/anndata/__init__.py:51: FutureWarning: `anndata.read` is deprecated, use `anndata.read_h5ad` instead. `ad.read` will be removed in mid 2024.\n",
      "  warnings.warn(\n"
     ]
    }
   ],
   "source": [
    "reference_prep = sc.read(os.path.join(xenium_path, 'adatas', '07_axes_defined_reference.h5ad'))"
   ]
  },
  {
   "cell_type": "code",
   "execution_count": 40,
   "metadata": {},
   "outputs": [],
   "source": [
    "reference_prep.obs = reference_prep.obs.drop(reference_prep.obs.columns[reference_prep.obs.columns.str.contains('Topic')], axis=1)"
   ]
  },
  {
   "cell_type": "code",
   "execution_count": 42,
   "metadata": {},
   "outputs": [
    {
     "data": {
      "application/vnd.jupyter.widget-view+json": {
       "model_id": "302ca8b3b4e44448ab54b8f971a6307e",
       "version_major": 2,
       "version_minor": 0
      },
      "text/plain": [
       "  0%|          | 0/225671 [00:00<?, ?it/s]"
      ]
     },
     "metadata": {},
     "output_type": "display_data"
    }
   ],
   "source": [
    "superclusters = reference_prep.obs['Class'].values\n",
    "celltype_cluster = reference_prep.obs.index.values\n",
    "\n",
    "base_dictionary = {}\n",
    "for i in np.unique(celltype_cluster):\n",
    "    base_dictionary[i] = 0\n",
    "\n",
    "nneighbors = 10\n",
    "list_of_arrays = []\n",
    "reference_prep_epi = reference_prep[reference_prep.obs['Class'].isin(unchanging_type_keys)]\n",
    "spatial_points_epi = np.array([reference_prep_epi.obsm['X_spatial'][:,0], reference_prep_epi.obsm['X_spatial'][:,1]]).T\n",
    "spatial_points = np.array([reference_prep.obsm['X_spatial'][:,0], reference_prep.obsm['X_spatial'][:,1]]).T\n",
    "reference_prep_epi_arr = np.array(reference_prep_epi.X)\n",
    "\n",
    "tree = KDTree(spatial_points_epi)\n",
    "for i_bac in tqdm(range(len(celltype_cluster))):\n",
    "    current_cell = celltype_cluster[i_bac]\n",
    "    distances, neighbors = tree.query(spatial_points[i_bac], k=nneighbors)\n",
    "    neighbors = np.array(list(neighbors))\n",
    "    gene_array = np.array(np.sum(reference_prep_epi_arr[neighbors, :], axis=0)).squeeze()\n",
    "    list_of_arrays.append(gene_array)\n",
    "\n",
    "X = pd.DataFrame(np.array(list_of_arrays)).astype(H.dtype)\n",
    "W = model.transform(X)\n",
    "\n",
    "topics_frame = pd.DataFrame(W)\n",
    "\n",
    "topics_frame.columns = ['Topic '+str(i+1) for i in range(len(topics_frame.columns))]\n",
    "topics_frame.index = reference_prep.obs.index.tolist()\n",
    "def zscore(column):\n",
    "    return (column - column.mean()) / column.std()\n",
    "\n",
    "# Apply the z-score function to each column in the dataframe\n",
    "topics_frame = topics_frame.apply(zscore)\n",
    "reference_prep.obs=reference_prep.obs.merge(topics_frame, left_index=True, right_index=True)\n",
    "reference_prep.obs['topic'] = pd.Categorical((np.argmax(topics_frame.values, axis = 1)+1).astype(str))"
   ]
  },
  {
   "cell_type": "code",
   "execution_count": 43,
   "metadata": {},
   "outputs": [],
   "source": [
    "reference_prep.write(os.path.join('/mnt/sata1/Analysis_Alex/timecourse_replicates/unrolling_meta', 'reference_prep_decomposition_model.h5ad'))"
   ]
  }
 ],
 "metadata": {
  "kernelspec": {
   "display_name": "Python 3 (ipykernel)",
   "language": "python",
   "name": "python3"
  },
  "language_info": {
   "codemirror_mode": {
    "name": "ipython",
    "version": 3
   },
   "file_extension": ".py",
   "mimetype": "text/x-python",
   "name": "python",
   "nbconvert_exporter": "python",
   "pygments_lexer": "ipython3",
   "version": "3.10.13"
  }
 },
 "nbformat": 4,
 "nbformat_minor": 5
}
