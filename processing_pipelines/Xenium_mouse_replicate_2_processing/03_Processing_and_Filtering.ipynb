{
 "cells": [
  {
   "cell_type": "markdown",
   "id": "0",
   "metadata": {},
   "source": [
    "##### This code uses timecourse_env_01 as the anaconda environment"
   ]
  },
  {
   "cell_type": "code",
   "execution_count": null,
   "id": "1",
   "metadata": {},
   "outputs": [],
   "source": [
    "import matplotlib.pyplot as plt\n",
    "import pandas as pd\n",
    "import seaborn as sns\n",
    "from anndata import AnnData\n",
    "import glob\n",
    "import os\n",
    "import scanpy as sc\n",
    "from tqdm.notebook import tqdm\n",
    "from core_functions.processing_and_filtering import *"
   ]
  },
  {
   "cell_type": "code",
   "execution_count": null,
   "id": "2",
   "metadata": {},
   "outputs": [],
   "source": [
    "data_dir = \"D:/amonell/timecourse_replicates\""
   ]
  },
  {
   "cell_type": "code",
   "execution_count": null,
   "id": "3",
   "metadata": {},
   "outputs": [],
   "source": [
    "input_folders = glob.glob(os.path.join(data_dir, \"day*\"))"
   ]
  },
  {
   "cell_type": "code",
   "execution_count": null,
   "id": "4",
   "metadata": {},
   "outputs": [],
   "source": [
    "for input_file in tqdm(input_folders):\n",
    "    experiment = sc.read(os.path.join(input_file, \"adatas\", \"01_preprocessed.h5ad\"))\n",
    "    experiment = experiment[1:, :]\n",
    "    try:\n",
    "        df = pd.DataFrame(\n",
    "            experiment.X.A,\n",
    "            columns=experiment.var.index.values,\n",
    "            index=experiment.obs.index.values,\n",
    "        )\n",
    "    except:\n",
    "        df = pd.DataFrame(\n",
    "            experiment.X,\n",
    "            columns=experiment.var.index.values,\n",
    "            index=experiment.obs.index.values,\n",
    "        )\n",
    "\n",
    "    metadata = experiment.obs\n",
    "    print(\"QC metrics for batch \" + os.path.basename(input_file))\n",
    "\n",
    "    plot_qc_feature(df, metadata, os.path.join(input_file), False)\n",
    "\n",
    "    default_parameters = input(\"Do you want to use default filtering cutoffs (y/n)?\")\n",
    "\n",
    "    if default_parameters == \"n\":\n",
    "\n",
    "        min_transcript_threshold = float(input(\"Min transcripts threshold: \"))\n",
    "        max_transcript_threshold = float(input(\"Max transcripts threshold: \"))\n",
    "\n",
    "        min_nuclear_transcripts = float(input(\"Min nuclear transcripts: \"))\n",
    "        max_nuclear_transcripts = float(input(\"Max nuclear transcripts: \"))\n",
    "\n",
    "        min_cyto_transcripts = float(input(\"Min cyto transcripts: \"))\n",
    "        max_cyto_transcripts = float(input(\"Max cyto transcripts: \"))\n",
    "\n",
    "        min_nuc_pct = float(input(\"Min nuclear transcripts / total transcripts: \"))\n",
    "        max_nuc_pct = float(input(\"Max nuclear transcripts / total transcripts: \"))\n",
    "\n",
    "        experiment = qc_before_clustering(\n",
    "            experiment,\n",
    "            min_transcript_threshold,\n",
    "            max_transcript_threshold,\n",
    "            min_nuclear_transcripts,\n",
    "            max_nuclear_transcripts,\n",
    "            min_cyto_transcripts,\n",
    "            max_cyto_transcripts,\n",
    "            min_nuc_pct,\n",
    "            max_nuc_pct,\n",
    "        )\n",
    "    else:\n",
    "        experiment = qc_before_clustering(experiment)\n",
    "    del experiment.uns[\"points\"]\n",
    "    experiment.write(\n",
    "        os.path.join(input_file, \"adatas\", \"02_preprocessed_and_filtered.h5ad\")\n",
    "    )"
   ]
  },
  {
   "cell_type": "code",
   "execution_count": null,
   "id": "5",
   "metadata": {},
   "outputs": [],
   "source": []
  }
 ],
 "metadata": {
  "kernelspec": {
   "display_name": "Python 3 (ipykernel)",
   "language": "python",
   "name": "python3"
  },
  "language_info": {
   "codemirror_mode": {
    "name": "ipython",
    "version": 3
   },
   "file_extension": ".py",
   "mimetype": "text/x-python",
   "name": "python",
   "nbconvert_exporter": "python",
   "pygments_lexer": "ipython3",
   "version": "3.9.17"
  }
 },
 "nbformat": 4,
 "nbformat_minor": 5
}
