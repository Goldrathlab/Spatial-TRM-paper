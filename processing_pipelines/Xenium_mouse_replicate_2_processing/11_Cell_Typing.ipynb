{
 "cells": [
  {
   "cell_type": "markdown",
   "metadata": {},
   "source": [
    "## Notebook for annotations using the geneformer result"
   ]
  },
  {
   "cell_type": "code",
   "execution_count": 1,
   "id": "038c3b02-dd1b-49e1-bcae-f0486aba5c32",
   "metadata": {},
   "outputs": [
    {
     "name": "stderr",
     "output_type": "stream",
     "text": [
      "/home/amonell/mambaforge/envs/scvi-env_gpu/lib/python3.9/site-packages/scvi/_settings.py:63: UserWarning: Since v1.0.0, scvi-tools no longer uses a random seed by default. Run `scvi.settings.seed = 0` to reproduce results from previous versions.\n",
      "  self.seed = seed\n",
      "/home/amonell/mambaforge/envs/scvi-env_gpu/lib/python3.9/site-packages/scvi/_settings.py:70: UserWarning: Setting `dl_pin_memory_gpu_training` is deprecated in v1.0 and will be removed in v1.1. Please pass in `pin_memory` to the data loaders instead.\n",
      "  self.dl_pin_memory_gpu_training = (\n"
     ]
    }
   ],
   "source": [
    "import scanpy as sc\n",
    "import numpy as np\n",
    "from tqdm.notebook import tqdm\n",
    "import os\n",
    "import pandas as pd\n",
    "import seaborn as sns\n",
    "import matplotlib.pyplot as plt\n",
    "import scvi\n",
    "import glob"
   ]
  },
  {
   "cell_type": "markdown",
   "metadata": {},
   "source": [
    "### Using the path to the replicate 1 processing, get the Class > Type > Subtype Heirarchy"
   ]
  },
  {
   "cell_type": "code",
   "execution_count": 19,
   "metadata": {},
   "outputs": [
    {
     "name": "stderr",
     "output_type": "stream",
     "text": [
      "/home/amonell/mambaforge/envs/scvi-env_gpu/lib/python3.9/site-packages/anndata/__init__.py:51: FutureWarning: `anndata.read` is deprecated, use `anndata.read_h5ad` instead. `ad.read` will be removed in mid 2024.\n",
      "  warnings.warn(\n",
      "/home/amonell/mambaforge/envs/scvi-env_gpu/lib/python3.9/site-packages/anndata/_core/anndata.py:1897: UserWarning: Observation names are not unique. To make them unique, call `.obs_names_make_unique`.\n",
      "  utils.warn_names_duplicates(\"obs\")\n"
     ]
    }
   ],
   "source": [
    "types = sc.read('/mnt/sata1/Analysis_Alex/timecourse_final/analysis/cleaned/final_celltyped_and_axes.h5ad')\n",
    "types_ = pd.crosstab(types.obs['Type'], types.obs['Subtype'])\n",
    "class_ = pd.crosstab(types.obs['Class'], types.obs['Type'])\n",
    "immuno_ = pd.crosstab(types.obs['Immunocentric_Type'], types.obs['Subtype'])"
   ]
  },
  {
   "cell_type": "markdown",
   "metadata": {},
   "source": [
    "### Create Class > Type > Subtype Heirarchy in replicates based off the GeneFormer result"
   ]
  },
  {
   "cell_type": "code",
   "execution_count": 32,
   "metadata": {},
   "outputs": [
    {
     "name": "stderr",
     "output_type": "stream",
     "text": [
      "/home/amonell/mambaforge/envs/scvi-env_gpu/lib/python3.9/site-packages/anndata/__init__.py:51: FutureWarning: `anndata.read` is deprecated, use `anndata.read_h5ad` instead. `ad.read` will be removed in mid 2024.\n",
      "  warnings.warn(\n",
      "/home/amonell/mambaforge/envs/scvi-env_gpu/lib/python3.9/site-packages/anndata/__init__.py:51: FutureWarning: `anndata.read` is deprecated, use `anndata.read_h5ad` instead. `ad.read` will be removed in mid 2024.\n",
      "  warnings.warn(\n",
      "/home/amonell/mambaforge/envs/scvi-env_gpu/lib/python3.9/site-packages/anndata/__init__.py:51: FutureWarning: `anndata.read` is deprecated, use `anndata.read_h5ad` instead. `ad.read` will be removed in mid 2024.\n",
      "  warnings.warn(\n",
      "/home/amonell/mambaforge/envs/scvi-env_gpu/lib/python3.9/site-packages/anndata/__init__.py:51: FutureWarning: `anndata.read` is deprecated, use `anndata.read_h5ad` instead. `ad.read` will be removed in mid 2024.\n",
      "  warnings.warn(\n"
     ]
    }
   ],
   "source": [
    "for path in glob.glob('/mnt/sata1/Analysis_Alex/timecourse_replicates/day*'):\n",
    "    ad_sp = sc.read(os.path.join(path, 'adatas', '07_geneformer_celltypes.h5ad'))\n",
    "    #ad_sp.obsm['X_mde'] = scvi.model.utils.mde(ad_sp.obsm['X_scVI_replicates'])\n",
    "\n",
    "    ad_sp.obs['Subtype'] = ad_sp.obs['celltype_predicted'].values\n",
    "\n",
    "    type_dictionary = {}\n",
    "    for i in ad_sp.obs['celltype_predicted'].cat.categories:\n",
    "        type_dictionary[i] = types_.index.values[np.where(types_[i].values > 0)[0]][0]\n",
    "    all_types = []\n",
    "    for k in ad_sp.obs['celltype_predicted'].values:\n",
    "        all_types.append(type_dictionary.get(k))\n",
    "    ad_sp.obs['Type'] = all_types\n",
    "\n",
    "    itype_dictionary = {}\n",
    "    for i in ad_sp.obs['celltype_predicted'].cat.categories:\n",
    "        try:\n",
    "            itype_dictionary[i] = immuno_.index.values[np.where(immuno_[i].values > 0)[0]][0]\n",
    "        except:\n",
    "            itype_dictionary[i] = 'None'\n",
    "    all_itypes = []\n",
    "    for k in ad_sp.obs['celltype_predicted'].values:\n",
    "        all_itypes.append(itype_dictionary.get(k))\n",
    "    ad_sp.obs['Immunocentric_Type'] = all_itypes\n",
    "\n",
    "    class_dictionary = {}\n",
    "    for i in np.unique(ad_sp.obs['Type'].values):\n",
    "        class_dictionary[i] = class_.index.values[np.where(class_[i].values > 0)[0]][0]\n",
    "    all_classes = []\n",
    "    for k in ad_sp.obs['Type'].values:\n",
    "        all_classes.append(class_dictionary.get(k))\n",
    "    ad_sp.obs['Class'] = all_classes\n",
    "\n",
    "    sc.pp.neighbors(ad_sp, use_rep='X_scVI_replicates')\n",
    "    sc.tl.leiden(ad_sp, resolution=2)\n",
    "    ad_sp.write(os.path.join(path, 'adatas', '08_full_celltypes_and_leiden.h5ad'))\n",
    "    #sc.pl.embedding(ad_sp, basis='mde', color=['celltype_predicted', 'Type', 'Class', 'Immunocentric_Type'])"
   ]
  },
  {
   "cell_type": "code",
   "execution_count": null,
   "metadata": {},
   "outputs": [],
   "source": []
  }
 ],
 "metadata": {
  "kernelspec": {
   "display_name": "Python 3 (ipykernel)",
   "language": "python",
   "name": "python3"
  },
  "language_info": {
   "codemirror_mode": {
    "name": "ipython",
    "version": 3
   },
   "file_extension": ".py",
   "mimetype": "text/x-python",
   "name": "python",
   "nbconvert_exporter": "python",
   "pygments_lexer": "ipython3",
   "version": "3.9.18"
  }
 },
 "nbformat": 4,
 "nbformat_minor": 5
}
