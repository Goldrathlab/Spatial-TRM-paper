{
 "cells": [
  {
   "cell_type": "code",
   "execution_count": null,
   "metadata": {},
   "outputs": [],
   "source": [
    "import scanpy as sc\n",
    "import numpy as np\n",
    "import pandas as pd\n",
    "import pandas as pd"
   ]
  },
  {
   "cell_type": "code",
   "execution_count": null,
   "metadata": {},
   "outputs": [],
   "source": [
    "adata_X = np.load(\"tmp/X.npy\")\n",
    "adata = sc.AnnData(\n",
    "    X=adata_X,\n",
    "    obs=pd.DataFrame(index=[str(i) for i in range(len(adata_X))]),\n",
    "    var=pd.DataFrame(index=np.load(\"tmp/var.npy\", allow_pickle=True)),\n",
    ")\n",
    "adata.obs[\"batch\"] = np.load(\"tmp/batch.npy\", allow_pickle=True)\n",
    "adata.obs[\"x\"] = np.load(\"tmp/x_coord.npy\", allow_pickle=True)\n",
    "adata.obs[\"y\"] = np.load(\"tmp/y_coord.npy\", allow_pickle=True)\n",
    "adata.obs[\"Immunocentric_Type_With_P14\"] = np.load(\"tmp/type.npy\", allow_pickle=True)"
   ]
  },
  {
   "cell_type": "code",
   "execution_count": null,
   "metadata": {},
   "outputs": [],
   "source": [
    "adata_sub = adata[\n",
    "    adata.obs.batch.isin([\"human_05_r1\", \"human_05_r2\", \"human_09_r1\", \"human_09_r2\"])\n",
    "]"
   ]
  },
  {
   "cell_type": "code",
   "execution_count": null,
   "metadata": {},
   "outputs": [],
   "source": [
    "zeros = np.zeros(len(adata_sub.obs))\n",
    "zeros[np.where(adata_sub.obs.batch.isin([\"human_09_r2\"]))[0]] = (\n",
    "    adata_sub.obs[\"x\"][np.where(adata_sub.obs.batch.isin([\"human_09_r2\"]))[0]] + 300000\n",
    ")\n",
    "zeros[np.where(adata_sub.obs.batch.isin([\"human_05_r2\"]))[0]] = (\n",
    "    adata_sub.obs[\"x\"][np.where(adata_sub.obs.batch.isin([\"human_05_r2\"]))[0]] + 200000\n",
    ")\n",
    "zeros[np.where(adata_sub.obs.batch.isin([\"human_05_r1\"]))[0]] = (\n",
    "    adata_sub.obs[\"x\"][np.where(adata_sub.obs.batch.isin([\"human_05_r1\"]))[0]] + 100000\n",
    ")\n",
    "zeros[np.where(adata_sub.obs.batch.isin([\"human_09_r1\"]))[0]] = adata_sub.obs[\"x\"][\n",
    "    np.where(adata_sub.obs.batch.isin([\"human_09_r1\"]))[0]\n",
    "]"
   ]
  },
  {
   "cell_type": "code",
   "execution_count": null,
   "metadata": {},
   "outputs": [],
   "source": [
    "adata_sub.obs[\"x\"] = zeros"
   ]
  },
  {
   "cell_type": "code",
   "execution_count": null,
   "metadata": {},
   "outputs": [],
   "source": [
    "adata_sub.obsm[\"X_spatial\"] = adata_sub.obs[[\"x\", \"y\"]].values"
   ]
  },
  {
   "cell_type": "code",
   "execution_count": null,
   "metadata": {},
   "outputs": [],
   "source": [
    "import numpy as np\n",
    "from scipy.spatial import cKDTree\n",
    "import matplotlib.pyplot as plt\n",
    "\n",
    "# Assuming that `adata_sub` is your Seurat object and you want to compute distances on `X_spatial`\n",
    "spatial_coords = adata_sub.obsm[\"X_spatial\"]\n",
    "\n",
    "# Create a KD-Tree from the spatial coordinates\n",
    "kdtree = cKDTree(spatial_coords)\n",
    "\n",
    "# Query the KD-Tree to find the distances to the nearest neighbors\n",
    "min_distances, _ = kdtree.query(\n",
    "    spatial_coords, k=2\n",
    ")  # k=2 to find the two nearest neighbors (the first one is the point itself)\n",
    "\n",
    "# Extract the distances to the second nearest neighbor (the first one is the point itself)\n",
    "min_distances = min_distances[:, 1]\n",
    "\n",
    "# Plot a histogram\n",
    "plt.hist(min_distances, bins=1000, edgecolor=\"k\")\n",
    "plt.xlabel(\"Distance to Nearest Neighbor\")\n",
    "plt.ylabel(\"Frequency\")\n",
    "plt.title(\"Histogram of Distance to Nearest Neighbor (using KD-Tree)\")\n",
    "plt.show()"
   ]
  },
  {
   "cell_type": "code",
   "execution_count": null,
   "metadata": {},
   "outputs": [],
   "source": [
    "np.percentile(min_distances, 30)"
   ]
  },
  {
   "cell_type": "code",
   "execution_count": null,
   "metadata": {},
   "outputs": [],
   "source": [
    "adata_sub.write_h5ad(\"tmp/cellchat_preparation_human_signature.h5\")"
   ]
  },
  {
   "cell_type": "code",
   "execution_count": null,
   "metadata": {},
   "outputs": [],
   "source": [
    "np.unique(adata_sub.obs[\"Immunocentric_Type_With_P14\"])"
   ]
  },
  {
   "cell_type": "code",
   "execution_count": null,
   "metadata": {},
   "outputs": [],
   "source": []
  }
 ],
 "metadata": {
  "kernelspec": {
   "display_name": "scdior",
   "language": "python",
   "name": "python3"
  },
  "language_info": {
   "codemirror_mode": {
    "name": "ipython",
    "version": 3
   },
   "file_extension": ".py",
   "mimetype": "text/x-python",
   "name": "python",
   "nbconvert_exporter": "python",
   "pygments_lexer": "ipython3",
   "version": "3.10.13"
  }
 },
 "nbformat": 4,
 "nbformat_minor": 2
}
