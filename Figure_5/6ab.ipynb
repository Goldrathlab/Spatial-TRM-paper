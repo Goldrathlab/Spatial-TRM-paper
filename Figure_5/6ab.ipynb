{
 "cells": [
  {
   "cell_type": "code",
   "execution_count": null,
   "metadata": {},
   "outputs": [],
   "source": [
    "import scanpy as sc\n",
    "import numpy as np\n",
    "import matplotlib.pyplot as plt\n",
    "import seaborn as sns\n",
    "import warnings\n",
    "\n",
    "warnings.filterwarnings(\"ignore\")"
   ]
  },
  {
   "cell_type": "code",
   "execution_count": null,
   "metadata": {},
   "outputs": [],
   "source": [
    "adata = sc.read(\"../data/adata/human.h5ad\")"
   ]
  },
  {
   "cell_type": "markdown",
   "metadata": {},
   "source": [
    "## 5a"
   ]
  },
  {
   "cell_type": "code",
   "execution_count": null,
   "metadata": {},
   "outputs": [],
   "source": [
    "sc.pl.embedding(adata, basis=\"mde\", color=\"Subtype\")"
   ]
  },
  {
   "cell_type": "markdown",
   "metadata": {},
   "source": [
    "## 5b"
   ]
  },
  {
   "cell_type": "code",
   "execution_count": null,
   "metadata": {},
   "outputs": [],
   "source": [
    "df = adata.obs\n",
    "type_frequencies = (\n",
    "    df.groupby([\"new_batch\", \"Immunocentric_Type\"])\n",
    "    .size()\n",
    "    .unstack()\n",
    "    .div(df.groupby(\"new_batch\").size(), axis=0)\n",
    ")\n",
    "type_sem = df.groupby(\n",
    "    [\"new_batch\", \"Immunocentric_Type\"]\n",
    ").size().unstack().std() / np.sqrt(df.groupby(\"new_batch\").size())\n",
    "\n",
    "fig, ax = plt.subplots(figsize=(12, 8))\n",
    "sns.barplot(data=type_frequencies, ci=\"sd\", capsize=0.2, ax=ax)\n",
    "\n",
    "# Add SEM error bars\n",
    "for i, type_name in enumerate(type_frequencies.columns):\n",
    "    for j, freq in enumerate(type_frequencies[type_name]):\n",
    "        ax.errorbar(i, freq, yerr=type_sem[type_name], color=\"black\", capsize=5)\n",
    "\n",
    "ax.set_title(\"Frequencies for Each Immunocentric_Type within new_batch\")\n",
    "ax.set_xlabel(\"Immunocentric_Type\")\n",
    "ax.set_ylabel(\"Frequency\")\n",
    "ax.tick_params(axis=\"x\", labelrotation=90)\n",
    "fig.tight_layout()"
   ]
  },
  {
   "cell_type": "markdown",
   "metadata": {},
   "source": [
    "## Extended data figure 8b"
   ]
  },
  {
   "cell_type": "code",
   "execution_count": null,
   "metadata": {},
   "outputs": [],
   "source": [
    "si09_r1_adata = adata[adata.obs[\"batch\"].isin([\"human_09_r1\"])]\n",
    "si09_r2_adata = adata[adata.obs[\"batch\"].isin([\"human_09_r2\"])]\n",
    "si05_r1_adata = adata[adata.obs[\"batch\"].isin([\"human_05_r1\"])]\n",
    "si05_r2_adata = adata[adata.obs[\"batch\"].isin([\"human_05_r2\"])]"
   ]
  },
  {
   "cell_type": "code",
   "execution_count": null,
   "metadata": {},
   "outputs": [],
   "source": [
    "fig, axes = plt.subplots(2, 4, figsize=(16, 8))\n",
    "\n",
    "sc.pl.embedding(\n",
    "    si09_r1_adata,\n",
    "    basis=\"mde\",\n",
    "    color=\"Subtype\",\n",
    "    show=False,\n",
    "    title=\"h09 R1\",\n",
    "    ax=axes[0, 0],\n",
    "    legend_loc=None,\n",
    ")\n",
    "sc.pl.embedding(\n",
    "    si09_r2_adata,\n",
    "    basis=\"mde\",\n",
    "    color=\"Subtype\",\n",
    "    show=False,\n",
    "    title=\"h09 R2\",\n",
    "    ax=axes[0, 1],\n",
    "    legend_loc=None,\n",
    ")\n",
    "sc.pl.embedding(\n",
    "    si09_r1_adata,\n",
    "    basis=\"spatial\",\n",
    "    color=\"Subtype\",\n",
    "    show=False,\n",
    "    title=\"h09 R1\",\n",
    "    ax=axes[0, 2],\n",
    "    legend_loc=None,\n",
    ")\n",
    "sc.pl.embedding(\n",
    "    si09_r2_adata,\n",
    "    basis=\"spatial\",\n",
    "    color=\"Subtype\",\n",
    "    show=False,\n",
    "    title=\"h09 R2\",\n",
    "    ax=axes[0, 3],\n",
    "    legend_loc=None,\n",
    ")\n",
    "\n",
    "sc.pl.embedding(\n",
    "    si05_r1_adata,\n",
    "    basis=\"mde\",\n",
    "    color=\"Subtype\",\n",
    "    show=False,\n",
    "    title=\"h05 R1\",\n",
    "    ax=axes[1, 0],\n",
    "    legend_loc=None,\n",
    ")\n",
    "sc.pl.embedding(\n",
    "    si05_r2_adata,\n",
    "    basis=\"mde\",\n",
    "    color=\"Subtype\",\n",
    "    show=False,\n",
    "    title=\"h05 R2\",\n",
    "    ax=axes[1, 1],\n",
    "    legend_loc=None,\n",
    ")\n",
    "sc.pl.embedding(\n",
    "    si05_r1_adata,\n",
    "    basis=\"spatial\",\n",
    "    color=\"Subtype\",\n",
    "    show=False,\n",
    "    title=\"h05 R1\",\n",
    "    ax=axes[1, 2],\n",
    "    legend_loc=None,\n",
    ")\n",
    "sc.pl.embedding(\n",
    "    si05_r2_adata,\n",
    "    basis=\"spatial\",\n",
    "    color=\"Subtype\",\n",
    "    show=False,\n",
    "    title=\"h05 R2\",\n",
    "    ax=axes[1, 3],\n",
    "    legend_loc=None,\n",
    ")\n",
    "\n",
    "fig.tight_layout()"
   ]
  },
  {
   "cell_type": "markdown",
   "metadata": {},
   "source": [
    "## Extended data figure 8d"
   ]
  },
  {
   "cell_type": "code",
   "execution_count": null,
   "metadata": {},
   "outputs": [],
   "source": [
    "leiden_cluster_to_subset = [\"2\", \"3\"]\n",
    "\n",
    "subset_adata = adata[adata.obs[\"leiden\"].astype(str).isin(leiden_cluster_to_subset)]\n",
    "\n",
    "TCell = [\n",
    "    \"CD8A\",\n",
    "    \"CD8B\",\n",
    "    \"CD3D\",\n",
    "    \"CD3G\",\n",
    "    \"CD4\",\n",
    "    \"IFNG\",\n",
    "    \"GZMK\",\n",
    "    \"GZMB\",\n",
    "    \"TCF7\",\n",
    "    \"MKI67\",\n",
    "    \"CD2\",\n",
    "    \"CCL4\",\n",
    "    \"GPR183\",\n",
    "    \"ITGAE\",\n",
    "    \"IL7R\",\n",
    "    \"IL2RB\",\n",
    "    \"FOXP3\",\n",
    "    \"CCL5\",\n",
    "    \"SELL\",\n",
    "    \"KLRG1\",\n",
    "    \"MAF\",\n",
    "    \"TRBC1\",\n",
    "    \"TRAC\",\n",
    "]\n",
    "\n",
    "sc.pl.dotplot(\n",
    "    subset_adata, TCell, groupby=\"Sub_leiden\", dendrogram=False, cmap=\"viridis\"\n",
    ")"
   ]
  },
  {
   "cell_type": "code",
   "execution_count": null,
   "metadata": {},
   "outputs": [],
   "source": []
  }
 ],
 "metadata": {
  "kernelspec": {
   "display_name": "Python 3",
   "language": "python",
   "name": "python3"
  },
  "language_info": {
   "codemirror_mode": {
    "name": "ipython",
    "version": 3
   },
   "file_extension": ".py",
   "mimetype": "text/x-python",
   "name": "python",
   "nbconvert_exporter": "python",
   "pygments_lexer": "ipython3",
   "version": "3.10.14"
  }
 },
 "nbformat": 4,
 "nbformat_minor": 2
}
