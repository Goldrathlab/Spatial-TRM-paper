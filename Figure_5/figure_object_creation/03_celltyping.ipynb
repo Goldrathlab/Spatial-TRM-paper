{
 "cells": [
  {
   "cell_type": "code",
   "execution_count": null,
   "metadata": {},
   "outputs": [],
   "source": [
    "import scvi\n",
    "import scanpy as sc\n",
    "import os\n",
    "import pandas as pd\n",
    "from scvi.model.utils import mde"
   ]
  },
  {
   "cell_type": "markdown",
   "metadata": {},
   "source": [
    "Assigning cell types to the perturb spatial data"
   ]
  },
  {
   "cell_type": "markdown",
   "metadata": {},
   "source": [
    "Enter the path to the data"
   ]
  },
  {
   "cell_type": "code",
   "execution_count": null,
   "metadata": {},
   "outputs": [],
   "source": [
    "output_folder = r\"/mnt/sata2/Analysis_Alex_2/perturb1\""
   ]
  },
  {
   "cell_type": "code",
   "execution_count": null,
   "metadata": {},
   "outputs": [],
   "source": [
    "replicates_xenium_data = sc.read(\n",
    "    os.path.join(output_folder, \"final_filtered_on_leiden.h5ad\")\n",
    ")"
   ]
  },
  {
   "cell_type": "markdown",
   "metadata": {},
   "source": [
    "Read in the time course adata"
   ]
  },
  {
   "cell_type": "code",
   "execution_count": null,
   "metadata": {},
   "outputs": [],
   "source": [
    "timecourse_path = \"timecourse.h5ad\"\n",
    "reference_xenium_data = sc.read(timecourse_path)"
   ]
  },
  {
   "cell_type": "code",
   "execution_count": null,
   "metadata": {},
   "outputs": [],
   "source": [
    "del replicates_xenium_data.uns\n",
    "del reference_xenium_data.uns"
   ]
  },
  {
   "cell_type": "markdown",
   "metadata": {},
   "source": [
    "combine the two adatas"
   ]
  },
  {
   "cell_type": "code",
   "execution_count": null,
   "metadata": {},
   "outputs": [],
   "source": [
    "replicate_obs = replicates_xenium_data.obs\n",
    "reference_obs = reference_xenium_data.obs"
   ]
  },
  {
   "cell_type": "code",
   "execution_count": null,
   "metadata": {},
   "outputs": [],
   "source": [
    "replicates_xenium_data.obs = pd.DataFrame(\n",
    "    replicates_xenium_data.obs[\"batch\"], index=replicates_xenium_data.obs.index.values\n",
    ")\n",
    "reference_xenium_data.obs = pd.DataFrame(\n",
    "    reference_xenium_data.obs[\"batch\"], index=reference_xenium_data.obs.index.values\n",
    ")"
   ]
  },
  {
   "cell_type": "code",
   "execution_count": null,
   "metadata": {},
   "outputs": [],
   "source": [
    "concatenated_xenium = sc.concat([replicates_xenium_data, reference_xenium_data])"
   ]
  },
  {
   "cell_type": "markdown",
   "metadata": {},
   "source": [
    "Run scvi"
   ]
  },
  {
   "cell_type": "code",
   "execution_count": null,
   "metadata": {},
   "outputs": [],
   "source": [
    "scvi.model.SCVI.setup_anndata(concatenated_xenium, batch_key=\"batch\", layer=\"raw\")"
   ]
  },
  {
   "cell_type": "code",
   "execution_count": null,
   "metadata": {},
   "outputs": [],
   "source": [
    "scvi_ref = scvi.model.SCVI(\n",
    "    concatenated_xenium, n_layers=2, n_latent=30, gene_likelihood=\"nb\"\n",
    ")\n",
    "scvi_ref.train()"
   ]
  },
  {
   "cell_type": "code",
   "execution_count": null,
   "metadata": {},
   "outputs": [],
   "source": [
    "concatenated_xenium.obsm[\"X_scVI\"] = scvi_ref.get_latent_representation()"
   ]
  },
  {
   "cell_type": "markdown",
   "metadata": {},
   "source": [
    "Make a 2d projection"
   ]
  },
  {
   "cell_type": "code",
   "execution_count": null,
   "metadata": {},
   "outputs": [],
   "source": [
    "sc.pp.neighbors(concatenated_xenium, use_rep=\"X_scVI\")"
   ]
  },
  {
   "cell_type": "code",
   "execution_count": null,
   "metadata": {},
   "outputs": [],
   "source": [
    "concatenated_xenium.obsm[\"X_mde\"] = mde(concatenated_xenium.obsm[\"X_scVI\"])"
   ]
  },
  {
   "cell_type": "markdown",
   "metadata": {},
   "source": [
    "Add necessary metadata to the concatenated object"
   ]
  },
  {
   "cell_type": "code",
   "execution_count": null,
   "metadata": {},
   "outputs": [],
   "source": [
    "observations = pd.concat(\n",
    "    [\n",
    "        replicate_obs[\n",
    "            [\n",
    "                \"Subtype\",\n",
    "                \"Type\",\n",
    "                \"Immunocentric_Type\",\n",
    "                \"Class\",\n",
    "                \"leiden\",\n",
    "                \"epithelial_distance\",\n",
    "                \"crypt_villi_axis\",\n",
    "                \"epithelial_distance_clipped\",\n",
    "                \"batch\",\n",
    "            ]\n",
    "        ],\n",
    "        reference_obs[\n",
    "            [\n",
    "                \"Subtype\",\n",
    "                \"Type\",\n",
    "                \"Immunocentric_Type\",\n",
    "                \"Class\",\n",
    "                \"leiden\",\n",
    "                \"epithelial_distance\",\n",
    "                \"crypt_villi_axis\",\n",
    "                \"epithelial_distance_clipped\",\n",
    "                \"batch\",\n",
    "            ]\n",
    "        ],\n",
    "    ]\n",
    ")"
   ]
  },
  {
   "cell_type": "code",
   "execution_count": null,
   "metadata": {},
   "outputs": [],
   "source": [
    "numerical_indices = [str(i) for i in range(concatenated_xenium.obs.shape[0])]"
   ]
  },
  {
   "cell_type": "code",
   "execution_count": null,
   "metadata": {},
   "outputs": [],
   "source": [
    "concatenated_xenium.obs.index = numerical_indices\n",
    "observations.index = numerical_indices"
   ]
  },
  {
   "cell_type": "code",
   "execution_count": null,
   "metadata": {},
   "outputs": [],
   "source": [
    "concatenated_xenium.obs = concatenated_xenium.obs.merge(\n",
    "    observations, how=\"left\", left_index=True, right_index=True\n",
    ")"
   ]
  },
  {
   "cell_type": "markdown",
   "metadata": {},
   "source": [
    "Cluster and subcluster the data"
   ]
  },
  {
   "cell_type": "code",
   "execution_count": null,
   "metadata": {},
   "outputs": [],
   "source": [
    "sc.tl.leiden(concatenated_xenium)"
   ]
  },
  {
   "cell_type": "code",
   "execution_count": null,
   "metadata": {},
   "outputs": [],
   "source": [
    "from tqdm.notebook import tqdm\n",
    "import numpy as np\n",
    "\n",
    "\n",
    "def get_celltype(celltype, ad_sp):\n",
    "    ctype = ad_sp[ad_sp.obs.leiden.isin([celltype])]\n",
    "    sc.pp.neighbors(ctype, use_rep=\"X_scVI\")\n",
    "    sc.tl.leiden(ctype, resolution=1.2)\n",
    "    sc.tl.umap(ctype)\n",
    "    return ctype\n",
    "\n",
    "\n",
    "def reunite_with_ad(ad_sp, subset_ad, celltype):\n",
    "    new_labels = []\n",
    "    subclusters = ad_sp.obs.Sub_leiden.values\n",
    "    clusters = ad_sp.obs.leiden.values\n",
    "    idex = ad_sp.obs.index.values\n",
    "    for i in tqdm(range(len(subclusters))):\n",
    "        if clusters[i] == celltype:\n",
    "            new_labels.append(subset_ad.obs.loc[idex[i], :].leiden)\n",
    "        else:\n",
    "            new_labels.append(subclusters[i])\n",
    "    ad_sp.obs.Sub_leiden = new_labels\n",
    "    return ad_sp\n",
    "\n",
    "\n",
    "concatenated_xenium.obs[\"Sub_leiden\"] = concatenated_xenium.obs[\"leiden\"]\n",
    "for leiden_to_subset in tqdm(np.unique(concatenated_xenium.obs[\"leiden\"].values)):\n",
    "    mac = get_celltype(leiden_to_subset, concatenated_xenium)\n",
    "    mac.obs[\"leiden\"] = [leiden_to_subset + \"_\" + i for i in mac.obs.leiden]\n",
    "    concatenated_xenium = reunite_with_ad(concatenated_xenium, mac, leiden_to_subset)"
   ]
  },
  {
   "cell_type": "markdown",
   "metadata": {},
   "source": [
    "Assign subtypes to the perturb data based on the most common time course subtype per cluster"
   ]
  },
  {
   "cell_type": "code",
   "execution_count": null,
   "metadata": {},
   "outputs": [],
   "source": [
    "dictionary_sub = {}\n",
    "for group in concatenated_xenium.obs.groupby(\"Sub_leiden\"):\n",
    "    most_common_subtype = group[1][\"Subtype\"].value_counts().idxmax()\n",
    "    dictionary_sub[group[0]] = most_common_subtype"
   ]
  },
  {
   "cell_type": "code",
   "execution_count": null,
   "metadata": {},
   "outputs": [],
   "source": [
    "reassigned_subtypes = []\n",
    "for sub in concatenated_xenium.obs[\"Sub_leiden\"].values:\n",
    "    diction = dictionary_sub.get(sub)\n",
    "    reassigned_subtypes.append(diction)"
   ]
  },
  {
   "cell_type": "code",
   "execution_count": null,
   "metadata": {},
   "outputs": [],
   "source": [
    "concatenated_xenium.obs[\"New_Subtype\"] = reassigned_subtypes"
   ]
  },
  {
   "cell_type": "markdown",
   "metadata": {},
   "source": [
    "create cell type heirarchy"
   ]
  },
  {
   "cell_type": "code",
   "execution_count": null,
   "metadata": {},
   "outputs": [],
   "source": [
    "types = sc.read(timecourse_path)\n",
    "types_ = pd.crosstab(types.obs[\"Type\"], types.obs[\"Subtype\"])\n",
    "class_ = pd.crosstab(types.obs[\"Class\"], types.obs[\"Type\"])\n",
    "immuno_ = pd.crosstab(types.obs[\"Immunocentric_Type\"], types.obs[\"Subtype\"])"
   ]
  },
  {
   "cell_type": "code",
   "execution_count": null,
   "metadata": {},
   "outputs": [],
   "source": [
    "type_dictionary = {}\n",
    "for i in concatenated_xenium.obs[\"New_Subtype\"].cat.categories:\n",
    "    type_dictionary[i] = types_.index.values[np.where(types_[i].values > 0)[0]][0]\n",
    "all_types = []\n",
    "for k in concatenated_xenium.obs[\"New_Subtype\"].values:\n",
    "    all_types.append(type_dictionary.get(k))\n",
    "concatenated_xenium.obs[\"Type\"] = all_types\n",
    "\n",
    "itype_dictionary = {}\n",
    "for i in concatenated_xenium.obs[\"New_Subtype\"].cat.categories:\n",
    "    try:\n",
    "        itype_dictionary[i] = immuno_.index.values[np.where(immuno_[i].values > 0)[0]][\n",
    "            0\n",
    "        ]\n",
    "    except:\n",
    "        print(i)\n",
    "        # itype_dictionary[i] = 'None'\n",
    "all_itypes = []\n",
    "for k in concatenated_xenium.obs[\"New_Subtype\"].values:\n",
    "    all_itypes.append(itype_dictionary.get(k))\n",
    "concatenated_xenium.obs[\"Immunocentric_Type\"] = all_itypes\n",
    "\n",
    "class_dictionary = {}\n",
    "for i in np.unique(concatenated_xenium.obs[\"Type\"].values):\n",
    "    class_dictionary[i] = class_.index.values[np.where(class_[i].values > 0)[0]][0]\n",
    "all_classes = []\n",
    "for k in concatenated_xenium.obs[\"Type\"].values:\n",
    "    all_classes.append(class_dictionary.get(k))\n",
    "concatenated_xenium.obs[\"Class\"] = all_classes"
   ]
  },
  {
   "cell_type": "code",
   "execution_count": null,
   "metadata": {},
   "outputs": [],
   "source": [
    "concatenated_xenium.obs[\"Subtype\"] = concatenated_xenium.obs[\"New_Subtype\"]"
   ]
  },
  {
   "cell_type": "markdown",
   "metadata": {},
   "source": [
    "Store previously calculated metadata"
   ]
  },
  {
   "cell_type": "code",
   "execution_count": null,
   "metadata": {},
   "outputs": [],
   "source": [
    "first_df = pd.concat([reference_obs, replicate_obs])[\n",
    "    [\n",
    "        \"total_transcripts\",\n",
    "        \"nuclear_transcripts\",\n",
    "        \"cytoplasmic_transcripts\",\n",
    "        \"nuclear_transcript_percentage\",\n",
    "        \"cell\",\n",
    "        \"x\",\n",
    "        \"y\",\n",
    "        \"epithelial_distance\",\n",
    "        \"crypt_villi_axis\",\n",
    "        \"epithelial_distance_clipped\",\n",
    "    ]\n",
    "]"
   ]
  },
  {
   "cell_type": "code",
   "execution_count": null,
   "metadata": {},
   "outputs": [],
   "source": [
    "first_df.index = concatenated_xenium.obs.index.values"
   ]
  },
  {
   "cell_type": "markdown",
   "metadata": {},
   "source": [
    "Add the previously calculated metadata to the newly calculated metadata"
   ]
  },
  {
   "cell_type": "code",
   "execution_count": null,
   "metadata": {},
   "outputs": [],
   "source": [
    "concatenated_xenium.obs = concatenated_xenium.obs[\n",
    "    [\n",
    "        \"batch_x\",\n",
    "        \"leiden\",\n",
    "        \"Sub_leiden\",\n",
    "        \"Subtype\",\n",
    "        \"Type\",\n",
    "        \"Class\",\n",
    "        \"Immunocentric_Type\",\n",
    "    ]\n",
    "].merge(first_df, how=\"left\", left_index=True, right_index=True)"
   ]
  },
  {
   "cell_type": "code",
   "execution_count": null,
   "metadata": {},
   "outputs": [],
   "source": [
    "concatenated_xenium = concatenated_xenium[\n",
    "    concatenated_xenium.obs[\"batch_x\"].isin([\"SI_2\", \"SI_3\"])\n",
    "]"
   ]
  },
  {
   "cell_type": "code",
   "execution_count": null,
   "metadata": {},
   "outputs": [],
   "source": [
    "original_perturb = sc.read(os.path.join(output_folder, \"final_filtered_on_leiden.h5ad\"))"
   ]
  },
  {
   "cell_type": "code",
   "execution_count": null,
   "metadata": {},
   "outputs": [],
   "source": [
    "original_perturb.obs[\"Subtype\"] = concatenated_xenium.obs[\"Subtype\"].values\n",
    "original_perturb.obs[\"Type\"] = concatenated_xenium.obs[\"Type\"].values\n",
    "original_perturb.obs[\"Class\"] = concatenated_xenium.obs[\"Class\"].values\n",
    "original_perturb.obs[\"Immunocentric_Type\"] = concatenated_xenium.obs[\n",
    "    \"Immunocentric_Type\"\n",
    "].values"
   ]
  },
  {
   "cell_type": "markdown",
   "metadata": {},
   "source": [
    "Write out the final processed perturb data"
   ]
  },
  {
   "cell_type": "code",
   "execution_count": null,
   "metadata": {},
   "outputs": [],
   "source": [
    "original_perturb.write(r\"/mnt/sata2/Analysis_Alex_2/perturb1/figures_adata.h5ad\")"
   ]
  }
 ],
 "metadata": {
  "kernelspec": {
   "display_name": "scvi-env",
   "language": "python",
   "name": "python3"
  },
  "language_info": {
   "codemirror_mode": {
    "name": "ipython",
    "version": 3
   },
   "file_extension": ".py",
   "mimetype": "text/x-python",
   "name": "python",
   "nbconvert_exporter": "python",
   "pygments_lexer": "ipython3",
   "version": "3.9.18"
  }
 },
 "nbformat": 4,
 "nbformat_minor": 2
}
