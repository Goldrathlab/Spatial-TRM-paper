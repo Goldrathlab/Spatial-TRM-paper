{
 "cells": [
  {
   "cell_type": "code",
   "execution_count": null,
   "metadata": {},
   "outputs": [],
   "source": [
    "import scanpy as sc\n",
    "import scvi\n",
    "from tqdm.notebook import tqdm\n",
    "import os\n",
    "import numpy as np\n",
    "import pandas as pd\n",
    "from scvi.model.utils import mde\n",
    "import matplotlib.pyplot as plt\n",
    "import pickle\n",
    "import glob\n",
    "import torch"
   ]
  },
  {
   "cell_type": "markdown",
   "metadata": {},
   "source": [
    "Add the path to the perturb data with guides"
   ]
  },
  {
   "cell_type": "code",
   "execution_count": null,
   "metadata": {},
   "outputs": [],
   "source": [
    "adata_path = '/mnt/sata2/Analysis_Alex_2/perturb1/adata_with_guides.h5ad'"
   ]
  },
  {
   "cell_type": "code",
   "execution_count": null,
   "metadata": {},
   "outputs": [],
   "source": [
    "adata = sc.read(adata_path)"
   ]
  },
  {
   "cell_type": "markdown",
   "metadata": {},
   "source": [
    "Run scvi between the batches"
   ]
  },
  {
   "cell_type": "code",
   "execution_count": 6,
   "metadata": {},
   "outputs": [],
   "source": [
    "torch.set_float32_matmul_precision('medium')"
   ]
  },
  {
   "cell_type": "code",
   "execution_count": null,
   "metadata": {},
   "outputs": [],
   "source": [
    "scvi.model.SCVI.setup_anndata(adata, batch_key=\"batch\", layer=\"raw\")"
   ]
  },
  {
   "cell_type": "code",
   "execution_count": null,
   "metadata": {},
   "outputs": [],
   "source": [
    "scvi_ref = scvi.model.SCVI(adata, n_layers=2, n_latent=30, gene_likelihood=\"nb\")\n",
    "scvi_ref.train()"
   ]
  },
  {
   "cell_type": "code",
   "execution_count": 10,
   "metadata": {},
   "outputs": [],
   "source": [
    "SCVI_LATENT_KEY = \"X_scVI\"\n",
    "\n",
    "adata.obsm[SCVI_LATENT_KEY] = scvi_ref.get_latent_representation()\n",
    "sc.pp.neighbors(adata, use_rep=SCVI_LATENT_KEY)"
   ]
  },
  {
   "cell_type": "code",
   "execution_count": 11,
   "metadata": {},
   "outputs": [],
   "source": [
    "adata.obsm[\"X_mde\"] = mde(adata.obsm[\"X_scVI\"])"
   ]
  },
  {
   "cell_type": "markdown",
   "metadata": {},
   "source": [
    "Cluster on the scvi latent space"
   ]
  },
  {
   "cell_type": "code",
   "execution_count": 26,
   "metadata": {},
   "outputs": [],
   "source": [
    "sc.tl.leiden(adata)"
   ]
  },
  {
   "cell_type": "markdown",
   "metadata": {},
   "source": [
    "Identify the P14 clusters"
   ]
  },
  {
   "cell_type": "code",
   "execution_count": null,
   "metadata": {},
   "outputs": [],
   "source": [
    "# Group by 'leiden' and 'guide_rnas' to get the counts\n",
    "leiden_groupby = adata.obs.groupby(['leiden'])\n",
    "g_counts = leiden_groupby['guide_rnas'].value_counts()\n",
    "\n",
    "# Convert the resulting series to a DataFrame for easier manipulation\n",
    "g_counts_df = g_counts.unstack(fill_value=0)\n",
    "\n",
    "# Extract the count of \"Other cells\" and sum of all other guide_rnas\n",
    "other_cells_count = g_counts_df.get('Other cells', 0)  # Get count of \"Other cells\", fill 0 if not present\n",
    "all_other_grnas_count = g_counts_df.drop(columns=['Other cells'], errors='ignore').sum(axis=1)\n",
    "\n",
    "# Calculate the ratio of \"Other cells\" to all other guide_rnas in each leiden group\n",
    "ratio_other_to_grnas = all_other_grnas_count/other_cells_count"
   ]
  },
  {
   "cell_type": "code",
   "execution_count": null,
   "metadata": {},
   "outputs": [],
   "source": [
    "\n",
    "plt.figure(figsize=(10, 6))\n",
    "ratio_other_to_grnas.plot(kind='bar', color='skyblue')\n",
    "\n",
    "plt.xlabel('Leiden Groups')\n",
    "plt.ylabel('Ratio of \"Other cells\" to Other guide_rnas')\n",
    "plt.title('Ratio of \"Other cells\" to Other guide_rnas in Each Leiden Group')\n",
    "\n",
    "plt.xticks(rotation=45)\n",
    "plt.tight_layout()\n",
    "plt.show()"
   ]
  },
  {
   "cell_type": "markdown",
   "metadata": {},
   "source": [
    "Read in the original adata"
   ]
  },
  {
   "cell_type": "code",
   "execution_count": null,
   "metadata": {},
   "outputs": [],
   "source": [
    "adata2 = sc.read(adata_path)"
   ]
  },
  {
   "cell_type": "markdown",
   "metadata": {},
   "source": [
    "3 and 4 are the clusters with transferred cells"
   ]
  },
  {
   "cell_type": "code",
   "execution_count": 45,
   "metadata": {},
   "outputs": [],
   "source": [
    "adata.obs['guide_rnas'][~adata.obs['leiden'].isin(['3', '4'])] = 'Other cells'"
   ]
  },
  {
   "cell_type": "markdown",
   "metadata": {},
   "source": [
    "Plot the sgRNAs on the MDE and save out the adata"
   ]
  },
  {
   "cell_type": "code",
   "execution_count": null,
   "metadata": {},
   "outputs": [],
   "source": [
    "\n",
    "bright_colors = {\n",
    "    'sgCd19': 'red',  \n",
    "    'sgCxcr3': 'blue', \n",
    "    'sgThy1': 'yellow'\n",
    "}\n",
    "\n",
    "for group in np.unique(adata.obs['guide_rnas']):\n",
    "    if group == 'Other cells':\n",
    "        plt.scatter(\n",
    "            adata[adata.obs['guide_rnas'] == group].obsm[\"X_mde\"][:, 0], \n",
    "            adata[adata.obs['guide_rnas'] == group].obsm[\"X_mde\"][:, 1], \n",
    "            s=1, \n",
    "            c='gray', \n",
    "            linewidths=0, \n",
    "            alpha=0.2, \n",
    "            label=group\n",
    "        )\n",
    "    else:\n",
    "        plt.scatter(\n",
    "            adata[adata.obs['guide_rnas'] == group].obsm[\"X_mde\"][:, 0], \n",
    "            adata[adata.obs['guide_rnas'] == group].obsm[\"X_mde\"][:, 1], \n",
    "            s=1, \n",
    "            c=bright_colors[group],  # Use the bright color for the specific group\n",
    "            linewidths=0, \n",
    "            label=group\n",
    "        )\n",
    "\n",
    "plt.legend(\n",
    "    scatterpoints=1, \n",
    "    markerscale=5, \n",
    "    loc='center left', \n",
    "    bbox_to_anchor=(1, 0.5)\n",
    ")\n",
    "plt.grid(False)\n",
    "plt.show()\n"
   ]
  },
  {
   "cell_type": "code",
   "execution_count": 48,
   "metadata": {},
   "outputs": [],
   "source": [
    "adata.write('/mnt/sata2/Analysis_Alex_2/perturb1/final_filtered_on_leiden.h5ad')"
   ]
  },
  {
   "cell_type": "markdown",
   "metadata": {},
   "source": [
    "Make a nicer looking plot"
   ]
  },
  {
   "cell_type": "code",
   "execution_count": null,
   "metadata": {},
   "outputs": [],
   "source": [
    "adata = sc.read('/mnt/sata2/Analysis_Alex_2/perturb1/final_filtered_on_leiden.h5ad')"
   ]
  },
  {
   "cell_type": "code",
   "execution_count": null,
   "metadata": {},
   "outputs": [],
   "source": [
    "import numpy as np\n",
    "import matplotlib.pyplot as plt\n",
    "\n",
    "plt.figure(dpi=400)\n",
    "bright_colors = {\n",
    "    'sgCd19': 'lightblue',  \n",
    "    'sgCxcr3': 'orange', \n",
    "    'sgThy1': 'lightgreen'\n",
    "}\n",
    "\n",
    "# Mask for \"Other cells\"\n",
    "other_cells_mask = adata.obs['guide_rnas'] == 'Other cells'\n",
    "other_cells_data = adata[other_cells_mask].obsm[\"X_mde\"]\n",
    "\n",
    "# Get data for non-\"Other cells\"\n",
    "non_other_cells_mask = ~other_cells_mask\n",
    "non_other_cells_data = adata[non_other_cells_mask].obsm[\"X_mde\"]\n",
    "non_other_cells_groups = adata.obs.loc[non_other_cells_mask, 'guide_rnas']\n",
    "\n",
    "# Create an array for shuffling\n",
    "shuffled_indices = np.random.permutation(non_other_cells_data.shape[0])\n",
    "shuffled_data = non_other_cells_data[shuffled_indices]\n",
    "shuffled_groups = non_other_cells_groups.iloc[shuffled_indices]\n",
    "\n",
    "# Plot \"Other cells\" first\n",
    "plt.scatter(\n",
    "    other_cells_data[:, 0], \n",
    "    other_cells_data[:, 1], \n",
    "    s=1, \n",
    "    c='gray', \n",
    "    linewidths=0, \n",
    "    alpha=0.2, \n",
    "    label='Other cells'\n",
    ")\n",
    "\n",
    "# Plot shuffled non-\"Other cells\" individually with corresponding colors\n",
    "for i in range(len(shuffled_data)):\n",
    "    group = shuffled_groups.iloc[i]\n",
    "    plt.scatter(\n",
    "        shuffled_data[i, 0], \n",
    "        shuffled_data[i, 1], \n",
    "        s=5, \n",
    "        c=bright_colors[group],  # Use the bright color for the specific group\n",
    "        linewidths=0\n",
    "    )\n",
    "\n",
    "# Add legend\n",
    "handles = [plt.Line2D([0], [0], marker='o', color='w', label=group, markerfacecolor=color, markersize=10) \n",
    "           for group, color in bright_colors.items()]\n",
    "handles.append(plt.Line2D([0], [0], marker='o', color='w', label='Other cells', markerfacecolor='gray', markersize=5))\n",
    "plt.legend(handles=handles, loc='center left', bbox_to_anchor=(1, 0.5))\n",
    "\n",
    "plt.grid(False)\n",
    "savedir = 'figures/umap'\n",
    "try:\n",
    "    os.makedirs(savedir)\n",
    "except FileExistsError:\n",
    "    pass\n",
    "plt.savefig(os.path.join(savedir, 'umap_guides.pdf'), bbox_inches='tight')\n",
    "plt.show()\n",
    "\n"
   ]
  }
 ],
 "metadata": {
  "kernelspec": {
   "display_name": "scvi-env_gpu",
   "language": "python",
   "name": "python3"
  },
  "language_info": {
   "codemirror_mode": {
    "name": "ipython",
    "version": 3
   },
   "file_extension": ".py",
   "mimetype": "text/x-python",
   "name": "python",
   "nbconvert_exporter": "python",
   "pygments_lexer": "ipython3",
   "version": "3.9.18"
  }
 },
 "nbformat": 4,
 "nbformat_minor": 2
}
