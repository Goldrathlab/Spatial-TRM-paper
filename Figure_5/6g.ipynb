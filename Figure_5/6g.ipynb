{
 "cells": [
  {
   "cell_type": "code",
   "execution_count": null,
   "metadata": {},
   "outputs": [],
   "source": [
    "import scanpy as sc\n",
    "import pandas as pd\n",
    "import matplotlib.pyplot as plt\n",
    "import numpy as np\n",
    "import warnings\n",
    "import seaborn as sns\n",
    "import anndata as ad\n",
    "\n",
    "warnings.filterwarnings(\"ignore\")"
   ]
  },
  {
   "cell_type": "code",
   "execution_count": null,
   "metadata": {},
   "outputs": [],
   "source": [
    "adata = sc.read(\"../data/adata/human.h5ad\")"
   ]
  },
  {
   "cell_type": "code",
   "execution_count": null,
   "metadata": {},
   "outputs": [],
   "source": [
    "sc.pp.normalize_total(adata, target_sum=1e4)\n",
    "sc.pp.log1p(adata)"
   ]
  },
  {
   "cell_type": "code",
   "execution_count": null,
   "metadata": {},
   "outputs": [],
   "source": [
    "def get_expression(adata: ad.AnnData, key: str) -> np.ndarray:\n",
    "    \"\"\"\n",
    "    Retrieves expression values for a given gene or observation annotation from an AnnData object.\n",
    "\n",
    "    Args:\n",
    "        adata: An AnnData object containing expression data.\n",
    "        key: The name of the gene or observation annotation to retrieve.\n",
    "\n",
    "    Returns:\n",
    "        A NumPy array containing the expression values.\n",
    "\n",
    "    Raises:\n",
    "        ValueError: If the key is not found in either the var_names or obs columns of the AnnData object.\n",
    "    \"\"\"\n",
    "\n",
    "    if key in adata.var_names:\n",
    "        return np.array(adata[:, key].X.flatten())\n",
    "    elif key in adata.obs.columns:\n",
    "        return np.array(adata.obs[key])\n",
    "    else:\n",
    "        raise ValueError(f\"{key} not found in object\")"
   ]
  },
  {
   "cell_type": "code",
   "execution_count": null,
   "metadata": {},
   "outputs": [],
   "source": [
    "from scipy.spatial import distance\n",
    "\n",
    "\n",
    "def get_closest_cell(adata: ad.AnnData, subtype_1: str, subtype_2: str) -> np.ndarray:\n",
    "    \"\"\"\n",
    "    Finds the closest cell of a specific subtype to each cell of another subtype.\n",
    "\n",
    "    Args:\n",
    "        adata: An AnnData object containing spatial coordinates and subtype annotations.\n",
    "        subtype_1: The first subtype to consider.\n",
    "        subtype_2: The second subtype to consider.\n",
    "\n",
    "    Returns:\n",
    "        A NumPy array containing the minimum distance to the closest cell in the second subtype for each cell in the first subtype.\n",
    "\n",
    "    Raises:\n",
    "        ValueError: If either subtype is not found in the adata object.\n",
    "    \"\"\"\n",
    "\n",
    "    if subtype_1 not in adata.obs[\"Immunocentric_Type\"].unique():\n",
    "        raise ValueError(f\"Immunocentric_Type {subtype_1} not found in adata\")\n",
    "    if subtype_2 not in adata.obs[\"Immunocentric_Type\"].unique():\n",
    "        raise ValueError(f\"Immunocentric_Type {subtype_2} not found in adata\")\n",
    "\n",
    "    locations_1 = adata[adata.obs[\"Immunocentric_Type\"] == subtype_1].obsm[\"X_spatial\"]\n",
    "    locations_2 = adata[adata.obs[\"Immunocentric_Type\"] == subtype_2].obsm[\"X_spatial\"]\n",
    "\n",
    "    distances_subtype = distance.cdist(locations_1, locations_2).min(axis=1)\n",
    "    return distances_subtype"
   ]
  },
  {
   "cell_type": "code",
   "execution_count": null,
   "metadata": {},
   "outputs": [],
   "source": [
    "from scipy import stats\n",
    "\n",
    "\n",
    "def correlation_between_distance_and_expression(\n",
    "    adata: ad.AnnData, subtype: str, key: str, method: str = \"spearman\"\n",
    ") -> pd.DataFrame:\n",
    "    \"\"\"\n",
    "    Calculates correlation between expression of a given gene/annotation\n",
    "    and distance to cells of other subtypes for a specific subtype.\n",
    "\n",
    "    Args:\n",
    "        adata: An AnnData object containing spatial coordinates, subtype annotations, and expression data.\n",
    "        subtype: The subtype to focus on for expression and distance calculations.\n",
    "        key: The name of the gene or observation annotation to retrieve expression values for.\n",
    "        method: The correlation method to use, either \"pearson\" or \"spearman\" (default).\n",
    "\n",
    "    Returns:\n",
    "        A pandas DataFrame with columns 'subtype_1', 'subtype_2', 'pvalue', and 'correlation',\n",
    "        representing the subtype pairs, p-values, and correlation coefficients.\n",
    "    Raises:\n",
    "        ValueError: If either subtype is not found in the adata object or if an invalid method is specified.\n",
    "    \"\"\"\n",
    "\n",
    "    if subtype not in adata.obs[\"Immunocentric_Type\"].unique():\n",
    "        raise ValueError(f\"Immunocentric_Type {subtype} not found in adata\")\n",
    "\n",
    "    allowed_methods = [\"pearson\", \"spearman\"]\n",
    "    if method not in allowed_methods:\n",
    "        raise ValueError(\n",
    "            f\"Invalid correlation method: {method}. Allowed methods are: {', '.join(allowed_methods)}\"\n",
    "        )\n",
    "\n",
    "    results = []\n",
    "    for subtype_2 in adata.obs[\"Immunocentric_Type\"].unique():\n",
    "        distances = get_closest_cell(adata, subtype_1=subtype, subtype_2=subtype_2)\n",
    "        expression = get_expression(\n",
    "            adata[adata.obs[\"Immunocentric_Type\"] == subtype], key=key\n",
    "        )\n",
    "\n",
    "        if method == \"pearson\":\n",
    "            corr, pval = stats.pearsonr(distances, expression)\n",
    "        else:\n",
    "            corr, pval = stats.spearmanr(distances, expression)\n",
    "\n",
    "        results.append(\n",
    "            {\n",
    "                \"subtype_1\": subtype,\n",
    "                \"subtype_2\": subtype_2,\n",
    "                \"pvalue\": pval,\n",
    "                \"correlation\": corr,\n",
    "            }\n",
    "        )\n",
    "\n",
    "    return pd.DataFrame(results)"
   ]
  },
  {
   "cell_type": "code",
   "execution_count": null,
   "metadata": {},
   "outputs": [],
   "source": [
    "def get_batchwise_correlation_between_distance_and_expression(\n",
    "    adata: ad.AnnData, subtype: str, key: str, method: str = \"spearman\"\n",
    ") -> pd.DataFrame:\n",
    "    \"\"\"\n",
    "    Calculates correlation between distance and expression for a specific subtype across batches,\n",
    "    combining results into a single DataFrame.\n",
    "\n",
    "    Args:\n",
    "        adata: An AnnData object containing spatial coordinates, subtype annotations, expression data, and batch information.\n",
    "        subtype: The subtype to focus on for expression and distance calculations.\n",
    "        key: The name of the gene or observation annotation to retrieve expression values for.\n",
    "\n",
    "    Returns:\n",
    "        A pandas DataFrame containing correlation results for all batches,\n",
    "        with columns 'subtype_1', 'subtype_2', 'pvalue', 'correlation', and 'batch'.\n",
    "    \"\"\"\n",
    "\n",
    "    results = []\n",
    "    for b in adata.obs[\"batch\"].cat.categories:\n",
    "        adata_batch = adata[adata.obs[\"batch\"] == b]\n",
    "        df = correlation_between_distance_and_expression(\n",
    "            adata_batch, subtype=subtype, key=key, method=method\n",
    "        )\n",
    "        df[\"batch\"] = b\n",
    "        results.append(df)\n",
    "\n",
    "    df = pd.concat(results, ignore_index=True)\n",
    "    df[\"batch\"] = pd.Categorical(\n",
    "        df[\"batch\"], categories=adata.obs[\"batch\"].cat.categories\n",
    "    )\n",
    "    return df"
   ]
  },
  {
   "cell_type": "markdown",
   "metadata": {},
   "source": [
    "# Figure 5g"
   ]
  },
  {
   "cell_type": "markdown",
   "metadata": {},
   "source": [
    "### Get Data"
   ]
  },
  {
   "cell_type": "code",
   "execution_count": null,
   "metadata": {},
   "outputs": [],
   "source": [
    "genes = [\"SLAMF6\", \"GZMK\", \"TCF7\", \"EOMES\", \"KLF2\", \"ITGAE\", \"GZMA\", \"NT5E\"]\n",
    "\n",
    "df = []\n",
    "for gene in genes:\n",
    "    df_gene = get_batchwise_correlation_between_distance_and_expression(\n",
    "        adata,\n",
    "        \"CD8 T-Cell\",\n",
    "        gene,\n",
    "    )\n",
    "    df_gene[\"gene\"] = gene\n",
    "    df.append(df_gene)\n",
    "df = pd.concat(df)\n",
    "\n",
    "df.head()"
   ]
  },
  {
   "cell_type": "markdown",
   "metadata": {},
   "source": [
    "### Make plot"
   ]
  },
  {
   "cell_type": "code",
   "execution_count": null,
   "metadata": {},
   "outputs": [],
   "source": [
    "df = df[~(df[\"subtype_1\"] == df[\"subtype_2\"])]\n",
    "mat = df.groupby(by=[\"gene\", \"subtype_2\"])[\"correlation\"].mean().reset_index()\n",
    "mat = mat.pivot(index=\"subtype_2\", columns=\"gene\", values=\"correlation\")\n",
    "\n",
    "from scipy.cluster import hierarchy\n",
    "\n",
    "\n",
    "def get_order(x):\n",
    "    link = hierarchy.linkage(x)\n",
    "    idx = hierarchy.leaves_list(hierarchy.optimal_leaf_ordering(link, x))\n",
    "    return idx\n",
    "\n",
    "\n",
    "fig, ax = plt.subplots(figsize=(4, 5))\n",
    "sns.heatmap(\n",
    "    mat.iloc[get_order(mat), get_order(mat.T)],\n",
    "    cmap=\"coolwarm_r\",\n",
    "    annot=False,\n",
    "    linewidths=0.5,\n",
    "    ax=ax,\n",
    ")\n",
    "fig.tight_layout()"
   ]
  }
 ],
 "metadata": {
  "kernelspec": {
   "display_name": "Python 3",
   "language": "python",
   "name": "python3"
  },
  "language_info": {
   "codemirror_mode": {
    "name": "ipython",
    "version": 3
   },
   "file_extension": ".py",
   "mimetype": "text/x-python",
   "name": "python",
   "nbconvert_exporter": "python",
   "pygments_lexer": "ipython3",
   "version": "3.10.14"
  }
 },
 "nbformat": 4,
 "nbformat_minor": 2
}
