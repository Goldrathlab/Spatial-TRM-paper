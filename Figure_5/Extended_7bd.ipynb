{
 "cells": [
  {
   "cell_type": "code",
   "execution_count": null,
   "metadata": {},
   "outputs": [],
   "source": [
    "import scanpy as sc\n",
    "import matplotlib.pyplot as plt\n",
    "import os"
   ]
  },
  {
   "cell_type": "code",
   "execution_count": null,
   "metadata": {},
   "outputs": [],
   "source": [
    "adata = sc.read(\"timecourse.h5ad\")"
   ]
  },
  {
   "cell_type": "code",
   "execution_count": null,
   "metadata": {},
   "outputs": [],
   "source": [
    "adata = adata[adata.obs[\"batch\"].isin([\"day8_SI_Ctrl\"])]"
   ]
  },
  {
   "cell_type": "code",
   "execution_count": null,
   "metadata": {},
   "outputs": [],
   "source": [
    "savedir = \"figures/supplementary_stats\"\n",
    "try:\n",
    "    os.makedirs(savedir)\n",
    "except FileExistsError:\n",
    "    pass"
   ]
  },
  {
   "cell_type": "code",
   "execution_count": null,
   "metadata": {},
   "outputs": [],
   "source": [
    "sc.set_figure_params(dpi=300)\n",
    "fig = sc.pl.dotplot(\n",
    "    adata,\n",
    "    var_names=[\"Fer1l6\", \"Neurog3\", \"Muc5ac\"],\n",
    "    groupby=\"Subtype\",\n",
    "    return_fig=True,\n",
    "    show=False,\n",
    ")\n",
    "fig.savefig(f\"{savedir}/dotplot_fer1l6_neurog3_muc5ac_across_celltypes.pdf\")\n",
    "plt.show()\n",
    "plt.close()"
   ]
  },
  {
   "cell_type": "markdown",
   "metadata": {},
   "source": [
    "Showing specificity in spatial perturb"
   ]
  },
  {
   "cell_type": "code",
   "execution_count": null,
   "metadata": {},
   "outputs": [],
   "source": [
    "adata = sc.read(\"/mnt/sata2/Analysis_Alex_2/perturb1/final_filtered_on_leiden.h5ad\")"
   ]
  },
  {
   "cell_type": "code",
   "execution_count": null,
   "metadata": {},
   "outputs": [],
   "source": [
    "sc.set_figure_params(dpi=300)\n",
    "fig = sc.pl.dotplot(\n",
    "    adata,\n",
    "    groupby=\"guide_rnas\",\n",
    "    var_names=[\"Fer1l6\", \"Neurog3\", \"Muc5ac\"],\n",
    "    return_fig=True,\n",
    "    show=False,\n",
    ")\n",
    "fig.savefig(f\"{savedir}/dotplot_fer1l6_neurog3_muc5ac_specificity.pdf\")\n",
    "plt.show()\n",
    "plt.close()"
   ]
  }
 ],
 "metadata": {
  "kernelspec": {
   "display_name": "merscope_01",
   "language": "python",
   "name": "python3"
  },
  "language_info": {
   "codemirror_mode": {
    "name": "ipython",
    "version": 3
   },
   "file_extension": ".py",
   "mimetype": "text/x-python",
   "name": "python",
   "nbconvert_exporter": "python",
   "pygments_lexer": "ipython3",
   "version": "3.8.18"
  }
 },
 "nbformat": 4,
 "nbformat_minor": 2
}
