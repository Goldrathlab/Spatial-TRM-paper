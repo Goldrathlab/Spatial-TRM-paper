{
 "cells": [
  {
   "cell_type": "code",
   "execution_count": null,
   "metadata": {
    "vscode": {
     "languageId": "r"
    }
   },
   "outputs": [],
   "source": [
    "BiocManager::install('glmGamPoi')\n",
    "remotes::install_github(\"jinworks/CellChat@b02aaaf\")"
   ]
  },
  {
   "cell_type": "code",
   "execution_count": null,
   "metadata": {
    "vscode": {
     "languageId": "r"
    }
   },
   "outputs": [],
   "source": [
    "suppressPackageStartupMessages({\n",
    "    library(Seurat)\n",
    "    library(future)\n",
    "    library(dplyr)\n",
    "    library(ComplexHeatmap)\n",
    "    library(RColorBrewer)\n",
    "    library(circlize)\n",
    "    library(ggplot2)\n",
    "    library(colorspace)\n",
    "    library(ggplot2)\n",
    "    library(dplyr)\n",
    "    library(Matrix)\n",
    "    library(CellChat)\n",
    "    library(RColorBrewer)\n",
    "    library(zellkonverter)\n",
    "})"
   ]
  },
  {
   "cell_type": "code",
   "execution_count": null,
   "metadata": {
    "vscode": {
     "languageId": "r"
    }
   },
   "outputs": [],
   "source": [
    "sce = readH5AD(\"tmp/cellchat_preparation_human_signature.h5\")\n",
    "total_seurat = as.Seurat(sce, counts = \"X\", data = NULL)"
   ]
  },
  {
   "cell_type": "code",
   "execution_count": null,
   "metadata": {
    "vscode": {
     "languageId": "r"
    }
   },
   "outputs": [],
   "source": [
    "options(future.globals.maxSize= 10091289600)\n",
    "Idents(total_seurat) <- \"Immunocentric_Type_With_P14\"\n",
    "total_seurat <- subset(total_seurat, idents = c('B-Cell', 'CD4', 'CD8 GZMK+ Effector', 'CD8 T-Cell',\n",
    "       'CD8AB+ Effector Like', 'CD8AB+ Stem Like', 'Conventional_DC',\n",
    "       'Effector T-Cell', 'Enterocyte', 'Enteroendocrine', 'Fibroblast',\n",
    "       'Goblet', 'Lymphatic', 'Macrophage', 'Mast', 'Monocyte', 'Neuron',\n",
    "       'Other_DC', 'Other_Myeloid', 'PP_CD4_TCell', 'PP_CD8AB_TCell',\n",
    "       'PP_CD8AB_Tcell_GZMK+', 'PP_CD8AB_Tcell_Proliferating', 'PP_TCell',\n",
    "       'Paneth', 'PlasmaCell', 'Proliferating_Myeloid',\n",
    "       'Proliferating_Tcell', 'T-Cell_GZMK+_ITGAE+', 'TCell_other_11',\n",
    "       'TCell_other_13', 'Transit_Amplifying', 'Treg', 'Tuft',\n",
    "       'Vascular_Endothelia', 'Vascular_Endothelia_AQP1+',\n",
    "       'Vascular_Endothelia_CPE+', 'cDC1', 'gd_TCell'))\n",
    "total_seurat <- SCTransform(total_seurat, assay = \"originalexp\", clip.range = c(-10, 10))"
   ]
  },
  {
   "cell_type": "markdown",
   "metadata": {},
   "source": [
    "# Create and run cellchat"
   ]
  },
  {
   "cell_type": "code",
   "execution_count": null,
   "metadata": {
    "vscode": {
     "languageId": "r"
    }
   },
   "outputs": [],
   "source": [
    "options(stringsAsFactors = FALSE)\n",
    "\n",
    "#Prepare input data for CellChat analysis\n",
    "\n",
    "data.input = GetAssayData(total_seurat, slot = \"data\", assay = \"SCT\") # normalized data matrix\n",
    "\n",
    "\n",
    "meta = data.frame(labels = Idents(total_seurat), row.names = names(Idents(total_seurat))) # manually create a dataframe consisting of the cell labels\n",
    "\n",
    "### load spatial imaging information\n",
    "# Spatial locations of spots from full (NOT high/low) resolution images are required\n",
    "#spatial.locs = GetTissueCoordinates(duo_d7, scale = NULL, cols = c(\"imagerow\", \"imagecol\"))\n",
    "#alternative from Merscope Seurat object\n",
    "spatial.locs <- total_seurat@meta.data %>%\n",
    "  dplyr::select(x, y) %>%\n",
    "  dplyr::rename(\n",
    "    imagerow = x,\n",
    "    imagecol = y\n",
    "  )"
   ]
  },
  {
   "cell_type": "code",
   "execution_count": null,
   "metadata": {
    "vscode": {
     "languageId": "r"
    }
   },
   "outputs": [],
   "source": [
    "### Scale factors and spot diameters of the full resolution images \n",
    "#This is different than the tutorial - see https://github.com/sqjin/CellChat/issues/514\n",
    "\n",
    "avg.diameter <- 5\n",
    "\n",
    "#scale.factors\n",
    "scale.factors <- list(spot.diameter = avg.diameter, spot = 5)\n",
    "\n",
    "#####Create CellChat Object\n",
    "total_seurat_cellchat <- createCellChat(object = data.input, meta = meta, group.by = \"labels\",\n",
    "                           datatype = \"spatial\", coordinates = spatial.locs, scale.factors = scale.factors)\n",
    "\n",
    "# Set the ligand-receptor interaction database\n",
    "\n",
    "CellChatDB <- CellChatDB.human # use CellChatDB.human if running on human data\n",
    "\n",
    "# use a subset of CellChatDB for cell-cell communication analysis\n",
    "#CellChatDB.use <- subsetDB(CellChatDB, search = \"Secreted Signaling\") # use Secreted Signaling\n",
    "\n",
    "# use all CellChatDB for cell-cell communication analysis\n",
    "CellChatDB.use <- CellChatDB # simply use the default CellChatDB\n",
    "\n",
    "# set the used database in the object\n",
    "total_seurat_cellchat@DB <- CellChatDB.use"
   ]
  },
  {
   "cell_type": "code",
   "execution_count": null,
   "metadata": {
    "vscode": {
     "languageId": "r"
    }
   },
   "outputs": [],
   "source": [
    "\n",
    "\n",
    "### Preprocessing the expression data for cell-cell communication analysis\n",
    "\n",
    "# subset the expression data of signaling genes for saving computation cost\n",
    "total_seurat_cellchat <- subsetData(total_seurat_cellchat) # This step is necessary even if using the whole database\n",
    "total_seurat_cellchat <- identifyOverExpressedGenes(total_seurat_cellchat)\n",
    "total_seurat_cellchat <- identifyOverExpressedInteractions(total_seurat_cellchat)\n",
    "\n",
    "\n"
   ]
  },
  {
   "cell_type": "code",
   "execution_count": null,
   "metadata": {
    "vscode": {
     "languageId": "r"
    }
   },
   "outputs": [],
   "source": [
    "total_seurat_cellchat <- projectData(total_seurat_cellchat, PPI.human)"
   ]
  },
  {
   "cell_type": "code",
   "execution_count": null,
   "metadata": {
    "vscode": {
     "languageId": "r"
    }
   },
   "outputs": [],
   "source": [
    "# project gene expression data onto PPI (Optional: when running it, USER should set `raw.use = FALSE` in the function `computeCommunProb()` in order to use the projected data)\n",
    "total_seurat_cellchat <- computeCommunProb(total_seurat_cellchat, type = \"truncatedMean\", trim = 0.1, distance.use = TRUE, interaction.range = 50, scale.distance = 1)\n"
   ]
  },
  {
   "cell_type": "code",
   "execution_count": null,
   "metadata": {
    "vscode": {
     "languageId": "r"
    }
   },
   "outputs": [],
   "source": [
    "# Filter out the cell-cell communication if there are only few number of cells in certain cell groups\n",
    "total_seurat_cellchat <- filterCommunication(total_seurat_cellchat, min.cells = 10)\n",
    "\n",
    "#Infer the cell-cell communication at a signaling pathway level\n",
    "total_seurat_cellchat <- computeCommunProbPathway(total_seurat_cellchat)\n",
    "\n",
    "#Calculate the aggregated cell-cell communication network\n",
    "total_seurat_cellchat <- aggregateNet(total_seurat_cellchat)"
   ]
  },
  {
   "cell_type": "code",
   "execution_count": null,
   "metadata": {
    "vscode": {
     "languageId": "r"
    }
   },
   "outputs": [],
   "source": [
    "#Here we take input of one signaling pathway as an example. All the signaling pathways showing significant communications can be accessed by:\n",
    "signif.pathways <- total_seurat_cellchat@netP$pathways\n",
    "\n",
    "# Compute the network centrality scores\n",
    "total_seurat_cellchat <- netAnalysis_computeCentrality(total_seurat_cellchat, slot.name = \"netP\") # the slot 'netP' means the inferred intercellular communication network of signaling pathways\n",
    "# Visualize the computed centrality scores using heatmap, allowing ready identification of major signaling roles of cell groups\n",
    "\n",
    "# save Object\n",
    "saveRDS(total_seurat_cellchat, file = \"tmp/total_seurat_human_cellchat_signature.rds\")\n",
    "\n",
    "# Session Info\n",
    "sessionInfo()"
   ]
  },
  {
   "cell_type": "code",
   "execution_count": null,
   "metadata": {
    "vscode": {
     "languageId": "r"
    }
   },
   "outputs": [],
   "source": []
  }
 ],
 "metadata": {
  "kernelspec": {
   "display_name": "R",
   "language": "R",
   "name": "ir"
  },
  "language_info": {
   "codemirror_mode": "r",
   "file_extension": ".r",
   "mimetype": "text/x-r-source",
   "name": "R",
   "pygments_lexer": "r",
   "version": "4.3.0"
  }
 },
 "nbformat": 4,
 "nbformat_minor": 2
}
