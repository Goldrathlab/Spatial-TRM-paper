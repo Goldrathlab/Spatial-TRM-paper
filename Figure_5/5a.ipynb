{
 "cells": [
  {
   "cell_type": "code",
   "execution_count": null,
   "metadata": {},
   "outputs": [],
   "source": [
    "import scanpy as sc\n",
    "import numpy as np\n",
    "import matplotlib.pyplot as plt\n",
    "import pandas as pd"
   ]
  },
  {
   "cell_type": "code",
   "execution_count": null,
   "metadata": {},
   "outputs": [],
   "source": [
    "adata = sc.read(\"timecourse.h5ad\")"
   ]
  },
  {
   "cell_type": "code",
   "execution_count": null,
   "metadata": {},
   "outputs": [],
   "source": [
    "batches = {\n",
    "    \"day6\": [\"day6_SI\", \"day6_SI_r2\"],\n",
    "    \"day8\": [\"day8_SI_Ctrl\", \"day8_SI_r2\"],\n",
    "    \"day30\": [\"day30_SI\", \"day30_SI_r2\"],\n",
    "    \"day90\": [\"day90_SI\", \"day90_SI_r2\"],\n",
    "}"
   ]
  },
  {
   "cell_type": "code",
   "execution_count": null,
   "metadata": {},
   "outputs": [],
   "source": [
    "inverted_batches = {}\n",
    "for key, value in batches.items():\n",
    "    for item in value:\n",
    "        inverted_batches[item] = key"
   ]
  },
  {
   "cell_type": "code",
   "execution_count": null,
   "metadata": {},
   "outputs": [],
   "source": [
    "adata.obs[\"timepoint\"] = [inverted_batches.get(i) for i in adata.obs[\"batch\"]]\n",
    "adata = adata[~adata.obs[\"timepoint\"].isna()]"
   ]
  },
  {
   "cell_type": "code",
   "execution_count": null,
   "metadata": {},
   "outputs": [],
   "source": [
    "def transformation(x, a=0.1, b=0.1, c=0.5, d=2.5, f=4, w=1):\n",
    "    x = np.array(x)\n",
    "    return a * np.exp(b * ((x - w))) - c * np.exp(-d * (x - w)) + f\n",
    "\n",
    "\n",
    "def filter_adata_expressed_in_n_cells(adata, percent=0.01):\n",
    "    bin_Layer = adata.X > 0\n",
    "    gene_expressed_in_percent_cells = np.mean(bin_Layer, axis=0)\n",
    "    keep = gene_expressed_in_percent_cells > percent\n",
    "    adata = adata[:, keep]\n",
    "    return adata"
   ]
  },
  {
   "cell_type": "code",
   "execution_count": null,
   "metadata": {},
   "outputs": [],
   "source": [
    "test_adatas = []\n",
    "unique_batches = np.unique(adata.obs[\"batch\"])\n",
    "\n",
    "for timepoint in unique_batches:\n",
    "    print(timepoint)\n",
    "    ad_ = adata[adata.obs[\"batch\"] == timepoint]\n",
    "    sub_adata = filter_adata_expressed_in_n_cells(ad_)\n",
    "    sub_adata = sub_adata.copy()\n",
    "\n",
    "    sc.pp.normalize_total(sub_adata, target_sum=1e4)\n",
    "    sc.pp.log1p(sub_adata)\n",
    "\n",
    "    sub_adata.obs[\"epithelial_distance_transformed\"] = transformation(\n",
    "        sub_adata.obs[\"epithelial_distance_clipped\"]\n",
    "    )\n",
    "    plt.scatter(\n",
    "        sub_adata.obs[\"epithelial_distance_transformed\"],\n",
    "        sub_adata.obs[\"crypt_villi_axis\"],\n",
    "        c=sub_adata.X[:, sub_adata.var.index == \"Epcam\"],\n",
    "        s=2,\n",
    "        vmax=40,\n",
    "    )\n",
    "    plt.show()\n",
    "    cutoff = input(\"Enter cutoff for LP cells: \")\n",
    "    sub_adata.obs[\"condition\"] = [\n",
    "        \"IEL\" if i < float(cutoff) else \"LP\"\n",
    "        for i in sub_adata.obs[\"epithelial_distance_transformed\"]\n",
    "    ]\n",
    "\n",
    "    test_adatas.append(sub_adata.obs)"
   ]
  },
  {
   "cell_type": "code",
   "execution_count": null,
   "metadata": {},
   "outputs": [],
   "source": [
    "adata.obs = adata.obs.merge(\n",
    "    pd.concat(test_adatas, axis=0)[\"condition\"],\n",
    "    how=\"left\",\n",
    "    left_index=True,\n",
    "    right_index=True,\n",
    ")"
   ]
  },
  {
   "cell_type": "code",
   "execution_count": null,
   "metadata": {},
   "outputs": [],
   "source": [
    "adata.obs[\"timepoint_region\"] = (\n",
    "    adata.obs[\"timepoint\"].astype(str) + \"_\" + adata.obs[\"condition\"].astype(str)\n",
    ")"
   ]
  },
  {
   "cell_type": "code",
   "execution_count": null,
   "metadata": {},
   "outputs": [],
   "source": [
    "sc.set_figure_params(figsize=(20, 20), dpi=400)\n",
    "fig = sc.pl.dotplot(\n",
    "    adata,\n",
    "    var_names=[\"Cxcl9\", \"Cxcl10\"],\n",
    "    groupby=\"timepoint_region\",\n",
    "    use_raw=False,\n",
    "    log=True,\n",
    "    return_fig=True,\n",
    "    show=False,\n",
    ")\n",
    "fig.savefig(\"figures/panel_f_dynamics.pdf\")\n",
    "plt.show()"
   ]
  }
 ],
 "metadata": {
  "kernelspec": {
   "display_name": "merscope_01",
   "language": "python",
   "name": "python3"
  },
  "language_info": {
   "codemirror_mode": {
    "name": "ipython",
    "version": 3
   },
   "file_extension": ".py",
   "mimetype": "text/x-python",
   "name": "python",
   "nbconvert_exporter": "python",
   "pygments_lexer": "ipython3",
   "version": "3.8.18"
  }
 },
 "nbformat": 4,
 "nbformat_minor": 2
}
