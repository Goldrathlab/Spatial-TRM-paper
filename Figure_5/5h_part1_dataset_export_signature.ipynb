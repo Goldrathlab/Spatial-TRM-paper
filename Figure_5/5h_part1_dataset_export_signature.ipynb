{
 "cells": [
  {
   "cell_type": "code",
   "execution_count": null,
   "metadata": {},
   "outputs": [],
   "source": [
    "%pip install git+https://github.com/maximilian-heeg/UCell.git"
   ]
  },
  {
   "cell_type": "code",
   "execution_count": null,
   "metadata": {},
   "outputs": [],
   "source": [
    "import numpy as np\n",
    "import scanpy as sc"
   ]
  },
  {
   "cell_type": "code",
   "execution_count": null,
   "metadata": {},
   "outputs": [],
   "source": [
    "adata_human = sc.read(\"../data/adata/human.h5ad\")"
   ]
  },
  {
   "cell_type": "markdown",
   "metadata": {},
   "source": [
    "# Create the mouse signatures"
   ]
  },
  {
   "cell_type": "code",
   "execution_count": null,
   "metadata": {},
   "outputs": [],
   "source": [
    "adata_mouse = sc.read_h5ad(\"../data/adata/timecourse.h5ad\")\n",
    "adata_mouse = adata_mouse[\n",
    "    adata_mouse.obs.batch.isin([\"day90_SI\", \"day90_SI_r2\"]),\n",
    "    adata_mouse.var.index.str.upper().isin(adata_human.var.index),\n",
    "]\n",
    "\n",
    "adata_mouse.var.index = adata_mouse.var.index.str.upper()"
   ]
  },
  {
   "cell_type": "code",
   "execution_count": null,
   "metadata": {},
   "outputs": [],
   "source": [
    "sc.pp.normalize_total(adata_mouse, target_sum=1e4)\n",
    "sc.pp.log1p(adata_mouse)"
   ]
  },
  {
   "cell_type": "code",
   "execution_count": null,
   "metadata": {},
   "outputs": [],
   "source": [
    "# Coordinates of the gates\n",
    "gates_mouse = {\n",
    "    \"Top\": {\n",
    "        \"edges\": [\n",
    "            [0.15, 0.5],\n",
    "            [0.6, 0.7],\n",
    "            [0.8, 0.7],\n",
    "            [0.8, 1.03],\n",
    "            [0.15, 1.03],\n",
    "        ],\n",
    "        \"label_position\": {\"x\": 0.16, \"y\": 0.9},\n",
    "        \"fill\": \"#3A9AB244\",\n",
    "        \"stroke\": \"#3A9AB2\",\n",
    "    },\n",
    "    \"Crypt\": {\n",
    "        \"edges\": [\n",
    "            [0.15, 0.48],\n",
    "            [0.6, 0.68],\n",
    "            [0.8, 0.68],\n",
    "            [0.8, 0.25],\n",
    "            [0.2, 0],\n",
    "            [0.15, 0],\n",
    "        ],\n",
    "        \"label_position\": {\"x\": 0.16, \"y\": 0.05},\n",
    "        \"fill\": \"#F11B0044\",\n",
    "        \"stroke\": \"#F11B00\",\n",
    "    },\n",
    "    \"Muscularis\": {\n",
    "        \"edges\": [[0.22, 0], [0.8, 0.23], [6, 0.23], [6, 0], [0.22, 0]],\n",
    "        \"label_position\": {\"x\": 0.6, \"y\": 0.05},\n",
    "        \"fill\": \"#BDC88155\",\n",
    "        \"stroke\": \"#BDC881\",\n",
    "    },\n",
    "}"
   ]
  },
  {
   "cell_type": "code",
   "execution_count": null,
   "metadata": {},
   "outputs": [],
   "source": [
    "def filter_adata_expressed_in_n_cells(adata, percent=0.05):\n",
    "    bin_Layer = adata.X > 0\n",
    "    gene_expressed_in_percent_cells = np.mean(bin_Layer, axis=0)\n",
    "    keep = gene_expressed_in_percent_cells > percent\n",
    "    adata = adata[:, keep]\n",
    "    return adata\n",
    "\n",
    "\n",
    "adata_mouse_cd8 = adata_mouse[adata_mouse.obs.Subtype.isin([\"Cd8_T-Cell_P14\"])]\n",
    "adata_mouse_cd8 = filter_adata_expressed_in_n_cells(adata_mouse_cd8)"
   ]
  },
  {
   "cell_type": "code",
   "execution_count": null,
   "metadata": {},
   "outputs": [],
   "source": [
    "# Custom biexponential transformation. Maybe not needed for IF data\n",
    "def transformation(x, a=0.1, b=0.5, c=1, d=3, f=4, w=1):\n",
    "    x = np.array(x)\n",
    "    return a * np.exp(b * ((x - w))) - c * np.exp(-d * (x - w)) + f\n",
    "\n",
    "\n",
    "def classify_cells(adata, gates, transformation=transformation):\n",
    "    \"\"\"\n",
    "    Classify cells based on the gates.\n",
    "    \"\"\"\n",
    "    from shapely.geometry import Point\n",
    "    from shapely.geometry.polygon import Polygon\n",
    "    import geopandas as gpd\n",
    "\n",
    "    adata.obs[\"epithelial_distance_transformed\"] = transformation(\n",
    "        adata.obs[\"epithelial_distance\"]\n",
    "    )\n",
    "    adata.obs[\"gate\"] = False\n",
    "\n",
    "    print(\"Creating polygons\")\n",
    "    polygons = {}\n",
    "    for gate in gates:\n",
    "        # Apply transformation to x values\n",
    "        points = [\n",
    "            [transformation(element[0])] + element[1:]\n",
    "            for element in gates[gate][\"edges\"]\n",
    "        ]\n",
    "        polygons[gate] = Polygon(points)\n",
    "    polygons = gpd.GeoSeries(polygons)\n",
    "    gpd_poly = gpd.GeoDataFrame({\"gates\": polygons}, geometry=\"gates\")\n",
    "\n",
    "    print(\"Creating cells\")\n",
    "    cells = gpd.GeoSeries.from_xy(\n",
    "        adata.obs[\"epithelial_distance_transformed\"], adata.obs[\"crypt_villi_axis\"]\n",
    "    )\n",
    "    gpd_cells = gpd.GeoDataFrame({\"cells\": cells}, geometry=\"cells\")\n",
    "\n",
    "    print(\"Joining cells and polygons\")\n",
    "    result = gpd.sjoin(\n",
    "        gpd_cells,\n",
    "        gpd_poly,\n",
    "        how=\"left\",\n",
    "    )\n",
    "    return result\n",
    "\n",
    "\n",
    "classification = classify_cells(adata_mouse_cd8, gates_mouse)\n",
    "\n",
    "adata_mouse_cd8.obs[\"gate\"] = classification[\"index_right\"]"
   ]
  },
  {
   "cell_type": "code",
   "execution_count": null,
   "metadata": {},
   "outputs": [],
   "source": [
    "adata_mouse_cd8 = adata_mouse_cd8[adata_mouse_cd8.obs.gate.isin([\"Crypt\", \"Top\"])]"
   ]
  },
  {
   "cell_type": "code",
   "execution_count": null,
   "metadata": {},
   "outputs": [],
   "source": [
    "sc.tl.rank_genes_groups(adata_mouse_cd8, groupby=\"gate\", method=\"wilcoxon\")"
   ]
  },
  {
   "cell_type": "code",
   "execution_count": null,
   "metadata": {},
   "outputs": [],
   "source": [
    "signature_genes = np.array(\n",
    "    [list(i) for i in adata_mouse_cd8.uns[\"rank_genes_groups\"][\"names\"]]\n",
    ")[:15].T\n",
    "\n",
    "signature_regions = {}\n",
    "signature_names = [\"Crypt\", \"Top\"]\n",
    "for i in range(len(signature_names)):\n",
    "    signature_regions[signature_names[i]] = signature_genes[i]\n",
    "\n",
    "signature_regions"
   ]
  },
  {
   "cell_type": "markdown",
   "metadata": {},
   "source": [
    "### Humans"
   ]
  },
  {
   "cell_type": "code",
   "execution_count": null,
   "metadata": {},
   "outputs": [],
   "source": [
    "adata = adata_human[(adata_human.obs.peyers == 0) & (adata_human.obs.CD8_column == 1)]"
   ]
  },
  {
   "cell_type": "code",
   "execution_count": null,
   "metadata": {},
   "outputs": [],
   "source": [
    "signature_regions_human = {}\n",
    "signature_names = [\"Crypt\", \"Top\"]\n",
    "for i in range(len(signature_names)):\n",
    "    signature_regions_human[signature_names[i]] = [\n",
    "        c.upper() for c in signature_genes[i]\n",
    "    ]"
   ]
  },
  {
   "cell_type": "code",
   "execution_count": null,
   "metadata": {},
   "outputs": [],
   "source": [
    "import ucell\n",
    "\n",
    "ucell.add_scores(adata, signatures=signature_regions_human, maxRank=15)"
   ]
  },
  {
   "cell_type": "code",
   "execution_count": null,
   "metadata": {},
   "outputs": [],
   "source": [
    "sc.pl.embedding(adata, basis=\"mde\", color=[\"UCell_Crypt\", \"UCell_Top\"])"
   ]
  },
  {
   "cell_type": "code",
   "execution_count": null,
   "metadata": {},
   "outputs": [],
   "source": [
    "import scipy.stats as stats\n",
    "import pandas as pd"
   ]
  },
  {
   "cell_type": "code",
   "execution_count": null,
   "metadata": {},
   "outputs": [],
   "source": [
    "top_greater_than_crypt = stats.zscore(adata.obs[\"UCell_Top\"]) > stats.zscore(\n",
    "    adata.obs[\"UCell_Crypt\"]\n",
    ")"
   ]
  },
  {
   "cell_type": "code",
   "execution_count": null,
   "metadata": {},
   "outputs": [],
   "source": [
    "adata.obs[\"Effector_Enriched\"] = pd.Categorical(top_greater_than_crypt.values)"
   ]
  },
  {
   "cell_type": "code",
   "execution_count": null,
   "metadata": {},
   "outputs": [],
   "source": [
    "sc.pl.embedding(adata, basis=\"mde\", color=[\"Effector_Enriched\"])"
   ]
  },
  {
   "cell_type": "code",
   "execution_count": null,
   "metadata": {},
   "outputs": [],
   "source": [
    "pairs = [\n",
    "    (x, y) for x, y in zip(adata.obs.index.values, adata.obs.Effector_Enriched.values)\n",
    "]"
   ]
  },
  {
   "cell_type": "code",
   "execution_count": null,
   "metadata": {},
   "outputs": [],
   "source": [
    "cd8_dict = {}\n",
    "for i in pairs:\n",
    "    cd8_dict[i[0]] = i[1]"
   ]
  },
  {
   "cell_type": "code",
   "execution_count": null,
   "metadata": {},
   "outputs": [],
   "source": [
    "effector_like = []\n",
    "for i in range(len(adata_human.obs.index.values)):\n",
    "    if adata_human.obs.index.values[i] in list(cd8_dict.keys()):\n",
    "        effector_like.append(cd8_dict.get(adata_human.obs.index.values[i]))\n",
    "    else:\n",
    "        effector_like.append(\"None\")"
   ]
  },
  {
   "cell_type": "code",
   "execution_count": null,
   "metadata": {},
   "outputs": [],
   "source": [
    "adata_human.obs[\"Effector_like\"] = effector_like"
   ]
  },
  {
   "cell_type": "code",
   "execution_count": null,
   "metadata": {},
   "outputs": [],
   "source": [
    "new_subtypes = []\n",
    "for i in range(len(adata_human.obs.index)):\n",
    "    if adata_human.obs[\"CD8_column\"].values[i] == 1:\n",
    "        if adata_human.obs[\"Effector_like\"].values[i] == True:\n",
    "            new_subtypes.append(\"CD8AB+ Effector Like\")\n",
    "        else:\n",
    "            new_subtypes.append(\"CD8AB+ Stem Like\")\n",
    "    else:\n",
    "        new_subtypes.append(adata_human.obs[\"Subtype\"].values[i])"
   ]
  },
  {
   "cell_type": "code",
   "execution_count": null,
   "metadata": {},
   "outputs": [],
   "source": [
    "adata_human.obs[\"Subtype_split_cd8\"] = pd.Categorical(new_subtypes)"
   ]
  },
  {
   "cell_type": "code",
   "execution_count": null,
   "metadata": {},
   "outputs": [],
   "source": [
    "adata_human.obs[\"Subtype_split_cd8\"].cat.categories"
   ]
  },
  {
   "cell_type": "code",
   "execution_count": null,
   "metadata": {},
   "outputs": [],
   "source": [
    "adata_human = adata_human[adata_human.obs.peyers < 1]"
   ]
  },
  {
   "cell_type": "code",
   "execution_count": null,
   "metadata": {},
   "outputs": [],
   "source": [
    "import os\n",
    "\n",
    "if not os.path.exists(\"tmp\"):\n",
    "    os.makedirs(\"tmp\")\n",
    "    print(f\"Folder 'tmp' created successfully!\")\n",
    "else:\n",
    "    print(f\"Folder 'tmp' already exists.\")"
   ]
  },
  {
   "cell_type": "code",
   "execution_count": null,
   "metadata": {},
   "outputs": [],
   "source": [
    "np.save(\"tmp/X.npy\", adata_human.X)\n",
    "np.save(\"tmp/var.npy\", adata_human.var.index.values)\n",
    "np.save(\"tmp/batch.npy\", adata_human.obs.batch.values)\n",
    "np.save(\"tmp/x_coord.npy\", adata_human.obs.x.values)\n",
    "np.save(\"tmp/y_coord.npy\", adata_human.obs.y.values)\n",
    "np.save(\"tmp/type.npy\", adata_human.obs[\"Subtype_split_cd8\"].values)"
   ]
  },
  {
   "cell_type": "code",
   "execution_count": null,
   "metadata": {},
   "outputs": [],
   "source": []
  }
 ],
 "metadata": {
  "kernelspec": {
   "display_name": "merscope_01",
   "language": "python",
   "name": "python3"
  },
  "language_info": {
   "codemirror_mode": {
    "name": "ipython",
    "version": 3
   },
   "file_extension": ".py",
   "mimetype": "text/x-python",
   "name": "python",
   "nbconvert_exporter": "python",
   "pygments_lexer": "ipython3",
   "version": "3.10.13"
  }
 },
 "nbformat": 4,
 "nbformat_minor": 2
}
