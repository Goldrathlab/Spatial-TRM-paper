{
 "cells": [
  {
   "cell_type": "code",
   "execution_count": null,
   "metadata": {},
   "outputs": [],
   "source": [
    "import numpy as np\n",
    "import matplotlib.pyplot as plt\n",
    "import scanpy as sc\n",
    "import os\n",
    "import pandas as pd"
   ]
  },
  {
   "cell_type": "markdown",
   "metadata": {},
   "source": [
    "Showing expression of individual genes across perturbation groups, no gates"
   ]
  },
  {
   "cell_type": "code",
   "execution_count": null,
   "metadata": {},
   "outputs": [],
   "source": [
    "adata = sc.read(\"/mnt/sata2/Analysis_Alex_2/perturb1/final_filtered_on_leiden.h5ad\")"
   ]
  },
  {
   "cell_type": "code",
   "execution_count": null,
   "metadata": {},
   "outputs": [],
   "source": [
    "corresponding_guide_rnas = [\"sgCd19\", \"sgThy1\", \"sgCxcr3\"]\n",
    "P14s = adata[adata.obs[\"guide_rnas\"].isin(corresponding_guide_rnas)]\n",
    "\n",
    "new_X = np.array(P14s.X.copy())\n",
    "P14s.X = None\n",
    "P14s.X = new_X.copy().astype(np.float64)\n",
    "\n",
    "sc.pp.normalize_total(P14s)\n",
    "sc.pp.log1p(P14s)\n",
    "\n",
    "P14s.obs.groupby(\"guide_rnas\").size()"
   ]
  },
  {
   "cell_type": "code",
   "execution_count": null,
   "metadata": {},
   "outputs": [],
   "source": [
    "adata = P14s.copy()"
   ]
  },
  {
   "cell_type": "code",
   "execution_count": null,
   "metadata": {},
   "outputs": [],
   "source": [
    "savedir = \"figures/overall_expression\""
   ]
  },
  {
   "cell_type": "code",
   "execution_count": null,
   "metadata": {},
   "outputs": [],
   "source": [
    "try:\n",
    "    os.mkdir(savedir)\n",
    "except FileExistsError:\n",
    "    pass"
   ]
  },
  {
   "cell_type": "code",
   "execution_count": null,
   "metadata": {},
   "outputs": [],
   "source": [
    "def plot_gene_change(adata, gene, save_dir):\n",
    "    indices = np.where(adata.var.index == gene)[0]\n",
    "    from scipy.stats import ttest_ind\n",
    "\n",
    "    means = []\n",
    "    std_devs = []\n",
    "    vals = []\n",
    "    for i in np.unique(P14s.obs[\"guide_rnas\"]):\n",
    "        arr_id = np.where(P14s.obs[\"guide_rnas\"].values == i)[0]\n",
    "        values = P14s[:, indices].X.flatten()[arr_id]\n",
    "        means.append(np.mean(values))\n",
    "        std_devs.append(\n",
    "            np.std(values, ddof=1)\n",
    "        )  # Calculate standard deviation for sample\n",
    "        vals.append(values)\n",
    "    # Calculate the SEM by dividing the standard deviations by the square root of the sample size\n",
    "    sems = [std / np.sqrt(len(arr_id)) for std in std_devs]\n",
    "\n",
    "    variable_names = np.unique(P14s.obs[\"guide_rnas\"])\n",
    "    values = means\n",
    "    # Perform pairwise t-tests and store p-values\n",
    "    p_values = {}\n",
    "    for i, value_i in enumerate(vals):\n",
    "        for j, value_j in enumerate(vals):\n",
    "            if i < j:\n",
    "                _, p = ttest_ind(value_i, value_j)\n",
    "                p_values[(i, j)] = p\n",
    "\n",
    "    # Create a bar chart with error bars\n",
    "    fig, ax = plt.subplots()\n",
    "    bars = ax.bar(variable_names, values, yerr=sems, capsize=5)\n",
    "\n",
    "    # Add asterisks for significant differences\n",
    "    pvals = []\n",
    "    significance_level = 0.05  # Adjust as needed\n",
    "    for i, bar_i in enumerate(bars):\n",
    "        for j, bar_j in enumerate(bars):\n",
    "            if i < j:\n",
    "                p_value = p_values[(i, j)]\n",
    "                # print(p_value)\n",
    "                pvals.append([i, j, p_value])\n",
    "    pvals = pd.DataFrame(pvals, columns=[\"i\", \"j\", \"p_value\"])\n",
    "    pvals.to_csv(os.path.join(save_dir, f\"{gene}_pvals.csv\"), index=False)\n",
    "    # Create a bar chart with error bars\n",
    "    plt.bar(variable_names, values, yerr=sems, capsize=5)\n",
    "    plt.xlabel(\"Guide RNA\")\n",
    "    plt.ylabel(f\"Mean {gene} Expression\")\n",
    "    plt.title(f\"{gene} mean expression in cells with each guide\")\n",
    "    plt.xticks(rotation=45)  # Rotate x-axis labels for better readability\n",
    "    plt.tight_layout()  # Adjust layout to not cut off labels\n",
    "    plt.savefig(os.path.join(save_dir, f\"panel_s1_{gene}_mean_expression.pdf\"), dpi=400)\n",
    "    plt.show()\n",
    "\n",
    "\n",
    "for gene in [\"Klrg1\", \"Cxcr3\", \"Thy1\", \"Gzma\", \"Gzmb\", \"Tcf7\", \"Il7r\", \"Il18\", \"Klf2\"]:\n",
    "    plot_gene_change(adata, gene, savedir)"
   ]
  }
 ],
 "metadata": {
  "kernelspec": {
   "display_name": "merscope_01",
   "language": "python",
   "name": "python3"
  },
  "language_info": {
   "codemirror_mode": {
    "name": "ipython",
    "version": 3
   },
   "file_extension": ".py",
   "mimetype": "text/x-python",
   "name": "python",
   "nbconvert_exporter": "python",
   "pygments_lexer": "ipython3",
   "version": "3.8.18"
  }
 },
 "nbformat": 4,
 "nbformat_minor": 2
}
