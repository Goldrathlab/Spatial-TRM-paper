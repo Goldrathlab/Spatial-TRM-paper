{
 "cells": [
  {
   "cell_type": "code",
   "execution_count": null,
   "id": "b6a34acc-b4cc-43ec-a47b-b6c35ecb678d",
   "metadata": {},
   "outputs": [],
   "source": [
    "import anndata\n",
    "import matplotlib.pyplot as plt\n",
    "import numpy as np\n",
    "import scanpy as sc\n",
    "from scipy.stats import spearmanr\n",
    "from scvi.data import cortex, smfish\n",
    "from scvi.external import GIMVI\n"
   ]
  },
  {
   "cell_type": "markdown",
   "id": "f36e7dfa",
   "metadata": {},
   "source": [
    "##### Load in the downsampled Xenium object"
   ]
  },
  {
   "cell_type": "code",
   "execution_count": null,
   "id": "9f5752a5-c653-458f-b285-5c725a157565",
   "metadata": {},
   "outputs": [],
   "source": [
    "spatial_data = sc.read('downsampled_mouse.h5ad')\n",
    "spatial_data.obs['batch'] = 'xen'\n",
    "sc.pp.filter_cells(spatial_data, min_counts=10)"
   ]
  },
  {
   "cell_type": "markdown",
   "id": "be995439",
   "metadata": {},
   "source": [
    "##### Load in the Visium object"
   ]
  },
  {
   "cell_type": "code",
   "execution_count": null,
   "metadata": {},
   "outputs": [],
   "source": [
    "visium_object = sc.read('visium_combined.h5ad')\n",
    "seq_data = visium_object[visium_object.obs['batch'] == 'proximal']"
   ]
  },
  {
   "cell_type": "markdown",
   "id": "f919daad",
   "metadata": {},
   "source": [
    "##### Let's use almost all the genes to train the GIMVI model"
   ]
  },
  {
   "cell_type": "code",
   "execution_count": null,
   "id": "2a8b134f-25ed-4369-8a10-680d48b769c5",
   "metadata": {},
   "outputs": [],
   "source": [
    "train_size = 0.99\n",
    "\n",
    "%config InlineBackend.print_figure_kwargs={'facecolor' : \"w\"}\n",
    "%config InlineBackend.figure_format='retina'"
   ]
  },
  {
   "cell_type": "markdown",
   "id": "117e31dd",
   "metadata": {},
   "source": [
    "##### Subset adatas to intersecting genes"
   ]
  },
  {
   "cell_type": "code",
   "execution_count": null,
   "id": "dfdaca7c-ab3f-46d9-8d53-cc67ac292883",
   "metadata": {},
   "outputs": [],
   "source": [
    "intersection = []\n",
    "non_intersecting = []\n",
    "for k in spatial_data.var_names:\n",
    "    if k in seq_data.var_names:\n",
    "        intersection.append(k)\n",
    "    else:\n",
    "        non_intersecting.append(k)"
   ]
  },
  {
   "cell_type": "code",
   "execution_count": null,
   "id": "f61df0b2-8964-42cc-a4e5-c88bb95fc9b9",
   "metadata": {},
   "outputs": [],
   "source": [
    "# only use genes in both datasets\n",
    "seq_data = seq_data[:, intersection].copy()\n",
    "spatial_data = spatial_data[:, intersection].copy()"
   ]
  },
  {
   "cell_type": "markdown",
   "id": "7d9ff92d",
   "metadata": {},
   "source": [
    "##### Prepare for GIMVI and run GIMVI"
   ]
  },
  {
   "cell_type": "code",
   "execution_count": null,
   "id": "a63924b3-e993-476b-b295-d5463da0a26f",
   "metadata": {},
   "outputs": [],
   "source": [
    "seq_gene_names = seq_data.var_names\n",
    "n_genes = seq_data.n_vars\n",
    "n_train_genes = int(n_genes * train_size)\n",
    "\n",
    "# randomly select training_genes\n",
    "rand_train_gene_idx = np.random.choice(range(n_genes), n_train_genes, replace=False)\n",
    "rand_test_gene_idx = sorted(set(range(n_genes)) - set(rand_train_gene_idx))\n",
    "rand_train_genes = seq_gene_names[rand_train_gene_idx]\n",
    "rand_test_genes = seq_gene_names[rand_test_gene_idx]\n",
    "\n",
    "# spatial_data_partial has a subset of the genes to train on\n",
    "#spatial_data_partial = spatial_data[:, rand_train_genes].copy()\n",
    "\n",
    "# remove cells with no counts\n",
    "sc.pp.filter_cells(spatial_data, min_counts=1)\n",
    "sc.pp.filter_cells(seq_data, min_counts=1)\n",
    "\n",
    "# setup_anndata for spatial and sequencing data\n",
    "GIMVI.setup_anndata(spatial_data, labels_key=\"batch\")\n",
    "GIMVI.setup_anndata(seq_data, labels_key=\"batch\")\n",
    "\n",
    "# spatial_data should use the same cells as our training data\n",
    "# cells may have been removed by scanpy.pp.filter_cells()\n",
    "#spatial_data = spatial_data[spatial_data_partial.obs_names]"
   ]
  },
  {
   "cell_type": "code",
   "execution_count": null,
   "id": "d7069c18-0780-46f5-aec8-3a1687cb437e",
   "metadata": {},
   "outputs": [],
   "source": [
    "# create our model\n",
    "model = GIMVI(seq_data, spatial_data, n_latent = 10)\n",
    "\n",
    "# train for 200 epochs\n",
    "model.train(200, kappa=10)"
   ]
  },
  {
   "cell_type": "markdown",
   "id": "d3294bcc",
   "metadata": {},
   "source": [
    "##### Transfer the crypt villus axis using nearest neighbors in the latent space"
   ]
  },
  {
   "cell_type": "code",
   "execution_count": null,
   "id": "31a523ad-8163-4f1b-9fee-5eb53be69813",
   "metadata": {
    "scrolled": true
   },
   "outputs": [],
   "source": [
    "# get the latent representations for the sequencing and spatial data\n",
    "latent_seq, latent_spatial = model.get_latent_representation()\n",
    "\n",
    "# concatenate to one latent representation\n",
    "latent_representation = np.concatenate([latent_seq, latent_spatial])\n",
    "latent_adata = anndata.AnnData(latent_representation)\n",
    "\n",
    "# labels which cells were from the sequencing dataset and which were from the spatial dataset\n",
    "latent_labels = ([\"seq\"] * latent_seq.shape[0]) + (\n",
    "    [\"spatial\"] * latent_spatial.shape[0]\n",
    ")\n",
    "latent_adata.obs[\"labels\"] = latent_labels\n",
    "\n",
    "# compute umap\n",
    "sc.pp.neighbors(latent_adata, use_rep=\"X\")\n",
    "sc.tl.umap(latent_adata)\n",
    "\n",
    "# save umap representations to original seq and spatial_datasets\n",
    "seq_data.obsm[\"X_umap\"] = latent_adata.obsm[\"X_umap\"][: seq_data.shape[0]]\n",
    "spatial_data.obsm[\"X_umap\"] = latent_adata.obsm[\"X_umap\"][seq_data.shape[0] :]"
   ]
  },
  {
   "cell_type": "code",
   "execution_count": null,
   "id": "29b509e4-732a-4998-83bd-e3726a5c0157",
   "metadata": {},
   "outputs": [],
   "source": [
    "import numpy as np\n",
    "from sklearn.neighbors import KDTree\n",
    "from tqdm.notebook import tqdm\n",
    "\n",
    "# Assuming your original AnnData object is named 'adata'\n",
    "adata = latent_adata.copy()\n",
    "\n",
    "# Step 1: Filter spatial and seq cells\n",
    "spatial_cells = adata[adata.obs['labels'] == 'spatial'].copy()\n",
    "seq_cells = adata[adata.obs['labels'] == 'seq'].copy()\n",
    "spatial_data_copy = sc.read('downsampled_mouse.h5ad')\n",
    "\n",
    "spatial_data_copy.obs['batch'] = 'xen'\n",
    "sc.pp.filter_cells(spatial_data_copy, min_counts=10)\n",
    "\n",
    "# Step 2: Create KD tree for seq cells\n",
    "spatial_gene_expression = spatial_cells.X\n",
    "kdtree = KDTree(spatial_gene_expression)\n",
    "\n",
    "# Step 3: Find nearest seq cells for each seq\n",
    "n_neighbors = 20  # Specify the number of nearest neighbors\n",
    "distances, indices = kdtree.query(seq_cells.X, k=n_neighbors)\n",
    "\n",
    "\n",
    "# Step 4: Average gene expression for spatial cells\n",
    "averaged_expression = np.zeros(seq_cells.n_obs)\n",
    "\n",
    "for i in tqdm(range(seq_cells.n_obs)):\n",
    "    spatial_neighbors_indices = indices[i]\n",
    "    spatial_neighbors_expression = spatial_data_copy.obs[['crypt_villi']].values[spatial_neighbors_indices]\n",
    "    \n",
    "    averaged_expression[i] = np.mean(spatial_neighbors_expression)\n"
   ]
  },
  {
   "cell_type": "code",
   "execution_count": null,
   "id": "a91a1b62-1fe0-4356-b767-09f1078af791",
   "metadata": {},
   "outputs": [],
   "source": [
    "\n",
    "seq_cells.obs['normalized_crypt_villi_scaled'] = averaged_expression"
   ]
  },
  {
   "cell_type": "code",
   "execution_count": null,
   "metadata": {},
   "outputs": [],
   "source": [
    "spatial_data.obsm['X_umap'] = spatial_cells.obsm['X_umap']"
   ]
  },
  {
   "cell_type": "code",
   "execution_count": null,
   "metadata": {},
   "outputs": [],
   "source": [
    "sc.pl.umap(spatial_data, color='crypt_villi')"
   ]
  },
  {
   "cell_type": "code",
   "execution_count": null,
   "metadata": {},
   "outputs": [],
   "source": [
    "seq_data.obs['crypt_villi_axis'] = seq_cells.obs['normalized_crypt_villi_scaled'].values"
   ]
  },
  {
   "cell_type": "code",
   "execution_count": null,
   "id": "dee83bd3-7fa0-4977-94e0-078a640fa10b",
   "metadata": {},
   "outputs": [],
   "source": [
    "sc.pl.umap(seq_data, color=['crypt_villi_axis'], vmax=4)"
   ]
  },
  {
   "cell_type": "markdown",
   "id": "f17382b2",
   "metadata": {},
   "source": [
    "##### Add the imputed crypt villus axis to the distal Visium data"
   ]
  },
  {
   "cell_type": "code",
   "execution_count": null,
   "metadata": {},
   "outputs": [],
   "source": [
    "visium_object = sc.read('visium_combined.h5ad')\n",
    "seq_data_full = visium_object[visium_object.obs['batch'] == 'proximal']\n",
    "\n",
    "sc.pp.filter_cells(seq_data_full, min_counts=1)\n",
    "\n",
    "seq_data_full = seq_data_full[seq_data_full.obs.index.isin(seq_data.obs.index)]\n",
    "\n",
    "seq_data_full.obs = seq_data.obs\n",
    "seq_data_full.obsm = seq_data.obsm\n",
    "\n",
    "seq_data_full.write('visium_with_axis_proximal.h5ad')"
   ]
  }
 ],
 "metadata": {
  "kernelspec": {
   "display_name": "Python 3 (ipykernel)",
   "language": "python",
   "name": "python3"
  },
  "language_info": {
   "codemirror_mode": {
    "name": "ipython",
    "version": 3
   },
   "file_extension": ".py",
   "mimetype": "text/x-python",
   "name": "python",
   "nbconvert_exporter": "python",
   "pygments_lexer": "ipython3",
   "version": "3.9.18"
  }
 },
 "nbformat": 4,
 "nbformat_minor": 5
}
