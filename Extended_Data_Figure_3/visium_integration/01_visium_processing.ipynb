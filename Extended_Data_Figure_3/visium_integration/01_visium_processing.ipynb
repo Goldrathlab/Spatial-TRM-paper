{
 "cells": [
  {
   "cell_type": "code",
   "execution_count": null,
   "metadata": {},
   "outputs": [],
   "source": [
    "import diopy\n",
    "import pandas as pd\n",
    "import scanpy as sc"
   ]
  },
  {
   "cell_type": "markdown",
   "metadata": {},
   "source": [
    "#### This notebook processes the Visium data by reading in the converted Visium RDS object using diopy and then adding the spatial coordinates to the AnnData object."
   ]
  },
  {
   "cell_type": "code",
   "execution_count": null,
   "metadata": {},
   "outputs": [],
   "source": [
    "proximal = diopy.input.read_h5(file=\"visium_prox.h5\")"
   ]
  },
  {
   "cell_type": "code",
   "execution_count": null,
   "metadata": {},
   "outputs": [],
   "source": [
    "distal = diopy.input.read_h5(file=\"visium_dist.h5\")"
   ]
  },
  {
   "cell_type": "code",
   "execution_count": null,
   "metadata": {},
   "outputs": [],
   "source": [
    "proximal_coordinates = pd.read_csv(\"proximal_coordinates.csv\", index_col=0)\n",
    "distal_coordinates = pd.read_csv(\"distal_coordinates.csv\", index_col=0)"
   ]
  },
  {
   "cell_type": "code",
   "execution_count": null,
   "metadata": {},
   "outputs": [],
   "source": [
    "proximal.obs = proximal.obs.merge(\n",
    "    proximal_coordinates, left_index=True, right_index=True, how=\"left\"\n",
    ")\n",
    "distal.obs = distal.obs.merge(\n",
    "    distal_coordinates, left_index=True, right_index=True, how=\"left\"\n",
    ")"
   ]
  },
  {
   "cell_type": "code",
   "execution_count": null,
   "metadata": {},
   "outputs": [],
   "source": [
    "proximal.obsm[\"X_spatial\"] = proximal.obs[[\"imagerow\", \"imagecol\"]].values\n",
    "distal.obsm[\"X_spatial\"] = distal.obs[[\"imagerow\", \"imagecol\"]].values"
   ]
  },
  {
   "cell_type": "code",
   "execution_count": null,
   "metadata": {},
   "outputs": [],
   "source": [
    "proximal.obs[\"batch\"] = \"proximal\"\n",
    "distal.obs[\"batch\"] = \"distal\""
   ]
  },
  {
   "cell_type": "code",
   "execution_count": null,
   "metadata": {},
   "outputs": [],
   "source": [
    "combined = sc.concat([proximal, distal])\n",
    "combined.obs_names_make_unique()"
   ]
  },
  {
   "cell_type": "markdown",
   "metadata": {},
   "source": [
    "##### We have two Visium datasets - Distal and Proximal gut. \n",
    "\n",
    "##### Our Xenium is on proximal gut, but we will save both Visium datasets into the same object going forward just in case."
   ]
  },
  {
   "cell_type": "code",
   "execution_count": null,
   "metadata": {},
   "outputs": [],
   "source": [
    "combined.write(\"visium_combined.h5ad\")"
   ]
  },
  {
   "cell_type": "code",
   "execution_count": null,
   "metadata": {},
   "outputs": [],
   "source": [
    "sc.pl.embedding(proximal, basis=\"spatial\", color=\"Il15\")"
   ]
  },
  {
   "cell_type": "code",
   "execution_count": null,
   "metadata": {},
   "outputs": [],
   "source": [
    "sc.pl.embedding(distal, basis=\"spatial\", color=\"Il15\")"
   ]
  }
 ],
 "metadata": {
  "kernelspec": {
   "display_name": "scdior",
   "language": "python",
   "name": "python3"
  },
  "language_info": {
   "codemirror_mode": {
    "name": "ipython",
    "version": 3
   },
   "file_extension": ".py",
   "mimetype": "text/x-python",
   "name": "python",
   "nbconvert_exporter": "python",
   "pygments_lexer": "ipython3",
   "version": "3.8.8"
  }
 },
 "nbformat": 4,
 "nbformat_minor": 2
}
