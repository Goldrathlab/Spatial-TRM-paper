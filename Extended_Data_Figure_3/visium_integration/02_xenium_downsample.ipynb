{
 "cells": [
  {
   "cell_type": "code",
   "execution_count": null,
   "metadata": {},
   "outputs": [],
   "source": [
    "import scanpy as sc\n",
    "import pandas as pd\n",
    "import numpy as np\n",
    "import os\n",
    "from tqdm.notebook import tqdm\n",
    "import matplotlib.pyplot as plt\n",
    "from scipy.spatial import KDTree\n",
    "from sklearn.decomposition import NMF\n",
    "import glob\n",
    "import sys\n",
    "from core_functions.initial_neighborhoods import *"
   ]
  },
  {
   "cell_type": "markdown",
   "metadata": {},
   "source": [
    "##### We need to downsample the Xenium data to integrate with Visium since Xenium is single cell and Visium is not."
   ]
  },
  {
   "cell_type": "code",
   "execution_count": null,
   "metadata": {},
   "outputs": [],
   "source": [
    "path_to_xenium_final_object = '/mnt/sata1/Analysis_Alex/timecourse_replicates/analysis/cleaned/full_xenium_replicates_and_reference_no_peyers.h5ad'\n",
    "xenium_object= sc.read(path_to_xenium_final_object)"
   ]
  },
  {
   "cell_type": "markdown",
   "metadata": {},
   "source": [
    "##### Choose the batch in the Xenium object that is closest to the Visium conditions. In our case Day 30 post infection Xenium is the most related sample. We are proceeding with the day 30 rep2 Xenium experiment for integration.\n"
   ]
  },
  {
   "cell_type": "code",
   "execution_count": null,
   "metadata": {},
   "outputs": [],
   "source": [
    "batch_to_use = 'day30_SI_r2'"
   ]
  },
  {
   "cell_type": "code",
   "execution_count": null,
   "metadata": {},
   "outputs": [],
   "source": [
    "path_to_visium_object = 'visium_combined.h5ad'\n",
    "visium_object = sc.read(path_to_visium_object)"
   ]
  },
  {
   "cell_type": "code",
   "execution_count": null,
   "metadata": {},
   "outputs": [],
   "source": [
    "def create_binned_data_xenium(adata, bins, centers, unique_bins):\n",
    "    '''\n",
    "    Function to bin a Xenium object so its not single cell resolution anymore.\n",
    "\n",
    "    Parameters\n",
    "    ----------\n",
    "    adata : AnnData object\n",
    "        The Xenium object to be binned.\n",
    "    bins : numpy array\n",
    "        The bin number for each cell in the Xenium object.\n",
    "    centers : numpy array\n",
    "        The center of each bin.\n",
    "    unique_bins : numpy array\n",
    "        The unique bin numbers.\n",
    "    \n",
    "    Returns\n",
    "    -------\n",
    "    adata_filtered : AnnData object\n",
    "        The binned Xenium object.\n",
    "    '''\n",
    "    expression_matrix = []\n",
    "    arr = np.array(adata.X)\n",
    "    for b in range(len(unique_bins)):\n",
    "        where_bin = np.where(bins==b)[0]\n",
    "        try:\n",
    "            bin_expression = np.array(np.sum(arr[where_bin, :], axis=0).flatten()).squeeze()\n",
    "        except:\n",
    "            bin_expression = np.array([float(0) for i in range(len(adata.var.index))])\n",
    "        expression_matrix.append(bin_expression)\n",
    "\n",
    "    crypt_villi = []\n",
    "    for b in range(len(unique_bins)):\n",
    "        where_bin = np.where(bins==b)[0]\n",
    "        \n",
    "        try:\n",
    "            bin_expression = np.mean(adata.obs['crypt_villi_axis'].values[where_bin])\n",
    "        except:\n",
    "            bin_expression = 0\n",
    "        crypt_villi.append(bin_expression)\n",
    "\n",
    "    expression_matrix = np.array(expression_matrix)\n",
    "    crypt_villi = np.array(crypt_villi)\n",
    "    ad = sc.AnnData(X=expression_matrix, obs=pd.DataFrame(crypt_villi, index=unique_bins, columns = ['crypt_villi']), var=pd.DataFrame(index=adata.var.index.tolist()))\n",
    "    ad.obsm['spatial'] = np.array(centers)\n",
    "    nan_obs_indices = np.where(np.isnan(ad.X.sum(axis=1)))[0]\n",
    "\n",
    "    # Filter out observations with NaN values\n",
    "    adata_filtered = ad[~np.isin(ad.obs_names, ad.obs_names[nan_obs_indices])].copy()\n",
    "    return adata_filtered"
   ]
  },
  {
   "cell_type": "code",
   "execution_count": null,
   "metadata": {},
   "outputs": [],
   "source": [
    "#Specify the number of bins you want for your Xenium data. We opted for 3600 bins, which is 60x60. This is because it gives us a similar spot resolution as the Visium data.\n",
    "\n",
    "n_bins_square = 60"
   ]
  },
  {
   "cell_type": "markdown",
   "metadata": {},
   "source": [
    "##### Perform the downsampling"
   ]
  },
  {
   "cell_type": "code",
   "execution_count": null,
   "metadata": {},
   "outputs": [],
   "source": [
    "unique_batches = np.unique(xenium_object.obs.batch)\n",
    "\n",
    "downsampled_adatas = []\n",
    "for batch in unique_batches:\n",
    "    if batch == batch_to_use:\n",
    "        adata = xenium_object[xenium_object.obs['batch'] == batch]\n",
    "\n",
    "        low_res_binning = n_bins_square # int(np.sqrt((len(visium_object[visium_object.obs['batch'] == 'distal'].obs)+len(visium_object[visium_object.obs['batch'] == 'proximal'].obs))/2))\n",
    "        \n",
    "        spatial_points = np.array([adata.obsm['X_spatial'][:,0], adata.obsm['X_spatial'][:,1]]).T\n",
    "        binned_points_low, binned_centers_low = create_grid_bins(spatial_points, low_res_binning)\n",
    "        \n",
    "        zeros_low = np.zeros(len(spatial_points))\n",
    "        low_counts = []\n",
    "        ct = 0\n",
    "        for binn in range(len(binned_points_low)):\n",
    "            for k in range(len(binned_points_low[binn])):\n",
    "                zeros_low[binned_points_low[binn][k]] = ct\n",
    "                low_counts.append(ct)\n",
    "                ct += 1\n",
    "                \n",
    "        adata_bin30 = create_binned_data_xenium(adata, zeros_low, binned_centers_low, low_counts)\n",
    "        downsampled_adatas.append(adata_bin30)\n",
    "\n",
    "downsampled_adatas = downsampled_adatas[0]"
   ]
  },
  {
   "cell_type": "code",
   "execution_count": null,
   "metadata": {},
   "outputs": [],
   "source": [
    "sc.pl.embedding(downsampled_adatas, basis ='spatial', color = 'crypt_villi')"
   ]
  },
  {
   "cell_type": "code",
   "execution_count": null,
   "metadata": {},
   "outputs": [],
   "source": [
    "downsampled_adatas.write('downsampled_mouse.h5ad')"
   ]
  }
 ],
 "metadata": {
  "kernelspec": {
   "display_name": "merscope_01",
   "language": "python",
   "name": "python3"
  },
  "language_info": {
   "codemirror_mode": {
    "name": "ipython",
    "version": 3
   },
   "file_extension": ".py",
   "mimetype": "text/x-python",
   "name": "python",
   "nbconvert_exporter": "python",
   "pygments_lexer": "ipython3",
   "version": "3.9.18"
  }
 },
 "nbformat": 4,
 "nbformat_minor": 2
}
