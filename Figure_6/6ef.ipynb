{
 "cells": [
  {
   "cell_type": "code",
   "execution_count": null,
   "metadata": {},
   "outputs": [],
   "source": [
    "import scanpy as sc\n",
    "import pandas as pd\n",
    "import matplotlib.pyplot as plt\n",
    "from mpl_toolkits.axes_grid1 import AxesGrid\n",
    "import numpy as np\n",
    "import scipy\n",
    "import seaborn as sns\n",
    "from typing import List\n",
    "import os\n",
    "import scvelo as scv"
   ]
  },
  {
   "cell_type": "code",
   "execution_count": null,
   "metadata": {},
   "outputs": [],
   "source": [
    "import matplotlib.colors as clr\n",
    "\n",
    "# slightly modified to make it less red\n",
    "zissou = [\n",
    "    \"#3A9AB2\",\n",
    "    \"#6FB2C1\",\n",
    "    \"#91BAB6\",\n",
    "    \"#A5C2A3\",\n",
    "    \"#BDC881\",\n",
    "    \"#DCCB4E\",\n",
    "    \"#E3B710\",\n",
    "    \"#EC7A05\",\n",
    "    \"#F11B00\",\n",
    "]\n",
    "\n",
    "\n",
    "colormap = clr.LinearSegmentedColormap.from_list(\"Zissou\", zissou)\n",
    "colormap_r = clr.LinearSegmentedColormap.from_list(\"Zissou\", zissou[::-1])"
   ]
  },
  {
   "cell_type": "code",
   "execution_count": null,
   "metadata": {},
   "outputs": [],
   "source": [
    "adata = sc.read(\"../data/adata/human.h5ad\")\n",
    "\n",
    "batches = {\n",
    "    \"human_05_r1\": {\"x\": 2400, \"y\": 2400},\n",
    "    \"human_05_r2\": {\"x\": 6400, \"y\": 2400},\n",
    "    \"human_09_r1\": {\"x\": 2400, \"y\": 6400},\n",
    "    \"human_09_r2\": {\"x\": 6400, \"y\": 6400},\n",
    "}\n",
    "\n",
    "# subset anndata\n",
    "adata = adata[adata.obs.batch.isin(batches.keys())]\n",
    "adata = adata[adata.obs.peyers == 0]\n",
    "adata"
   ]
  },
  {
   "cell_type": "code",
   "execution_count": null,
   "metadata": {},
   "outputs": [],
   "source": [
    "# Normalize\n",
    "sc.pp.normalize_total(adata, target_sum=1e4)\n",
    "sc.pp.log1p(adata)\n",
    "adata"
   ]
  },
  {
   "cell_type": "code",
   "execution_count": null,
   "metadata": {},
   "outputs": [],
   "source": [
    "def filter_adata_expressed_in_n_cells(adata, percent=0.05):\n",
    "    bin_Layer = adata.X > 0\n",
    "    gene_expressed_in_percent_cells = np.mean(bin_Layer, axis=0)\n",
    "    keep = gene_expressed_in_percent_cells > percent\n",
    "    adata = adata[:, keep]\n",
    "    return adata"
   ]
  },
  {
   "cell_type": "code",
   "execution_count": null,
   "metadata": {},
   "outputs": [],
   "source": [
    "def scvelo_heatmap(\n",
    "    adata: sc.AnnData,\n",
    "    batches: List[str],\n",
    "    key_name: str,\n",
    "    key_value: str,\n",
    "    sortby: str,\n",
    "    highlight: List[str],\n",
    "    n_bins: int = 5,\n",
    "):\n",
    "    \"\"\"\n",
    "    Create a heatmap to visualize gene expression trends in single-cell RNA-seq data,\n",
    "    with options for subsetting, sorting, and highlighting genes.\n",
    "\n",
    "    Parameters:\n",
    "    - adata (sc.AnnData): Annotated data object containing single-cell RNA-seq data.\n",
    "    - batches (List[str]): List of batch identifiers to subset the data.\n",
    "    - key_name (str): String representing the key in `adata.obs` to use for subsetting cells.\n",
    "    - key_value (str): String representing the value of `key_name` to subset to.\n",
    "    - sortby (str): Variable to sort the heatmap by (e.g., \"crypt_villi_axis\").\n",
    "    - highlight (List[str]): List of labels to highlight on the heatmap.\n",
    "    - n_bins (int, optional): Integer specifying the number of bins to use for convolution (default: 5).\n",
    "\n",
    "    Returns:\n",
    "    - s (seaborn.matrix.ClusterGrid): Matplotlib figure object representing the heatmap.\n",
    "\n",
    "    This function subsets the input data based on specified batches and key-value pairs,\n",
    "    filters genes expressed in a minimum percentage of cells, and creates a heatmap\n",
    "    to visualize gene expression trends along a specified variable. The function also allows\n",
    "    highlighting specific labels on the y-axis.\n",
    "\n",
    "    Example:\n",
    "    ```\n",
    "    scvelo_heatmap(adata, batches=list(batches.keys())[0:2],\n",
    "               key_name=\"Subtype\",\n",
    "               key_value=\"Cd8_T-Cell_P14\",\n",
    "               sortby=\"crypt_villi_axis\",\n",
    "               highlight=highlight,\n",
    "               n_bins=20)\n",
    "    ```\n",
    "    \"\"\"\n",
    "    print(\"Creating Heatmap for batches\", \" + \".join(batches))\n",
    "    print(f\"Subset to '{key_name}'=='{key_value}'\")\n",
    "    # Subset batches\n",
    "    adata = adata[adata.obs[\"batch\"].isin(batches)]\n",
    "    # Subset to key\n",
    "    adata = adata[adata.obs[key_name] == key_value]\n",
    "    # Filter to include only genes that are expressed in 5% of the cells\n",
    "    adata = filter_adata_expressed_in_n_cells(adata)\n",
    "    adata = adata.copy()\n",
    "\n",
    "    n_convolve = len(adata) // n_bins\n",
    "    print(f\"Setting `n_convolve` to {n_convolve} ({n_bins} bins, {len(adata)} cells) \")\n",
    "    # Plot\n",
    "    s = scv.pl.heatmap(\n",
    "        adata,\n",
    "        var_names=adata.var_names,\n",
    "        sortby=sortby,\n",
    "        n_convolve=n_convolve,\n",
    "        show=False,\n",
    "        yticklabels=True,\n",
    "        rasterized=True,\n",
    "        color_map=colormap,\n",
    "    )\n",
    "    ax = s.ax_heatmap\n",
    "\n",
    "    # Loop through the x-axis tick labels and show/hide based on the 'highlight' list\n",
    "    for i, label in enumerate(ax.get_yticklabels()):\n",
    "        if label.get_text() not in highlight:\n",
    "            label.set_visible(False)\n",
    "            ax.get_yticklines()[2 * i + 1].set_visible(False)\n",
    "        ax.get_yticklines()[2 * i].set_visible(False)\n",
    "\n",
    "    ax.set_xlabel(\"\")\n",
    "    ax.set_title(f\"Human Gene Expression Trends\")\n",
    "    return s"
   ]
  },
  {
   "cell_type": "code",
   "execution_count": null,
   "metadata": {},
   "outputs": [],
   "source": [
    "highlight = [\"ITGAE\", \"GZMA\", \"MKI67\", \"KLRG1\", \"KLF2\", \"SLAMF6\", \"TCF7\"]"
   ]
  },
  {
   "cell_type": "markdown",
   "metadata": {},
   "source": [
    "# 5e"
   ]
  },
  {
   "cell_type": "code",
   "execution_count": null,
   "metadata": {},
   "outputs": [],
   "source": [
    "s = scvelo_heatmap(\n",
    "    adata,\n",
    "    batches=list(batches.keys()),\n",
    "    key_name=\"CD8_column\",\n",
    "    key_value=1,\n",
    "    sortby=\"crypt_villi_axis\",\n",
    "    highlight=highlight,\n",
    "    n_bins=10,\n",
    ")"
   ]
  },
  {
   "cell_type": "markdown",
   "metadata": {},
   "source": [
    "# 5f"
   ]
  },
  {
   "cell_type": "code",
   "execution_count": null,
   "metadata": {},
   "outputs": [],
   "source": [
    "s = scvelo_heatmap(\n",
    "    adata,\n",
    "    batches=list(batches.keys()),\n",
    "    key_name=\"CD8_column\",\n",
    "    key_value=1,\n",
    "    sortby=\"epithelial_distance_clipped\",\n",
    "    highlight=highlight,\n",
    "    n_bins=10,\n",
    ")"
   ]
  },
  {
   "cell_type": "code",
   "execution_count": null,
   "metadata": {},
   "outputs": [],
   "source": []
  }
 ],
 "metadata": {
  "kernelspec": {
   "display_name": "Python 3",
   "language": "python",
   "name": "python3"
  },
  "language_info": {
   "codemirror_mode": {
    "name": "ipython",
    "version": 3
   },
   "file_extension": ".py",
   "mimetype": "text/x-python",
   "name": "python",
   "nbconvert_exporter": "python",
   "pygments_lexer": "ipython3",
   "version": "3.10.14"
  }
 },
 "nbformat": 4,
 "nbformat_minor": 2
}
