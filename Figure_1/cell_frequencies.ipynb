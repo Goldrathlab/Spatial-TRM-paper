{
 "cells": [
  {
   "cell_type": "code",
   "execution_count": null,
   "metadata": {},
   "outputs": [],
   "source": [
    "import scanpy as sc\n",
    "import pandas as pd\n",
    "import matplotlib.pyplot as plt\n",
    "from mpl_toolkits.axes_grid1 import AxesGrid\n",
    "import numpy as np\n",
    "import warnings\n",
    "import seaborn as sns\n",
    "import scipy\n",
    "import re\n",
    "\n",
    "warnings.filterwarnings(\"ignore\")"
   ]
  },
  {
   "cell_type": "code",
   "execution_count": null,
   "metadata": {},
   "outputs": [],
   "source": [
    "colors = {\n",
    "    \"Epithelial_Secretory\": \"#AA9228\",\n",
    "    \"Epithelial_Absorptive\": \"#E3C300\",\n",
    "    \"Monocyte\": \"#C37698\",\n",
    "    \"T-Cell\": \"#008E74\",\n",
    "    \"MAIT\": \"#63ABB9\",\n",
    "    \"Myeloid\": \"#EF9684\",\n",
    "    \"ILC\": \"#A0C6D3\",\n",
    "    \"B-Cell\": \"#E2CEAB\",\n",
    "    \"DC\": \"#FE757D\",\n",
    "    \"Fibroblast\": \"#E17300\",\n",
    "    \"Endothelial\": \"#E30133\",\n",
    "    \"NK\": \"#4A7B89\",\n",
    "    \"Epithelial_Progenitor\": \"#F7BC00\",\n",
    "    \"Neuron\": \"#2A2446\",\n",
    "    \"Erythroid\": \"#A5021D\",\n",
    "    \"Eosinophil\": \"#782c4e\",\n",
    "}"
   ]
  },
  {
   "cell_type": "code",
   "execution_count": null,
   "metadata": {},
   "outputs": [],
   "source": [
    "adata = sc.read_h5ad(\"../data/adata/timecourse.h5ad\")"
   ]
  },
  {
   "cell_type": "code",
   "execution_count": null,
   "metadata": {},
   "outputs": [],
   "source": [
    "batches = {\n",
    "    \"day6_SI\": {\"x\": 6200, \"y\": 6200},\n",
    "    \"day6_SI_r2\": {\"x\": 5800, \"y\": 5500},\n",
    "    \"day8_SI_Ctrl\": {\"x\": 2400, \"y\": 2400},\n",
    "    \"day8_SI_r2\": {\"x\": 3200, \"y\": 1500},\n",
    "    \"day30_SI\": {\"x\": 6400, \"y\": 2400},\n",
    "    \"day30_SI_r2\": {\"x\": 6200, \"y\": 6200},\n",
    "    \"day90_SI\": {\"x\": 2400, \"y\": 2400},\n",
    "    \"day90_SI_r2\": {\"x\": 1200, \"y\": 6200},\n",
    "}\n",
    "\n",
    "# subset anndata\n",
    "adata = adata[adata.obs.batch.isin(batches.keys())]\n",
    "adata"
   ]
  },
  {
   "cell_type": "code",
   "execution_count": null,
   "metadata": {},
   "outputs": [],
   "source": [
    "def absolute_cell_counts(adata, key):\n",
    "    df = adata.obs\n",
    "    absolute_cells = df.groupby([\"batch\", key]).size().unstack()\n",
    "    absolute_cells[\"Day\"] = [\n",
    "        re.findall(r\"\\d+\", index)[0] for index in absolute_cells.index\n",
    "    ]\n",
    "    return absolute_cells\n",
    "\n",
    "\n",
    "def relative_cell_counts(adata, key):\n",
    "    df = adata.obs\n",
    "    relative_freq = df.groupby([\"batch\", key]).size().unstack()\n",
    "    relative_freq = relative_freq.div(relative_freq.sum(axis=1), axis=0) * 100\n",
    "    relative_freq[\"Day\"] = [\n",
    "        re.findall(r\"\\d+\", index)[0] for index in relative_freq.index\n",
    "    ]\n",
    "    return relative_freq"
   ]
  },
  {
   "cell_type": "code",
   "execution_count": null,
   "metadata": {},
   "outputs": [],
   "source": [
    "def barplot(df, key):\n",
    "    df = pd.melt(df.reset_index(), id_vars=[\"batch\", \"Day\"])\n",
    "    # g = sns.catplot(\n",
    "    #     df,\n",
    "    #     x=\"Day\",\n",
    "    #     y=\"value\",\n",
    "    #     kind=\"bar\",\n",
    "    #     col=key,\n",
    "    #     sharey=False,\n",
    "    #     col_wrap=4,\n",
    "    # )\n",
    "    # g.map(sns.swarmplot, 'Day', 'value')\n",
    "    g = sns.FacetGrid(df, col=key, col_wrap=4, sharey=False)\n",
    "    g.map_dataframe(\n",
    "        sns.barplot,\n",
    "        x=\"Day\",\n",
    "        y=\"value\",\n",
    "        capsize=0.4,\n",
    "        edgecolor=\"black\",\n",
    "        linewidth=0.5,\n",
    "        errwidth=1,\n",
    "        color=\"#3A9AB2\",\n",
    "    )\n",
    "    g.map_dataframe(sns.swarmplot, x=\"Day\", y=\"value\", color=\"#EF5703\")\n",
    "    return g"
   ]
  },
  {
   "cell_type": "code",
   "execution_count": null,
   "metadata": {},
   "outputs": [],
   "source": [
    "barplot(df=absolute_cell_counts(adata, \"Class\"), key=\"Class\")"
   ]
  },
  {
   "cell_type": "code",
   "execution_count": null,
   "metadata": {},
   "outputs": [],
   "source": [
    "g = barplot(df=relative_cell_counts(adata, \"Type\"), key=\"Type\")\n",
    "g.savefig(\"out/cell_frequencies_subtype.pdf\")"
   ]
  },
  {
   "cell_type": "code",
   "execution_count": null,
   "metadata": {},
   "outputs": [],
   "source": [
    "relative_cell_counts(adata, \"Type\")"
   ]
  },
  {
   "cell_type": "code",
   "execution_count": null,
   "metadata": {},
   "outputs": [],
   "source": []
  }
 ],
 "metadata": {
  "kernelspec": {
   "display_name": "Python 3",
   "language": "python",
   "name": "python3"
  },
  "language_info": {
   "codemirror_mode": {
    "name": "ipython",
    "version": 3
   },
   "file_extension": ".py",
   "mimetype": "text/x-python",
   "name": "python",
   "nbconvert_exporter": "python",
   "pygments_lexer": "ipython3",
   "version": "3.11.9"
  }
 },
 "nbformat": 4,
 "nbformat_minor": 2
}
