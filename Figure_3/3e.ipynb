{
 "cells": [
  {
   "cell_type": "code",
   "execution_count": null,
   "metadata": {},
   "outputs": [],
   "source": [
    "# import libraries\n",
    "import scanpy as sc\n",
    "import pandas as pd\n",
    "import numpy as np\n",
    "from tqdm.notebook import tqdm\n",
    "import matplotlib.pyplot as plt\n",
    "import imageio as io\n",
    "import cv2\n",
    "import matplotlib.patches as patches\n",
    "import os\n",
    "import json"
   ]
  },
  {
   "cell_type": "code",
   "execution_count": null,
   "metadata": {},
   "outputs": [],
   "source": [
    "experiment_name = \"day8_SI_r2\"\n",
    "whole_adata = sc.read(\"../data/adata/timecourse.h5ad\")\n",
    "finalized_adata = whole_adata[whole_adata.obs.batch == experiment_name]\n",
    "\n",
    "# the following has the transcripts saved. It is a temporary adata along the processing pipeline\n",
    "path_to_adata_with_transcripts = \"../data/adata/day8_r2_with_transcripts.h5ad\"\n",
    "\n",
    "# all h and e and IF are generated and saved\n",
    "path_to_h_and_e = \"../data/images/day8_r2_h_and_e_alignment_gan.npy\"\n",
    "path_to_if = \"../data/images/day8_r2_IF_alignment.npy\"\n",
    "\n",
    "xenium_output_path = \"../data/xenium_output/day8_r2\""
   ]
  },
  {
   "cell_type": "code",
   "execution_count": null,
   "metadata": {},
   "outputs": [],
   "source": [
    "# load in the h and e, DAPI, and IF images\n",
    "def import_image(path: str):\n",
    "    \"\"\"\n",
    "    Import the max projected DAPI staining from the provided xenium output folder\n",
    "\n",
    "    Args:\n",
    "        path (str): path to the xenium folder\n",
    "\n",
    "    Returns:\n",
    "        img (np.array): image as a numpy array\n",
    "    \"\"\"\n",
    "\n",
    "    file = os.path.join(path, \"morphology_mip.ome.tif\")\n",
    "    img = io.imread(file)\n",
    "    return img\n",
    "\n",
    "\n",
    "# transform the transcript coordinates from microns to pixels\n",
    "def get_pixel_size(path: str) -> float:\n",
    "    \"\"\"\n",
    "    Get the pixel size for micron to pixel transform from the provided xenium output folder\n",
    "\n",
    "    Args:\n",
    "        path (str): path to the xenium folder\n",
    "\n",
    "    Returns:\n",
    "        pixel_size (float): pixel size in microns\n",
    "    \"\"\"\n",
    "\n",
    "    file = open(os.path.join(path, \"experiment.xenium\"))\n",
    "    experiment = json.load(file)\n",
    "    pixel_size = experiment[\"pixel_size\"]\n",
    "    return pixel_size"
   ]
  },
  {
   "cell_type": "code",
   "execution_count": null,
   "metadata": {},
   "outputs": [],
   "source": [
    "# Read in the max-projected DAPI\n",
    "xenium_dapi = import_image(xenium_output_path)"
   ]
  },
  {
   "cell_type": "code",
   "execution_count": null,
   "metadata": {},
   "outputs": [],
   "source": [
    "# Read in the adata holding the transcripts\n",
    "transcripts = sc.read(path_to_adata_with_transcripts)\n",
    "points = transcripts.uns[\"points\"]"
   ]
  },
  {
   "cell_type": "code",
   "execution_count": null,
   "metadata": {},
   "outputs": [],
   "source": [
    "##save the different parts of the transcripts df for fast indexing\n",
    "points_x = points.x.values\n",
    "points_y = points.y.values\n",
    "points_z = points.z.values\n",
    "points_gene = points.gene.values\n",
    "points_cell = points.cell.values\n",
    "points_split_cell = points.split_cell.values\n",
    "points[\"split_cell\"] = points[\"split_cell\"].values.astype(int)"
   ]
  },
  {
   "cell_type": "code",
   "execution_count": null,
   "metadata": {},
   "outputs": [],
   "source": [
    "# Transform the x and y coordinates to pixels from microns\n",
    "pixel_size = get_pixel_size(xenium_output_path)\n",
    "transformed_x = points_x * (1 / pixel_size)\n",
    "transformed_y = points_y * (1 / pixel_size)"
   ]
  },
  {
   "cell_type": "code",
   "execution_count": null,
   "metadata": {},
   "outputs": [],
   "source": [
    "# Downscaling the dapi overview by 50x (you can change this with no side effects other than runtime in the next cell)\n",
    "down_factor = 50\n",
    "\n",
    "new_width = int(xenium_dapi.shape[1] / down_factor)\n",
    "new_height = int(xenium_dapi.shape[0] / down_factor)\n",
    "\n",
    "thumbnail = cv2.resize(xenium_dapi, (new_width, new_height))"
   ]
  },
  {
   "cell_type": "markdown",
   "metadata": {},
   "source": [
    "Defining the area to zoom in on and subsetting the transcripts file to those lying in this region"
   ]
  },
  {
   "cell_type": "code",
   "execution_count": null,
   "metadata": {},
   "outputs": [],
   "source": [
    "min_x = int(2120 / pixel_size)\n",
    "max_x = int(2600 / pixel_size)\n",
    "\n",
    "min_y = int(1420 / pixel_size)\n",
    "max_y = int(1915 / pixel_size)"
   ]
  },
  {
   "cell_type": "code",
   "execution_count": null,
   "metadata": {},
   "outputs": [],
   "source": [
    "# Get the transcripts falling in the box you created\n",
    "subsetted_indices = np.where(\n",
    "    (transformed_x > min_y)\n",
    "    & (transformed_x < max_y)\n",
    "    & (transformed_y > min_x)\n",
    "    & (transformed_y < max_x)\n",
    ")[0]\n",
    "\n",
    "transcripts_df = pd.DataFrame(\n",
    "    zip(\n",
    "        transformed_x[subsetted_indices],\n",
    "        transformed_y[subsetted_indices],\n",
    "        points_gene[subsetted_indices],\n",
    "        points_split_cell[subsetted_indices],\n",
    "    ),\n",
    "    index=points_cell[subsetted_indices],\n",
    "    columns=[\"x\", \"y\", \"gene\", \"split_cell\"],\n",
    ")"
   ]
  },
  {
   "cell_type": "markdown",
   "metadata": {},
   "source": [
    "Plotting TGFb isoforms"
   ]
  },
  {
   "cell_type": "code",
   "execution_count": null,
   "metadata": {},
   "outputs": [],
   "source": [
    "plt.figure(figsize=(10, 4), dpi=200)\n",
    "ax1 = plt.gca()\n",
    "\n",
    "segmentation_face_color = \"leiden\"\n",
    "inside_alpha = 0.34\n",
    "outside_alpha = 0.34\n",
    "\n",
    "celltypes = []\n",
    "ids = np.array([i.split(\"_\")[-1] for i in finalized_adata.obs.index.values]).astype(int)\n",
    "id_df = pd.DataFrame(\n",
    "    zip(ids, finalized_adata.obs[segmentation_face_color].values),\n",
    "    columns=[\"id\", segmentation_face_color],\n",
    ")\n",
    "\n",
    "img_cropped = xenium_dapi[min_x:max_x, min_y:max_y]\n",
    "ax1.imshow(img_cropped, vmax=np.percentile(img_cropped, 99.9) * 1.5, cmap=\"Greys_r\")\n",
    "\n",
    "\n",
    "tgfb = \"#FD04EE\"  # pink\n",
    "tgfb2 = \"#1FFD04\"  # green\n",
    "tgfb3 = \"#ea871e\"  # red\n",
    "\n",
    "transcript_colors = [tgfb, tgfb2, tgfb3]\n",
    "\n",
    "pt_size = 11\n",
    "gene_subset = [\"Tgfb1\", \"Tgfb2\", \"Tgfb3\"]\n",
    "col_ct = 0\n",
    "for i in gene_subset:\n",
    "    transcripts_genes_only_current = transcripts_df[transcripts_df[\"gene\"] == i]\n",
    "    for x, y in zip(\n",
    "        transcripts_genes_only_current.x.values, transcripts_genes_only_current.y.values\n",
    "    ):\n",
    "        circle = patches.Circle(\n",
    "            (x - min_y, y - min_x),\n",
    "            radius=pt_size,\n",
    "            edgecolor=\"black\",\n",
    "            linewidth=0.15,\n",
    "            facecolor=transcript_colors[col_ct],\n",
    "            alpha=1,\n",
    "            zorder=2,\n",
    "        )\n",
    "        ax1.add_patch(circle)\n",
    "    col_ct += 1\n",
    "\n",
    "col_ct = 0\n",
    "for i in gene_subset:\n",
    "    plt.scatter([], [], c=transcript_colors[col_ct], label=i)\n",
    "    col_ct += 1\n",
    "\n",
    "ax1.set_xlim(0, max_y - min_y)\n",
    "ax1.set_ylim(0, max_x - min_x)\n",
    "ax1.invert_yaxis()\n",
    "ax1.axis(\"off\")\n",
    "plt.show()"
   ]
  }
 ],
 "metadata": {
  "kernelspec": {
   "display_name": "merscope_01",
   "language": "python",
   "name": "python3"
  },
  "language_info": {
   "codemirror_mode": {
    "name": "ipython",
    "version": 3
   },
   "file_extension": ".py",
   "mimetype": "text/x-python",
   "name": "python",
   "nbconvert_exporter": "python",
   "pygments_lexer": "ipython3",
   "version": "3.10.13"
  }
 },
 "nbformat": 4,
 "nbformat_minor": 2
}
