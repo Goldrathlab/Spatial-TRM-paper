{
 "cells": [
  {
   "cell_type": "code",
   "execution_count": null,
   "metadata": {},
   "outputs": [],
   "source": [
    "import scanpy as sc\n",
    "import scvelo as scv\n",
    "import pandas as pd\n",
    "import numpy as np\n",
    "import matplotlib.colors as clr\n",
    "import warnings\n",
    "from typing import List\n",
    "\n",
    "warnings.filterwarnings(\"ignore\")"
   ]
  },
  {
   "cell_type": "code",
   "execution_count": null,
   "metadata": {},
   "outputs": [],
   "source": [
    "zissou = [\n",
    "    \"#3A9AB2\",\n",
    "    \"#6FB2C1\",\n",
    "    \"#91BAB6\",\n",
    "    \"#A5C2A3\",\n",
    "    \"#BDC881\",\n",
    "    \"#DCCB4E\",\n",
    "    \"#E3B710\",\n",
    "    \"#E79805\",\n",
    "    \"#EC7A05\",\n",
    "    \"#EF5703\",\n",
    "    \"#F11B00\",\n",
    "]\n",
    "\n",
    "colormap = clr.LinearSegmentedColormap.from_list(\"Zissou\", zissou)\n",
    "colormap_r = clr.LinearSegmentedColormap.from_list(\"Zissou\", zissou[::-1])"
   ]
  },
  {
   "cell_type": "code",
   "execution_count": null,
   "metadata": {},
   "outputs": [],
   "source": [
    "adata = sc.read_h5ad(\"../data/adata/timecourse.h5ad\")"
   ]
  },
  {
   "cell_type": "code",
   "execution_count": null,
   "metadata": {},
   "outputs": [],
   "source": [
    "batches = {\n",
    "    \"day 6\": [\n",
    "        \"day6_SI\",\n",
    "        \"day6_SI_r2\",\n",
    "    ],\n",
    "    \"day 8\": [\n",
    "        \"day8_SI_Ctrl\",\n",
    "        \"day8_SI_r2\",\n",
    "    ],\n",
    "    \"day 30\": [\n",
    "        \"day30_SI\",\n",
    "        \"day30_SI_r2\",\n",
    "    ],\n",
    "    \"day 90\": [\n",
    "        \"day90_SI\",\n",
    "        \"day90_SI_r2\",\n",
    "    ],\n",
    "}\n",
    "all_batches = np.concatenate(list(batches.values())).tolist()"
   ]
  },
  {
   "cell_type": "code",
   "execution_count": null,
   "metadata": {},
   "outputs": [],
   "source": [
    "sc.pp.normalize_total(adata, target_sum=1e4)\n",
    "sc.pp.log1p(adata)"
   ]
  },
  {
   "cell_type": "code",
   "execution_count": null,
   "metadata": {},
   "outputs": [],
   "source": [
    "# list from https://www.genome.jp/pathway/mmu04060\n",
    "df_cytokines = pd.read_csv(\"../data/kegg_cytokines.csv\")\n",
    "df_cytokines = df_cytokines[df_cytokines[\"type\"] == \"ligand\"]\n",
    "df_cytokines.head()"
   ]
  },
  {
   "cell_type": "code",
   "execution_count": null,
   "metadata": {},
   "outputs": [],
   "source": [
    "cytokine_genes = df_cytokines[\"gene\"][\n",
    "    df_cytokines[\"gene\"].isin(adata.var_names)\n",
    "].to_list()"
   ]
  },
  {
   "cell_type": "code",
   "execution_count": null,
   "metadata": {},
   "outputs": [],
   "source": [
    "def filter_adata_expressed_in_n_cells(adata, percent=0.05):\n",
    "    \"\"\"\n",
    "    Filter the adata to only include genes expressed in more than a certain percentage of cells\n",
    "\n",
    "    Parameters:\n",
    "    - adata (anndata): The anndata object containing the gene expression\n",
    "    - percent (float): The percentage of cells a gene must be expressed in to be included\n",
    "\n",
    "    Return:\n",
    "    - adata (anndata): The filtered anndata object\n",
    "    \"\"\"\n",
    "\n",
    "    bin_Layer = adata.X > 0\n",
    "    gene_expressed_in_percent_cells = np.mean(bin_Layer, axis=0)\n",
    "    keep = gene_expressed_in_percent_cells > percent\n",
    "    adata = adata[:, keep]\n",
    "    return adata\n",
    "\n",
    "\n",
    "def scvelo_heatmap(\n",
    "    adata: sc.AnnData,\n",
    "    batches: List[str],\n",
    "    sortby: str,\n",
    "    highlight: List[str],\n",
    "    n_bins: int = 5,\n",
    "):\n",
    "    \"\"\"\n",
    "    Create a heatmap to visualize gene expression trends in single-cell RNA-seq data,\n",
    "    with options for subsetting, sorting, and highlighting genes.\n",
    "\n",
    "    Parameters:\n",
    "    - adata (sc.AnnData): Annotated data object containing single-cell RNA-seq data.\n",
    "    - batches (List[str]): List of batch identifiers to subset the data.\n",
    "    - sortby (str): Variable to sort the heatmap by (e.g., \"crypt_villi_axis\").\n",
    "    - highlight (List[str]): List of labels to highlight on the heatmap.\n",
    "    - n_bins (int, optional): Integer specifying the number of bins to use for convolution (default: 5).\n",
    "\n",
    "    Returns:\n",
    "    - s (seaborn.matrix.ClusterGrid): Matplotlib figure object representing the heatmap.\n",
    "\n",
    "    This function subsets the input data based on specified batches, and creates a heatmap\n",
    "    to visualize gene expression trends along a specified variable. The function also allows\n",
    "    highlighting specific labels on the y-axis.\n",
    "\n",
    "    Example:\n",
    "    ```\n",
    "    scvelo_heatmap(adata, batches=list(batches.keys())[0:2],\n",
    "               sortby=\"crypt_villi_axis\",\n",
    "               highlight=highlight,\n",
    "               n_bins=20)\n",
    "    ```\n",
    "    \"\"\"\n",
    "    print(\"Creating Heatmap for batches\", \" + \".join(batches))\n",
    "    # Subset batches\n",
    "    adata = adata[adata.obs[\"batch\"].isin(batches)]\n",
    "    # Filter to include only genes that are expressed in 5% of the cells\n",
    "    # adata = filter_adata_expressed_in_n_cells(adata)\n",
    "    adata = adata.copy()\n",
    "\n",
    "    n_convolve = len(adata) // n_bins\n",
    "    print(f\"Setting `n_convolve` to {n_convolve} ({n_bins} bins, {len(adata)} cells) \")\n",
    "    # Plot\n",
    "    s = scv.pl.heatmap(\n",
    "        adata,\n",
    "        var_names=adata.var_names,\n",
    "        sortby=\"crypt_villi_axis\",\n",
    "        n_convolve=n_convolve,\n",
    "        show=False,\n",
    "        yticklabels=True,\n",
    "        rasterized=True,\n",
    "        color_map=colormap,\n",
    "    )\n",
    "    ax = s.ax_heatmap\n",
    "\n",
    "    # Loop through the x-axis tick labels and show/hide based on the 'highlight' list\n",
    "    for i, label in enumerate(ax.get_yticklabels()):\n",
    "        if label.get_text() not in highlight:\n",
    "            label.set_visible(False)\n",
    "            ax.get_yticklines()[2 * i + 1].set_visible(False)\n",
    "        ax.get_yticklines()[2 * i].set_visible(False)\n",
    "\n",
    "    ax.set_xlabel(\"\")\n",
    "    ax.set_title(f\"Gene Expression Trends Along {sortby}\")\n",
    "    return s"
   ]
  },
  {
   "cell_type": "code",
   "execution_count": null,
   "metadata": {},
   "outputs": [],
   "source": [
    "s = scvelo_heatmap(\n",
    "    adata[:, cytokine_genes],\n",
    "    batches=all_batches,\n",
    "    sortby=\"crypt_villi_axis\",\n",
    "    highlight=cytokine_genes,\n",
    "    n_bins=20,\n",
    ")"
   ]
  }
 ],
 "metadata": {
  "kernelspec": {
   "display_name": "Python 3",
   "language": "python",
   "name": "python3"
  },
  "language_info": {
   "codemirror_mode": {
    "name": "ipython",
    "version": 3
   },
   "file_extension": ".py",
   "mimetype": "text/x-python",
   "name": "python",
   "nbconvert_exporter": "python",
   "pygments_lexer": "ipython3",
   "version": "3.10.13"
  }
 },
 "nbformat": 4,
 "nbformat_minor": 2
}
