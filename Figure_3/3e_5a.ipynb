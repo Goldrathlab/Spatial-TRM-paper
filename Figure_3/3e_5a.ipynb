{
 "cells": [
  {
   "cell_type": "code",
   "execution_count": null,
   "metadata": {
    "vscode": {
     "languageId": "r"
    }
   },
   "outputs": [],
   "source": [
    "BiocManager::install(\"GenomeInfoDbData\")"
   ]
  },
  {
   "cell_type": "code",
   "execution_count": null,
   "metadata": {
    "vscode": {
     "languageId": "r"
    }
   },
   "outputs": [],
   "source": [
    "library(tidyverse)\n",
    "library(zellkonverter)\n",
    "\n",
    "theme_custom <- function(base_size = 12){ \n",
    "  theme_bw(base_size = base_size) %+replace%    #replace elements we want to change\n",
    "    theme(\n",
    "      panel.grid = element_blank(), \n",
    "      strip.background = element_rect(fill = \"#F2F2F2\", colour = NA)\n",
    "    )\n",
    "}\n",
    "theme_set(theme_custom())\n",
    "options(repr.plot.width = 8, repr.plot.height = 5, repr.plot.res = 250)"
   ]
  },
  {
   "cell_type": "code",
   "execution_count": null,
   "metadata": {
    "vscode": {
     "languageId": "r"
    }
   },
   "outputs": [],
   "source": [
    "sce = readH5AD(\"../data/adata/timecourse.h5ad\")"
   ]
  },
  {
   "cell_type": "code",
   "execution_count": null,
   "metadata": {
    "vscode": {
     "languageId": "r"
    }
   },
   "outputs": [],
   "source": [
    "uninfected = readH5AD(\"../data/adata/uninfected.h5ad\")\n",
    "uninfected$day = 0"
   ]
  },
  {
   "cell_type": "code",
   "execution_count": null,
   "metadata": {
    "vscode": {
     "languageId": "r"
    }
   },
   "outputs": [],
   "source": [
    "uninfected$Immunocentric_Type"
   ]
  },
  {
   "cell_type": "code",
   "execution_count": null,
   "metadata": {
    "vscode": {
     "languageId": "r"
    }
   },
   "outputs": [],
   "source": [
    "suppressPackageStartupMessages({\n",
    "    library(scater)\n",
    "    library(scran)\n",
    "    library(scuttle)\n",
    "    library(SingleCellExperiment)\n",
    "})"
   ]
  },
  {
   "cell_type": "markdown",
   "metadata": {},
   "source": [
    "Setting up the object for plotting TGFb trends"
   ]
  },
  {
   "cell_type": "code",
   "execution_count": null,
   "metadata": {
    "vscode": {
     "languageId": "r"
    }
   },
   "outputs": [],
   "source": [
    "sce$day <- stringr::str_extract(sce$batch, \"\\\\d+\")\n",
    "sce$day <- factor(sce$day, levels = c(\"0\", \"6\", \"8\", \"30\", \"90\"))"
   ]
  },
  {
   "cell_type": "code",
   "execution_count": null,
   "metadata": {
    "vscode": {
     "languageId": "r"
    }
   },
   "outputs": [],
   "source": [
    "create_df <- function(marker, sce) {\n",
    "    df <- data.frame(\n",
    "        \"Day\" = retrieveCellInfo(sce, exprs_values = \"X\", by = \"day\")$value,\n",
    "        \"Subtype\" = retrieveCellInfo(sce, exprs_values = \"X\", by = \"Type\")$value,\n",
    "        \"Crypt_Villi_Axis\" = retrieveCellInfo(sce, exprs_values = \"X\", by = \"crypt_villi_axis\")$value,\n",
    "        \"epithelial_distance_clipped\" = retrieveCellInfo(sce, exprs_values = \"X\", by = \"epithelial_distance_clipped\")$value\n",
    "        # \"predicted_longitudinal\" = retrieveCellInfo(sce, exprs_values = \"X\", by = \"predicted_longitudinal\")$value\n",
    "    )\n",
    "\n",
    "    for (m in marker) {\n",
    "        df[m] <- retrieveCellInfo(sce, exprs_values = \"X\", by = m)$value\n",
    "    }\n",
    "\n",
    "    df <- df |> pivot_longer(c(\"Crypt_Villi_Axis\", \"epithelial_distance_clipped\"), names_to = \"Axis\", values_to = \"Axis_value\")\n",
    "\n",
    "    df <- df |> pivot_longer(-c(Axis, Axis_value, Day, Subtype), names_to = \"Gene\", values_to = \"Expression\")\n",
    "\n",
    "    return(df)\n",
    "}\n",
    "\n",
    "df <- create_df(c(\"Tgfb1\", \"Tgfb2\", \"Tgfb3\"), sce)\n",
    "\n",
    "head(df)"
   ]
  },
  {
   "cell_type": "code",
   "execution_count": null,
   "metadata": {
    "vscode": {
     "languageId": "r"
    }
   },
   "outputs": [],
   "source": [
    "df_uninfected <- create_df(c(\"Tgfb1\", \"Tgfb2\", \"Tgfb3\"), uninfected)\n",
    "df_uninfected |> head()"
   ]
  },
  {
   "cell_type": "code",
   "execution_count": null,
   "metadata": {
    "vscode": {
     "languageId": "r"
    }
   },
   "outputs": [],
   "source": [
    "df_all = rbind(df,df_uninfected)\n",
    "df_all |> head()"
   ]
  },
  {
   "cell_type": "markdown",
   "metadata": {},
   "source": [
    "Plotting trends"
   ]
  },
  {
   "cell_type": "code",
   "execution_count": null,
   "metadata": {
    "vscode": {
     "languageId": "r"
    }
   },
   "outputs": [],
   "source": [
    "options(repr.plot.width = 8, repr.plot.height = 3, repr.plot.res = 250)\n",
    "ggplot(filter(rbind(df,df_uninfected), Axis == \"Crypt_Villi_Axis\"),\n",
    "        aes(\n",
    "          x=Axis_value,\n",
    "          y=Expression,\n",
    "          color=Day)\n",
    "        )+\n",
    "    geom_smooth(se = FALSE) +\n",
    "    scale_x_continuous(\n",
    "      breaks = c(0,1),\n",
    "      labels = c(\"bottom\", \"top\"),\n",
    "      limits = c(0,1)\n",
    "    ) +\n",
    "    xlab(\"Crypt-villus axis\") +\n",
    "    ylab(\"scaled expression\") +\n",
    "    scale_color_manual(\n",
    "      values = c(\"#9467bd\", \"#E15759\", \"#F28E2B\", \"#59A14F\", \"#4E79A7\")\n",
    "    ) +\n",
    "    facet_wrap( ~ Gene, scales = \"free_y\", ncol = 3) +\n",
    "    ggtitle(\"\")\n",
    "\n",
    "# ggsave(plot = last_plot(), file=\"out/TGFb.pdf\", width = 8, height = 3)"
   ]
  },
  {
   "cell_type": "code",
   "execution_count": null,
   "metadata": {
    "vscode": {
     "languageId": "r"
    }
   },
   "outputs": [],
   "source": [
    "df <- create_df(c(\"Cxcl9\", \"Cxcl10\"), sce)\n",
    "df_uninfected <- create_df(c(\"Cxcl9\", \"Cxcl10\"), uninfected)\n",
    "df_all = rbind(df,df_uninfected)\n",
    "df_all |> head()"
   ]
  },
  {
   "cell_type": "code",
   "execution_count": null,
   "metadata": {
    "vscode": {
     "languageId": "r"
    }
   },
   "outputs": [],
   "source": [
    "options(repr.plot.width = 8, repr.plot.height = 3, repr.plot.res = 250)\n",
    "ggplot(filter(rbind(df,df_uninfected), Axis == \"Crypt_Villi_Axis\"),\n",
    "        aes(\n",
    "          x=Axis_value,\n",
    "          y=Expression,\n",
    "          color=Day)\n",
    "        )+\n",
    "    geom_smooth(se = FALSE) +\n",
    "    scale_x_continuous(\n",
    "      breaks = c(0,1),\n",
    "      labels = c(\"bottom\", \"top\"),\n",
    "      limits = c(0,1)\n",
    "    ) +\n",
    "    xlab(\"Crypt-villus axis\") +\n",
    "    ylab(\"scaled expression\") +\n",
    "    scale_color_manual(\n",
    "      values = c(\"#9467bd\", \"#E15759\", \"#F28E2B\", \"#59A14F\", \"#4E79A7\")\n",
    "    ) +\n",
    "    facet_wrap( ~ Gene, scales = \"free_y\", ncol = 3) +\n",
    "    ggtitle(\"\")\n",
    "\n",
    "# ggsave(plot = last_plot(), file=\"out/Cxcl.pdf\", width = 8, height = 3)"
   ]
  }
 ],
 "metadata": {
  "kernelspec": {
   "display_name": "R",
   "language": "R",
   "name": "ir"
  },
  "language_info": {
   "codemirror_mode": "r",
   "file_extension": ".r",
   "mimetype": "text/x-r-source",
   "name": "R",
   "pygments_lexer": "r",
   "version": "4.3.3"
  }
 },
 "nbformat": 4,
 "nbformat_minor": 2
}
