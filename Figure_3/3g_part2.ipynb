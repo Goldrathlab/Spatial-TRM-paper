{
 "cells": [
  {
   "cell_type": "code",
   "execution_count": null,
   "metadata": {
    "vscode": {
     "languageId": "r"
    }
   },
   "outputs": [],
   "source": [
    "# install packages\n",
    "# remotes::install_github(\"jokergoo/circlize@9b21578\")\n",
    "# remotes::install_github(\"jokergoo/ComplexHeatmap@7d95ca5\")\n",
    "# remotes::install_github(\"immunogenomics/presto@31dc97f\")\n",
    "remotes::install_github(\"jinworks/CellChat@88c2e13\")\n",
    "BiocManager::install(\"GenomeInfoDbData\")"
   ]
  },
  {
   "cell_type": "code",
   "execution_count": null,
   "metadata": {
    "vscode": {
     "languageId": "r"
    }
   },
   "outputs": [],
   "source": [
    "suppressPackageStartupMessages({\n",
    "    library(tidyverse)\n",
    "    library(zellkonverter)\n",
    "    library(scater)\n",
    "    library(scran)\n",
    "    library(scuttle)\n",
    "    library(SingleCellExperiment)\n",
    "    library(CellChat)\n",
    "})"
   ]
  },
  {
   "cell_type": "code",
   "execution_count": null,
   "metadata": {
    "vscode": {
     "languageId": "r"
    }
   },
   "outputs": [],
   "source": [
    "sce = readH5AD(\"tmp/adata_gated.h5ad\")"
   ]
  },
  {
   "cell_type": "code",
   "execution_count": null,
   "metadata": {
    "vscode": {
     "languageId": "r"
    }
   },
   "outputs": [],
   "source": [
    "sce$day <- stringr::str_extract(sce$batch, \"\\\\d+\")\n",
    "sce$day <- factor(sce$day, levels = c(\"6\", \"8\", \"30\", \"90\"))"
   ]
  },
  {
   "cell_type": "code",
   "execution_count": null,
   "metadata": {
    "vscode": {
     "languageId": "r"
    }
   },
   "outputs": [],
   "source": [
    "run_cellchat <- function(sce_tmp, name) {\n",
    "    \n",
    "\n",
    "    data.input = assay(sce_tmp, \"X\") # X are the log norm counts here, see part 1\n",
    "    meta = data.frame(labels = sce_tmp$Subtype_gate,\n",
    "                    samples = sce_tmp$batch,\n",
    "                    row.names = colnames(sce_tmp))\n",
    "    spatial.locs = reducedDim(sce_tmp, 'X_spatial') |> as.data.frame()\n",
    "    scale.factors = list(spot.diameter = 5, spot = 5)\n",
    "    spatial.factors = data.frame(ratio = 1, tol = 5)\n",
    "\n",
    "    cellchat <-\n",
    "        createCellChat(\n",
    "            object = data.input,\n",
    "            meta = meta,\n",
    "            group.by = \"labels\",\n",
    "            datatype = \"spatial\",\n",
    "            coordinates = spatial.locs,\n",
    "            spatial.factors = spatial.factors\n",
    "        )\n",
    "\n",
    "\n",
    "    CellChatDB <- CellChatDB.mouse # use CellChatDB.human if running on human data\n",
    "\n",
    "    # use a subset of CellChatDB for cell-cell communication analysis\n",
    "    # CellChatDB.use <- subsetDB(CellChatDB, search = \"Secreted Signaling\") # use Secreted Signaling\n",
    "    # use all CellChatDB for cell-cell communication analysis\n",
    "    CellChatDB.use <- CellChatDB # simply use the default CellChatDB\n",
    "\n",
    "    # set the used database in the object\n",
    "    cellchat@DB <- CellChatDB.use\n",
    "\n",
    "    # subset the expression data of signaling genes for saving computation cost\n",
    "    cellchat <- subsetData(cellchat) # This step is necessary even if using the whole database\n",
    "\n",
    "    # future::plan(\"multisession\", workers = 8) # do parallel\n",
    "    cellchat <- identifyOverExpressedGenes(cellchat)\n",
    "    cellchat <- identifyOverExpressedInteractions(cellchat)\n",
    "\n",
    "    # Typically, contact.range = 10, which is a typical human cell size\n",
    "    cellchat <- computeCommunProb(cellchat,\n",
    "        type = \"truncatedMean\", trim = 0.1,\n",
    "        distance.use = TRUE, interaction.range = 100,\n",
    "        scale.distance = 1,\n",
    "        contact.dependent = TRUE, contact.range = 10\n",
    "    )\n",
    "    # Filter out the cell-cell communication if there are only few number of cells in certain cell groups\n",
    "    cellchat <- filterCommunication(cellchat, min.cells = 10)\n",
    "\n",
    "    cellchat <- computeCommunProbPathway(cellchat)\n",
    "    cellchat <- aggregateNet(cellchat)\n",
    "\n",
    "    saveRDS(cellchat, file = paste0(\"tmp/cellchat_\",name,\".rds\"))\n",
    "}"
   ]
  },
  {
   "cell_type": "code",
   "execution_count": null,
   "metadata": {
    "vscode": {
     "languageId": "r"
    }
   },
   "outputs": [],
   "source": [
    "cellchat_day <- function(sce, day) {\n",
    "    sce_tmp = sce[,sce$day == day]\n",
    "\n",
    "    # This is absolutely key. Otherwise Cellchat does not WORK!\n",
    "    sce_tmp$batch <- droplevels(sce_tmp$batch)\n",
    "    \n",
    "    run_cellchat(sce_tmp, day)\n",
    "}"
   ]
  },
  {
   "cell_type": "code",
   "execution_count": null,
   "metadata": {
    "vscode": {
     "languageId": "r"
    }
   },
   "outputs": [],
   "source": [
    "cellchat_day(sce, 6)\n",
    "cellchat_day(sce, 8)\n",
    "cellchat_day(sce, 30)\n",
    "cellchat_day(sce, 90)"
   ]
  },
  {
   "cell_type": "code",
   "execution_count": null,
   "metadata": {
    "vscode": {
     "languageId": "r"
    }
   },
   "outputs": [],
   "source": [
    "run_cellchat(sce, \"full\")"
   ]
  },
  {
   "cell_type": "code",
   "execution_count": null,
   "metadata": {
    "vscode": {
     "languageId": "r"
    }
   },
   "outputs": [],
   "source": [
    "# data.input = assay(sce, \"X\") # X are the log norm counts here, see part 1\n",
    "# meta = data.frame(labels = sce$Subtype_gate,\n",
    "#                   slices = sce$batch,\n",
    "#                   row.names = colnames(sce))\n",
    "# spatial.locs = reducedDim(sce, 'X_spatial') |> as.data.frame()\n",
    "# scale.factors = list(spot.diameter = 5, spot = 5)\n",
    "# spatial.factors = data.frame(ratio = 1, tol = 5)"
   ]
  },
  {
   "cell_type": "code",
   "execution_count": null,
   "metadata": {
    "vscode": {
     "languageId": "r"
    }
   },
   "outputs": [],
   "source": [
    "# cellchat <-\n",
    "#   createCellChat(\n",
    "#     object = data.input,\n",
    "#     meta = meta,\n",
    "#     group.by = \"labels\",\n",
    "#     datatype = \"spatial\",\n",
    "#     coordinates = spatial.locs,\n",
    "#     spatial.factors = spatial.factors\n",
    "#   )"
   ]
  },
  {
   "cell_type": "code",
   "execution_count": null,
   "metadata": {
    "vscode": {
     "languageId": "r"
    }
   },
   "outputs": [],
   "source": [
    "# cellchat"
   ]
  },
  {
   "cell_type": "code",
   "execution_count": null,
   "metadata": {
    "vscode": {
     "languageId": "r"
    }
   },
   "outputs": [],
   "source": [
    "# CellChatDB <- CellChatDB.mouse # use CellChatDB.human if running on human data\n",
    "\n",
    "# # use a subset of CellChatDB for cell-cell communication analysis\n",
    "# # CellChatDB.use <- subsetDB(CellChatDB, search = \"Secreted Signaling\") # use Secreted Signaling\n",
    "# # use all CellChatDB for cell-cell communication analysis\n",
    "# CellChatDB.use <- CellChatDB # simply use the default CellChatDB\n",
    "\n",
    "# # set the used database in the object\n",
    "# cellchat@DB <- CellChatDB.use"
   ]
  },
  {
   "cell_type": "code",
   "execution_count": null,
   "metadata": {
    "vscode": {
     "languageId": "r"
    }
   },
   "outputs": [],
   "source": [
    "# # subset the expression data of signaling genes for saving computation cost\n",
    "# cellchat <- subsetData(cellchat) # This step is necessary even if using the whole database\n"
   ]
  },
  {
   "cell_type": "code",
   "execution_count": null,
   "metadata": {
    "vscode": {
     "languageId": "r"
    }
   },
   "outputs": [],
   "source": [
    "# # future::plan(\"multisession\", workers = 8) # do parallel\n",
    "# cellchat <- identifyOverExpressedGenes(cellchat)\n",
    "# cellchat <- identifyOverExpressedInteractions(cellchat)"
   ]
  },
  {
   "cell_type": "markdown",
   "metadata": {},
   "source": [
    "This part takes a long time to run!\n",
    "(~3h)"
   ]
  },
  {
   "cell_type": "code",
   "execution_count": null,
   "metadata": {
    "vscode": {
     "languageId": "r"
    }
   },
   "outputs": [],
   "source": [
    "# # Typically, contact.range = 10, which is a typical human cell size\n",
    "# cellchat <- computeCommunProb(cellchat,\n",
    "#   type = \"truncatedMean\", trim = 0.1,\n",
    "#   distance.use = TRUE,, interaction.range = 100,\n",
    "#   scale.distance = 1,\n",
    "#   contact.dependent = TRUE, contact.range = 10\n",
    "# )\n",
    "# # Filter out the cell-cell communication if there are only few number of cells in certain cell groups\n",
    "# cellchat <- filterCommunication(cellchat, min.cells = 10)\n"
   ]
  },
  {
   "cell_type": "code",
   "execution_count": null,
   "metadata": {
    "vscode": {
     "languageId": "r"
    }
   },
   "outputs": [],
   "source": [
    "# cellchat <- computeCommunProbPathway(cellchat)\n",
    "# cellchat <- aggregateNet(cellchat)"
   ]
  },
  {
   "cell_type": "code",
   "execution_count": null,
   "metadata": {
    "vscode": {
     "languageId": "r"
    }
   },
   "outputs": [],
   "source": [
    "# saveRDS(cellchat, file = \"tmp/cellchat.rds\")"
   ]
  }
 ],
 "metadata": {
  "kernelspec": {
   "display_name": "R",
   "language": "R",
   "name": "ir"
  },
  "language_info": {
   "codemirror_mode": "r",
   "file_extension": ".r",
   "mimetype": "text/x-r-source",
   "name": "R",
   "pygments_lexer": "r",
   "version": "4.3.3"
  }
 },
 "nbformat": 4,
 "nbformat_minor": 2
}
