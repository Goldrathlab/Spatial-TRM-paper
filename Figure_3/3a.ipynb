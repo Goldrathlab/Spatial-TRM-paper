{
 "cells": [
  {
   "cell_type": "code",
   "execution_count": null,
   "metadata": {},
   "outputs": [],
   "source": [
    "import scanpy as sc\n",
    "from matplotlib.patches import Rectangle\n",
    "import matplotlib.pyplot as plt\n",
    "import numpy as np\n",
    "import warnings\n",
    "from scipy.spatial import KDTree\n",
    "\n",
    "\n",
    "warnings.filterwarnings(\"ignore\")"
   ]
  },
  {
   "cell_type": "code",
   "execution_count": null,
   "metadata": {},
   "outputs": [],
   "source": [
    "adata = sc.read_h5ad(\"../data/adata/timecourse.h5ad\")"
   ]
  },
  {
   "cell_type": "code",
   "execution_count": null,
   "metadata": {},
   "outputs": [],
   "source": [
    "batches = {\n",
    "    # \"day6_SI\": {\"x\": 6200, \"y\": 6200},\n",
    "    # \"day6_SI_r2\": {\"x\": 5800, \"y\": 5500},\n",
    "    # \"day8_SI_Ctrl\": {\"x\": 2400, \"y\": 2400},\n",
    "    \"day8_SI_r2\": {\"x\": 3200, \"y\": 1500},\n",
    "    # \"day30_SI\": {\"x\": 6400, \"y\": 2400},\n",
    "    # \"day30_SI_r2\": {\"x\": 6200, \"y\": 6200},\n",
    "    # \"day90_SI\": {\"x\": 2400, \"y\": 2400},\n",
    "    # \"day90_SI_r2\": {\"x\": 1200, \"y\": 6200},\n",
    "}\n",
    "\n",
    "# subset anndata\n",
    "adata = adata[adata.obs.batch.isin(batches.keys())]\n",
    "adata"
   ]
  },
  {
   "cell_type": "code",
   "execution_count": null,
   "metadata": {},
   "outputs": [],
   "source": [
    "colors = {\n",
    "    \"Epithelial_Secretory\": \"#AA9228\",\n",
    "    \"Epithelial_Absorptive\": \"#E3C300\",\n",
    "    \"Monocyte\": \"#C37698\",\n",
    "    \"T-Cell\": \"#008E74\",\n",
    "    \"MAIT\": \"#63ABB9\",\n",
    "    \"Myeloid\": \"#EF9684\",\n",
    "    \"ILC\": \"#A0C6D3\",\n",
    "    \"B-Cell\": \"#E2CEAB\",\n",
    "    \"DC\": \"#FE757D\",\n",
    "    \"Fibroblast\": \"#E17300\",\n",
    "    \"Endothelial\": \"#E30133\",\n",
    "    \"NK\": \"#4A7B89\",\n",
    "    \"Epithelial_Progenitor\": \"#F7BC00\",\n",
    "    \"Neuron\": \"#2A2446\",\n",
    "    \"Erythroid\": \"#A5021D\",\n",
    "    \"Eosinophil\": \"#782c4e\",\n",
    "}"
   ]
  },
  {
   "cell_type": "markdown",
   "metadata": {},
   "source": [
    "Defining the area to zoom in on"
   ]
  },
  {
   "cell_type": "code",
   "execution_count": null,
   "metadata": {},
   "outputs": [],
   "source": [
    "xmin, xmax = 555 * 50 * 0.2125, 600 * 50 * 0.2125\n",
    "ymin, ymax = 368 * 50 * 0.2125, 379 * 50 * 0.2125\n",
    "cell_mask = (\n",
    "    (adata.obsm[\"X_spatial\"][:, 0] >= xmin)\n",
    "    & (adata.obsm[\"X_spatial\"][:, 0] <= xmax)\n",
    "    & (adata.obsm[\"X_spatial\"][:, 1] >= ymin)\n",
    "    & (adata.obsm[\"X_spatial\"][:, 1] <= ymax)\n",
    ")"
   ]
  },
  {
   "cell_type": "markdown",
   "metadata": {},
   "source": [
    "Plotting the connections in the region"
   ]
  },
  {
   "cell_type": "code",
   "execution_count": null,
   "metadata": {},
   "outputs": [],
   "source": [
    "fig, ax = plt.subplots(figsize=(6, 6))\n",
    "sc.pl.embedding(adata, basis=\"X_spatial\", ax=ax, show=False)\n",
    "fov = Rectangle(\n",
    "    (xmin, ymin), xmax - xmin, ymax - ymin, edgecolor=\"red\", facecolor=\"none\"\n",
    ")\n",
    "ax.add_patch(fov)"
   ]
  },
  {
   "cell_type": "code",
   "execution_count": null,
   "metadata": {},
   "outputs": [],
   "source": [
    "tree = KDTree(adata.obsm[\"X_spatial\"])\n",
    "distances, indices = tree.query(adata.obsm[\"X_spatial\"][cell_mask], 6)"
   ]
  },
  {
   "cell_type": "code",
   "execution_count": null,
   "metadata": {},
   "outputs": [],
   "source": [
    "fig, ax = plt.subplots(1, 1, figsize=((xmax - xmin) / 25, (ymax - ymin) / 25))\n",
    "\n",
    "\n",
    "ax.scatter(\n",
    "    adata.obsm[\"X_spatial\"][:, 0],\n",
    "    adata.obsm[\"X_spatial\"][:, 1],\n",
    "    s=[80 if i == \"T-Cell\" else 60 for i in adata.obs[\"Type\"]],\n",
    "    c=[colors[i] for i in adata.obs[\"Type\"]],\n",
    "    zorder=10,\n",
    ")\n",
    "\n",
    "for neighbor in range(1, indices.shape[1]):\n",
    "    x_coords = np.array(\n",
    "        [\n",
    "            adata.obsm[\"X_spatial\"][indices[:, 0], 0],\n",
    "            adata.obsm[\"X_spatial\"][indices[:, neighbor], 0],\n",
    "        ]\n",
    "    )\n",
    "    y_coords = np.array(\n",
    "        [\n",
    "            adata.obsm[\"X_spatial\"][indices[:, 0], 1],\n",
    "            adata.obsm[\"X_spatial\"][indices[:, neighbor], 1],\n",
    "        ]\n",
    "    )\n",
    "\n",
    "    ax.plot(\n",
    "        x_coords[:, adata.obs[\"Type\"][indices[:, 0]] == \"T-Cell\"],\n",
    "        y_coords[:, adata.obs[\"Type\"][indices[:, 0]] == \"T-Cell\"],\n",
    "        color=\"firebrick\",\n",
    "        linestyle=\"-\",\n",
    "        linewidth=1,\n",
    "        alpha=0.7,\n",
    "    )\n",
    "    ax.plot(\n",
    "        x_coords[:, ~(adata.obs[\"Type\"][indices[:, 0]] == \"T-Cell\")],\n",
    "        y_coords[:, ~(adata.obs[\"Type\"][indices[:, 0]] == \"T-Cell\")],\n",
    "        color=\"black\",\n",
    "        linestyle=\"-\",\n",
    "        linewidth=1,\n",
    "        alpha=0.2,\n",
    "    )\n",
    "\n",
    "\n",
    "ax.set_xlim(xmin, xmax)\n",
    "ax.set_ylim(ymin, ymax)\n",
    "ax.axis(\"off\")\n",
    "ax.set_aspect(\"equal\", adjustable=\"box\")\n",
    "fig.tight_layout()"
   ]
  }
 ],
 "metadata": {
  "kernelspec": {
   "display_name": "Python 3",
   "language": "python",
   "name": "python3"
  },
  "language_info": {
   "codemirror_mode": {
    "name": "ipython",
    "version": 3
   },
   "file_extension": ".py",
   "mimetype": "text/x-python",
   "name": "python",
   "nbconvert_exporter": "python",
   "pygments_lexer": "ipython3",
   "version": "3.10.13"
  }
 },
 "nbformat": 4,
 "nbformat_minor": 2
}
