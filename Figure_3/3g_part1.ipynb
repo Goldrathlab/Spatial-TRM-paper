{
 "cells": [
  {
   "cell_type": "code",
   "execution_count": null,
   "metadata": {},
   "outputs": [],
   "source": [
    "import scanpy as sc\n",
    "import matplotlib.pyplot as plt\n",
    "import numpy as np\n",
    "import warnings\n",
    "\n",
    "warnings.filterwarnings(\"ignore\")"
   ]
  },
  {
   "cell_type": "code",
   "execution_count": null,
   "metadata": {},
   "outputs": [],
   "source": [
    "adata = sc.read_h5ad(\"../data/adata/timecourse.h5ad\")"
   ]
  },
  {
   "cell_type": "code",
   "execution_count": null,
   "metadata": {},
   "outputs": [],
   "source": [
    "sc.pp.normalize_total(adata, target_sum=1e4)\n",
    "sc.pp.log1p(adata)"
   ]
  },
  {
   "cell_type": "code",
   "execution_count": null,
   "metadata": {},
   "outputs": [],
   "source": [
    "# Coordinates of the gates\n",
    "gates = {\n",
    "    \"Top\": {\n",
    "        \"edges\": [\n",
    "            [0.15, 0.5],\n",
    "            [0.6, 0.7],\n",
    "            [0.8, 0.7],\n",
    "            [0.8, 1.03],\n",
    "            [0.15, 1.03],\n",
    "        ],\n",
    "        \"label_position\": {\"x\": 0.16, \"y\": 0.9},\n",
    "        \"fill\": \"#3A9AB244\",\n",
    "        \"stroke\": \"#3A9AB2\",\n",
    "    },\n",
    "    \"Crypt\": {\n",
    "        \"edges\": [\n",
    "            [0.15, 0.48],\n",
    "            [0.6, 0.68],\n",
    "            [0.8, 0.68],\n",
    "            [0.8, 0.25],\n",
    "            [0.2, 0],\n",
    "            [0.15, 0],\n",
    "        ],\n",
    "        \"label_position\": {\"x\": 0.16, \"y\": 0.05},\n",
    "        \"fill\": \"#F11B0044\",\n",
    "        \"stroke\": \"#F11B00\",\n",
    "    },\n",
    "    \"Muscularis\": {\n",
    "        \"edges\": [[0.22, 0], [0.8, 0.23], [6, 0.23], [6, 0], [0.22, 0]],\n",
    "        \"label_position\": {\"x\": 0.6, \"y\": 0.05},\n",
    "        \"fill\": \"#BDC88155\",\n",
    "        \"stroke\": \"#BDC881\",\n",
    "    },\n",
    "}"
   ]
  },
  {
   "cell_type": "code",
   "execution_count": null,
   "metadata": {},
   "outputs": [],
   "source": [
    "# Custom biexponential transformation. Maybe not needed for IF data\n",
    "def transformation(x, a=0.1, b=0.1, c=0.5, d=2.5, f=4, w=1):\n",
    "    x = np.array(x)\n",
    "    return a * np.exp(b * ((x - w))) - c * np.exp(-d * (x - w)) + f\n",
    "\n",
    "\n",
    "def classify_cells(adata, gates, transformation=transformation):\n",
    "    \"\"\"\n",
    "    Classify cells based on the gates.\n",
    "    \"\"\"\n",
    "    from shapely.geometry import Point\n",
    "    from shapely.geometry.polygon import Polygon\n",
    "    import geopandas as gpd\n",
    "\n",
    "    adata.obs[\"epithelial_distance_transformed\"] = transformation(\n",
    "        adata.obs[\"epithelial_distance\"]\n",
    "    )\n",
    "    adata.obs[\"gate\"] = False\n",
    "\n",
    "    print(\"Creating polygons\")\n",
    "    polygons = {}\n",
    "    for gate in gates:\n",
    "        # Apply transformation to x values\n",
    "        points = [\n",
    "            [transformation(element[0])] + element[1:]\n",
    "            for element in gates[gate][\"edges\"]\n",
    "        ]\n",
    "        polygons[gate] = Polygon(points)\n",
    "    polygons = gpd.GeoSeries(polygons)\n",
    "    gpd_poly = gpd.GeoDataFrame({\"gates\": polygons}, geometry=\"gates\")\n",
    "\n",
    "    print(\"Creating cells\")\n",
    "    cells = gpd.GeoSeries.from_xy(\n",
    "        adata.obs[\"epithelial_distance_transformed\"], adata.obs[\"crypt_villi_axis\"]\n",
    "    )\n",
    "    gpd_cells = gpd.GeoDataFrame({\"cells\": cells}, geometry=\"cells\")\n",
    "\n",
    "    print(\"Joining cells and polygons\")\n",
    "    result = gpd.sjoin(\n",
    "        gpd_cells,\n",
    "        gpd_poly,\n",
    "        how=\"left\",\n",
    "    )\n",
    "    return result"
   ]
  },
  {
   "cell_type": "markdown",
   "metadata": {},
   "source": [
    "# Assign all cells"
   ]
  },
  {
   "cell_type": "code",
   "execution_count": null,
   "metadata": {},
   "outputs": [],
   "source": [
    "classification = classify_cells(adata, gates)\n",
    "classification"
   ]
  },
  {
   "cell_type": "code",
   "execution_count": null,
   "metadata": {},
   "outputs": [],
   "source": [
    "adata.obs[\"gate\"] = classification[\"index_right\"]\n",
    "adata"
   ]
  },
  {
   "cell_type": "code",
   "execution_count": null,
   "metadata": {},
   "outputs": [],
   "source": [
    "def make_name(gate, cell):\n",
    "    if cell == \"Cd8_T-Cell_P14\":\n",
    "        if gate == \"Top\":\n",
    "            return \"P14 top\"\n",
    "        elif gate == \"Crypt\":\n",
    "            return \"P14 crypt\"\n",
    "        elif gate == \"Muscularis\":\n",
    "            return \"P14 muscularis\"\n",
    "        else:\n",
    "            return \"P14 undeterminded\"\n",
    "    else:\n",
    "        return cell\n",
    "\n",
    "\n",
    "adata.obs[\"Subtype_gate\"] = [\n",
    "    make_name(gate, cell) for gate, cell in zip(adata.obs[\"gate\"], adata.obs[\"Subtype\"])\n",
    "]\n",
    "adata = adata[~(adata.obs[\"Subtype_gate\"] == \"P14 undeterminded\")]\n",
    "adata.obs[\"Subtype_gate\"] = adata.obs[\"Subtype_gate\"].astype(\"category\")\n",
    "adata.obs[\"Subtype_gate\"]\n",
    "adata"
   ]
  },
  {
   "cell_type": "code",
   "execution_count": null,
   "metadata": {},
   "outputs": [],
   "source": [
    "fig, ax = plt.subplots()\n",
    "for g in adata.obs[\"gate\"].unique():\n",
    "    ax.scatter(\n",
    "        adata[adata.obs[\"gate\"] == g].obs[[\"epithelial_distance_transformed\"]],\n",
    "        adata[adata.obs[\"gate\"] == g].obs[\"crypt_villi_axis\"],\n",
    "        s=0.1,\n",
    "        label=g,\n",
    "    )\n",
    "ax.legend()"
   ]
  },
  {
   "cell_type": "code",
   "execution_count": null,
   "metadata": {},
   "outputs": [],
   "source": [
    "import os\n",
    "\n",
    "if not os.path.exists(\"tmp\"):\n",
    "    os.makedirs(\"tmp\")\n",
    "    print(f\"Folder 'tmp' created successfully!\")\n",
    "else:\n",
    "    print(f\"Folder 'tmp' already exists.\")\n",
    "\n",
    "adata.write_h5ad(\"tmp/adata_gated.h5ad\")"
   ]
  },
  {
   "cell_type": "code",
   "execution_count": null,
   "metadata": {},
   "outputs": [],
   "source": []
  }
 ],
 "metadata": {
  "kernelspec": {
   "display_name": "Python 3",
   "language": "python",
   "name": "python3"
  },
  "language_info": {
   "codemirror_mode": {
    "name": "ipython",
    "version": 3
   },
   "file_extension": ".py",
   "mimetype": "text/x-python",
   "name": "python",
   "nbconvert_exporter": "python",
   "pygments_lexer": "ipython3",
   "version": "3.10.13"
  }
 },
 "nbformat": 4,
 "nbformat_minor": 2
}
