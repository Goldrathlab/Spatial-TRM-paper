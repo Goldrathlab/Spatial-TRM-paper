{
 "cells": [
  {
   "cell_type": "code",
   "execution_count": null,
   "metadata": {
    "vscode": {
     "languageId": "r"
    }
   },
   "outputs": [],
   "source": [
    "remotes::install_github(\"jinworks/CellChat@88c2e13\")\n",
    "\n",
    "suppressPackageStartupMessages({\n",
    "    library(CellChat)\n",
    "    library(zellkonverter)\n",
    "    library(SingleCellExperiment())\n",
    "})\n",
    "\n"
   ]
  },
  {
   "cell_type": "markdown",
   "metadata": {},
   "source": [
    "## Figure 3g and extended data figure 3d"
   ]
  },
  {
   "cell_type": "code",
   "execution_count": null,
   "metadata": {
    "vscode": {
     "languageId": "r"
    }
   },
   "outputs": [],
   "source": [
    "create_plots <- function(day) {\n",
    "    cellchat <- readRDS(paste0(\"tmp/cellchat_\",day,\".rds\"))\n",
    "    # change the order of the labels\n",
    "    cellchat@meta$labels <- forcats::fct_relevel(cellchat@meta$labels, \"P14 top\", \"P14 crypt\", \"P14 muscularis\")\n",
    "    cellchat <- updateClusterLabels(cellchat, new.order = levels(cellchat@meta$labels))\n",
    "\n",
    "\n",
    "\n",
    "    pdf(file = paste0(\"out/cc_day\",day,\".pdf\"))\n",
    "    plot(netAnalysis_signalingRole_heatmap(cellchat, pattern = \"incoming\"))\n",
    "    plot.new()\n",
    "    plot(netAnalysis_signalingRole_heatmap(cellchat, pattern = \"outgoing\"))\n",
    "    dev.off()\n",
    "}"
   ]
  },
  {
   "cell_type": "code",
   "execution_count": null,
   "metadata": {
    "vscode": {
     "languageId": "r"
    }
   },
   "outputs": [],
   "source": [
    "create_plots(day = 6)\n",
    "create_plots(day = 8)\n",
    "create_plots(day = 30)\n",
    "create_plots(day = 90)"
   ]
  },
  {
   "cell_type": "code",
   "execution_count": null,
   "metadata": {
    "vscode": {
     "languageId": "r"
    }
   },
   "outputs": [],
   "source": [
    "get_in_and_out <- function(day) {\n",
    "    object <- readRDS(paste0(\"tmp/cellchat_\",day,\".rds\"))\n",
    "    object@meta$labels <- forcats::fct_relevel(object@meta$labels, \"P14 top\", \"P14 crypt\", \"P14 muscularis\")\n",
    "    object <- updateClusterLabels(object, new.order = levels(object@meta$labels))\n",
    "    centr <- slot(object, \"netP\")$centr\n",
    "    outgoing <- matrix(0, nrow = nlevels(object@idents), ncol = length(centr))\n",
    "    incoming <- matrix(0, nrow = nlevels(object@idents), ncol = length(centr))\n",
    "    dimnames(outgoing) <- list(levels(object@idents), names(centr))\n",
    "    dimnames(incoming) <- dimnames(outgoing)\n",
    "    for (i in 1:length(centr)) {\n",
    "        outgoing[,i] <- centr[[i]]$outdeg\n",
    "        incoming[,i] <- centr[[i]]$indeg\n",
    "    }\n",
    "    return(list(incoming=incoming, outgoing=outgoing))\n",
    "}\n",
    "res = lapply(X = c(6,8,30,90), get_in_and_out)\n",
    "names(res) <- c(6,8,30,90)"
   ]
  },
  {
   "cell_type": "code",
   "execution_count": null,
   "metadata": {
    "vscode": {
     "languageId": "r"
    }
   },
   "outputs": [],
   "source": [
    "extract_values <- function(m, cells, pathways) {\n",
    "    s = m|>\n",
    "        as.data.frame() |>\n",
    "        tibble::rownames_to_column(\"subset\") |>\n",
    "        tidyr::pivot_longer(-c(subset), names_to = \"pathway\")\n",
    "    return(s)\n",
    "}\n",
    "\n",
    "df_plot = purrr::imap_dfr(res, \\(x, y) {\n",
    "    incoming = extract_values(x$incoming, cells, pathways)\n",
    "    incoming$day = y\n",
    "    incoming$direction = 'incoming'\n",
    "\n",
    "    outgoing = extract_values(x$outgoing, cells, pathways)\n",
    "    outgoing$day = y\n",
    "    outgoing$direction = 'outgoing'\n",
    "    return(rbind(incoming, outgoing))\n",
    "})\n",
    "df_plot |> head()"
   ]
  },
  {
   "cell_type": "code",
   "execution_count": null,
   "metadata": {
    "vscode": {
     "languageId": "r"
    }
   },
   "outputs": [],
   "source": [
    "m = df_plot |>\n",
    "    dplyr::filter(subset %in% cells) |>\n",
    "    dplyr::filter(direction == 'incoming') |>\n",
    "    tidyr::pivot_wider(names_from = pathway, values_from = value)\n",
    "\n",
    "cd = m[,1:2]\n",
    "cd$day = factor(cd$day,levels = c(6,8,30,90))\n",
    "\n",
    "m = m[,-c(1:3)] |> as.matrix() |> t()\n",
    "m[is.na(m)] <- 0"
   ]
  },
  {
   "cell_type": "code",
   "execution_count": null,
   "metadata": {
    "vscode": {
     "languageId": "r"
    }
   },
   "outputs": [],
   "source": [
    "m <- sweep(m, 1L, apply(m, 1, max), '/', check.margin = FALSE)\n",
    "m = na.omit(m)"
   ]
  },
  {
   "cell_type": "code",
   "execution_count": null,
   "metadata": {
    "vscode": {
     "languageId": "r"
    }
   },
   "outputs": [],
   "source": [
    "suppressPackageStartupMessages(library(ComplexHeatmap))\n",
    "\n",
    "color.heatmap.use = grDevices::colorRampPalette((RColorBrewer::brewer.pal(n = 9, name = \"BuGn\")))(100)\n",
    "pdf(file = \"out/p14_cc_heatmap.pdf\")\n",
    "Heatmap(m,\n",
    "col=color.heatmap.use,  \n",
    "    cluster_rows = FALSE,\n",
    "    cluster_columns = FALSE,\n",
    "    column_split = cd$day,\n",
    "    column_labels = cd$subset,\n",
    "    border=TRUE,\n",
    "    column_gap = unit(2, \"mm\"),\n",
    "    rect_gp = gpar(col= \"#FFFFFF\"), \n",
    "    name=\"incoming signals\"\n",
    ")\n",
    "dev.off()"
   ]
  },
  {
   "cell_type": "code",
   "execution_count": null,
   "metadata": {
    "vscode": {
     "languageId": "r"
    }
   },
   "outputs": [],
   "source": [
    "cellchat <- readRDS(\"tmp/cellchat_8.rds\")\n",
    "cellchat"
   ]
  },
  {
   "cell_type": "code",
   "execution_count": null,
   "metadata": {
    "vscode": {
     "languageId": "r"
    }
   },
   "outputs": [],
   "source": [
    "# Get all available signaling pathways\n",
    "signaling_pathways <- cellchat@netP$pathways\n",
    "\n",
    "# Initialize an empty data frame to store contributions from all pathways\n",
    "df_all <- data.frame()\n",
    "\n",
    "# Loop over all signaling pathways\n",
    "for (signaling_pathway in signaling_pathways) {\n",
    "  \n",
    "  # Perform the analysis for the current pathway\n",
    "  pairLR <- searchPair(signaling = signaling_pathway, pairLR.use = cellchat@LR$LRsig, key = \"pathway_name\", matching.exact = TRUE, pair.only = TRUE)\n",
    "  \n",
    "  # Extract interaction names for the current pathway\n",
    "  pair.name.use <- select(cellchat@DB$interaction[rownames(pairLR), ], \"interaction_name_2\")\n",
    "  \n",
    "  # Ensure pair names are extracted correctly\n",
    "  net <- cellchat@net\n",
    "  pairLR.use.name <- dimnames(net$prob)[[3]]\n",
    "  pairLR.name <- intersect(rownames(pairLR), pairLR.use.name)\n",
    "  pairLR <- pairLR[pairLR.name, ]\n",
    "  print(pairLR.name)\n",
    "  # Subset prob and pval matrices to include only interactions from the current pathway\n",
    "  prob <- net$prob[, , pairLR.name]\n",
    "  pval <- net$pval[, , pairLR.name]\n",
    "  \n",
    "  # Threshold for significance\n",
    "  thresh <- 0.05\n",
    "  prob[pval > thresh] <- 0\n",
    "  \n",
    "  # Handle the case where there's only one member in the pathway\n",
    "  if (length(dim(prob)) == 3) {\n",
    "    # If prob is 3D, apply sum across the third dimension\n",
    "    pSum <- apply(prob, 3, sum)\n",
    "  } else if (length(dim(prob)) == 2) {\n",
    "    # If prob is 2D, just sum the matrix\n",
    "    pSum <- sum(prob)\n",
    "    pSum <- c(pSum)  # Convert to a vector to match the structure\n",
    "  } else {\n",
    "    # In case of unexpected dimensions, set pSum to 0\n",
    "    pSum <- 0\n",
    "  }\n",
    "  \n",
    "  pSum.max <- sum(prob)\n",
    "  pSum <- pSum / pSum.max\n",
    "  pSum[is.na(pSum)] <- 0\n",
    "  \n",
    "  # Ensure pair names are mapped correctly\n",
    "  if (!is.null(pairLR.use.name)) {\n",
    "    pair.name <- pair.name.use[, \"interaction_name_2\"]\n",
    "    pair.name <- factor(pair.name, levels = unique(pair.name))\n",
    "  }\n",
    "  \n",
    "  #print(pair.name.use)\n",
    "  # Create a data frame for the current pathway's contribution\n",
    "  df_current <- data.frame(name = signaling_pathway, contribution = pSum)\n",
    "  df_current$interaction <- pair.name\n",
    "  \n",
    "  # Handle missing values\n",
    "  df_current$contribution[is.na(df_current$contribution)] <- 0\n",
    "  \n",
    "  # Combine current pathway results with the overall data frame\n",
    "  df_all <- rbind(df_all, df_current)\n",
    "}\n",
    "\n",
    "# Ensure the names are ordered by contribution\n",
    "df_all <- df_all[order(df_all$contribution, decreasing = TRUE), ]\n",
    "\n",
    "\n",
    "# Save the df_all dataframe as a CSV file\n",
    "write.csv(df_all, file = \"out/day8_pathway_contributions.csv\", row.names = F)"
   ]
  },
  {
   "cell_type": "code",
   "execution_count": null,
   "metadata": {
    "vscode": {
     "languageId": "r"
    }
   },
   "outputs": [],
   "source": []
  },
  {
   "cell_type": "code",
   "execution_count": null,
   "metadata": {
    "vscode": {
     "languageId": "r"
    }
   },
   "outputs": [],
   "source": []
  },
  {
   "cell_type": "markdown",
   "metadata": {},
   "source": [
    "## Extended data figure 4a"
   ]
  },
  {
   "cell_type": "code",
   "execution_count": null,
   "metadata": {
    "vscode": {
     "languageId": "r"
    }
   },
   "outputs": [],
   "source": [
    "sce = readH5AD(\"tmp/adata_gated.h5ad\")"
   ]
  },
  {
   "cell_type": "code",
   "execution_count": null,
   "metadata": {
    "vscode": {
     "languageId": "r"
    }
   },
   "outputs": [],
   "source": [
    "# Define colors\n",
    "color.use = colors = c(\n",
    "    \"Epithelial_Secretory\" = \"#AA9228\",\n",
    "    \"Epithelial_Absorptive\" = \"#E3C300\",\n",
    "    \"Monocyte\" = \"#C37698\",\n",
    "    \"T-Cell\" = \"#008E74\",\n",
    "    \"MAIT\" = \"#63ABB9\",\n",
    "    \"Myeloid\" = \"#EF9684\",\n",
    "    \"ILC\" = \"#A0C6D3\",\n",
    "    \"B-Cell\" = \"#E2CEAB\",\n",
    "    \"DC\" = \"#FE757D\",\n",
    "    \"Fibroblast\" = \"#E17300\",\n",
    "    \"Endothelial\" = \"#E30133\",\n",
    "    \"NK\" = \"#4A7B89\",\n",
    "    \"Epithelial_Progenitor\" = \"#F7BC00\",\n",
    "    \"Neuron\" = \"#2A2446\",\n",
    "    \"Erythroid\" = \"#A5021D\",\n",
    "    \"Eosinophil\" = \"#782c4e\"\n",
    ")\n",
    "\n",
    "subtype_to_type <- colData(sce)[c('Subtype_gate', 'Type')] |>\n",
    "    as.data.frame() |>\n",
    "    dplyr::distinct()\n",
    "\n",
    "color.use <- color.use |> as.data.frame() |> tibble::rownames_to_column(\"Type\")\n",
    "\n",
    "subtype_to_type <- subtype_to_type |> left_join(color.use)\n",
    "\n"
   ]
  },
  {
   "cell_type": "code",
   "execution_count": null,
   "metadata": {
    "vscode": {
     "languageId": "r"
    }
   },
   "outputs": [],
   "source": [
    "cellchat <- readRDS(paste0(\"tmp/cellchat_full.rds\"))\n",
    "pathways.show <- c(\"TGFb\") \n",
    "\n",
    "idx <- match(levels(cellchat@meta$labels), subtype_to_type$Subtype_gate)\n",
    "color.use <- subtype_to_type$color.use[idx]\n",
    "names(color.use) <- subtype_to_type$Subtype_gate\n",
    "\n",
    "vertex.receiver\t<- which(levels(cellchat@idents) %in% c(\"P14 top\", \"P14 crypt\", \"P14 muscularis\"))\n",
    "\n",
    "netVisual_individual(cellchat, signaling = pathways.show, layout = 'circle', targets.use=vertex.receiver, color.use=color.use)\n"
   ]
  },
  {
   "cell_type": "code",
   "execution_count": null,
   "metadata": {
    "vscode": {
     "languageId": "r"
    }
   },
   "outputs": [],
   "source": []
  }
 ],
 "metadata": {
  "kernelspec": {
   "display_name": "R",
   "language": "R",
   "name": "ir"
  },
  "language_info": {
   "codemirror_mode": "r",
   "file_extension": ".r",
   "mimetype": "text/x-r-source",
   "name": "R",
   "pygments_lexer": "r",
   "version": "4.3.3"
  }
 },
 "nbformat": 4,
 "nbformat_minor": 2
}
