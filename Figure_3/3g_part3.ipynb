{
 "cells": [
  {
   "cell_type": "code",
   "execution_count": null,
   "metadata": {
    "vscode": {
     "languageId": "r"
    }
   },
   "outputs": [],
   "source": [
    "remotes::install_github(\"jinworks/CellChat@534b91d\")\n",
    "\n",
    "suppressPackageStartupMessages({\n",
    "    library(CellChat)\n",
    "    library(zellkonverter)\n",
    "    library(SingleCellExperiment())\n",
    "})\n",
    "\n",
    "cellchat <- readRDS(\"tmp/cellchat.rds\")\n",
    "sce = readH5AD(\"tmp/adata_gated.h5ad\")"
   ]
  },
  {
   "cell_type": "code",
   "execution_count": null,
   "metadata": {
    "vscode": {
     "languageId": "r"
    }
   },
   "outputs": [],
   "source": [
    "# change the order of the labels\n",
    "cellchat@meta$labels <- forcats::fct_relevel(cellchat@meta$labels, \"P14 top\", \"P14 crypt\", \"P14 muscularis\")\n",
    "cellchat <- updateClusterLabels(cellchat, new.order = levels(cellchat@meta$labels))"
   ]
  },
  {
   "cell_type": "code",
   "execution_count": null,
   "metadata": {
    "vscode": {
     "languageId": "r"
    }
   },
   "outputs": [],
   "source": [
    "# Define colors\n",
    "color.use = colors = c(\n",
    "    \"Epithelial_Secretory\" = \"#AA9228\",\n",
    "    \"Epithelial_Absorptive\" = \"#E3C300\",\n",
    "    \"Monocyte\" = \"#C37698\",\n",
    "    \"T-Cell\" = \"#008E74\",\n",
    "    \"MAIT\" = \"#63ABB9\",\n",
    "    \"Myeloid\" = \"#EF9684\",\n",
    "    \"ILC\" = \"#A0C6D3\",\n",
    "    \"B-Cell\" = \"#E2CEAB\",\n",
    "    \"DC\" = \"#FE757D\",\n",
    "    \"Fibroblast\" = \"#E17300\",\n",
    "    \"Endothelial\" = \"#E30133\",\n",
    "    \"NK\" = \"#4A7B89\",\n",
    "    \"Epithelial_Progenitor\" = \"#F7BC00\",\n",
    "    \"Neuron\" = \"#2A2446\",\n",
    "    \"Erythroid\" = \"#A5021D\",\n",
    "    \"Eosinophil\" = \"#782c4e\"\n",
    ")\n",
    "\n",
    "subtype_to_type <- colData(sce)[c('Subtype_gate', 'Type')] |>\n",
    "    as.data.frame() |>\n",
    "    dplyr::distinct()\n",
    "\n",
    "color.use <- color.use |> as.data.frame() |> tibble::rownames_to_column(\"Type\")\n",
    "\n",
    "subtype_to_type <- subtype_to_type |> left_join(color.use)\n",
    "\n",
    "idx <- match(levels(cellchat@meta$labels), subtype_to_type$Subtype_gate)"
   ]
  },
  {
   "cell_type": "code",
   "execution_count": null,
   "metadata": {
    "vscode": {
     "languageId": "r"
    }
   },
   "outputs": [],
   "source": [
    "color.use <- subtype_to_type$color.use[idx]"
   ]
  },
  {
   "cell_type": "markdown",
   "metadata": {},
   "source": [
    "## Figure 3g and extended data figure 3d"
   ]
  },
  {
   "cell_type": "code",
   "execution_count": null,
   "metadata": {
    "vscode": {
     "languageId": "r"
    }
   },
   "outputs": [],
   "source": [
    "netAnalysis_signalingRole_heatmap(cellchat, pattern = \"incoming\")"
   ]
  },
  {
   "cell_type": "code",
   "execution_count": null,
   "metadata": {
    "vscode": {
     "languageId": "r"
    }
   },
   "outputs": [],
   "source": [
    "netAnalysis_signalingRole_heatmap(cellchat, pattern = \"outgoing\")"
   ]
  },
  {
   "cell_type": "markdown",
   "metadata": {},
   "source": [
    "## Extended data figure 4a"
   ]
  },
  {
   "cell_type": "code",
   "execution_count": null,
   "metadata": {
    "vscode": {
     "languageId": "r"
    }
   },
   "outputs": [],
   "source": [
    "pathways.show <- c(\"TGFb\") \n",
    "\n",
    "vertex.receiver\t<- which(levels(cellchat@idents) %in% c(\"P14 top\", \"P14 crypt\", \"P14 muscularis\"))\n",
    "\n",
    "netVisual_individual(cellchat, signaling = pathways.show, layout = 'circle', targets.use=vertex.receiver, color.use=color.use)\n"
   ]
  }
 ],
 "metadata": {
  "kernelspec": {
   "display_name": "R",
   "language": "R",
   "name": "ir"
  },
  "language_info": {
   "codemirror_mode": "r",
   "file_extension": ".r",
   "mimetype": "text/x-r-source",
   "name": "R",
   "pygments_lexer": "r",
   "version": "4.3.0"
  }
 },
 "nbformat": 4,
 "nbformat_minor": 2
}
